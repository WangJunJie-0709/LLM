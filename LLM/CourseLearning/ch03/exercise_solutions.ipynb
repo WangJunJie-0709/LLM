{
 "cells": [
  {
   "cell_type": "markdown",
   "source": [
    "# 前馈与注意力模块中的参数"
   ],
   "metadata": {
    "collapsed": false
   },
   "id": "96e725306b04a08c"
  },
  {
   "cell_type": "code",
   "execution_count": 1,
   "outputs": [],
   "source": [
    "from GPT import TransformerBlock\n",
    "\n",
    "GPT_CONFIG_124M = {\n",
    "    \"vocab_size\": 50257,\n",
    "    \"context_length\": 1024,\n",
    "    \"embedding_dim\": 768,\n",
    "    \"n_heads\": 12,\n",
    "    \"n_layers\": 12,\n",
    "    \"drop_rate\": 0.1,\n",
    "    \"qkv_bias\": False\n",
    "}\n",
    "\n",
    "block = TransformerBlock(GPT_CONFIG_124M)"
   ],
   "metadata": {
    "collapsed": false,
    "ExecuteTime": {
     "end_time": "2024-06-20T03:08:14.748255800Z",
     "start_time": "2024-06-20T03:08:08.490301600Z"
    }
   },
   "id": "6fe93918cce86b71"
  },
  {
   "cell_type": "code",
   "execution_count": 3,
   "outputs": [
    {
     "name": "stdout",
     "output_type": "stream",
     "text": [
      "Total number of parameters in feed forward module: 4,722,432\n"
     ]
    }
   ],
   "source": [
    "total_params = sum(p.numel() for p in block.ffn.parameters())\n",
    "print(f\"Total number of parameters in feed forward module: {total_params:,}\")"
   ],
   "metadata": {
    "collapsed": false,
    "ExecuteTime": {
     "end_time": "2024-06-20T02:25:22.289143900Z",
     "start_time": "2024-06-20T02:25:22.275181600Z"
    }
   },
   "id": "e42298d4b51a8792"
  },
  {
   "cell_type": "code",
   "execution_count": 4,
   "outputs": [
    {
     "name": "stdout",
     "output_type": "stream",
     "text": [
      "Total number of parameters in attention module: 2,360,064\n"
     ]
    }
   ],
   "source": [
    "total_params = sum(p.numel() for p in block.attention.parameters())\n",
    "print(f\"Total number of parameters in attention module: {total_params:,}\")"
   ],
   "metadata": {
    "collapsed": false,
    "ExecuteTime": {
     "end_time": "2024-06-20T02:26:21.128357700Z",
     "start_time": "2024-06-20T02:26:21.083479100Z"
    }
   },
   "id": "c209826d029c3c51"
  },
  {
   "cell_type": "markdown",
   "source": [
    "- 以上结果适用于单个Transformer Block\n",
    "- 可选地乘以12以捕获124M GPT模型中的所有Transformer"
   ],
   "metadata": {
    "collapsed": false
   },
   "id": "b30cb7013d1e106f"
  },
  {
   "cell_type": "markdown",
   "source": [
    "# 初始化大型GPT模型"
   ],
   "metadata": {
    "collapsed": false
   },
   "id": "467cc79f7f2a3ce8"
  },
  {
   "cell_type": "markdown",
   "source": [
    "- GPT2-small（我们已经实现的124M配置）：\n",
    "    - emb_dim=768\n",
    "    - n_layers=12\n",
    "    - n_heads=12\n",
    "- GPT2-medium\n",
    "    - emb_dim=1024\n",
    "    - n_layers=24\n",
    "    - n_heads”=16\n",
    "- GPT2-large\n",
    "    - emb_dim=1280\n",
    "    - n_layers=36\n",
    "    - n_heads=20\n",
    "- GPT2-XL\n",
    "    - emb_dim=1600\n",
    "    - n_layers=48\n",
    "    - n_heads=25"
   ],
   "metadata": {
    "collapsed": false
   },
   "id": "42ed19f97b171fe4"
  },
  {
   "cell_type": "code",
   "execution_count": 9,
   "outputs": [],
   "source": [
    "GPT_CONFIG_124M = {\n",
    "    \"vocab_size\": 50257,\n",
    "    \"context_length\": 1024,\n",
    "    \"embedding_dim\": 768,\n",
    "    \"n_heads\": 12,\n",
    "    \"n_layers\": 12,\n",
    "    \"drop_rate\": 0.1,\n",
    "    \"qkv_bias\": False\n",
    "}\n",
    "\n",
    "def get_config(base_config, model_name=\"gpt2-small\"):\n",
    "    GPT_CONFIG = base_config.copy()\n",
    "    \n",
    "    if model_name == \"gpt2-small\":\n",
    "        GPT_CONFIG['embedding_dim'] = 768\n",
    "        GPT_CONFIG['n_layers'] = 12\n",
    "        GPT_CONFIG['n_heads'] = 12\n",
    "        \n",
    "    elif model_name == \"gpt2-medium\":\n",
    "        GPT_CONFIG['embedding_dim'] = 1024\n",
    "        GPT_CONFIG['n_layers'] = 24\n",
    "        GPT_CONFIG['n_heads'] = 16\n",
    "        \n",
    "    elif model_name == 'gpt2-large':\n",
    "        GPT_CONFIG['embedding_dim'] = 1280\n",
    "        GPT_CONFIG['n_layers'] = 36\n",
    "        GPT_CONFIG['n_heads'] = 20\n",
    "        \n",
    "    elif model_name == 'gpt2-xl':\n",
    "        GPT_CONFIG['embedding_dim'] = 1600\n",
    "        GPT_CONFIG['n_layers'] = 48\n",
    "        GPT_CONFIG['n_heads'] = 25\n",
    "    \n",
    "    else:\n",
    "        raise ValueError(f\"Incorrect model name {model_name}\")\n",
    "    \n",
    "    return GPT_CONFIG\n",
    "\n",
    "def calculate_size(model):\n",
    "    total_params = sum(p.numel() for p in model.parameters())\n",
    "    print(f\"Total number of parameters: {total_params:,}\")\n",
    "    \n",
    "    total_params_gpt2 = total_params - sum(p.numel() for p in model.out_head.parameters())\n",
    "    print(f\"Number of trainable parameters considering weight tying: {total_params_gpt2:,}\")\n",
    "    \n",
    "    total_size_bytes = total_params * 4\n",
    "\n",
    "    total_size_mb = total_size_bytes / (1024 * 1024)\n",
    "    \n",
    "    print(f\"Total size of the model: {total_size_mb:.2f} MB\")"
   ],
   "metadata": {
    "collapsed": false,
    "ExecuteTime": {
     "end_time": "2024-06-20T02:50:38.183758Z",
     "start_time": "2024-06-20T02:50:38.089011200Z"
    }
   },
   "id": "a22131610b8a2e26"
  },
  {
   "cell_type": "code",
   "execution_count": null,
   "outputs": [
    {
     "name": "stdout",
     "output_type": "stream",
     "text": [
      "\n",
      "\n",
      "gpt2-small:\n",
      "Total number of parameters: 163,009,536\n",
      "Number of trainable parameters considering weight tying: 124,412,160\n",
      "Total size of the model: 621.83 MB\n",
      "\n",
      "\n",
      "gpt2-medium:\n",
      "Total number of parameters: 406,212,608\n",
      "Number of trainable parameters considering weight tying: 354,749,440\n",
      "Total size of the model: 1549.58 MB\n"
     ]
    }
   ],
   "source": [
    "from GPT import GPTModel\n",
    "\n",
    "for model_abbrev in (\"small\", \"medium\", \"large\", \"xl\"):\n",
    "    model_name = f\"gpt2-{model_abbrev}\"\n",
    "    CONFIG = get_config(GPT_CONFIG_124M, model_name=model_name)\n",
    "    model = GPTModel(CONFIG)\n",
    "    print(f\"\\n\\n{model_name}:\")\n",
    "    calculate_size(model)"
   ],
   "metadata": {
    "collapsed": false,
    "is_executing": true,
    "ExecuteTime": {
     "start_time": "2024-06-20T02:50:38.916955600Z"
    }
   },
   "id": "e1818d474c4c88da"
  },
  {
   "cell_type": "code",
   "execution_count": null,
   "outputs": [],
   "source": [
    "\n",
    "\n"
   ],
   "metadata": {
    "collapsed": false
   },
   "id": "cf81a52f23bab9c2"
  }
 ],
 "metadata": {
  "kernelspec": {
   "name": "llm",
   "language": "python",
   "display_name": "LLM"
  },
  "language_info": {
   "codemirror_mode": {
    "name": "ipython",
    "version": 2
   },
   "file_extension": ".py",
   "mimetype": "text/x-python",
   "name": "python",
   "nbconvert_exporter": "python",
   "pygments_lexer": "ipython2",
   "version": "2.7.6"
  }
 },
 "nbformat": 4,
 "nbformat_minor": 5
}
