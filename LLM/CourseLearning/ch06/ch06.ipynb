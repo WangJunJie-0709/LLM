{
 "cells": [
  {
   "cell_type": "markdown",
   "source": [
    "# 根据指令进行微调"
   ],
   "metadata": {
    "collapsed": false
   },
   "id": "a22a76c723814725"
  },
  {
   "cell_type": "code",
   "execution_count": 1,
   "outputs": [
    {
     "name": "stdout",
     "output_type": "stream",
     "text": [
      "matplotlib version: 3.9.0\n",
      "tiktoken version: 0.7.0\n",
      "torch version: 2.3.1\n",
      "tqdm version: 4.66.4\n",
      "tensorflow version: 2.16.1\n"
     ]
    }
   ],
   "source": [
    "from importlib.metadata import version\n",
    "\n",
    "pkgs = [\n",
    "    \"matplotlib\",\n",
    "    \"tiktoken\",\n",
    "    \"torch\",\n",
    "    \"tqdm\",\n",
    "    \"tensorflow\"\n",
    "]\n",
    "for p in pkgs:\n",
    "    print(f\"{p} version: {version(p)}\")"
   ],
   "metadata": {
    "collapsed": false,
    "ExecuteTime": {
     "end_time": "2024-07-12T05:51:15.321862600Z",
     "start_time": "2024-07-12T05:51:15.237061600Z"
    }
   },
   "id": "ac56d56048ccfdb4"
  },
  {
   "cell_type": "markdown",
   "source": [
    "![Alt text](../../../img/LLM/ch06/work_flow_finetune.png)"
   ],
   "metadata": {
    "collapsed": false
   },
   "id": "1621f151836ad15b"
  },
  {
   "cell_type": "markdown",
   "source": [
    "# 1、指令微调简介"
   ],
   "metadata": {
    "collapsed": false
   },
   "id": "c60341338f7e8d5d"
  },
  {
   "cell_type": "markdown",
   "source": [
    "- 在之前，我们看到LLM的预训练包括一个训练过程，在这个过程中，LLM一次学习生成一个单词\n",
    "- 因此，经过预训练的LLM擅长文本完成，但不擅长遵循指令\n",
    "- 在本章中，我们教LLM更好地遵循说明\n",
    "\n",
    "![Alt text](../../../img/LLM/ch06/instruction_finetune.png)\n",
    "\n",
    "- 本章所涵盖的主题总结如下图所示\n",
    "\n",
    "![Alt text](../../../img/LLM/ch06/topic_summary.png)"
   ],
   "metadata": {
    "collapsed": false
   },
   "id": "decde1bb39489f03"
  },
  {
   "cell_type": "markdown",
   "source": [
    "# 2、有监督指令微调数据集准备"
   ],
   "metadata": {
    "collapsed": false
   },
   "id": "6a497c3b95f3acae"
  },
  {
   "cell_type": "code",
   "execution_count": 2,
   "outputs": [
    {
     "name": "stdout",
     "output_type": "stream",
     "text": [
      "Number of entries: 1100\n"
     ]
    }
   ],
   "source": [
    "import json\n",
    "import os\n",
    "import urllib\n",
    "\n",
    "def download_and_load_file(file_path, url):\n",
    "    if not os.path.exists(file_path):\n",
    "        with urllib.request.urlopen(url) as response:\n",
    "            text_data = response.read().decode(\"utf-8\")\n",
    "        with open(file_path, \"w\", encoding=\"utf-8\") as file:\n",
    "            file.write(text_data)\n",
    "    else:\n",
    "        with open(file_path, \"r\", encoding=\"utf-8\") as file:\n",
    "            text_data = file.read()\n",
    "    \n",
    "    with open(file_path, \"r\") as file:\n",
    "        data = json.load(file)\n",
    "    \n",
    "    return data\n",
    "\n",
    "\n",
    "file_path = \"instruction-data.json\"\n",
    "url = \"https://raw.githubusercontent.com/rasbt/LLMs-from-scratch/main/ch07/01_main-chapter-code/instruction-data.json\"\n",
    "\n",
    "data = download_and_load_file(file_path, url)\n",
    "print(\"Number of entries:\", len(data))"
   ],
   "metadata": {
    "collapsed": false,
    "ExecuteTime": {
     "end_time": "2024-07-12T05:51:34.516239Z",
     "start_time": "2024-07-12T05:51:34.241510800Z"
    }
   },
   "id": "6c0f8a97cf53ad1a"
  },
  {
   "cell_type": "markdown",
   "source": [
    "- 我们从上面的JSON文件加载的数据列表中的每个项都是以下形式的字典"
   ],
   "metadata": {
    "collapsed": false
   },
   "id": "7f2579b1266ac88"
  },
  {
   "cell_type": "code",
   "execution_count": 3,
   "outputs": [
    {
     "name": "stdout",
     "output_type": "stream",
     "text": [
      "Example entry:\n",
      " {'instruction': 'Identify the correct spelling of the following word.', 'input': 'Ocassion', 'output': \"The correct spelling is 'Occasion.'\"}\n"
     ]
    }
   ],
   "source": [
    "print(\"Example entry:\\n\", data[50])"
   ],
   "metadata": {
    "collapsed": false,
    "ExecuteTime": {
     "end_time": "2024-07-12T05:51:38.344585100Z",
     "start_time": "2024-07-12T05:51:38.304666800Z"
    }
   },
   "id": "9fe7a63d50bf1d77"
  },
  {
   "cell_type": "markdown",
   "source": [
    "- 请注意，“input”字段可以为空："
   ],
   "metadata": {
    "collapsed": false
   },
   "id": "3eddf3f91a1524ac"
  },
  {
   "cell_type": "code",
   "execution_count": 4,
   "outputs": [
    {
     "name": "stdout",
     "output_type": "stream",
     "text": [
      "Another example entry:\n",
      " {'instruction': \"What is an antonym of 'complicated'?\", 'input': '', 'output': \"An antonym of 'complicated' is 'simple'.\"}\n"
     ]
    }
   ],
   "source": [
    "print(\"Another example entry:\\n\", data[999])"
   ],
   "metadata": {
    "collapsed": false,
    "ExecuteTime": {
     "end_time": "2024-07-12T05:51:41.854053500Z",
     "start_time": "2024-07-12T05:51:41.793216600Z"
    }
   },
   "id": "a3cf745c0fc34d"
  },
  {
   "cell_type": "markdown",
   "source": [
    "- 指令微调通常被称为“监督指令微调”，因为它涉及在明确提供输入输出对的数据集上训练模型\n",
    "- 有不同的方式将条目格式化为LLM的输入；下图展示了用于训练Alpaca和Phi-3的两种示例格式\n",
    "\n",
    "![Alt text](../../../img/LLM/ch06/train_example.png)\n",
    "\n",
    "- 在本章中，我们使用Alpaca风格的提示格式，这是用于指令微调的原始提示模板\n",
    "- 下面，我们格式化将作为LLM的输入传递的输入"
   ],
   "metadata": {
    "collapsed": false
   },
   "id": "e8d947af2a82cbd7"
  },
  {
   "cell_type": "code",
   "execution_count": 5,
   "outputs": [],
   "source": [
    "def format_input(entry):\n",
    "    instruction_text = (\n",
    "        f\"Below is an instruction that describes a task. \"\n",
    "        f\"Write a response that appropriately completes the request.\"\n",
    "        f\"\\n\\n### Instruction:\\n{entry['instruction']}\"\n",
    "    )\n",
    "\n",
    "    input_text = f\"\\n\\n### Input:\\n{entry['input']}\" if entry[\"input\"] else \"\"\n",
    "\n",
    "    return instruction_text + input_text"
   ],
   "metadata": {
    "collapsed": false,
    "ExecuteTime": {
     "end_time": "2024-07-12T05:51:44.810996800Z",
     "start_time": "2024-07-12T05:51:44.788060100Z"
    }
   },
   "id": "729f26657bdbd661"
  },
  {
   "cell_type": "markdown",
   "source": [
    "- 带有输入字段的格式化响应如下所示"
   ],
   "metadata": {
    "collapsed": false
   },
   "id": "3e7c37f99f1bb6f6"
  },
  {
   "cell_type": "code",
   "execution_count": 6,
   "outputs": [
    {
     "name": "stdout",
     "output_type": "stream",
     "text": [
      "Below is an instruction that describes a task. Write a response that appropriately completes the request.\n",
      "\n",
      "### Instruction:\n",
      "Identify the correct spelling of the following word.\n",
      "\n",
      "### Input:\n",
      "Ocassion\n",
      "\n",
      "### Response:\n",
      "The correct spelling is 'Occasion.'\n"
     ]
    }
   ],
   "source": [
    "model_input = format_input(data[50])\n",
    "desired_response = f\"\\n\\n### Response:\\n{data[50]['output']}\"\n",
    "\n",
    "print(model_input + desired_response)"
   ],
   "metadata": {
    "collapsed": false,
    "ExecuteTime": {
     "end_time": "2024-07-12T05:51:47.229403600Z",
     "start_time": "2024-07-12T05:51:47.193471Z"
    }
   },
   "id": "c6baf9cea644e777"
  },
  {
   "cell_type": "markdown",
   "source": [
    "- 下面是一个没有输入字段的格式化响应"
   ],
   "metadata": {
    "collapsed": false
   },
   "id": "90561f344a4af30e"
  },
  {
   "cell_type": "code",
   "execution_count": 7,
   "outputs": [
    {
     "name": "stdout",
     "output_type": "stream",
     "text": [
      "Below is an instruction that describes a task. Write a response that appropriately completes the request.\n",
      "\n",
      "### Instruction:\n",
      "What is an antonym of 'complicated'?\n",
      "\n",
      "### Response:\n",
      "An antonym of 'complicated' is 'simple'.\n"
     ]
    }
   ],
   "source": [
    "model_input = format_input(data[999])\n",
    "desired_response = f\"\\n\\n### Response:\\n{data[999]['output']}\"\n",
    "\n",
    "print(model_input + desired_response)"
   ],
   "metadata": {
    "collapsed": false,
    "ExecuteTime": {
     "end_time": "2024-07-12T05:51:50.473423500Z",
     "start_time": "2024-07-12T05:51:50.436523600Z"
    }
   },
   "id": "e65a6dfb8a39d866"
  },
  {
   "cell_type": "markdown",
   "source": [
    "- 最后，在下一节中准备PyTorch数据加载程序之前，我们将数据集划分为训练集、验证集和测试集"
   ],
   "metadata": {
    "collapsed": false
   },
   "id": "b400bf062393d4bb"
  },
  {
   "cell_type": "code",
   "execution_count": 8,
   "outputs": [],
   "source": [
    "train_portion = int(len(data) * 0.85)\n",
    "test_portion = int(len(data) * 0.1)\n",
    "val_portion = len(data) - train_portion - test_portion\n",
    "\n",
    "train_data = data[:train_portion]\n",
    "test_data = data[train_portion:train_portion+test_portion]\n",
    "val_data = data[train_portion+test_portion:]"
   ],
   "metadata": {
    "collapsed": false,
    "ExecuteTime": {
     "end_time": "2024-07-12T05:51:53.770241400Z",
     "start_time": "2024-07-12T05:51:53.750266100Z"
    }
   },
   "id": "fcabf1ef664d051b"
  },
  {
   "cell_type": "code",
   "execution_count": 9,
   "outputs": [
    {
     "name": "stdout",
     "output_type": "stream",
     "text": [
      "Training set length: 935\n",
      "Validation set length: 55\n",
      "Test set length: 110\n"
     ]
    }
   ],
   "source": [
    "print(\"Training set length:\", len(train_data))\n",
    "print(\"Validation set length:\", len(val_data))\n",
    "print(\"Test set length:\", len(test_data))"
   ],
   "metadata": {
    "collapsed": false,
    "ExecuteTime": {
     "end_time": "2024-07-12T05:51:55.472655600Z",
     "start_time": "2024-07-12T05:51:55.436725Z"
    }
   },
   "id": "3ca20838f85712ce"
  },
  {
   "cell_type": "markdown",
   "source": [
    "# 3、将数据组织成训练批次"
   ],
   "metadata": {
    "collapsed": false
   },
   "id": "34dd587c1444a179"
  },
  {
   "cell_type": "markdown",
   "source": [
    "![Alt text](../../../img/LLM/ch06/Batching_the_dataset.png)\n",
    "\n",
    "- 我们分几个步骤处理这个数据集批处理，如下图所示\n",
    "\n",
    "![Alt text](../../../img/LLM/ch06/step_of_batching_dataset.png)\n",
    "\n",
    "- 首先，我们实现了一个InstructionDataset类，它预标记数据集中的所有输入，类似于第5章中的SpamDataset\n",
    "\n",
    "![Alt text](../../../img/LLM/ch06/InstructionDataset.png)"
   ],
   "metadata": {
    "collapsed": false
   },
   "id": "47211ebe9357d654"
  },
  {
   "cell_type": "code",
   "execution_count": 10,
   "outputs": [],
   "source": [
    "import torch\n",
    "from torch.utils.data import Dataset\n",
    "\n",
    "\n",
    "class InstructionDataset(Dataset):\n",
    "    def __init__(self, data, tokenizer):\n",
    "        self.data = data\n",
    "        \n",
    "        self.encoded_texts = []\n",
    "        for entry in data:\n",
    "            instruction_plus_input = format_input(entry)\n",
    "            response_text = f\"\\n\\n### Response:\\n{entry['output']}\"\n",
    "            full_text = instruction_plus_input + response_text\n",
    "            self.encoded_texts.append(\n",
    "                tokenizer.encode(full_text)\n",
    "            )\n",
    "            \n",
    "    def __getitem__(self, index):\n",
    "        return self.encoded_texts[index]\n",
    "\n",
    "    def __len__(self):\n",
    "        return len(self.data)"
   ],
   "metadata": {
    "collapsed": false,
    "ExecuteTime": {
     "end_time": "2024-07-12T05:52:06.185075700Z",
     "start_time": "2024-07-12T05:51:58.881043200Z"
    }
   },
   "id": "e7870cdcf548efcb"
  },
  {
   "cell_type": "markdown",
   "source": [
    "- 与第5章类似，我们希望批量收集多个训练示例，以加速训练；这需要将所有输入填充到相似的长度\n",
    "- 同样与前一章类似，我们使用<|endoftext|>标记作为填充标记"
   ],
   "metadata": {
    "collapsed": false
   },
   "id": "2376ca45d73d3526"
  },
  {
   "cell_type": "code",
   "execution_count": 14,
   "outputs": [
    {
     "name": "stdout",
     "output_type": "stream",
     "text": [
      "[50256]\n"
     ]
    }
   ],
   "source": [
    "import tiktoken\n",
    "\n",
    "tokenizer = tiktoken.get_encoding(\"gpt2\")\n",
    "\n",
    "print(tokenizer.encode(\"<|endoftext|>\", allowed_special={\"<|endoftext|>\"}))"
   ],
   "metadata": {
    "collapsed": false,
    "ExecuteTime": {
     "end_time": "2024-07-12T05:52:30.707950600Z",
     "start_time": "2024-07-12T05:52:24.862363600Z"
    }
   },
   "id": "ff8191fcad74cb21"
  },
  {
   "cell_type": "markdown",
   "source": [
    "- 在第6章中，我们将数据集中的所有示例填充到相同的长度\n",
    "    - 在这里，我们采用了一种更复杂的方法，并开发了一个自定义的“collate”函数，我们可以将其传递给数据加载器\n",
    "    - 此自定义整理功能将每个批次中的训练示例填充为具有相同的长度（但不同批次可以具有不同的长度）\n",
    "\n",
    "![Alt text](../../../img/LLM/ch06/collate_function.png)"
   ],
   "metadata": {
    "collapsed": false
   },
   "id": "8c74778d85b2383b"
  },
  {
   "cell_type": "code",
   "execution_count": 15,
   "outputs": [],
   "source": [
    "def custome_collate_draft_1(batch, pad_token_id=50256, device=\"cpu\"):\n",
    "    batch_max_length = max(len(item) + 1 for item in batch)\n",
    "    \n",
    "    inputs_lst = []\n",
    "    \n",
    "    for item in batch:\n",
    "        new_item = item.copy()\n",
    "        new_item += [pad_token_id]\n",
    "        \n",
    "        padded = new_item + [pad_token_id] * (batch_max_length - len(new_item))\n",
    "        \n",
    "        inputs = torch.tensor(padded[:-1])\n",
    "        inputs_lst.append(inputs)\n",
    "    \n",
    "    inputs_tensor = torch.stack(inputs_lst).to(device)\n",
    "    return inputs_tensor"
   ],
   "metadata": {
    "collapsed": false,
    "ExecuteTime": {
     "end_time": "2024-07-12T05:52:36.344546800Z",
     "start_time": "2024-07-12T05:52:36.332551700Z"
    }
   },
   "id": "a36ee71fcfdd2597"
  },
  {
   "cell_type": "code",
   "execution_count": 16,
   "outputs": [
    {
     "name": "stdout",
     "output_type": "stream",
     "text": [
      "tensor([[    0,     1,     2,     3,     4],\n",
      "        [    5,     6, 50256, 50256, 50256],\n",
      "        [    7,     8,     9, 50256, 50256]])\n"
     ]
    }
   ],
   "source": [
    "inputs_1 = [0, 1, 2, 3, 4]\n",
    "inputs_2 = [5, 6]\n",
    "inputs_3 = [7, 8, 9]\n",
    "\n",
    "batch = (\n",
    "    inputs_1,\n",
    "    inputs_2,\n",
    "    inputs_3\n",
    ")\n",
    "\n",
    "print(custome_collate_draft_1(batch))"
   ],
   "metadata": {
    "collapsed": false,
    "ExecuteTime": {
     "end_time": "2024-07-12T05:52:37.257315500Z",
     "start_time": "2024-07-12T05:52:37.197475900Z"
    }
   },
   "id": "efa765f871a1c223"
  },
  {
   "cell_type": "markdown",
   "source": [
    "![Alt text](../../../img/LLM/ch06/token_id_for_training.png)\n",
    "\n",
    "- 上面，我们只返回LLM的输入；然而，对于LLM训练，我们也需要目标值\n",
    "- 与预训练LLM类似，目标是向右移动1个位置的输入，因此LLM学习预测下一个token\n",
    "\n",
    "![Alt text](../../../img/LLM/ch06/predict_token_id.png)"
   ],
   "metadata": {
    "collapsed": false
   },
   "id": "564635f5b821dad6"
  },
  {
   "cell_type": "code",
   "execution_count": 17,
   "outputs": [],
   "source": [
    "def custome_collate_draft_2(batch, pad_token_id=50256, device=\"cpu\"):\n",
    "    batch_max_length = max(len(item) + 1 for item in batch)\n",
    "    \n",
    "    inputs_lst, targets_lst = [], []\n",
    "    \n",
    "    for item in batch:\n",
    "        new_item = item.copy()\n",
    "        new_item += [pad_token_id]\n",
    "        padded = new_item + [pad_token_id] * (batch_max_length - len(new_item))\n",
    "        inputs = torch.tensor(padded[:-1])\n",
    "        targets = torch.tensor(padded[1:])\n",
    "        inputs_lst.append(inputs)\n",
    "        targets_lst.append(targets)\n",
    "    \n",
    "    inputs_tensor = torch.stack(inputs_lst).to(device)\n",
    "    targets_tensor = torch.stack(targets_lst).to(device)\n",
    "    return inputs_tensor, targets_tensor"
   ],
   "metadata": {
    "collapsed": false,
    "ExecuteTime": {
     "end_time": "2024-07-12T05:52:39.945378600Z",
     "start_time": "2024-07-12T05:52:39.927428500Z"
    }
   },
   "id": "b868b13af8e92a0d"
  },
  {
   "cell_type": "code",
   "execution_count": 18,
   "outputs": [
    {
     "name": "stdout",
     "output_type": "stream",
     "text": [
      "tensor([[    0,     1,     2,     3,     4],\n",
      "        [    5,     6, 50256, 50256, 50256],\n",
      "        [    7,     8,     9, 50256, 50256]])\n",
      "tensor([[    1,     2,     3,     4, 50256],\n",
      "        [    6, 50256, 50256, 50256, 50256],\n",
      "        [    8,     9, 50256, 50256, 50256]])\n"
     ]
    }
   ],
   "source": [
    "inputs, targets = custome_collate_draft_2(batch)\n",
    "print(inputs)\n",
    "print(targets)"
   ],
   "metadata": {
    "collapsed": false,
    "ExecuteTime": {
     "end_time": "2024-07-12T05:52:40.593759200Z",
     "start_time": "2024-07-12T05:52:40.576804500Z"
    }
   },
   "id": "168cd55f6e2b9f53"
  },
  {
   "cell_type": "markdown",
   "source": [
    "- 接下来, 我们引入一个ignore_index值来用一个新值替换所有填充token ID;这个 ignore_index 的目的是我们可以忽略loss函数中的填充值(稍后会详细介绍)\n",
    "\n",
    "![Alt text](../../../img/LLM/ch06/replace_padding_tokens.png)\n",
    "\n",
    "- 具体来说，这意味着我们将50256对应的tokenID替换为-100，如下所示\n",
    "\n",
    "![Alt text](../../../img/LLM/ch06/replace_token_example.png)\n",
    "\n",
    "- （此外，如果我们想限制样本的长度，我们还引入了allowed_max_length；如果您计划使用自己的数据集，这些数据集的长度超过GPT-2模型支持的1024token上下文大小，这将非常有用。）"
   ],
   "metadata": {
    "collapsed": false
   },
   "id": "3dd044ce0179d284"
  },
  {
   "cell_type": "code",
   "execution_count": 19,
   "outputs": [],
   "source": [
    "def custom_collate_fn(\n",
    "    batch,\n",
    "    pad_token_id=50256,\n",
    "    ignore_index=-100,\n",
    "    allowed_max_length=None,\n",
    "    device=\"cpu\"\n",
    "):\n",
    "    # Find the longest sequence in the batch\n",
    "    batch_max_length = max(len(item)+1 for item in batch)\n",
    "\n",
    "    # Pad and prepare inputs and targets\n",
    "    inputs_lst, targets_lst = [], []\n",
    "\n",
    "    for item in batch:\n",
    "        new_item = item.copy()\n",
    "        # Add an <|endoftext|> token\n",
    "        new_item += [pad_token_id]\n",
    "        # Pad sequences to max_length\n",
    "        padded = new_item + [pad_token_id] * (batch_max_length - len(new_item))\n",
    "        inputs = torch.tensor(padded[:-1])  # Truncate the last token for inputs\n",
    "        targets = torch.tensor(padded[1:])  # Shift +1 to the right for targets\n",
    "\n",
    "        # New: Replace all but the first padding tokens in targets by ignore_index\n",
    "        mask = targets == pad_token_id\n",
    "        indices = torch.nonzero(mask).squeeze()\n",
    "        if indices.numel() > 1:\n",
    "            targets[indices[1:]] = ignore_index\n",
    "\n",
    "        # New: Optionally truncate to maximum sequence length\n",
    "        if allowed_max_length is not None:\n",
    "            inputs = inputs[:allowed_max_length]\n",
    "            targets = targets[:allowed_max_length]\n",
    "\n",
    "        inputs_lst.append(inputs)\n",
    "        targets_lst.append(targets)\n",
    "\n",
    "    # Convert list of inputs and targets to tensors and transfer to target device\n",
    "    inputs_tensor = torch.stack(inputs_lst).to(device)\n",
    "    targets_tensor = torch.stack(targets_lst).to(device)\n",
    "\n",
    "    return inputs_tensor, targets_tensor"
   ],
   "metadata": {
    "collapsed": false,
    "ExecuteTime": {
     "end_time": "2024-07-12T05:52:43.878860100Z",
     "start_time": "2024-07-12T05:52:43.865894200Z"
    }
   },
   "id": "bd0e3b942a130408"
  },
  {
   "cell_type": "code",
   "execution_count": 20,
   "outputs": [
    {
     "name": "stdout",
     "output_type": "stream",
     "text": [
      "tensor([[    0,     1,     2,     3,     4],\n",
      "        [    5,     6, 50256, 50256, 50256],\n",
      "        [    7,     8,     9, 50256, 50256]])\n",
      "tensor([[    1,     2,     3,     4, 50256],\n",
      "        [    6, 50256,  -100,  -100,  -100],\n",
      "        [    8,     9, 50256,  -100,  -100]])\n"
     ]
    }
   ],
   "source": [
    "inputs, targets = custom_collate_fn(batch)\n",
    "print(inputs)\n",
    "print(targets)"
   ],
   "metadata": {
    "collapsed": false,
    "ExecuteTime": {
     "end_time": "2024-07-12T05:52:45.423193100Z",
     "start_time": "2024-07-12T05:52:45.376319700Z"
    }
   },
   "id": "5a69ecec5160a03b"
  },
  {
   "cell_type": "markdown",
   "source": [
    "- 让我们看看-100的替代能实现什么\n",
    "- 为了便于说明，让我们假设我们有一个小的分类任务，有两个类标签，0和1，类似于第5章\n",
    "- 如果我们有以下logits值（模型最后一层的输出），我们计算以下损失"
   ],
   "metadata": {
    "collapsed": false
   },
   "id": "42b10cc5440db7c3"
  },
  {
   "cell_type": "code",
   "execution_count": 21,
   "outputs": [
    {
     "name": "stdout",
     "output_type": "stream",
     "text": [
      "tensor(1.1269)\n"
     ]
    }
   ],
   "source": [
    "import torch.nn.functional as F\n",
    "logits_1 = torch.tensor(\n",
    "    [[-1.0, 1.0],\n",
    "     [-0.5, 1.5]]\n",
    ")\n",
    "targets_1 = torch.tensor([0, 1])\n",
    "\n",
    "loss_1 = F.cross_entropy(logits_1, targets_1)\n",
    "print(loss_1)"
   ],
   "metadata": {
    "collapsed": false,
    "ExecuteTime": {
     "end_time": "2024-07-12T05:52:47.491400700Z",
     "start_time": "2024-07-12T05:52:47.449513900Z"
    }
   },
   "id": "6e705ebb15fe90ac"
  },
  {
   "cell_type": "markdown",
   "source": [
    "- 现在，正如预期的那样，再增加一个训练示例将影响损失"
   ],
   "metadata": {
    "collapsed": false
   },
   "id": "e6b37253643088f5"
  },
  {
   "cell_type": "code",
   "execution_count": 22,
   "outputs": [
    {
     "name": "stdout",
     "output_type": "stream",
     "text": [
      "tensor(0.7936)\n"
     ]
    }
   ],
   "source": [
    "logits_2 = torch.tensor(\n",
    "    [[-1.0, 1.0],\n",
    "     [-0.5, 1.5],\n",
    "     [-0.5, 1.5]]  # New 3rd training example\n",
    ")\n",
    "targets_2 = torch.tensor([0, 1, 1])\n",
    "\n",
    "loss_2 = torch.nn.functional.cross_entropy(logits_2, targets_2)\n",
    "print(loss_2)"
   ],
   "metadata": {
    "collapsed": false,
    "ExecuteTime": {
     "end_time": "2024-07-12T05:52:50.152999900Z",
     "start_time": "2024-07-12T05:52:50.117095Z"
    }
   },
   "id": "3d8469a9e745d27a"
  },
  {
   "cell_type": "markdown",
   "source": [
    "- 让我们看看如果我们将其中一个示例的类标签替换为-100会发生什么"
   ],
   "metadata": {
    "collapsed": false
   },
   "id": "366619bbae0957e4"
  },
  {
   "cell_type": "code",
   "execution_count": 23,
   "outputs": [
    {
     "name": "stdout",
     "output_type": "stream",
     "text": [
      "tensor(1.1269)\n",
      "loss_1 == loss_3: tensor(True)\n"
     ]
    }
   ],
   "source": [
    "targets_3 = torch.tensor([0, 1, -100])\n",
    "\n",
    "loss_3 = torch.nn.functional.cross_entropy(logits_2, targets_3)\n",
    "print(loss_3)\n",
    "print(\"loss_1 == loss_3:\", loss_1 == loss_3)"
   ],
   "metadata": {
    "collapsed": false,
    "ExecuteTime": {
     "end_time": "2024-07-12T05:52:54.040856300Z",
     "start_time": "2024-07-12T05:52:53.246700400Z"
    }
   },
   "id": "a3f0fb1005a6c118"
  },
  {
   "cell_type": "markdown",
   "source": [
    "- 正如我们所看到的，这3个训练示例上的损失与我们从2个训练示例中计算的损失相同，这意味着交叉熵损失函数忽略了带有-100标签的训练示例\n",
    "- 默认情况下，PyTorch具有cross_entropy（…，ignore_index=-100）设置以忽略与标签-100相对应的示例\n",
    "- 使用这个-100 ignore_index，我们可以忽略用于将训练示例填充为相等长度的批处理中的额外文本末尾（填充）标记\n",
    "- 然而，我们不想忽略文本结束（填充）标记（50256）的第一个实例，因为它可以帮助在响应完成时向LLM发出信号\n",
    "- 在实践中，屏蔽与指令相对应的目标令牌ID也是很常见的，如下图所示（这是完成本章后推荐的读者练习）\n",
    "\n",
    "![Alt text](../../../img/LLM/ch06/token_id_placeholder.png)"
   ],
   "metadata": {
    "collapsed": false
   },
   "id": "9b43a76d923dbd61"
  },
  {
   "cell_type": "markdown",
   "source": [
    "# 4、为指令数据集创建数据加载程序"
   ],
   "metadata": {
    "collapsed": false
   },
   "id": "910abc8a746f7703"
  },
  {
   "cell_type": "markdown",
   "source": [
    "- 在本节中，我们使用InstructionDataset类和customer_collate_fn函数来实例化训练、验证和测试数据加载程序\n",
    "\n",
    "![Alt text](../../../img/LLM/ch06/create_data_loaders.png)\n",
    "\n",
    "- 前面的custom_colate_fn函数的另一个附加细节是，我们现在直接将数据移动到目标设备（例如GPU），而不是在主训练循环中进行，这提高了效率，因为当我们将custom_colat_fn用作数据加载器的一部分时，它可以作为后台进程来执行\n",
    "- 使用Python的functools标准库中的分部函数，我们创建了一个新函数，其中预先填充了原始函数的设备参数"
   ],
   "metadata": {
    "collapsed": false
   },
   "id": "9c5b64a0baf80fcf"
  },
  {
   "cell_type": "code",
   "execution_count": 24,
   "outputs": [
    {
     "name": "stdout",
     "output_type": "stream",
     "text": [
      "Device:cpu\n"
     ]
    }
   ],
   "source": [
    "device = torch.device(\"cuda\" if torch.cuda.is_available() else \"cpu\")\n",
    "\n",
    "print(f\"Device:{device}\")"
   ],
   "metadata": {
    "collapsed": false,
    "ExecuteTime": {
     "end_time": "2024-07-12T05:52:58.659891400Z",
     "start_time": "2024-07-12T05:52:58.636953800Z"
    }
   },
   "id": "f91cc9bad5460ba7"
  },
  {
   "cell_type": "code",
   "execution_count": 25,
   "outputs": [],
   "source": [
    "from functools import partial\n",
    "\n",
    "custom_collate_fn = partial(custom_collate_fn, device=device, allowed_max_length=1024)"
   ],
   "metadata": {
    "collapsed": false,
    "ExecuteTime": {
     "end_time": "2024-07-12T05:53:00.576073900Z",
     "start_time": "2024-07-12T05:53:00.553106700Z"
    }
   },
   "id": "a2fe75b514fdb2ac"
  },
  {
   "cell_type": "markdown",
   "source": [
    "- 接下来，我们实例化与前几章类似的数据加载程序，只是我们现在为批处理过程提供了自己的collate函数"
   ],
   "metadata": {
    "collapsed": false
   },
   "id": "944826a3a0063ebc"
  },
  {
   "cell_type": "code",
   "execution_count": 26,
   "outputs": [],
   "source": [
    "from torch.utils.data import DataLoader\n",
    "\n",
    "num_workers = 0\n",
    "batch_size = 8\n",
    "\n",
    "torch.manual_seed(123)\n",
    "\n",
    "train_dataset = InstructionDataset(train_data, tokenizer)\n",
    "train_loader = DataLoader(\n",
    "    train_dataset,\n",
    "    batch_size=batch_size,\n",
    "    collate_fn=custom_collate_fn,\n",
    "    shuffle=True,\n",
    "    drop_last=True,\n",
    "    num_workers=num_workers\n",
    ")\n",
    "\n",
    "val_dataset = InstructionDataset(val_data, tokenizer)\n",
    "val_loader = DataLoader(\n",
    "    val_dataset,\n",
    "    batch_size=batch_size,\n",
    "    collate_fn=custom_collate_fn,\n",
    "    shuffle=False,\n",
    "    drop_last=False,\n",
    "    num_workers=num_workers\n",
    ")\n",
    "\n",
    "test_dataset = InstructionDataset(test_data, tokenizer)\n",
    "test_loader = DataLoader(\n",
    "    test_dataset,\n",
    "    batch_size=batch_size,\n",
    "    collate_fn=custom_collate_fn,\n",
    "    shuffle=False,\n",
    "    drop_last=False,\n",
    "    num_workers=num_workers\n",
    ")"
   ],
   "metadata": {
    "collapsed": false,
    "ExecuteTime": {
     "end_time": "2024-07-12T05:53:03.754932500Z",
     "start_time": "2024-07-12T05:53:03.674150400Z"
    }
   },
   "id": "382e1bd5ad838543"
  },
  {
   "cell_type": "code",
   "execution_count": 27,
   "outputs": [
    {
     "name": "stdout",
     "output_type": "stream",
     "text": [
      "Train loader:\n",
      "torch.Size([8, 61]) torch.Size([8, 61])\n",
      "torch.Size([8, 76]) torch.Size([8, 76])\n",
      "torch.Size([8, 73]) torch.Size([8, 73])\n",
      "torch.Size([8, 68]) torch.Size([8, 68])\n",
      "torch.Size([8, 65]) torch.Size([8, 65])\n",
      "torch.Size([8, 72]) torch.Size([8, 72])\n",
      "torch.Size([8, 80]) torch.Size([8, 80])\n",
      "torch.Size([8, 67]) torch.Size([8, 67])\n",
      "torch.Size([8, 62]) torch.Size([8, 62])\n",
      "torch.Size([8, 75]) torch.Size([8, 75])\n",
      "torch.Size([8, 62]) torch.Size([8, 62])\n",
      "torch.Size([8, 68]) torch.Size([8, 68])\n",
      "torch.Size([8, 67]) torch.Size([8, 67])\n",
      "torch.Size([8, 77]) torch.Size([8, 77])\n",
      "torch.Size([8, 69]) torch.Size([8, 69])\n",
      "torch.Size([8, 79]) torch.Size([8, 79])\n",
      "torch.Size([8, 71]) torch.Size([8, 71])\n",
      "torch.Size([8, 66]) torch.Size([8, 66])\n",
      "torch.Size([8, 83]) torch.Size([8, 83])\n",
      "torch.Size([8, 68]) torch.Size([8, 68])\n",
      "torch.Size([8, 80]) torch.Size([8, 80])\n",
      "torch.Size([8, 71]) torch.Size([8, 71])\n",
      "torch.Size([8, 69]) torch.Size([8, 69])\n",
      "torch.Size([8, 65]) torch.Size([8, 65])\n",
      "torch.Size([8, 68]) torch.Size([8, 68])\n",
      "torch.Size([8, 60]) torch.Size([8, 60])\n",
      "torch.Size([8, 59]) torch.Size([8, 59])\n",
      "torch.Size([8, 69]) torch.Size([8, 69])\n",
      "torch.Size([8, 63]) torch.Size([8, 63])\n",
      "torch.Size([8, 65]) torch.Size([8, 65])\n",
      "torch.Size([8, 76]) torch.Size([8, 76])\n",
      "torch.Size([8, 66]) torch.Size([8, 66])\n",
      "torch.Size([8, 71]) torch.Size([8, 71])\n",
      "torch.Size([8, 91]) torch.Size([8, 91])\n",
      "torch.Size([8, 65]) torch.Size([8, 65])\n",
      "torch.Size([8, 64]) torch.Size([8, 64])\n",
      "torch.Size([8, 67]) torch.Size([8, 67])\n",
      "torch.Size([8, 66]) torch.Size([8, 66])\n",
      "torch.Size([8, 64]) torch.Size([8, 64])\n",
      "torch.Size([8, 65]) torch.Size([8, 65])\n",
      "torch.Size([8, 75]) torch.Size([8, 75])\n",
      "torch.Size([8, 89]) torch.Size([8, 89])\n",
      "torch.Size([8, 59]) torch.Size([8, 59])\n",
      "torch.Size([8, 88]) torch.Size([8, 88])\n",
      "torch.Size([8, 83]) torch.Size([8, 83])\n",
      "torch.Size([8, 83]) torch.Size([8, 83])\n",
      "torch.Size([8, 70]) torch.Size([8, 70])\n",
      "torch.Size([8, 65]) torch.Size([8, 65])\n",
      "torch.Size([8, 74]) torch.Size([8, 74])\n",
      "torch.Size([8, 76]) torch.Size([8, 76])\n",
      "torch.Size([8, 67]) torch.Size([8, 67])\n",
      "torch.Size([8, 75]) torch.Size([8, 75])\n",
      "torch.Size([8, 83]) torch.Size([8, 83])\n",
      "torch.Size([8, 69]) torch.Size([8, 69])\n",
      "torch.Size([8, 67]) torch.Size([8, 67])\n",
      "torch.Size([8, 60]) torch.Size([8, 60])\n",
      "torch.Size([8, 60]) torch.Size([8, 60])\n",
      "torch.Size([8, 66]) torch.Size([8, 66])\n",
      "torch.Size([8, 80]) torch.Size([8, 80])\n",
      "torch.Size([8, 71]) torch.Size([8, 71])\n",
      "torch.Size([8, 61]) torch.Size([8, 61])\n",
      "torch.Size([8, 58]) torch.Size([8, 58])\n",
      "torch.Size([8, 71]) torch.Size([8, 71])\n",
      "torch.Size([8, 67]) torch.Size([8, 67])\n",
      "torch.Size([8, 68]) torch.Size([8, 68])\n",
      "torch.Size([8, 63]) torch.Size([8, 63])\n",
      "torch.Size([8, 87]) torch.Size([8, 87])\n",
      "torch.Size([8, 68]) torch.Size([8, 68])\n",
      "torch.Size([8, 64]) torch.Size([8, 64])\n",
      "torch.Size([8, 68]) torch.Size([8, 68])\n",
      "torch.Size([8, 71]) torch.Size([8, 71])\n",
      "torch.Size([8, 68]) torch.Size([8, 68])\n",
      "torch.Size([8, 71]) torch.Size([8, 71])\n",
      "torch.Size([8, 61]) torch.Size([8, 61])\n",
      "torch.Size([8, 65]) torch.Size([8, 65])\n",
      "torch.Size([8, 67]) torch.Size([8, 67])\n",
      "torch.Size([8, 65]) torch.Size([8, 65])\n",
      "torch.Size([8, 64]) torch.Size([8, 64])\n",
      "torch.Size([8, 60]) torch.Size([8, 60])\n",
      "torch.Size([8, 72]) torch.Size([8, 72])\n",
      "torch.Size([8, 64]) torch.Size([8, 64])\n",
      "torch.Size([8, 70]) torch.Size([8, 70])\n",
      "torch.Size([8, 57]) torch.Size([8, 57])\n",
      "torch.Size([8, 72]) torch.Size([8, 72])\n",
      "torch.Size([8, 64]) torch.Size([8, 64])\n",
      "torch.Size([8, 68]) torch.Size([8, 68])\n",
      "torch.Size([8, 62]) torch.Size([8, 62])\n",
      "torch.Size([8, 74]) torch.Size([8, 74])\n",
      "torch.Size([8, 80]) torch.Size([8, 80])\n",
      "torch.Size([8, 68]) torch.Size([8, 68])\n",
      "torch.Size([8, 70]) torch.Size([8, 70])\n",
      "torch.Size([8, 91]) torch.Size([8, 91])\n",
      "torch.Size([8, 61]) torch.Size([8, 61])\n",
      "torch.Size([8, 66]) torch.Size([8, 66])\n",
      "torch.Size([8, 80]) torch.Size([8, 80])\n",
      "torch.Size([8, 81]) torch.Size([8, 81])\n",
      "torch.Size([8, 74]) torch.Size([8, 74])\n",
      "torch.Size([8, 82]) torch.Size([8, 82])\n",
      "torch.Size([8, 63]) torch.Size([8, 63])\n",
      "torch.Size([8, 83]) torch.Size([8, 83])\n",
      "torch.Size([8, 68]) torch.Size([8, 68])\n",
      "torch.Size([8, 67]) torch.Size([8, 67])\n",
      "torch.Size([8, 77]) torch.Size([8, 77])\n",
      "torch.Size([8, 91]) torch.Size([8, 91])\n",
      "torch.Size([8, 64]) torch.Size([8, 64])\n",
      "torch.Size([8, 61]) torch.Size([8, 61])\n",
      "torch.Size([8, 75]) torch.Size([8, 75])\n",
      "torch.Size([8, 64]) torch.Size([8, 64])\n",
      "torch.Size([8, 66]) torch.Size([8, 66])\n",
      "torch.Size([8, 78]) torch.Size([8, 78])\n",
      "torch.Size([8, 66]) torch.Size([8, 66])\n",
      "torch.Size([8, 64]) torch.Size([8, 64])\n",
      "torch.Size([8, 83]) torch.Size([8, 83])\n",
      "torch.Size([8, 66]) torch.Size([8, 66])\n",
      "torch.Size([8, 74]) torch.Size([8, 74])\n",
      "torch.Size([8, 69]) torch.Size([8, 69])\n"
     ]
    }
   ],
   "source": [
    "print(\"Train loader:\")\n",
    "for inputs, targets in train_loader:\n",
    "    print(inputs.shape, targets.shape)"
   ],
   "metadata": {
    "collapsed": false,
    "ExecuteTime": {
     "end_time": "2024-07-12T05:53:04.456534300Z",
     "start_time": "2024-07-12T05:53:04.322262900Z"
    }
   },
   "id": "37e5b020aa6f31fe"
  },
  {
   "cell_type": "markdown",
   "source": [
    "- 根据上面的输出，我们可以看到，正如预期的那样，所有批次的批次大小都为8，但长度不同\n",
    "- 还让我们通过在输入批中打印第一个训练示例的内容来双重检查输入是否包含与token ID 50256相对应的<|endoftext|>填充token"
   ],
   "metadata": {
    "collapsed": false
   },
   "id": "c4fb253f21c9bb2b"
  },
  {
   "cell_type": "code",
   "execution_count": 28,
   "outputs": [
    {
     "name": "stdout",
     "output_type": "stream",
     "text": [
      "tensor([21106,   318,   281, 12064,   326,  8477,   257,  4876,    13, 19430,\n",
      "          257,  2882,   326, 20431, 32543,   262,  2581,    13,   198,   198,\n",
      "        21017, 46486,    25,   198, 30003,  6525,   262,  6827,  1262,   257,\n",
      "          985,   576,    13,   198,   198, 21017, 23412,    25,   198,   464,\n",
      "         5156,   318,   845, 13779,    13,   198,   198, 21017, 18261,    25,\n",
      "          198,   464,  5156,   318,   355, 13779,   355,   257,  4936,    13,\n",
      "        50256, 50256, 50256, 50256, 50256, 50256, 50256, 50256, 50256])\n"
     ]
    }
   ],
   "source": [
    "print(inputs[0])"
   ],
   "metadata": {
    "collapsed": false,
    "ExecuteTime": {
     "end_time": "2024-07-12T05:53:07.989721900Z",
     "start_time": "2024-07-12T05:53:07.966029700Z"
    }
   },
   "id": "3389edf1fba72f33"
  },
  {
   "cell_type": "code",
   "execution_count": 29,
   "outputs": [
    {
     "name": "stdout",
     "output_type": "stream",
     "text": [
      "tensor([  318,   281, 12064,   326,  8477,   257,  4876,    13, 19430,   257,\n",
      "         2882,   326, 20431, 32543,   262,  2581,    13,   198,   198, 21017,\n",
      "        46486,    25,   198, 30003,  6525,   262,  6827,  1262,   257,   985,\n",
      "          576,    13,   198,   198, 21017, 23412,    25,   198,   464,  5156,\n",
      "          318,   845, 13779,    13,   198,   198, 21017, 18261,    25,   198,\n",
      "          464,  5156,   318,   355, 13779,   355,   257,  4936,    13, 50256,\n",
      "         -100,  -100,  -100,  -100,  -100,  -100,  -100,  -100,  -100])\n"
     ]
    }
   ],
   "source": [
    "print(targets[0])"
   ],
   "metadata": {
    "collapsed": false,
    "ExecuteTime": {
     "end_time": "2024-07-12T05:53:10.181085300Z",
     "start_time": "2024-07-12T05:53:10.145183Z"
    }
   },
   "id": "2f58c4a2d04ee419"
  },
  {
   "cell_type": "markdown",
   "source": [
    "# 5、加载预训练LLM"
   ],
   "metadata": {
    "collapsed": false
   },
   "id": "2480cf3fcd6fdd6f"
  },
  {
   "cell_type": "markdown",
   "source": [
    "![Alt text](../../../img/LLM/ch06/loading_pretrained_LLM.png)\n",
    "\n",
    "- 然而，我们没有加载最小的1.24亿参数模型，而是加载具有3.55亿参数的中等版本，因为1.24亿模型太小，无法通过指令微调实现质量合理的结果"
   ],
   "metadata": {
    "collapsed": false
   },
   "id": "9e0fe918e14928f7"
  },
  {
   "cell_type": "code",
   "execution_count": 30,
   "outputs": [
    {
     "name": "stdout",
     "output_type": "stream",
     "text": [
      "File already exists and is up-to-date: gpt2\\355M\\checkpoint\n",
      "File already exists and is up-to-date: gpt2\\355M\\encoder.json\n",
      "File already exists and is up-to-date: gpt2\\355M\\hparams.json\n",
      "File already exists and is up-to-date: gpt2\\355M\\model.ckpt.data-00000-of-00001\n",
      "File already exists and is up-to-date: gpt2\\355M\\model.ckpt.index\n",
      "File already exists and is up-to-date: gpt2\\355M\\model.ckpt.meta\n",
      "File already exists and is up-to-date: gpt2\\355M\\vocab.bpe\n"
     ]
    },
    {
     "data": {
      "text/plain": "GPTModel(\n  (token_emb): Embedding(50257, 1024)\n  (pos_emb): Embedding(1024, 1024)\n  (drop_emb): Dropout(p=0.0, inplace=False)\n  (transformer_blocks): Sequential(\n    (0): TransformerBlock(\n      (attention): MultiHeadAttention(\n        (W_q): Linear(in_features=1024, out_features=1024, bias=True)\n        (W_k): Linear(in_features=1024, out_features=1024, bias=True)\n        (W_v): Linear(in_features=1024, out_features=1024, bias=True)\n        (out_proj): Linear(in_features=1024, out_features=1024, bias=True)\n        (dropout): Dropout(p=0.0, inplace=False)\n      )\n      (ffn): FeedForward(\n        (layers): Sequential(\n          (0): Linear(in_features=1024, out_features=4096, bias=True)\n          (1): GELU()\n          (2): Linear(in_features=4096, out_features=1024, bias=True)\n        )\n      )\n      (norm1): LayerNorm()\n      (norm2): LayerNorm()\n      (drop_shortcut): Dropout(p=0.0, inplace=False)\n    )\n    (1): TransformerBlock(\n      (attention): MultiHeadAttention(\n        (W_q): Linear(in_features=1024, out_features=1024, bias=True)\n        (W_k): Linear(in_features=1024, out_features=1024, bias=True)\n        (W_v): Linear(in_features=1024, out_features=1024, bias=True)\n        (out_proj): Linear(in_features=1024, out_features=1024, bias=True)\n        (dropout): Dropout(p=0.0, inplace=False)\n      )\n      (ffn): FeedForward(\n        (layers): Sequential(\n          (0): Linear(in_features=1024, out_features=4096, bias=True)\n          (1): GELU()\n          (2): Linear(in_features=4096, out_features=1024, bias=True)\n        )\n      )\n      (norm1): LayerNorm()\n      (norm2): LayerNorm()\n      (drop_shortcut): Dropout(p=0.0, inplace=False)\n    )\n    (2): TransformerBlock(\n      (attention): MultiHeadAttention(\n        (W_q): Linear(in_features=1024, out_features=1024, bias=True)\n        (W_k): Linear(in_features=1024, out_features=1024, bias=True)\n        (W_v): Linear(in_features=1024, out_features=1024, bias=True)\n        (out_proj): Linear(in_features=1024, out_features=1024, bias=True)\n        (dropout): Dropout(p=0.0, inplace=False)\n      )\n      (ffn): FeedForward(\n        (layers): Sequential(\n          (0): Linear(in_features=1024, out_features=4096, bias=True)\n          (1): GELU()\n          (2): Linear(in_features=4096, out_features=1024, bias=True)\n        )\n      )\n      (norm1): LayerNorm()\n      (norm2): LayerNorm()\n      (drop_shortcut): Dropout(p=0.0, inplace=False)\n    )\n    (3): TransformerBlock(\n      (attention): MultiHeadAttention(\n        (W_q): Linear(in_features=1024, out_features=1024, bias=True)\n        (W_k): Linear(in_features=1024, out_features=1024, bias=True)\n        (W_v): Linear(in_features=1024, out_features=1024, bias=True)\n        (out_proj): Linear(in_features=1024, out_features=1024, bias=True)\n        (dropout): Dropout(p=0.0, inplace=False)\n      )\n      (ffn): FeedForward(\n        (layers): Sequential(\n          (0): Linear(in_features=1024, out_features=4096, bias=True)\n          (1): GELU()\n          (2): Linear(in_features=4096, out_features=1024, bias=True)\n        )\n      )\n      (norm1): LayerNorm()\n      (norm2): LayerNorm()\n      (drop_shortcut): Dropout(p=0.0, inplace=False)\n    )\n    (4): TransformerBlock(\n      (attention): MultiHeadAttention(\n        (W_q): Linear(in_features=1024, out_features=1024, bias=True)\n        (W_k): Linear(in_features=1024, out_features=1024, bias=True)\n        (W_v): Linear(in_features=1024, out_features=1024, bias=True)\n        (out_proj): Linear(in_features=1024, out_features=1024, bias=True)\n        (dropout): Dropout(p=0.0, inplace=False)\n      )\n      (ffn): FeedForward(\n        (layers): Sequential(\n          (0): Linear(in_features=1024, out_features=4096, bias=True)\n          (1): GELU()\n          (2): Linear(in_features=4096, out_features=1024, bias=True)\n        )\n      )\n      (norm1): LayerNorm()\n      (norm2): LayerNorm()\n      (drop_shortcut): Dropout(p=0.0, inplace=False)\n    )\n    (5): TransformerBlock(\n      (attention): MultiHeadAttention(\n        (W_q): Linear(in_features=1024, out_features=1024, bias=True)\n        (W_k): Linear(in_features=1024, out_features=1024, bias=True)\n        (W_v): Linear(in_features=1024, out_features=1024, bias=True)\n        (out_proj): Linear(in_features=1024, out_features=1024, bias=True)\n        (dropout): Dropout(p=0.0, inplace=False)\n      )\n      (ffn): FeedForward(\n        (layers): Sequential(\n          (0): Linear(in_features=1024, out_features=4096, bias=True)\n          (1): GELU()\n          (2): Linear(in_features=4096, out_features=1024, bias=True)\n        )\n      )\n      (norm1): LayerNorm()\n      (norm2): LayerNorm()\n      (drop_shortcut): Dropout(p=0.0, inplace=False)\n    )\n    (6): TransformerBlock(\n      (attention): MultiHeadAttention(\n        (W_q): Linear(in_features=1024, out_features=1024, bias=True)\n        (W_k): Linear(in_features=1024, out_features=1024, bias=True)\n        (W_v): Linear(in_features=1024, out_features=1024, bias=True)\n        (out_proj): Linear(in_features=1024, out_features=1024, bias=True)\n        (dropout): Dropout(p=0.0, inplace=False)\n      )\n      (ffn): FeedForward(\n        (layers): Sequential(\n          (0): Linear(in_features=1024, out_features=4096, bias=True)\n          (1): GELU()\n          (2): Linear(in_features=4096, out_features=1024, bias=True)\n        )\n      )\n      (norm1): LayerNorm()\n      (norm2): LayerNorm()\n      (drop_shortcut): Dropout(p=0.0, inplace=False)\n    )\n    (7): TransformerBlock(\n      (attention): MultiHeadAttention(\n        (W_q): Linear(in_features=1024, out_features=1024, bias=True)\n        (W_k): Linear(in_features=1024, out_features=1024, bias=True)\n        (W_v): Linear(in_features=1024, out_features=1024, bias=True)\n        (out_proj): Linear(in_features=1024, out_features=1024, bias=True)\n        (dropout): Dropout(p=0.0, inplace=False)\n      )\n      (ffn): FeedForward(\n        (layers): Sequential(\n          (0): Linear(in_features=1024, out_features=4096, bias=True)\n          (1): GELU()\n          (2): Linear(in_features=4096, out_features=1024, bias=True)\n        )\n      )\n      (norm1): LayerNorm()\n      (norm2): LayerNorm()\n      (drop_shortcut): Dropout(p=0.0, inplace=False)\n    )\n    (8): TransformerBlock(\n      (attention): MultiHeadAttention(\n        (W_q): Linear(in_features=1024, out_features=1024, bias=True)\n        (W_k): Linear(in_features=1024, out_features=1024, bias=True)\n        (W_v): Linear(in_features=1024, out_features=1024, bias=True)\n        (out_proj): Linear(in_features=1024, out_features=1024, bias=True)\n        (dropout): Dropout(p=0.0, inplace=False)\n      )\n      (ffn): FeedForward(\n        (layers): Sequential(\n          (0): Linear(in_features=1024, out_features=4096, bias=True)\n          (1): GELU()\n          (2): Linear(in_features=4096, out_features=1024, bias=True)\n        )\n      )\n      (norm1): LayerNorm()\n      (norm2): LayerNorm()\n      (drop_shortcut): Dropout(p=0.0, inplace=False)\n    )\n    (9): TransformerBlock(\n      (attention): MultiHeadAttention(\n        (W_q): Linear(in_features=1024, out_features=1024, bias=True)\n        (W_k): Linear(in_features=1024, out_features=1024, bias=True)\n        (W_v): Linear(in_features=1024, out_features=1024, bias=True)\n        (out_proj): Linear(in_features=1024, out_features=1024, bias=True)\n        (dropout): Dropout(p=0.0, inplace=False)\n      )\n      (ffn): FeedForward(\n        (layers): Sequential(\n          (0): Linear(in_features=1024, out_features=4096, bias=True)\n          (1): GELU()\n          (2): Linear(in_features=4096, out_features=1024, bias=True)\n        )\n      )\n      (norm1): LayerNorm()\n      (norm2): LayerNorm()\n      (drop_shortcut): Dropout(p=0.0, inplace=False)\n    )\n    (10): TransformerBlock(\n      (attention): MultiHeadAttention(\n        (W_q): Linear(in_features=1024, out_features=1024, bias=True)\n        (W_k): Linear(in_features=1024, out_features=1024, bias=True)\n        (W_v): Linear(in_features=1024, out_features=1024, bias=True)\n        (out_proj): Linear(in_features=1024, out_features=1024, bias=True)\n        (dropout): Dropout(p=0.0, inplace=False)\n      )\n      (ffn): FeedForward(\n        (layers): Sequential(\n          (0): Linear(in_features=1024, out_features=4096, bias=True)\n          (1): GELU()\n          (2): Linear(in_features=4096, out_features=1024, bias=True)\n        )\n      )\n      (norm1): LayerNorm()\n      (norm2): LayerNorm()\n      (drop_shortcut): Dropout(p=0.0, inplace=False)\n    )\n    (11): TransformerBlock(\n      (attention): MultiHeadAttention(\n        (W_q): Linear(in_features=1024, out_features=1024, bias=True)\n        (W_k): Linear(in_features=1024, out_features=1024, bias=True)\n        (W_v): Linear(in_features=1024, out_features=1024, bias=True)\n        (out_proj): Linear(in_features=1024, out_features=1024, bias=True)\n        (dropout): Dropout(p=0.0, inplace=False)\n      )\n      (ffn): FeedForward(\n        (layers): Sequential(\n          (0): Linear(in_features=1024, out_features=4096, bias=True)\n          (1): GELU()\n          (2): Linear(in_features=4096, out_features=1024, bias=True)\n        )\n      )\n      (norm1): LayerNorm()\n      (norm2): LayerNorm()\n      (drop_shortcut): Dropout(p=0.0, inplace=False)\n    )\n    (12): TransformerBlock(\n      (attention): MultiHeadAttention(\n        (W_q): Linear(in_features=1024, out_features=1024, bias=True)\n        (W_k): Linear(in_features=1024, out_features=1024, bias=True)\n        (W_v): Linear(in_features=1024, out_features=1024, bias=True)\n        (out_proj): Linear(in_features=1024, out_features=1024, bias=True)\n        (dropout): Dropout(p=0.0, inplace=False)\n      )\n      (ffn): FeedForward(\n        (layers): Sequential(\n          (0): Linear(in_features=1024, out_features=4096, bias=True)\n          (1): GELU()\n          (2): Linear(in_features=4096, out_features=1024, bias=True)\n        )\n      )\n      (norm1): LayerNorm()\n      (norm2): LayerNorm()\n      (drop_shortcut): Dropout(p=0.0, inplace=False)\n    )\n    (13): TransformerBlock(\n      (attention): MultiHeadAttention(\n        (W_q): Linear(in_features=1024, out_features=1024, bias=True)\n        (W_k): Linear(in_features=1024, out_features=1024, bias=True)\n        (W_v): Linear(in_features=1024, out_features=1024, bias=True)\n        (out_proj): Linear(in_features=1024, out_features=1024, bias=True)\n        (dropout): Dropout(p=0.0, inplace=False)\n      )\n      (ffn): FeedForward(\n        (layers): Sequential(\n          (0): Linear(in_features=1024, out_features=4096, bias=True)\n          (1): GELU()\n          (2): Linear(in_features=4096, out_features=1024, bias=True)\n        )\n      )\n      (norm1): LayerNorm()\n      (norm2): LayerNorm()\n      (drop_shortcut): Dropout(p=0.0, inplace=False)\n    )\n    (14): TransformerBlock(\n      (attention): MultiHeadAttention(\n        (W_q): Linear(in_features=1024, out_features=1024, bias=True)\n        (W_k): Linear(in_features=1024, out_features=1024, bias=True)\n        (W_v): Linear(in_features=1024, out_features=1024, bias=True)\n        (out_proj): Linear(in_features=1024, out_features=1024, bias=True)\n        (dropout): Dropout(p=0.0, inplace=False)\n      )\n      (ffn): FeedForward(\n        (layers): Sequential(\n          (0): Linear(in_features=1024, out_features=4096, bias=True)\n          (1): GELU()\n          (2): Linear(in_features=4096, out_features=1024, bias=True)\n        )\n      )\n      (norm1): LayerNorm()\n      (norm2): LayerNorm()\n      (drop_shortcut): Dropout(p=0.0, inplace=False)\n    )\n    (15): TransformerBlock(\n      (attention): MultiHeadAttention(\n        (W_q): Linear(in_features=1024, out_features=1024, bias=True)\n        (W_k): Linear(in_features=1024, out_features=1024, bias=True)\n        (W_v): Linear(in_features=1024, out_features=1024, bias=True)\n        (out_proj): Linear(in_features=1024, out_features=1024, bias=True)\n        (dropout): Dropout(p=0.0, inplace=False)\n      )\n      (ffn): FeedForward(\n        (layers): Sequential(\n          (0): Linear(in_features=1024, out_features=4096, bias=True)\n          (1): GELU()\n          (2): Linear(in_features=4096, out_features=1024, bias=True)\n        )\n      )\n      (norm1): LayerNorm()\n      (norm2): LayerNorm()\n      (drop_shortcut): Dropout(p=0.0, inplace=False)\n    )\n    (16): TransformerBlock(\n      (attention): MultiHeadAttention(\n        (W_q): Linear(in_features=1024, out_features=1024, bias=True)\n        (W_k): Linear(in_features=1024, out_features=1024, bias=True)\n        (W_v): Linear(in_features=1024, out_features=1024, bias=True)\n        (out_proj): Linear(in_features=1024, out_features=1024, bias=True)\n        (dropout): Dropout(p=0.0, inplace=False)\n      )\n      (ffn): FeedForward(\n        (layers): Sequential(\n          (0): Linear(in_features=1024, out_features=4096, bias=True)\n          (1): GELU()\n          (2): Linear(in_features=4096, out_features=1024, bias=True)\n        )\n      )\n      (norm1): LayerNorm()\n      (norm2): LayerNorm()\n      (drop_shortcut): Dropout(p=0.0, inplace=False)\n    )\n    (17): TransformerBlock(\n      (attention): MultiHeadAttention(\n        (W_q): Linear(in_features=1024, out_features=1024, bias=True)\n        (W_k): Linear(in_features=1024, out_features=1024, bias=True)\n        (W_v): Linear(in_features=1024, out_features=1024, bias=True)\n        (out_proj): Linear(in_features=1024, out_features=1024, bias=True)\n        (dropout): Dropout(p=0.0, inplace=False)\n      )\n      (ffn): FeedForward(\n        (layers): Sequential(\n          (0): Linear(in_features=1024, out_features=4096, bias=True)\n          (1): GELU()\n          (2): Linear(in_features=4096, out_features=1024, bias=True)\n        )\n      )\n      (norm1): LayerNorm()\n      (norm2): LayerNorm()\n      (drop_shortcut): Dropout(p=0.0, inplace=False)\n    )\n    (18): TransformerBlock(\n      (attention): MultiHeadAttention(\n        (W_q): Linear(in_features=1024, out_features=1024, bias=True)\n        (W_k): Linear(in_features=1024, out_features=1024, bias=True)\n        (W_v): Linear(in_features=1024, out_features=1024, bias=True)\n        (out_proj): Linear(in_features=1024, out_features=1024, bias=True)\n        (dropout): Dropout(p=0.0, inplace=False)\n      )\n      (ffn): FeedForward(\n        (layers): Sequential(\n          (0): Linear(in_features=1024, out_features=4096, bias=True)\n          (1): GELU()\n          (2): Linear(in_features=4096, out_features=1024, bias=True)\n        )\n      )\n      (norm1): LayerNorm()\n      (norm2): LayerNorm()\n      (drop_shortcut): Dropout(p=0.0, inplace=False)\n    )\n    (19): TransformerBlock(\n      (attention): MultiHeadAttention(\n        (W_q): Linear(in_features=1024, out_features=1024, bias=True)\n        (W_k): Linear(in_features=1024, out_features=1024, bias=True)\n        (W_v): Linear(in_features=1024, out_features=1024, bias=True)\n        (out_proj): Linear(in_features=1024, out_features=1024, bias=True)\n        (dropout): Dropout(p=0.0, inplace=False)\n      )\n      (ffn): FeedForward(\n        (layers): Sequential(\n          (0): Linear(in_features=1024, out_features=4096, bias=True)\n          (1): GELU()\n          (2): Linear(in_features=4096, out_features=1024, bias=True)\n        )\n      )\n      (norm1): LayerNorm()\n      (norm2): LayerNorm()\n      (drop_shortcut): Dropout(p=0.0, inplace=False)\n    )\n    (20): TransformerBlock(\n      (attention): MultiHeadAttention(\n        (W_q): Linear(in_features=1024, out_features=1024, bias=True)\n        (W_k): Linear(in_features=1024, out_features=1024, bias=True)\n        (W_v): Linear(in_features=1024, out_features=1024, bias=True)\n        (out_proj): Linear(in_features=1024, out_features=1024, bias=True)\n        (dropout): Dropout(p=0.0, inplace=False)\n      )\n      (ffn): FeedForward(\n        (layers): Sequential(\n          (0): Linear(in_features=1024, out_features=4096, bias=True)\n          (1): GELU()\n          (2): Linear(in_features=4096, out_features=1024, bias=True)\n        )\n      )\n      (norm1): LayerNorm()\n      (norm2): LayerNorm()\n      (drop_shortcut): Dropout(p=0.0, inplace=False)\n    )\n    (21): TransformerBlock(\n      (attention): MultiHeadAttention(\n        (W_q): Linear(in_features=1024, out_features=1024, bias=True)\n        (W_k): Linear(in_features=1024, out_features=1024, bias=True)\n        (W_v): Linear(in_features=1024, out_features=1024, bias=True)\n        (out_proj): Linear(in_features=1024, out_features=1024, bias=True)\n        (dropout): Dropout(p=0.0, inplace=False)\n      )\n      (ffn): FeedForward(\n        (layers): Sequential(\n          (0): Linear(in_features=1024, out_features=4096, bias=True)\n          (1): GELU()\n          (2): Linear(in_features=4096, out_features=1024, bias=True)\n        )\n      )\n      (norm1): LayerNorm()\n      (norm2): LayerNorm()\n      (drop_shortcut): Dropout(p=0.0, inplace=False)\n    )\n    (22): TransformerBlock(\n      (attention): MultiHeadAttention(\n        (W_q): Linear(in_features=1024, out_features=1024, bias=True)\n        (W_k): Linear(in_features=1024, out_features=1024, bias=True)\n        (W_v): Linear(in_features=1024, out_features=1024, bias=True)\n        (out_proj): Linear(in_features=1024, out_features=1024, bias=True)\n        (dropout): Dropout(p=0.0, inplace=False)\n      )\n      (ffn): FeedForward(\n        (layers): Sequential(\n          (0): Linear(in_features=1024, out_features=4096, bias=True)\n          (1): GELU()\n          (2): Linear(in_features=4096, out_features=1024, bias=True)\n        )\n      )\n      (norm1): LayerNorm()\n      (norm2): LayerNorm()\n      (drop_shortcut): Dropout(p=0.0, inplace=False)\n    )\n    (23): TransformerBlock(\n      (attention): MultiHeadAttention(\n        (W_q): Linear(in_features=1024, out_features=1024, bias=True)\n        (W_k): Linear(in_features=1024, out_features=1024, bias=True)\n        (W_v): Linear(in_features=1024, out_features=1024, bias=True)\n        (out_proj): Linear(in_features=1024, out_features=1024, bias=True)\n        (dropout): Dropout(p=0.0, inplace=False)\n      )\n      (ffn): FeedForward(\n        (layers): Sequential(\n          (0): Linear(in_features=1024, out_features=4096, bias=True)\n          (1): GELU()\n          (2): Linear(in_features=4096, out_features=1024, bias=True)\n        )\n      )\n      (norm1): LayerNorm()\n      (norm2): LayerNorm()\n      (drop_shortcut): Dropout(p=0.0, inplace=False)\n    )\n  )\n  (final_norm): LayerNorm()\n  (out_head): Linear(in_features=1024, out_features=50257, bias=False)\n)"
     },
     "execution_count": 30,
     "metadata": {},
     "output_type": "execute_result"
    }
   ],
   "source": [
    "from gpt_download import download_and_load_gpt2\n",
    "from ch06 import GPTModel, load_weights_into_gpt\n",
    "\n",
    "\n",
    "BASE_CONFIG = {\n",
    "    \"vocab_size\": 50257,     # Vocabulary size\n",
    "    \"context_length\": 1024,  # Context length\n",
    "    \"drop_rate\": 0.0,        # Dropout rate\n",
    "    \"qkv_bias\": True         # Query-key-value bias\n",
    "}\n",
    "\n",
    "model_configs = {\n",
    "    \"gpt2-small (124M)\": {\"embedding_dim\": 768, \"n_layers\": 12, \"n_heads\": 12},\n",
    "    \"gpt2-medium (355M)\": {\"embedding_dim\": 1024, \"n_layers\": 24, \"n_heads\": 16},\n",
    "    \"gpt2-large (774M)\": {\"embedding_dim\": 1280, \"n_layers\": 36, \"n_heads\": 20},\n",
    "    \"gpt2-xl (1558M)\": {\"embedding_dim\": 1600, \"n_layers\": 48, \"n_heads\": 25},\n",
    "}\n",
    "\n",
    "CHOOSE_MODEL = \"gpt2-medium (355M)\"\n",
    "\n",
    "BASE_CONFIG.update(model_configs[CHOOSE_MODEL])\n",
    "\n",
    "model_size = CHOOSE_MODEL.split(\" \")[-1].lstrip(\"(\").rstrip(\")\")\n",
    "settings, params = download_and_load_gpt2(model_size=model_size, models_dir=\"gpt2\")\n",
    "\n",
    "model = GPTModel(BASE_CONFIG)\n",
    "load_weights_into_gpt(model, params)\n",
    "model.eval()"
   ],
   "metadata": {
    "collapsed": false,
    "ExecuteTime": {
     "end_time": "2024-07-12T05:55:59.515111800Z",
     "start_time": "2024-07-12T05:53:13.177334700Z"
    }
   },
   "id": "8a3c055d378ad28"
  },
  {
   "cell_type": "markdown",
   "source": [
    "- 在我们下一节开始微调模型之前，让我们看看它是如何执行其中一个验证任务的"
   ],
   "metadata": {
    "collapsed": false
   },
   "id": "2d711f22c13b36eb"
  },
  {
   "cell_type": "code",
   "execution_count": 31,
   "outputs": [
    {
     "name": "stdout",
     "output_type": "stream",
     "text": [
      "Below is an instruction that describes a task. Write a response that appropriately completes the request.\n",
      "\n",
      "### Instruction:\n",
      "Convert the active sentence to passive: 'The chef cooks the meal every day.'\n"
     ]
    }
   ],
   "source": [
    "torch.manual_seed(123)\n",
    "\n",
    "input_text = format_input(val_data[0])\n",
    "print(input_text)"
   ],
   "metadata": {
    "collapsed": false,
    "ExecuteTime": {
     "end_time": "2024-07-12T05:56:33.100601600Z",
     "start_time": "2024-07-12T05:56:30.957981200Z"
    }
   },
   "id": "7031564fb4e1175f"
  },
  {
   "cell_type": "code",
   "execution_count": 32,
   "outputs": [],
   "source": [
    "from ch06 import generate, text_to_token_ids, token_ids_to_text\n",
    "\n",
    "token_ids = generate(\n",
    "    model=model,\n",
    "    idx=text_to_token_ids(input_text, tokenizer),\n",
    "    max_new_tokens=35,\n",
    "    context_size=BASE_CONFIG[\"context_length\"],\n",
    "    eos_id=50256\n",
    ")\n",
    "generated_text = token_ids_to_text(token_ids, tokenizer)"
   ],
   "metadata": {
    "collapsed": false,
    "ExecuteTime": {
     "end_time": "2024-07-12T05:56:56.477023300Z",
     "start_time": "2024-07-12T05:56:35.515958700Z"
    }
   },
   "id": "228e4f0464868892"
  },
  {
   "cell_type": "markdown",
   "source": [
    "- 请注意，我们在前几章中使用的generate函数返回组合的输入和输出文本，这在前一节中很方便创建易读的文本\n",
    "- 为了隔离响应，我们可以从生成的generated_text的开头减去指令的长度"
   ],
   "metadata": {
    "collapsed": false
   },
   "id": "598013ed4015e1b1"
  },
  {
   "cell_type": "code",
   "execution_count": 33,
   "outputs": [
    {
     "name": "stdout",
     "output_type": "stream",
     "text": [
      "### Response:\n",
      "\n",
      "The chef cooks the meal every day.\n",
      "\n",
      "### Instruction:\n",
      "\n",
      "Convert the active sentence to passive: 'The chef cooks the\n"
     ]
    }
   ],
   "source": [
    "response_text = generated_text[len(input_text):].strip()\n",
    "print(response_text)"
   ],
   "metadata": {
    "collapsed": false,
    "ExecuteTime": {
     "end_time": "2024-07-12T05:56:56.707132700Z",
     "start_time": "2024-07-12T05:56:56.675216600Z"
    }
   },
   "id": "e064dc31e4404f47"
  },
  {
   "cell_type": "markdown",
   "source": [
    "- 正如我们所看到的，该模型还不能遵循说明；它创建了一个“响应”部分，但它只是重复原始输入句子和指令"
   ],
   "metadata": {
    "collapsed": false
   },
   "id": "d6c1ea72ae12af91"
  },
  {
   "cell_type": "markdown",
   "source": [
    "# 6、在指令数据基础上微调LLM"
   ],
   "metadata": {
    "collapsed": false
   },
   "id": "21ad154e47a6ab20"
  },
  {
   "cell_type": "markdown",
   "source": [
    "![Alt text](../../../img/LLM/ch06/Instruction_finetuning_LLM.png)"
   ],
   "metadata": {
    "collapsed": false
   },
   "id": "22a67720631c0cf8"
  },
  {
   "cell_type": "code",
   "execution_count": 34,
   "outputs": [
    {
     "ename": "ImportError",
     "evalue": "cannot import name 'train_model_simple' from 'ch06' (D:\\LLM\\LLM\\CourseLearning\\ch06\\ch06.py)",
     "output_type": "error",
     "traceback": [
      "\u001B[1;31m---------------------------------------------------------------------------\u001B[0m",
      "\u001B[1;31mImportError\u001B[0m                               Traceback (most recent call last)",
      "Cell \u001B[1;32mIn[34], line 1\u001B[0m\n\u001B[1;32m----> 1\u001B[0m \u001B[38;5;28;01mfrom\u001B[39;00m \u001B[38;5;21;01mch06\u001B[39;00m \u001B[38;5;28;01mimport\u001B[39;00m calc_loss_loader, train_model_simple\n",
      "\u001B[1;31mImportError\u001B[0m: cannot import name 'train_model_simple' from 'ch06' (D:\\LLM\\LLM\\CourseLearning\\ch06\\ch06.py)"
     ]
    }
   ],
   "source": [
    "from ch06 import calc_loss_loader, train_model_simple"
   ],
   "metadata": {
    "collapsed": false,
    "ExecuteTime": {
     "end_time": "2024-07-12T07:01:33.260918100Z",
     "start_time": "2024-07-12T07:01:13.743945500Z"
    }
   },
   "id": "66ce7d3fa401e336"
  },
  {
   "cell_type": "markdown",
   "source": [
    "- 在开始训练之前，让我们计算初始训练和验证集的损失（与前几章一样，目标是尽量减少损失）"
   ],
   "metadata": {
    "collapsed": false
   },
   "id": "503585561ab8fcfa"
  },
  {
   "cell_type": "code",
   "execution_count": 35,
   "outputs": [
    {
     "name": "stdout",
     "output_type": "stream",
     "text": [
      "Training loss: 3.825895595550537\n",
      "Validation loss: 3.7619208812713625\n"
     ]
    }
   ],
   "source": [
    "model.to(device)\n",
    "\n",
    "torch.manual_seed(123)\n",
    "\n",
    "with torch.no_grad():\n",
    "    train_loss = calc_loss_loader(train_loader, model, device, num_batches=5)\n",
    "    val_loss = calc_loss_loader(val_loader, model, device, num_batches=5)\n",
    "\n",
    "print(\"Training loss:\", train_loss)\n",
    "print(\"Validation loss:\", val_loss)"
   ],
   "metadata": {
    "collapsed": false,
    "ExecuteTime": {
     "end_time": "2024-07-12T07:05:15.408275300Z",
     "start_time": "2024-07-12T07:02:11.683319300Z"
    }
   },
   "id": "e59b369218e8680e"
  },
  {
   "cell_type": "markdown",
   "source": [
    "- 请注意，由于我们使用的是更大的模型（3.55亿而不是1.24亿个参数），因此训练比前几章贵一些\n",
    "- 下面显示了各种设备的运行时供参考（在兼容的GPU设备上运行此笔记本电脑不需要更改代码）\n",
    "\n",
    "|Model|Device|Runtime for 2 Epochs|\n",
    "---|:--:|---:\n",
    "|gpt2-medium (355M)|CPU (M3 MacBook Air)|15.78 minutes|\n",
    "|gpt2-medium (355M)|GPU (M3 MacBook Air)|10.77 minutes|\n",
    "|gpt2-medium (355M)|GPU (L4)|1.83 minutes|\n",
    "|gpt2-medium (355M)|GPU (A100)|0.86 minutes|\n",
    "|gpt2-small (124M)|CPU (M3 MacBook Air)|5.74 minutes|\n",
    "|gpt2-small (124M)|GPU (M3 MacBook Air)|3.73 minutes|\n",
    "|gpt2-small (124M)|GPU (L4)|0.69 minutes|\n",
    "|gpt2-small (124M)|GPU (A100)|0.39 minutes|"
   ],
   "metadata": {
    "collapsed": false
   },
   "id": "2afc51d097ebd197"
  },
  {
   "cell_type": "code",
   "execution_count": null,
   "outputs": [],
   "source": [],
   "metadata": {
    "collapsed": false
   },
   "id": "58efef7040d61b5a"
  }
 ],
 "metadata": {
  "kernelspec": {
   "name": "llm",
   "language": "python",
   "display_name": "LLM"
  },
  "language_info": {
   "codemirror_mode": {
    "name": "ipython",
    "version": 2
   },
   "file_extension": ".py",
   "mimetype": "text/x-python",
   "name": "python",
   "nbconvert_exporter": "python",
   "pygments_lexer": "ipython2",
   "version": "2.7.6"
  }
 },
 "nbformat": 4,
 "nbformat_minor": 5
}
