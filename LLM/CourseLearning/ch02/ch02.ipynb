{
 "cells": [
  {
   "cell_type": "markdown",
   "source": [
    "# 搭建注意力机制"
   ],
   "metadata": {
    "collapsed": false
   },
   "id": "3548845405ffc714"
  },
  {
   "cell_type": "code",
   "execution_count": 2,
   "outputs": [
    {
     "name": "stdout",
     "output_type": "stream",
     "text": [
      "torch version: 2.3.1\n"
     ]
    }
   ],
   "source": [
    "from importlib.metadata import version\n",
    "\n",
    "print(\"torch version:\", version(\"torch\"))"
   ],
   "metadata": {
    "collapsed": false,
    "ExecuteTime": {
     "end_time": "2024-06-15T02:19:52.077193200Z",
     "start_time": "2024-06-15T02:19:52.060211100Z"
    }
   },
   "id": "c262a7e82608e7eb"
  },
  {
   "cell_type": "markdown",
   "source": [
    "- 本章涵盖注意力机制，LLM的引擎：\n",
    "\n",
    "![Alt text](../../../img/LLM/ch02/engine_of_LLMs.png)\n",
    "\n",
    "![Alt text](../../../img/LLM/ch02/Attention_Mechanism.png)"
   ],
   "metadata": {
    "collapsed": false
   },
   "id": "f37c0a17118a6fd1"
  },
  {
   "cell_type": "markdown",
   "source": [
    "# 1、长序列建模问题"
   ],
   "metadata": {
    "collapsed": false
   },
   "id": "7abf9b36882a26cd"
  },
  {
   "cell_type": "markdown",
   "source": [
    "- 由于源语言和目标语言之间的语法结构不同，逐字翻译文本是不可行的：\n",
    "\n",
    "![Alt text](../../../img/LLM/ch02/word2word.png)\n"
   ],
   "metadata": {
    "collapsed": false
   },
   "id": "66a7643cc5359378"
  },
  {
   "cell_type": "markdown",
   "source": [
    "- 在引入Transformer模型之前，编码器-解码器RNN通常用于机器翻译任务\n",
    "- 在这种设置中，编码器使用隐藏状态（神经网络中的一种中间层）处理源语言中的一系列标记，以生成整个输入序列的压缩表示：\n",
    "\n",
    "![Alt text](../../../img/LLM/ch02/input_series.png)"
   ],
   "metadata": {
    "collapsed": false
   },
   "id": "6f7430ef183b925b"
  },
  {
   "cell_type": "markdown",
   "source": [
    "# 2、利用注意力机制捕获数据相关性"
   ],
   "metadata": {
    "collapsed": false
   },
   "id": "8f91752ec07a0cdd"
  },
  {
   "cell_type": "markdown",
   "source": [
    "- 通过注意力机制，网络的文本生成解码器段能够选择性地访问所有输入token，这意味着在特定输出token的生成中，某些输入token比其他输入token具有更大的意义：\n",
    "\n",
    "![Alt text](../../../img/LLM/ch02/attention_tokens.png)\n",
    "\n",
    "- 变换器中的自注意是一种技术，旨在通过使序列中的每个位置能够参与并确定同一序列中其他每个位置的相关性来增强输入表示\n",
    "\n",
    "![Alt text](../../../img/LLM/ch02/self-attention.png)\n"
   ],
   "metadata": {
    "collapsed": false
   },
   "id": "6dd9cd74ed02b5a3"
  },
  {
   "cell_type": "markdown",
   "source": [
    "# 3、以self-attention的方式处理输入的不同部分"
   ],
   "metadata": {
    "collapsed": false
   },
   "id": "a85cfed9d61b855f"
  },
  {
   "cell_type": "markdown",
   "source": [
    "## 3.1、一种没有可训练权重的简单自注意机制"
   ],
   "metadata": {
    "collapsed": false
   },
   "id": "6848cb13b6a3753a"
  },
  {
   "cell_type": "markdown",
   "source": [
    "- 本节解释了自我注意力机制的一个非常简化的变体，它不包含任何可训练的权重\n",
    "- 这纯粹是为了说明，而不是transformers中使用的注意力机制\n",
    "- 下一节，第3.3.2节，将扩展这种简单的注意力机制，以实现真正的自我注意力机制\n",
    "- 假设我们得到一个输入序列 $x^{(1)}$ 到 $x^{(n)}$\n",
    "     - 输入是一个文本（例如，像“你的旅程从第一步开始”这样的句子），它已经被转换为token embedding\n",
    "     - 例如，$x^{(1)}$是表示单词“Your”的d维向量，依此类推\n",
    "- 目标：计算上下文向量$z^{(i)}$对于$x^{(1)}$到$x^{(T)}$序列中的$x^{(i)}$($x$和$z$具有相同的尺寸)\n",
    "     - 上下文矢量$z^{(i)}$是输入$x^{(1)}$到$x^{(T)}$序列的加权和\n",
    "     - 上下文向量是特定于某个输入的“上下文”\n",
    "        - 与其将$x^{(1)}$作为任意输入token的占位符，让我们考虑第二个输入$x^{(2)}$\n",
    "        - 继续一个具体的例子，而不是占位符$z^{(1)}$, 我们考虑第二输出上下文向量,$z^{(2)}$\n",
    "        - 第二上下文向量,$z^{(2)}$,是所有输入的加权和$x^{(1)}$到$x^{(T)}$相对于第二输入元素$x^{(2)}$加权\n",
    "        - 注意力权重是在计算$z^{(2)}$时确定每个输入元素对加权和的贡献程度的权重\n",
    "        - 简而言之，将$z^{(2)}$作为$x^{(2)}$修改版本,它还包含与手头给定任务相关的所有其他输入元素的信息\n",
    "     \n",
    "![Alt text](../../../img/LLM/ch02/compute_z2.png)\n",
    "\n",
    "- （请注意，此图中的数字被截断为小数点后的一位数字，以减少视觉混乱；同样，其他数字也可能包含截断值）\n",
    "- 按照惯例，未归一化的注意力权重被称为“注意力得分”，而归一化的注意力得分加起来为1，则被称作“注意力权重”\n",
    "- Step1:计算未归一化的注意力分数$w$\n",
    "- 假设我们使用第二个输入令牌作为查询，即,$q^{(2)}$=$x^{(2)}$,我们通过点积计算未规范化的注意力得分：\n",
    "     - $w_{21}$=$x^{(1)}$$q^{(2)T}$\n",
    "     - $w_{22}$=$x^{(2)}$$q^{(2)T}$\n",
    "     - $w_{23}$=$x^{(3)}$$q^{(2)T}$\n",
    "     - ...\n",
    "     - $w_{2n}$=$x^{(n)}$$q^{(2)T}$\n",
    "- 希腊字母 $w$ 是用来象征未规范的注意力分数的\n",
    "     - $w_{21}$中的下标“21”意味着输入序列元素2被用作针对输入序列元素1的查询\n",
    "- 假设我们有以下输入句子，如第3章所述，它已经嵌入到三维向量中（为了便于说明，我们在这里使用了一个非常小的嵌入维度，这样它就可以在没有换行的情况下嵌入到页面上）："
   ],
   "metadata": {
    "collapsed": false
   },
   "id": "3706506be63f0303"
  },
  {
   "cell_type": "code",
   "execution_count": 3,
   "outputs": [],
   "source": [
    "import torch\n",
    "\n",
    "inputs = torch.tensor(\n",
    "   [[0.43, 0.15, 0.89], # Your     (x^1)\n",
    "    [0.55, 0.87, 0.66], # journey  (x^2)\n",
    "    [0.57, 0.85, 0.64], # starts   (x^3)\n",
    "    [0.22, 0.58, 0.33], # with     (x^4)\n",
    "    [0.77, 0.25, 0.10], # one      (x^5)\n",
    "    [0.05, 0.80, 0.55]] # step     (x^6)\n",
    ")"
   ],
   "metadata": {
    "collapsed": false,
    "ExecuteTime": {
     "end_time": "2024-06-15T02:20:12.666790900Z",
     "start_time": "2024-06-15T02:20:06.768584Z"
    }
   },
   "id": "cf07c1f7a81256b1"
  },
  {
   "cell_type": "markdown",
   "source": [
    "- 我们遵循常见的机器学习和深度学习惯例，其中训练示例表示为行，特征值表示为列；在上述张量的情况下，每行表示一个单词，每列表示一个嵌入维度\n",
    "- 本节的主要目的是演示上下文向量 $z^{(2)}$ 使用第二输入序列$x^{(2)}$来计算,作为查询\n",
    "- 该图描绘了这个过程的初始步骤，包括计算$x^{(2)}$之间的注意力得分ω以及通过点积运算的所有其他输入元素\n",
    "\n",
    "![Alt text](../../../img/LLM/ch02/attention_score_initial_process.png)\n",
    "\n",
    "- 我们使用输入序列元素2,$x^{(2)}$,作为计算上下文向量的示例$z^{(2)}$;在本节的后面,我们将把它推广到计算所有上下文向量。\n",
    "- 第一步是通过计算查询$x^{(2)}$之间的点积来计算未规范化的注意力得分以及所有其他输入token："
   ],
   "metadata": {
    "collapsed": false
   },
   "id": "f30d8e249110ee30"
  },
  {
   "cell_type": "code",
   "execution_count": 4,
   "outputs": [
    {
     "name": "stdout",
     "output_type": "stream",
     "text": [
      "tensor([0.9544, 1.4950, 1.4754, 0.8434, 0.7070, 1.0865])\n"
     ]
    }
   ],
   "source": [
    "query = inputs[1]\n",
    "\n",
    "attention_scores_2 = torch.empty(inputs.shape[0])\n",
    "\n",
    "for i, x_i in enumerate(inputs):\n",
    "    attention_scores_2[i] = torch.dot(x_i, query)\n",
    "\n",
    "print(attention_scores_2)"
   ],
   "metadata": {
    "collapsed": false,
    "ExecuteTime": {
     "end_time": "2024-06-15T02:20:16.117346900Z",
     "start_time": "2024-06-15T02:20:16.052521Z"
    }
   },
   "id": "fbc42b895fc72a5e"
  },
  {
   "cell_type": "markdown",
   "source": [
    "- 旁注：点积本质上是两个矢量元素相乘并求和所得乘积的简写"
   ],
   "metadata": {
    "collapsed": false
   },
   "id": "d2d765e8fbd42c53"
  },
  {
   "cell_type": "code",
   "execution_count": 5,
   "outputs": [
    {
     "name": "stdout",
     "output_type": "stream",
     "text": [
      "tensor(0.9544)\n",
      "tensor(0.9544)\n"
     ]
    }
   ],
   "source": [
    "res = 0.\n",
    "\n",
    "for idx, element in enumerate(inputs[0]):\n",
    "    res += inputs[0][idx] * query[idx]\n",
    "    \n",
    "print(res)\n",
    "print(torch.dot(inputs[0], query))"
   ],
   "metadata": {
    "collapsed": false,
    "ExecuteTime": {
     "end_time": "2024-06-15T02:20:19.881761700Z",
     "start_time": "2024-06-15T02:20:19.871785500Z"
    }
   },
   "id": "10d1be72e351911a"
  },
  {
   "cell_type": "markdown",
   "source": [
    "- 步骤2：将未规范化的注意力得分标准化（“omegas”, $w$)因此它们的总和为1\n",
    "- 这里有一种简单的方法，可以将未规范化的注意力得分归一化为1（这是一种惯例，对解释很有用，对训练稳定性很重要）\n",
    "\n",
    "![Alt text](../../../img/LLM/ch02/normalization_attention_scores.png)\n"
   ],
   "metadata": {
    "collapsed": false
   },
   "id": "a779c33e3d2231da"
  },
  {
   "cell_type": "code",
   "execution_count": 6,
   "outputs": [
    {
     "name": "stdout",
     "output_type": "stream",
     "text": [
      "Attention weights:tensor([0.1455, 0.2278, 0.2249, 0.1285, 0.1077, 0.1656])\n",
      "Sum:1.0000001192092896\n"
     ]
    }
   ],
   "source": [
    "attention_weights_2_tmp = attention_scores_2 / attention_scores_2.sum()\n",
    "\n",
    "print(f\"Attention weights:{attention_weights_2_tmp}\")\n",
    "print(f\"Sum:{attention_weights_2_tmp.sum()}\")"
   ],
   "metadata": {
    "collapsed": false,
    "ExecuteTime": {
     "end_time": "2024-06-15T02:20:22.401729700Z",
     "start_time": "2024-06-15T02:20:22.351865600Z"
    }
   },
   "id": "985e435c344dd4ad"
  },
  {
   "cell_type": "markdown",
   "source": [
    "- 然而，在实践中，使用softmax函数进行归一化是常见的，也是推荐的，该函数更善于处理极值，并且在训练期间具有更理想的梯度特性。\n",
    "- 这里是一个用于缩放的softmax函数的简单实现，它还对向量元素进行归一化，使它们的总和为1："
   ],
   "metadata": {
    "collapsed": false
   },
   "id": "f5bdec8e4e00070e"
  },
  {
   "cell_type": "code",
   "execution_count": 7,
   "outputs": [
    {
     "name": "stdout",
     "output_type": "stream",
     "text": [
      "Attention weights:tensor([0.1385, 0.2379, 0.2333, 0.1240, 0.1082, 0.1581])\n",
      "Sum:1.0\n"
     ]
    }
   ],
   "source": [
    "def softmax_naive(x):\n",
    "    return torch.exp(x) / torch.exp(x).sum(dim=0)\n",
    "\n",
    "attention_weights_2_naive = softmax_naive(attention_scores_2)\n",
    "\n",
    "print(f\"Attention weights:{attention_weights_2_naive}\")\n",
    "print(f\"Sum:{attention_weights_2_naive.sum()}\")"
   ],
   "metadata": {
    "collapsed": false,
    "ExecuteTime": {
     "end_time": "2024-06-15T02:20:26.520299200Z",
     "start_time": "2024-06-15T02:20:26.486390400Z"
    }
   },
   "id": "c2378afa9c6626ba"
  },
  {
   "cell_type": "markdown",
   "source": [
    "- 由于上溢和下溢问题，上面的naive实现可能会遇到大小输入值的数值不稳定性问题\n",
    "- 因此，在实践中，建议使用softmax的PyTorch实现，该实现已针对性能进行了高度优化："
   ],
   "metadata": {
    "collapsed": false
   },
   "id": "52e5b3b59e0f36cc"
  },
  {
   "cell_type": "code",
   "execution_count": 8,
   "outputs": [
    {
     "name": "stdout",
     "output_type": "stream",
     "text": [
      "Attention weights:tensor([0.1385, 0.2379, 0.2333, 0.1240, 0.1082, 0.1581])\n",
      "Sum:1.0\n"
     ]
    }
   ],
   "source": [
    "attention_weights_2 = torch.softmax(attention_scores_2, dim=0)\n",
    "\n",
    "print(f\"Attention weights:{attention_weights_2}\")\n",
    "print(f\"Sum:{attention_weights_2.sum()}\")"
   ],
   "metadata": {
    "collapsed": false,
    "ExecuteTime": {
     "end_time": "2024-06-15T02:20:30.433955800Z",
     "start_time": "2024-06-15T02:20:30.421957900Z"
    }
   },
   "id": "d974601f351dcd05"
  },
  {
   "cell_type": "markdown",
   "source": [
    "- 步骤3：计算上下文向量$z^{(2)}$通过乘以嵌入的输入token，使用注意力权重并对结果向量$x^{(2)}$求和：\n",
    "\n",
    "![Alt text](../../../img/LLM/ch02/attention_tokens_sum.png)"
   ],
   "metadata": {
    "collapsed": false
   },
   "id": "999c8856fa5af395"
  },
  {
   "cell_type": "code",
   "execution_count": 11,
   "outputs": [
    {
     "name": "stdout",
     "output_type": "stream",
     "text": [
      "tensor([0.4419, 0.6515, 0.5683])\n"
     ]
    }
   ],
   "source": [
    "query = inputs[1]\n",
    "\n",
    "context_vec_2 = torch.zeros(query.shape)\n",
    "for i, x_i in enumerate(inputs):\n",
    "    context_vec_2 += attention_weights_2[i] * x_i\n",
    "    \n",
    "print(context_vec_2)"
   ],
   "metadata": {
    "collapsed": false,
    "ExecuteTime": {
     "end_time": "2024-06-15T02:25:50.881659300Z",
     "start_time": "2024-06-15T02:25:50.863707200Z"
    }
   },
   "id": "6ca5ec127da263f1"
  },
  {
   "cell_type": "markdown",
   "source": [
    "## 3.2、计算所有输入token的注意力权重"
   ],
   "metadata": {
    "collapsed": false
   },
   "id": "e631cbe374c6db6"
  },
  {
   "cell_type": "markdown",
   "source": [
    "推广到所有输入序列标记：\n",
    "- 上面，我们计算了输入2的注意力权重和上下文向量（如下图中突出显示的行所示）\n",
    "- 接下来，我们将此计算推广到计算所有注意力权重和上下文向量\n",
    "\n",
    "![Alt text](../../../img/LLM/ch02/attention_weights_context_vectors.png)\n",
    "\n",
    "- （请注意，此图中的数字被截断为小数点后的两位数，以减少视觉混乱；每行中的值加起来应为1.0或100%；同样，其他图中的位数也被截断）\n",
    "- 在自我注意力中，这个过程从注意力得分的计算开始，随后对其进行归一化，以得出总共为1的注意力权重\n",
    "- 然后利用这些注意力权重通过输入的加权求和来生成上下文向量\n",
    "\n",
    "![Alt text](../../../img/LLM/ch02/attention_compute_process.png)\n",
    "\n",
    "- 将前面的步骤1应用于所有成对元素，以计算未规范化的注意力得分矩阵："
   ],
   "metadata": {
    "collapsed": false
   },
   "id": "b3a2ddb7dd96c3c1"
  },
  {
   "cell_type": "code",
   "execution_count": 12,
   "outputs": [
    {
     "name": "stdout",
     "output_type": "stream",
     "text": [
      "tensor([[0.9995, 0.9544, 0.9422, 0.4753, 0.4576, 0.6310],\n",
      "        [0.9544, 1.4950, 1.4754, 0.8434, 0.7070, 1.0865],\n",
      "        [0.9422, 1.4754, 1.4570, 0.8296, 0.7154, 1.0605],\n",
      "        [0.4753, 0.8434, 0.8296, 0.4937, 0.3474, 0.6565],\n",
      "        [0.4576, 0.7070, 0.7154, 0.3474, 0.6654, 0.2935],\n",
      "        [0.6310, 1.0865, 1.0605, 0.6565, 0.2935, 0.9450]])\n"
     ]
    }
   ],
   "source": [
    "attention_scores = torch.empty(6, 6)\n",
    "\n",
    "for i, x_i in enumerate(inputs):\n",
    "    for j, x_j in enumerate(inputs):\n",
    "        attention_scores[i, j] = torch.dot(x_i, x_j)\n",
    "\n",
    "print(attention_scores)"
   ],
   "metadata": {
    "collapsed": false,
    "ExecuteTime": {
     "end_time": "2024-06-15T02:26:05.441850500Z",
     "start_time": "2024-06-15T02:26:05.431878100Z"
    }
   },
   "id": "95e8a56252fbc8e"
  },
  {
   "cell_type": "code",
   "execution_count": 13,
   "outputs": [
    {
     "name": "stdout",
     "output_type": "stream",
     "text": [
      "tensor([[0.9995, 0.9544, 0.9422, 0.4753, 0.4576, 0.6310],\n",
      "        [0.9544, 1.4950, 1.4754, 0.8434, 0.7070, 1.0865],\n",
      "        [0.9422, 1.4754, 1.4570, 0.8296, 0.7154, 1.0605],\n",
      "        [0.4753, 0.8434, 0.8296, 0.4937, 0.3474, 0.6565],\n",
      "        [0.4576, 0.7070, 0.7154, 0.3474, 0.6654, 0.2935],\n",
      "        [0.6310, 1.0865, 1.0605, 0.6565, 0.2935, 0.9450]])\n"
     ]
    }
   ],
   "source": [
    "attention_scores = inputs @ inputs.T\n",
    "print(attention_scores)"
   ],
   "metadata": {
    "collapsed": false,
    "ExecuteTime": {
     "end_time": "2024-06-15T02:26:06.142012400Z",
     "start_time": "2024-06-15T02:26:06.113089900Z"
    }
   },
   "id": "263b353b38628988"
  },
  {
   "cell_type": "code",
   "execution_count": 14,
   "outputs": [
    {
     "name": "stdout",
     "output_type": "stream",
     "text": [
      "tensor([[0.2098, 0.2006, 0.1981, 0.1242, 0.1220, 0.1452],\n",
      "        [0.1385, 0.2379, 0.2333, 0.1240, 0.1082, 0.1581],\n",
      "        [0.1390, 0.2369, 0.2326, 0.1242, 0.1108, 0.1565],\n",
      "        [0.1435, 0.2074, 0.2046, 0.1462, 0.1263, 0.1720],\n",
      "        [0.1526, 0.1958, 0.1975, 0.1367, 0.1879, 0.1295],\n",
      "        [0.1385, 0.2184, 0.2128, 0.1420, 0.0988, 0.1896]])\n"
     ]
    }
   ],
   "source": [
    "attention_weights = torch.softmax(attention_scores, dim=-1)\n",
    "print(attention_weights)"
   ],
   "metadata": {
    "collapsed": false,
    "ExecuteTime": {
     "end_time": "2024-06-15T02:26:07.521168Z",
     "start_time": "2024-06-15T02:26:07.475290500Z"
    }
   },
   "id": "14b184889752f1e8"
  },
  {
   "cell_type": "code",
   "execution_count": 16,
   "outputs": [
    {
     "name": "stdout",
     "output_type": "stream",
     "text": [
      "Row 2 sum: 1.0\n",
      "All row sums: tensor([1.0000, 1.0000, 1.0000, 1.0000, 1.0000, 1.0000])\n"
     ]
    }
   ],
   "source": [
    "row_2_sum = sum([0.1385, 0.2379, 0.2333, 0.1240, 0.1082, 0.1581])\n",
    "print(\"Row 2 sum:\", row_2_sum)\n",
    "print(\"All row sums:\", attention_weights.sum(dim=-1))"
   ],
   "metadata": {
    "collapsed": false,
    "ExecuteTime": {
     "end_time": "2024-06-15T02:27:27.771935900Z",
     "start_time": "2024-06-15T02:27:27.688134400Z"
    }
   },
   "id": "7093972c24c8be8e"
  },
  {
   "cell_type": "markdown",
   "source": [
    "- 应用前面的步骤3来计算所有上下文向量"
   ],
   "metadata": {
    "collapsed": false
   },
   "id": "cc6ff8734affb800"
  },
  {
   "cell_type": "code",
   "execution_count": 17,
   "outputs": [
    {
     "name": "stdout",
     "output_type": "stream",
     "text": [
      "tensor([[0.4421, 0.5931, 0.5790],\n",
      "        [0.4419, 0.6515, 0.5683],\n",
      "        [0.4431, 0.6496, 0.5671],\n",
      "        [0.4304, 0.6298, 0.5510],\n",
      "        [0.4671, 0.5910, 0.5266],\n",
      "        [0.4177, 0.6503, 0.5645]])\n"
     ]
    }
   ],
   "source": [
    "all_context_vecs = attention_weights @ inputs\n",
    "print(all_context_vecs)"
   ],
   "metadata": {
    "collapsed": false,
    "ExecuteTime": {
     "end_time": "2024-06-15T02:27:50.254959500Z",
     "start_time": "2024-06-15T02:27:50.227006400Z"
    }
   },
   "id": "5fcab1bbd766087"
  },
  {
   "cell_type": "markdown",
   "source": [
    "- 作为健全性检查，之前计算的上下文向量 $z^{(2)}$=[0.4419, 0.6515, 0.5683] 可以在上面的第二行找到："
   ],
   "metadata": {
    "collapsed": false
   },
   "id": "3cdbec33582af6e1"
  },
  {
   "cell_type": "code",
   "execution_count": 18,
   "outputs": [
    {
     "name": "stdout",
     "output_type": "stream",
     "text": [
      "Previous 2nd context vector: tensor([0.4419, 0.6515, 0.5683])\n"
     ]
    }
   ],
   "source": [
    "print(\"Previous 2nd context vector:\", context_vec_2)"
   ],
   "metadata": {
    "collapsed": false,
    "ExecuteTime": {
     "end_time": "2024-06-15T02:28:47.328297Z",
     "start_time": "2024-06-15T02:28:47.295386700Z"
    }
   },
   "id": "e333ad65fdf0b873"
  },
  {
   "cell_type": "markdown",
   "source": [
    "# 4、用可训练的权重实现自我注意力机制"
   ],
   "metadata": {
    "collapsed": false
   },
   "id": "c0c5babd5f50bfe7"
  },
  {
   "cell_type": "markdown",
   "source": [
    "- 一个概念框架，说明了本节中发展的自我注意机制如何融入本书和本章的整体叙事和结构\n",
    "\n",
    "![Alt text](../../../img/LLM/ch02/selfattention_process.png)"
   ],
   "metadata": {
    "collapsed": false
   },
   "id": "7f145c47bfa385f9"
  },
  {
   "cell_type": "markdown",
   "source": [
    "## 4.1、逐步计算注意力权重"
   ],
   "metadata": {
    "collapsed": false
   },
   "id": "76909a72498fd9a8"
  },
  {
   "cell_type": "markdown",
   "source": [
    "- 在本节中，我们将实现在原始转换器架构、GPT模型和大多数其他流行的LLM中使用的自注意机制\n",
    "- 这种自我注意力机制也被称为“缩放点积注意力”\n",
    "- 总体思路与之前类似：\n",
    "    - 我们希望将上下文向量计算为特定于某个输入元素的输入向量的加权和\n",
    "    - 对于以上内容，我们需要注意力权重\n",
    "- 正如你将看到的，与前面介绍的基本注意力机制相比，只有细微的区别：\n",
    "    -  最显著的区别是引入了在模型训练期间更新的权重矩阵\n",
    "    - 这些可训练的权重矩阵至关重要，因此模型（特别是模型内部的注意力模块）可以学习生成“好”的上下文向量\n",
    "\n",
    "![Alt text](../../../img/LLM/ch02/self_attention_mechanism.png)\n",
    "\n",
    "- 逐步实现自我注意机制，我们将从引入三个训练权重矩阵开始,分别为$W_{q}$,$W_{k}$,$W_{v}$\n",
    "- 这三个矩阵用于投影嵌入的输入令牌，$x^{i}$，通过矩阵乘法转换为查询、键和值向量：\n",
    "    - query 向量:$q^{(i)}$=$W_{q}x^{(i)}$\n",
    "    - key 向量:$k^{(i)}$=$W_{k}x^{(i)}$\n",
    "    - value 向量:$v^{(i)}$=$W_{v}x^{(i)}$\n",
    "- 输入的嵌入维度 $x$ 和query向量 $q$ 可以相同也可以不同，这取决于模型的设计和具体实现\n",
    "- 在GPT模型中，输入和输出维度通常是相同的，但为了便于说明，为了更好地遵循计算，我们在这里选择了不同的输入和输出维度："
   ],
   "metadata": {
    "collapsed": false
   },
   "id": "5f4e6a6765289e94"
  },
  {
   "cell_type": "code",
   "execution_count": 19,
   "outputs": [],
   "source": [
    "x_2 = inputs[1] # second input element\n",
    "d_in = inputs.shape[1] # the input embedding size, d=3\n",
    "d_out = 2 # the output embedding size, d=2"
   ],
   "metadata": {
    "collapsed": false,
    "ExecuteTime": {
     "end_time": "2024-06-15T03:17:46.786258Z",
     "start_time": "2024-06-15T03:17:46.707855700Z"
    }
   },
   "id": "a03caf3c2f4a5461"
  },
  {
   "cell_type": "code",
   "execution_count": 20,
   "outputs": [],
   "source": [
    "torch.manual_seed(123)\n",
    "W_q = torch.nn.Parameter(torch.rand(d_in, d_out), requires_grad=False)\n",
    "W_k = torch.nn.Parameter(torch.rand(d_in, d_out), requires_grad=False)\n",
    "W_v = torch.nn.Parameter(torch.rand(d_in, d_out), requires_grad=False)"
   ],
   "metadata": {
    "collapsed": false,
    "ExecuteTime": {
     "end_time": "2024-06-15T03:18:45.291540800Z",
     "start_time": "2024-06-15T03:18:45.187819Z"
    }
   },
   "id": "d00fd8c8a07c9e79"
  },
  {
   "cell_type": "markdown",
   "source": [
    "- 接下来，我们计算查询、键和值向量"
   ],
   "metadata": {
    "collapsed": false
   },
   "id": "7470dec6c8fabc6d"
  },
  {
   "cell_type": "code",
   "execution_count": 21,
   "outputs": [
    {
     "name": "stdout",
     "output_type": "stream",
     "text": [
      "tensor([0.4306, 1.4551])\n"
     ]
    }
   ],
   "source": [
    "query_2 = x_2 @ W_q\n",
    "key_2 = x_2 @ W_k\n",
    "value_2 = x_2 @ W_v\n",
    "\n",
    "print(query_2)"
   ],
   "metadata": {
    "collapsed": false,
    "ExecuteTime": {
     "end_time": "2024-06-15T03:19:36.447850500Z",
     "start_time": "2024-06-15T03:19:36.350083900Z"
    }
   },
   "id": "aea89be719a8393a"
  },
  {
   "cell_type": "markdown",
   "source": [
    "- 如下所示，我们成功地将6个输入token从3D投影到2D嵌入空间："
   ],
   "metadata": {
    "collapsed": false
   },
   "id": "f6388900464bb69c"
  },
  {
   "cell_type": "code",
   "execution_count": 22,
   "outputs": [
    {
     "name": "stdout",
     "output_type": "stream",
     "text": [
      "key.shape:torch.Size([6, 2])\n",
      "values.shape:torch.Size([6, 2])\n"
     ]
    }
   ],
   "source": [
    "keys = inputs @ W_k\n",
    "values = inputs @ W_v\n",
    "\n",
    "print(f\"key.shape:{keys.shape}\")\n",
    "print(f\"values.shape:{values.shape}\")"
   ],
   "metadata": {
    "collapsed": false,
    "ExecuteTime": {
     "end_time": "2024-06-15T03:21:07.846866500Z",
     "start_time": "2024-06-15T03:21:07.807939500Z"
    }
   },
   "id": "b4a7deb151878cb3"
  },
  {
   "cell_type": "markdown",
   "source": [
    "- 在下一步，即第2步中，我们通过计算查询和每个关键向量之间的点积来计算未规范化的注意力得分\n",
    "\n",
    "![Alt text](../../../img/LLM/ch02/qkv_score.png)\n"
   ],
   "metadata": {
    "collapsed": false
   },
   "id": "cf008ed47748f2bc"
  },
  {
   "cell_type": "code",
   "execution_count": 23,
   "outputs": [
    {
     "name": "stdout",
     "output_type": "stream",
     "text": [
      "tensor(1.8524)\n"
     ]
    }
   ],
   "source": [
    "keys_2 = keys[1]\n",
    "attention_score_22 = query_2.dot(keys_2)\n",
    "print(attention_score_22)"
   ],
   "metadata": {
    "collapsed": false,
    "ExecuteTime": {
     "end_time": "2024-06-15T03:22:37.390801400Z",
     "start_time": "2024-06-15T03:22:37.354899500Z"
    }
   },
   "id": "e26ca72046e94aea"
  },
  {
   "cell_type": "markdown",
   "source": [
    "- 由于我们有6个输入，因此对于给定的查询向量，我们有6种注意力得分"
   ],
   "metadata": {
    "collapsed": false
   },
   "id": "ea200cf7a851d015"
  },
  {
   "cell_type": "code",
   "execution_count": 24,
   "outputs": [
    {
     "name": "stdout",
     "output_type": "stream",
     "text": [
      "tensor([1.2705, 1.8524, 1.8111, 1.0795, 0.5577, 1.5440])\n"
     ]
    }
   ],
   "source": [
    "attention_scores_2 = query_2 @ keys.T\n",
    "print(attention_scores_2)"
   ],
   "metadata": {
    "collapsed": false,
    "ExecuteTime": {
     "end_time": "2024-06-15T03:24:29.884872Z",
     "start_time": "2024-06-15T03:24:29.767188800Z"
    }
   },
   "id": "c7d3e52d0bec9010"
  },
  {
   "cell_type": "markdown",
   "source": [
    "![Alt text](../../../img/LLM/ch02/six_attention_scores.png)\n",
    "\n",
    "- 接下来，在步骤3中，我们使用前面使用的softmax函数计算注意力权重（归一化注意力得分，总和为1）\n",
    "- 与之前的不同之处在于，我们现在通过将注意力分数除以嵌入维度的平方根来缩放注意力分数，$\\sqrt{d_k}$"
   ],
   "metadata": {
    "collapsed": false
   },
   "id": "ec1a86dfc07d4a17"
  },
  {
   "cell_type": "code",
   "execution_count": 25,
   "outputs": [
    {
     "name": "stdout",
     "output_type": "stream",
     "text": [
      "tensor([0.1500, 0.2264, 0.2199, 0.1311, 0.0906, 0.1820])\n"
     ]
    }
   ],
   "source": [
    "d_k = keys.shape[1]\n",
    "attention_weights_2 = torch.softmax(attention_scores_2 / d_k ** 0.5, dim=-1)\n",
    "print(attention_weights_2)"
   ],
   "metadata": {
    "collapsed": false,
    "ExecuteTime": {
     "end_time": "2024-06-15T03:26:06.860699Z",
     "start_time": "2024-06-15T03:26:06.821803400Z"
    }
   },
   "id": "e6d56df0034bde36"
  },
  {
   "cell_type": "markdown",
   "source": [
    "![Alt text](../../../img/LLM/ch02/qkv_softmax.png)\n",
    "\n",
    "- 在步骤4中，我们现在计算输入查询向量2的上下文向量："
   ],
   "metadata": {
    "collapsed": false
   },
   "id": "9feba2dc7cbebe9a"
  },
  {
   "cell_type": "code",
   "execution_count": 26,
   "outputs": [
    {
     "name": "stdout",
     "output_type": "stream",
     "text": [
      "tensor([0.3061, 0.8210])\n"
     ]
    }
   ],
   "source": [
    "context_vec_2 = attention_weights_2 @ values\n",
    "print(context_vec_2)"
   ],
   "metadata": {
    "collapsed": false,
    "ExecuteTime": {
     "end_time": "2024-06-15T03:28:09.303889800Z",
     "start_time": "2024-06-15T03:28:09.245049100Z"
    }
   },
   "id": "97f257736193e34e"
  },
  {
   "cell_type": "markdown",
   "source": [
    "## 4.2、实现一个SelfAttention类"
   ],
   "metadata": {
    "collapsed": false
   },
   "id": "92c6dbd347b4e3bb"
  },
  {
   "cell_type": "code",
   "execution_count": 27,
   "outputs": [
    {
     "name": "stdout",
     "output_type": "stream",
     "text": [
      "tensor([[0.2897, 0.8043],\n",
      "        [0.3069, 0.8188],\n",
      "        [0.3063, 0.8173],\n",
      "        [0.2972, 0.7936],\n",
      "        [0.2848, 0.7650],\n",
      "        [0.3043, 0.8105]], grad_fn=<MmBackward0>)\n"
     ]
    }
   ],
   "source": [
    "import torch.nn as nn\n",
    "\n",
    "class SelfAttentionV1(nn.Module):\n",
    "    def __init__(self, d_in, d_out):\n",
    "        super().__init__()\n",
    "        self.W_q = nn.Parameter(torch.rand(d_in, d_out))\n",
    "        self.W_k = nn.Parameter(torch.rand(d_in, d_out))\n",
    "        self.W_v = nn.Parameter(torch.rand(d_in, d_out))\n",
    "        \n",
    "    def forward(self, x):\n",
    "        key = x @ self.W_k\n",
    "        query = x @ self.W_q\n",
    "        value = x @ self.W_v\n",
    "        \n",
    "        attention_score = query @ keys.T\n",
    "        attention_weight = torch.softmax(\n",
    "            attention_score / key.shape[-1] ** 0.5, dim=-1\n",
    "        )\n",
    "        \n",
    "        context_vec = attention_weights @ value\n",
    "        \n",
    "        return context_vec\n",
    "    \n",
    "torch.manual_seed(123)\n",
    "sa_v1 = SelfAttentionV1(d_in, d_out)\n",
    "print(sa_v1(inputs))"
   ],
   "metadata": {
    "collapsed": false,
    "ExecuteTime": {
     "end_time": "2024-06-15T03:32:23.889697800Z",
     "start_time": "2024-06-15T03:32:23.743091Z"
    }
   },
   "id": "d8ebbe45812af1ff"
  },
  {
   "cell_type": "markdown",
   "source": [
    "![Alt text](../../../img/LLM/ch02/self_attention_module.png)\n",
    "\n",
    "- 我们可以使用PyTorch的线性层来简化上面的实现，如果我们禁用偏置单元，这相当于矩阵乘法\n",
    "- 使用nn的另一大优势,nn.Linear超过我们的手册nn.Parameter（torch.rand(…)方法是一个首选的权重初始化方案，这导致了更稳定的模型训练"
   ],
   "metadata": {
    "collapsed": false
   },
   "id": "304e1642730f5e72"
  },
  {
   "cell_type": "code",
   "execution_count": 28,
   "outputs": [
    {
     "name": "stdout",
     "output_type": "stream",
     "text": [
      "tensor([[-0.0739,  0.0713],\n",
      "        [-0.0748,  0.0703],\n",
      "        [-0.0749,  0.0702],\n",
      "        [-0.0760,  0.0685],\n",
      "        [-0.0763,  0.0679],\n",
      "        [-0.0754,  0.0693]], grad_fn=<MmBackward0>)\n"
     ]
    }
   ],
   "source": [
    "class SelfAttention_v2(nn.Module):\n",
    "\n",
    "    def __init__(self, d_in, d_out, qkv_bias=False):\n",
    "        super().__init__()\n",
    "        self.W_query = nn.Linear(d_in, d_out, bias=qkv_bias)\n",
    "        self.W_key   = nn.Linear(d_in, d_out, bias=qkv_bias)\n",
    "        self.W_value = nn.Linear(d_in, d_out, bias=qkv_bias)\n",
    "\n",
    "    def forward(self, x):\n",
    "        keys = self.W_key(x)\n",
    "        queries = self.W_query(x)\n",
    "        values = self.W_value(x)\n",
    "        \n",
    "        attn_scores = queries @ keys.T\n",
    "        attn_weights = torch.softmax(attn_scores / keys.shape[-1]**0.5, dim=-1)\n",
    "\n",
    "        context_vec = attn_weights @ values\n",
    "        return context_vec\n",
    "\n",
    "torch.manual_seed(789)\n",
    "sa_v2 = SelfAttention_v2(d_in, d_out)\n",
    "print(sa_v2(inputs))"
   ],
   "metadata": {
    "collapsed": false,
    "ExecuteTime": {
     "end_time": "2024-06-15T03:34:10.983549100Z",
     "start_time": "2024-06-15T03:34:10.843922500Z"
    }
   },
   "id": "e36c9bebb7a1a3dd"
  },
  {
   "cell_type": "markdown",
   "source": [
    "# 5、用因果注意力机制隐藏之后的单词"
   ],
   "metadata": {
    "collapsed": false
   },
   "id": "ba66302a68b53764"
  },
  {
   "cell_type": "markdown",
   "source": [
    "- 在因果注意力中，对角线上方的注意力权重被屏蔽，确保对于任何给定的输入，LLM在计算具有注意力权重的上下文向量时都无法利用未来的标记\n",
    "\n",
    "![Alt text](../../../img/LLM/ch02/casual_attention.png)"
   ],
   "metadata": {
    "collapsed": false
   },
   "id": "1030d43fd176854"
  },
  {
   "cell_type": "markdown",
   "source": [
    "## 5.1、因果掩码注意力机制的应用"
   ],
   "metadata": {
    "collapsed": false
   },
   "id": "49de0c7dc276c61"
  },
  {
   "cell_type": "markdown",
   "source": [
    "- 在本节中，我们将把以前的自我注意机制转换为因果自我注意力机制\n",
    "- 因果自注意确保模型对序列中某个位置的预测仅取决于先前位置的已知输出，而不是未来位置\n",
    "- 简单地说，这确保了每个下一个单词的预测应该只取决于前一个单词\n",
    "- 为了实现这一点，对于每个给定的token，我们屏蔽掉未来的token（输入文本中当前token之后的token）：\n",
    "\n",
    "![Alt text](../../../img/LLM/ch02/mask_attention_process.png)\n",
    "\n",
    "- 为了说明和实现因果自我注意，让我们使用上一节中的注意力得分和权重"
   ],
   "metadata": {
    "collapsed": false
   },
   "id": "f88d943b3b7f2fa2"
  },
  {
   "cell_type": "code",
   "execution_count": 29,
   "outputs": [
    {
     "name": "stdout",
     "output_type": "stream",
     "text": [
      "tensor([[0.1921, 0.1646, 0.1652, 0.1550, 0.1721, 0.1510],\n",
      "        [0.2041, 0.1659, 0.1662, 0.1496, 0.1665, 0.1477],\n",
      "        [0.2036, 0.1659, 0.1662, 0.1498, 0.1664, 0.1480],\n",
      "        [0.1869, 0.1667, 0.1668, 0.1571, 0.1661, 0.1564],\n",
      "        [0.1830, 0.1669, 0.1670, 0.1588, 0.1658, 0.1585],\n",
      "        [0.1935, 0.1663, 0.1666, 0.1542, 0.1666, 0.1529]],\n",
      "       grad_fn=<SoftmaxBackward0>)\n"
     ]
    }
   ],
   "source": [
    "query = sa_v2.W_query(inputs)\n",
    "key = sa_v2.W_key(inputs)\n",
    "attention_score = query @ key.T\n",
    "\n",
    "attention_weights = torch.softmax(attention_score / key.shape[-1] ** 0.5, dim=-1)\n",
    "print(attention_weights)"
   ],
   "metadata": {
    "collapsed": false,
    "ExecuteTime": {
     "end_time": "2024-06-15T03:44:08.436070500Z",
     "start_time": "2024-06-15T03:44:08.387231800Z"
    }
   },
   "id": "7753b924eb430bae"
  },
  {
   "cell_type": "markdown",
   "source": [
    "- 屏蔽未来注意力权重的最简单方法是通过PyTorch的tril函数创建一个掩码，其中主对角线下方（包括对角线本身）的元素设置为1，主对角线上方设置为0："
   ],
   "metadata": {
    "collapsed": false
   },
   "id": "ac5506f6395d17c"
  },
  {
   "cell_type": "code",
   "execution_count": 31,
   "outputs": [
    {
     "name": "stdout",
     "output_type": "stream",
     "text": [
      "tensor([[1., 0., 0., 0., 0., 0.],\n",
      "        [1., 1., 0., 0., 0., 0.],\n",
      "        [1., 1., 1., 0., 0., 0.],\n",
      "        [1., 1., 1., 1., 0., 0.],\n",
      "        [1., 1., 1., 1., 1., 0.],\n",
      "        [1., 1., 1., 1., 1., 1.]])\n"
     ]
    }
   ],
   "source": [
    "context_length = attention_score.shape[0]\n",
    "mask_simple = torch.tril(torch.ones(context_length, context_length))\n",
    "print(mask_simple)"
   ],
   "metadata": {
    "collapsed": false,
    "ExecuteTime": {
     "end_time": "2024-06-15T03:45:22.679271600Z",
     "start_time": "2024-06-15T03:45:22.582010100Z"
    }
   },
   "id": "8de928e1f3e8c4d2"
  },
  {
   "cell_type": "code",
   "execution_count": null,
   "outputs": [],
   "source": [
    "masked_simple = attention_weights * mask_simple\n",
    "print(masked_simple)"
   ],
   "metadata": {
    "collapsed": false,
    "is_executing": true
   },
   "id": "d60c708137ebdd29"
  },
  {
   "cell_type": "markdown",
   "source": [
    "- 然而，如果像上面一样在softmax之后应用掩码，它将破坏softmax创建的概率分布\n",
    "- Softmax确保所有输出值总和为1\n",
    "- softmax之后的掩码将需要重新标准化输出以再次求和为1，这会使过程复杂化，并可能导致意想不到的效果\n",
    "- 为了确保行的总和为1，我们可以将注意力权重标准化如下："
   ],
   "metadata": {
    "collapsed": false
   },
   "id": "1d96c725cfc2225f"
  },
  {
   "cell_type": "code",
   "execution_count": 33,
   "outputs": [
    {
     "name": "stdout",
     "output_type": "stream",
     "text": [
      "tensor([[1.0000, 0.0000, 0.0000, -0.0000, 0.0000, -0.0000],\n",
      "        [0.7300, 0.2700, 0.0000, 0.0000, 0.0000, 0.0000],\n",
      "        [0.5723, 0.2121, 0.2156, 0.0000, 0.0000, 0.0000],\n",
      "        [0.5404, 0.2095, 0.2120, 0.0381, 0.0000, 0.0000],\n",
      "        [0.4454, 0.1782, 0.1799, 0.0361, 0.1603, 0.0000],\n",
      "        [0.4523, 0.1686, 0.1713, 0.0263, 0.1712, 0.0103]],\n",
      "       grad_fn=<DivBackward0>)\n"
     ]
    }
   ],
   "source": [
    "row_sums = masked_simple.sum(dim=-1, keepdim=True)\n",
    "masked_simple_norm = masked_simple / row_sums\n",
    "print(masked_simple_norm)"
   ],
   "metadata": {
    "collapsed": false,
    "ExecuteTime": {
     "end_time": "2024-06-15T06:30:34.133104300Z",
     "start_time": "2024-06-15T06:30:34.029412900Z"
    }
   },
   "id": "bf887de44cfdd"
  },
  {
   "cell_type": "markdown",
   "source": [
    "- 虽然我们现在已经从技术上完成了对因果注意机制的编码，但让我们简单地看看一种更有效的方法来实现上述目的\n",
    "- 因此，我们可以在对角线上方的未规范化注意力分数进入softmax函数之前，用负无穷大来掩盖它们，而不是将对角线上方的注意力权重归零并重新规范化结果：\n",
    "\n",
    "![Alt text](../../../img/LLM/ch02/masked_inf_softmax.png)"
   ],
   "metadata": {
    "collapsed": false
   },
   "id": "e3bc91d6de7f9e5e"
  },
  {
   "cell_type": "code",
   "execution_count": 34,
   "outputs": [
    {
     "name": "stdout",
     "output_type": "stream",
     "text": [
      "tensor([[0.2899,   -inf,   -inf,   -inf,   -inf,   -inf],\n",
      "        [0.4656, 0.1723,   -inf,   -inf,   -inf,   -inf],\n",
      "        [0.4594, 0.1703, 0.1731,   -inf,   -inf,   -inf],\n",
      "        [0.2642, 0.1024, 0.1036, 0.0186,   -inf,   -inf],\n",
      "        [0.2183, 0.0874, 0.0882, 0.0177, 0.0786,   -inf],\n",
      "        [0.3408, 0.1270, 0.1290, 0.0198, 0.1290, 0.0078]],\n",
      "       grad_fn=<MaskedFillBackward0>)\n"
     ]
    }
   ],
   "source": [
    "mask = torch.triu(torch.ones(context_length, context_length), diagonal=1)\n",
    "masked = attention_score.masked_fill(mask.bool(), -torch.inf)\n",
    "print(masked)"
   ],
   "metadata": {
    "collapsed": false,
    "ExecuteTime": {
     "end_time": "2024-06-15T06:33:05.454455200Z",
     "start_time": "2024-06-15T06:33:05.285906100Z"
    }
   },
   "id": "e32b326e29818a03"
  },
  {
   "cell_type": "code",
   "execution_count": 35,
   "outputs": [
    {
     "name": "stdout",
     "output_type": "stream",
     "text": [
      "tensor([[1.0000, 0.0000, 0.0000, 0.0000, 0.0000, 0.0000],\n",
      "        [0.5517, 0.4483, 0.0000, 0.0000, 0.0000, 0.0000],\n",
      "        [0.3800, 0.3097, 0.3103, 0.0000, 0.0000, 0.0000],\n",
      "        [0.2758, 0.2460, 0.2462, 0.2319, 0.0000, 0.0000],\n",
      "        [0.2175, 0.1983, 0.1984, 0.1888, 0.1971, 0.0000],\n",
      "        [0.1935, 0.1663, 0.1666, 0.1542, 0.1666, 0.1529]],\n",
      "       grad_fn=<SoftmaxBackward0>)\n"
     ]
    }
   ],
   "source": [
    "attention_weights = torch.softmax(masked / key.shape[-1] ** 0.5, dim=-1)\n",
    "print(attention_weights)"
   ],
   "metadata": {
    "collapsed": false,
    "ExecuteTime": {
     "end_time": "2024-06-15T06:33:39.811774100Z",
     "start_time": "2024-06-15T06:33:39.760911500Z"
    }
   },
   "id": "3ad7956bdfdaf5f7"
  },
  {
   "cell_type": "markdown",
   "source": [
    "## 5.2、mask注意力权重与dropout"
   ],
   "metadata": {
    "collapsed": false
   },
   "id": "82b792d68128913d"
  },
  {
   "cell_type": "markdown",
   "source": [
    "- 此外，我们还应用dropout来减少训练过程中的过度拟合\n",
    "\n",
    "- Dropout可以应用于多个地方：\n",
    "    - 例如在计算注意力权重之后；\n",
    "    - 或者在注意力权重与值向量相乘之后\n",
    "- 在这里，我们将在计算注意力权重后应用丢弃掩码，因为它更常见\n",
    "\n",
    "- 此外，在这个特定的例子中，我们使用50%的dropout率，这意味着随机屏蔽掉一半的注意力权重。（当我们稍后训练GPT模型时，我们将使用较低的dropout率，例如0.1或0.2\n",
    "\n",
    "![Alt text](../../../img/LLM/ch02/masked_matrix_dropout.png)\n",
    "\n",
    "- 如果我们应用0.5（50%）的ropout率，则未丢弃的值将相应地按因子1/0.5=2进行缩放。"
   ],
   "metadata": {
    "collapsed": false
   },
   "id": "cbdedb7798bfc88a"
  },
  {
   "cell_type": "code",
   "execution_count": 36,
   "outputs": [
    {
     "name": "stdout",
     "output_type": "stream",
     "text": [
      "tensor([[2., 2., 2., 2., 2., 2.],\n",
      "        [0., 2., 0., 0., 0., 0.],\n",
      "        [0., 0., 2., 0., 2., 0.],\n",
      "        [2., 2., 0., 0., 0., 2.],\n",
      "        [2., 0., 0., 0., 0., 2.],\n",
      "        [0., 2., 0., 0., 0., 0.]])\n"
     ]
    }
   ],
   "source": [
    "torch.manual_seed(123)\n",
    "dropout = torch.nn.Dropout(0.5)\n",
    "example = torch.ones(6, 6)\n",
    "print(dropout(example))"
   ],
   "metadata": {
    "collapsed": false,
    "ExecuteTime": {
     "end_time": "2024-06-15T06:37:22.676409100Z",
     "start_time": "2024-06-15T06:37:22.521674900Z"
    }
   },
   "id": "304df9b81acdd335"
  },
  {
   "cell_type": "code",
   "execution_count": 38,
   "outputs": [
    {
     "name": "stdout",
     "output_type": "stream",
     "text": [
      "tensor([[2.0000, 0.0000, 0.0000, 0.0000, 0.0000, 0.0000],\n",
      "        [0.0000, 0.8966, 0.0000, 0.0000, 0.0000, 0.0000],\n",
      "        [0.0000, 0.0000, 0.6206, 0.0000, 0.0000, 0.0000],\n",
      "        [0.5517, 0.4921, 0.0000, 0.0000, 0.0000, 0.0000],\n",
      "        [0.4350, 0.0000, 0.0000, 0.0000, 0.0000, 0.0000],\n",
      "        [0.0000, 0.3327, 0.0000, 0.0000, 0.0000, 0.0000]],\n",
      "       grad_fn=<MulBackward0>)\n"
     ]
    }
   ],
   "source": [
    "torch.manual_seed(123)\n",
    "print(dropout(attention_weights))"
   ],
   "metadata": {
    "collapsed": false,
    "ExecuteTime": {
     "end_time": "2024-06-15T06:37:38.726852700Z",
     "start_time": "2024-06-15T06:37:38.600694Z"
    }
   },
   "id": "ddfbf8d66facb8b7"
  },
  {
   "cell_type": "markdown",
   "source": [
    "## 5.3、实现因果自注意类"
   ],
   "metadata": {
    "collapsed": false
   },
   "id": "ed1b7fb1e9738ea6"
  },
  {
   "cell_type": "markdown",
   "source": [
    "- 接下来实现代码来处理由多个输入组成的批，以便我们的CausalAttention类支持我们实现的数据加载器产生的批输出\n",
    "- 为了简单起见，为了模拟这种批量输入，我们复制了输入文本示例："
   ],
   "metadata": {
    "collapsed": false
   },
   "id": "e0bd20f6d93af8bc"
  },
  {
   "cell_type": "code",
   "execution_count": 39,
   "outputs": [
    {
     "name": "stdout",
     "output_type": "stream",
     "text": [
      "torch.Size([2, 6, 3])\n"
     ]
    }
   ],
   "source": [
    "batch = torch.stack((inputs, inputs), dim=0)\n",
    "print(batch.shape)"
   ],
   "metadata": {
    "collapsed": false,
    "ExecuteTime": {
     "end_time": "2024-06-15T06:40:18.638389600Z",
     "start_time": "2024-06-15T06:40:18.580544Z"
    }
   },
   "id": "ca91f99119fce6b8"
  },
  {
   "cell_type": "code",
   "execution_count": 40,
   "outputs": [
    {
     "name": "stdout",
     "output_type": "stream",
     "text": [
      "tensor([[[-0.4519,  0.2216],\n",
      "         [-0.5695,  0.0343],\n",
      "         [-0.6141, -0.0377],\n",
      "         [-0.5642, -0.0717],\n",
      "         [-0.5490, -0.0906],\n",
      "         [-0.5291, -0.0961]],\n",
      "\n",
      "        [[-0.4519,  0.2216],\n",
      "         [-0.5695,  0.0343],\n",
      "         [-0.6141, -0.0377],\n",
      "         [-0.5642, -0.0717],\n",
      "         [-0.5490, -0.0906],\n",
      "         [-0.5291, -0.0961]]], grad_fn=<CloneBackward0>)\n",
      "context_vecs.shape:torch.Size([2, 6, 2])\n"
     ]
    }
   ],
   "source": [
    "class CasualAttention(nn.Module):\n",
    "    def __init__(self, d_in, d_out, context_length,\n",
    "                 dropout, qkv_bias=False):\n",
    "        super().__init__()\n",
    "        self.d_out = d_out\n",
    "        self.W_q = nn.Linear(d_in, d_out, bias=qkv_bias)\n",
    "        self.W_k = nn.Linear(d_in, d_out, bias=qkv_bias)\n",
    "        self.W_v = nn.Linear(d_in, d_out, bias=qkv_bias)\n",
    "        self.dropout = nn.Dropout(dropout)\n",
    "        self.register_buffer('mask', torch.triu(torch.ones(context_length, context_length), diagonal=1))\n",
    "        \n",
    "    def forward(self, x):\n",
    "        b, num_tokens, d_in = x.shape\n",
    "        key = self.W_k(x)\n",
    "        query = self.W_q(x)\n",
    "        value = self.W_v(x)\n",
    "        \n",
    "        attention_scores = query @ key.transpose(1, 2)\n",
    "        attention_score.masked_fill_(self.mask.bool()[:num_tokens, :num_tokens], -torch.inf)\n",
    "        attention_weights = torch.softmax(attention_score / key.shape[-1] ** 0.5, dim=-1)\n",
    "        attention_weights = self.dropout(attention_weights)\n",
    "        \n",
    "        context_vec = attention_weights @ value\n",
    "        return context_vec\n",
    "    \n",
    "torch.manual_seed(123)\n",
    "\n",
    "context_length = batch.shape[1]\n",
    "ca = CasualAttention(d_in, d_out, context_length, 0.0)\n",
    "context_vecs = ca(batch)\n",
    "print(context_vecs)\n",
    "print(f\"context_vecs.shape:{context_vecs.shape}\")"
   ],
   "metadata": {
    "collapsed": false,
    "ExecuteTime": {
     "end_time": "2024-06-15T06:46:36.488935600Z",
     "start_time": "2024-06-15T06:46:36.360185200Z"
    }
   },
   "id": "bf2f86ff2b178b6c"
  },
  {
   "cell_type": "markdown",
   "source": [
    "- 请注意，dropout仅适用于训练期间，而不适用于推理期间\n",
    "\n",
    "![Alt text](../../../img/LLM/ch02/third_step_of_transformers.png)"
   ],
   "metadata": {
    "collapsed": false
   },
   "id": "65f09dee7c4d9a3d"
  },
  {
   "cell_type": "markdown",
   "source": [
    "# 6、将单头注意力扩展到多头注意力"
   ],
   "metadata": {
    "collapsed": false
   },
   "id": "d2e067d447ecfaa3"
  },
  {
   "cell_type": "markdown",
   "source": [
    "## 6.1、堆叠多个单头注意力层"
   ],
   "metadata": {
    "collapsed": false
   },
   "id": "ff9baa26342f9934"
  },
  {
   "cell_type": "markdown",
   "source": [
    "- 以下是之前实现的自我注意的摘要（为了简单起见，未显示因果和脱落掩码）\n",
    "\n",
    "- 这也被称为单头注意力：\n",
    "\n",
    "![Alt text](../../../img/LLM/ch02/single_head_attention.png)\n",
    "\n",
    "- 我们简单地堆叠多个单头注意力模块来获得多头注意力模块：\n",
    "\n",
    "![Alt text](../../../img/LLM/ch02/stack_single_head_attention.png)\n",
    "\n",
    "- 多头注意力背后的主要思想是用不同的、习得的线性投影多次（并行）运行注意力机制。这允许模型联合关注来自不同位置处的不同表示子空间的信息。"
   ],
   "metadata": {
    "collapsed": false
   },
   "id": "2e487bf1557caef0"
  },
  {
   "cell_type": "code",
   "execution_count": 41,
   "outputs": [
    {
     "name": "stdout",
     "output_type": "stream",
     "text": [
      "tensor([[[-0.4519,  0.2216,  0.4772,  0.1063],\n",
      "         [-0.5695,  0.0343,  0.5668,  0.2819],\n",
      "         [-0.6141, -0.0377,  0.6008,  0.3481],\n",
      "         [-0.5642, -0.0717,  0.5462,  0.3445],\n",
      "         [-0.5490, -0.0906,  0.5318,  0.3359],\n",
      "         [-0.5291, -0.0961,  0.5093,  0.3362]],\n",
      "\n",
      "        [[-0.4519,  0.2216,  0.4772,  0.1063],\n",
      "         [-0.5695,  0.0343,  0.5668,  0.2819],\n",
      "         [-0.6141, -0.0377,  0.6008,  0.3481],\n",
      "         [-0.5642, -0.0717,  0.5462,  0.3445],\n",
      "         [-0.5490, -0.0906,  0.5318,  0.3359],\n",
      "         [-0.5291, -0.0961,  0.5093,  0.3362]]], grad_fn=<CatBackward0>)\n",
      "context_vecs.shape:torch.Size([2, 6, 4])\n"
     ]
    }
   ],
   "source": [
    "class MultiHeadAttentionWrapper(nn.Module):\n",
    "    def __init__(self, d_in, d_out, context_length, dropout, num_heads, qkv_bias=False):\n",
    "        super().__init__()\n",
    "        self.heads = nn.ModuleList(\n",
    "            [CasualAttention(d_in, d_out, context_length, dropout, qkv_bias)\n",
    "             for _ in range(num_heads)]\n",
    "        )\n",
    "        \n",
    "    def forward(self, x):\n",
    "        return torch.cat([head(x) for head in self.heads], dim=-1)\n",
    "    \n",
    "torch.manual_seed(123)\n",
    "\n",
    "context_length = batch.shape[1]\n",
    "d_in, d_out = 3, 2\n",
    "mha = MultiHeadAttentionWrapper(\n",
    "    d_in, d_out, context_length, 0.0, num_heads=2\n",
    ")\n",
    "\n",
    "context_vecs = mha(batch)\n",
    "\n",
    "print(context_vecs)\n",
    "print(f\"context_vecs.shape:{context_vecs.shape}\")"
   ],
   "metadata": {
    "collapsed": false,
    "ExecuteTime": {
     "end_time": "2024-06-15T06:54:19.693750600Z",
     "start_time": "2024-06-15T06:54:19.481714400Z"
    }
   },
   "id": "2367abeffe18dacf"
  },
  {
   "cell_type": "markdown",
   "source": [
    "- 在上面的实现中，嵌入维度是4，因为我们d_out＝2作为关键字、查询和值向量以及上下文向量的嵌入维度。由于我们有两个注意力头，我们的输出嵌入维数为2*2=4"
   ],
   "metadata": {
    "collapsed": false
   },
   "id": "79d5bc520c3f945"
  },
  {
   "cell_type": "markdown",
   "source": [
    "## 6.2、通过weight拆分实现多头注意力"
   ],
   "metadata": {
    "collapsed": false
   },
   "id": "8cc5867cd7162f7e"
  },
  {
   "cell_type": "markdown",
   "source": [
    "- 虽然上面是多头注意力的直观且功能齐全的实现（包装了前面的单头注意力因果注意力实现），但我们可以编写一个名为MultiHeadAttention的独立类来实现\n",
    "\n",
    "- 我们不为这个独立的MultiHeadAttention类连接单个注意力头\n",
    "\n",
    "- 相反，我们创建单个W_query、W_key和W_value权重矩阵，然后将它们拆分为每个注意力头的单独矩阵："
   ],
   "metadata": {
    "collapsed": false
   },
   "id": "3ba11a28e77970d7"
  },
  {
   "cell_type": "code",
   "execution_count": 46,
   "outputs": [
    {
     "name": "stdout",
     "output_type": "stream",
     "text": [
      "torch.Size([2, 2, 6, 1])\n",
      "tensor([[[0.3190, 0.4858],\n",
      "         [0.2943, 0.3897],\n",
      "         [0.2856, 0.3593],\n",
      "         [0.2693, 0.3873],\n",
      "         [0.2639, 0.3928],\n",
      "         [0.2575, 0.4028]],\n",
      "\n",
      "        [[0.3190, 0.4858],\n",
      "         [0.2943, 0.3897],\n",
      "         [0.2856, 0.3593],\n",
      "         [0.2693, 0.3873],\n",
      "         [0.2639, 0.3928],\n",
      "         [0.2575, 0.4028]]], grad_fn=<ViewBackward0>)\n",
      "context_vecs.shape: torch.Size([2, 6, 2])\n"
     ]
    }
   ],
   "source": [
    "class MultiHeadAttention(nn.Module):\n",
    "    def __init__(self, d_in, d_out, context_length, dropout, num_heads, qkv_bias=False):\n",
    "        super().__init__()\n",
    "        assert (d_out % num_heads == 0), \\\n",
    "            \"d_out must be divisible by num_heads\"\n",
    "        \n",
    "        self.d_out = d_out\n",
    "        self.num_heads = num_heads\n",
    "        self.head_dim = d_out // num_heads\n",
    "        \n",
    "        self.W_q = nn.Linear(d_in, d_out, bias=qkv_bias)\n",
    "        self.W_k = nn.Linear(d_in, d_out, bias=qkv_bias)\n",
    "        self.W_v = nn.Linear(d_in, d_out, bias=qkv_bias)\n",
    "        self.dropout = nn.Dropout(dropout)\n",
    "        self.register_buffer(\n",
    "            'mask', \n",
    "            torch.triu(torch.ones(context_length, context_length), diagonal=1))\n",
    "        self.out_proj = nn.Linear(d_out, d_out)\n",
    "        \n",
    "    def forward(self, x):\n",
    "        b, num_tokens, d_in = x.shape\n",
    "        \n",
    "        key = self.W_k(x)\n",
    "        query = self.W_q(x)\n",
    "        value = self.W_v(x)\n",
    "        \n",
    "        # We implicitly split the matrix by adding a `num_heads` dimension\n",
    "        # Unroll last dim: (b, num_tokens, d_out) -> (b, num_tokens, num_heads, head_dim)\n",
    "        key = key.view(b, num_tokens, self.num_heads, self.head_dim) \n",
    "        value = value.view(b, num_tokens, self.num_heads, self.head_dim)\n",
    "        query = query.view(b, num_tokens, self.num_heads, self.head_dim)\n",
    "        \n",
    "        # Transpose: (b, num_tokens, num_heads, head_dim) -> (b, num_heads, num_tokens, head_dim)\n",
    "        key = key.transpose(1, 2)\n",
    "        query = query.transpose(1, 2)\n",
    "        value = value.transpose(1, 2)\n",
    "        \n",
    "        attention_score = query @ key.transpose(2, 3)\n",
    "        mask_bool = self.mask.bool()[:num_tokens, :num_tokens]\n",
    "        \n",
    "        attention_score.masked_fill_(mask_bool, -torch.inf)\n",
    "        \n",
    "        attention_weights = torch.softmax(attention_score / key.shape[-1] ** 0.5, dim=-1)\n",
    "        attention_weights = self.dropout(attention_weights)\n",
    "        \n",
    "        # Shape: (b, num_tokens, num_heads, head_dim)\n",
    "        context_vec = (attention_weights @ value).transpose(1, 2) \n",
    "        \n",
    "        # Combine heads, where self.d_out = self.num_heads * self.head_dim\n",
    "        context_vec = context_vec.contiguous().view(b, num_tokens, self.d_out)\n",
    "        context_vec = self.out_proj(context_vec) # optional projection\n",
    "\n",
    "        return context_vec\n",
    "    \n",
    "torch.manual_seed(123)\n",
    "\n",
    "batch_size, context_length, d_in = batch.shape\n",
    "d_out = 2\n",
    "mha = MultiHeadAttention(d_in, d_out, context_length, 0.0, num_heads=2)\n",
    "\n",
    "context_vecs = mha(batch)\n",
    "\n",
    "print(context_vecs)\n",
    "print(\"context_vecs.shape:\", context_vecs.shape)"
   ],
   "metadata": {
    "collapsed": false,
    "ExecuteTime": {
     "end_time": "2024-06-15T07:07:41.395821200Z",
     "start_time": "2024-06-15T07:07:41.275947300Z"
    }
   },
   "id": "3b3ec3aaecd5f62e"
  },
  {
   "cell_type": "markdown",
   "source": [
    "- 请注意，以上内容本质上是MultiHeadAttentionWrapper的重写版本，它更高效\n",
    "- 由于随机权重初始化不同，结果输出看起来有点不同，但两者都是功能齐全的实现，可以在我们将在接下来的章节中实现的GPT类中使用\n",
    "- 请注意，此外，我们还在上面的MultiHeadAttention类中添加了一个线性投影层（self.out_proj）。这只是一个不改变尺寸的线性变换。在LLM实现中使用这样的投影层是一种标准约定，但并非绝对必要（最近的研究表明，可以在不影响建模性能的情况下删除它）\n",
    "\n",
    "![Alt text](../../../img/LLM/ch02/multihead_attention.png)\n",
    "\n",
    "- 请注意，如果您对上述内容的紧凑高效实现感兴趣，也可以考虑使用torch.nn.PyTorch中的MultiheadAttention类\n",
    "- 由于上面的实现乍一看可能有点复杂，让我们看看当执行attn_scores=queries@keys.transpose（2，3）时会发生什么："
   ],
   "metadata": {
    "collapsed": false
   },
   "id": "f075bb5d8727b773"
  },
  {
   "cell_type": "code",
   "execution_count": 47,
   "outputs": [
    {
     "name": "stdout",
     "output_type": "stream",
     "text": [
      "tensor([[[[1.3208, 1.1631, 1.2879],\n",
      "          [1.1631, 2.2150, 1.8424],\n",
      "          [1.2879, 1.8424, 2.0402]],\n",
      "\n",
      "         [[0.4391, 0.7003, 0.5903],\n",
      "          [0.7003, 1.3737, 1.0620],\n",
      "          [0.5903, 1.0620, 0.9912]]]])\n"
     ]
    }
   ],
   "source": [
    "# (b, num_heads, num_tokens, head_dim) = (1, 2, 3, 4)\n",
    "a = torch.tensor([[[[0.2745, 0.6584, 0.2775, 0.8573],\n",
    "                    [0.8993, 0.0390, 0.9268, 0.7388],\n",
    "                    [0.7179, 0.7058, 0.9156, 0.4340]],\n",
    "\n",
    "                   [[0.0772, 0.3565, 0.1479, 0.5331],\n",
    "                    [0.4066, 0.2318, 0.4545, 0.9737],\n",
    "                    [0.4606, 0.5159, 0.4220, 0.5786]]]])\n",
    "\n",
    "print(a @ a.transpose(2, 3))"
   ],
   "metadata": {
    "collapsed": false,
    "ExecuteTime": {
     "end_time": "2024-06-15T07:09:58.942184Z",
     "start_time": "2024-06-15T07:09:58.875333300Z"
    }
   },
   "id": "be38f24b90f4f35e"
  },
  {
   "cell_type": "markdown",
   "source": [
    "- 在这种情况下，PyTorch中的矩阵乘法实现将处理4维输入张量，以便在最后2个维度（num_tokens，head_dim）之间执行矩阵乘法，然后对各个头重复执行\n",
    "\n",
    "- 例如，以下成为单独计算每个头的矩阵乘法的更紧凑的方法："
   ],
   "metadata": {
    "collapsed": false
   },
   "id": "29d22f0547dd3c57"
  },
  {
   "cell_type": "code",
   "execution_count": 48,
   "outputs": [
    {
     "name": "stdout",
     "output_type": "stream",
     "text": [
      "First head:\n",
      " tensor([[1.3208, 1.1631, 1.2879],\n",
      "        [1.1631, 2.2150, 1.8424],\n",
      "        [1.2879, 1.8424, 2.0402]])\n",
      "\n",
      "Second head:\n",
      " tensor([[0.4391, 0.7003, 0.5903],\n",
      "        [0.7003, 1.3737, 1.0620],\n",
      "        [0.5903, 1.0620, 0.9912]])\n"
     ]
    }
   ],
   "source": [
    "first_head = a[0, 0, :, :]\n",
    "first_res = first_head @ first_head.T\n",
    "print(\"First head:\\n\", first_res)\n",
    "\n",
    "second_head = a[0, 1, :, :]\n",
    "second_res = second_head @ second_head.T\n",
    "print(\"\\nSecond head:\\n\", second_res)"
   ],
   "metadata": {
    "collapsed": false,
    "ExecuteTime": {
     "end_time": "2024-06-15T07:10:27.018365600Z",
     "start_time": "2024-06-15T07:10:26.938530700Z"
    }
   },
   "id": "8460f55226e50549"
  },
  {
   "cell_type": "code",
   "execution_count": null,
   "outputs": [],
   "source": [],
   "metadata": {
    "collapsed": false
   },
   "id": "13810caed8567959"
  }
 ],
 "metadata": {
  "kernelspec": {
   "name": "llm",
   "language": "python",
   "display_name": "LLM"
  },
  "language_info": {
   "codemirror_mode": {
    "name": "ipython",
    "version": 2
   },
   "file_extension": ".py",
   "mimetype": "text/x-python",
   "name": "python",
   "nbconvert_exporter": "python",
   "pygments_lexer": "ipython2",
   "version": "2.7.6"
  }
 },
 "nbformat": 4,
 "nbformat_minor": 5
}
