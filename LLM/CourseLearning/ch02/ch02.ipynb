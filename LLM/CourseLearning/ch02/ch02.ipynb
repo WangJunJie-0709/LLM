{
 "cells": [
  {
   "cell_type": "markdown",
   "source": [
    "# 搭建注意力机制"
   ],
   "metadata": {
    "collapsed": false
   },
   "id": "3548845405ffc714"
  },
  {
   "cell_type": "code",
   "execution_count": 1,
   "outputs": [
    {
     "name": "stdout",
     "output_type": "stream",
     "text": [
      "torch version: 2.3.1\n"
     ]
    }
   ],
   "source": [
    "from importlib.metadata import version\n",
    "\n",
    "print(\"torch version:\", version(\"torch\"))"
   ],
   "metadata": {
    "collapsed": false,
    "ExecuteTime": {
     "end_time": "2024-06-14T03:14:38.050028700Z",
     "start_time": "2024-06-14T03:14:38.023101500Z"
    }
   },
   "id": "c262a7e82608e7eb"
  },
  {
   "cell_type": "markdown",
   "source": [
    "本章涵盖注意力机制，LLM的引擎：\n",
    "\n",
    "![Alt text](../../../img/LLM/ch02/engine_of_LLMs.png)\n",
    "\n",
    "![Alt text](../../../img/LLM/ch02/Attention_Mechanism.png)"
   ],
   "metadata": {
    "collapsed": false
   },
   "id": "f37c0a17118a6fd1"
  },
  {
   "cell_type": "code",
   "execution_count": null,
   "outputs": [],
   "source": [],
   "metadata": {
    "collapsed": false
   },
   "id": "73f438f48b6abbe9"
  }
 ],
 "metadata": {
  "kernelspec": {
   "name": "llm",
   "language": "python",
   "display_name": "LLM"
  },
  "language_info": {
   "codemirror_mode": {
    "name": "ipython",
    "version": 2
   },
   "file_extension": ".py",
   "mimetype": "text/x-python",
   "name": "python",
   "nbconvert_exporter": "python",
   "pygments_lexer": "ipython2",
   "version": "2.7.6"
  }
 },
 "nbformat": 4,
 "nbformat_minor": 5
}
