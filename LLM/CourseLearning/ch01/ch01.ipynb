{
 "cells": [
  {
   "cell_type": "markdown",
   "source": [
    "# Ch01 文本处理工作"
   ],
   "metadata": {
    "collapsed": false
   },
   "id": "359e0716cdd0143"
  },
  {
   "cell_type": "markdown",
   "source": [
    "该笔记本所用到的库"
   ],
   "metadata": {
    "collapsed": false
   },
   "id": "9637e3dd265b0b34"
  },
  {
   "cell_type": "code",
   "execution_count": 3,
   "outputs": [
    {
     "name": "stdout",
     "output_type": "stream",
     "text": [
      "torch version: 2.3.1\n",
      "tiktoken version: 0.7.0\n"
     ]
    }
   ],
   "source": [
    "from importlib.metadata import version\n",
    "\n",
    "import tiktoken\n",
    "import torch\n",
    "\n",
    "print(\"torch version:\", version(\"torch\"))\n",
    "print(\"tiktoken version:\", version(\"tiktoken\"))"
   ],
   "metadata": {
    "collapsed": false,
    "ExecuteTime": {
     "end_time": "2024-06-13T01:52:53.705116500Z",
     "start_time": "2024-06-13T01:52:53.652253800Z"
    }
   },
   "id": "f9954dabf4ca2ed4"
  },
  {
   "cell_type": "markdown",
   "source": [
    "- 本章介绍数据准备和采样，以便为LLM“准备”输入数据\n",
    "\n",
    "![Alt text](../../../img/LLM/ch01/LLM_Course_pipeline.png)"
   ],
   "metadata": {
    "collapsed": false
   },
   "id": "acdfb17dfbbe2e8d"
  },
  {
   "cell_type": "markdown",
   "source": [
    "# 1、理解word embeddings"
   ],
   "metadata": {
    "collapsed": false
   },
   "id": "38a90bbea9f09cbe"
  },
  {
   "cell_type": "markdown",
   "source": [
    "- 嵌入有多种形式;在这本书中,我们主要关注文本嵌入\n",
    "\n",
    "![Alt text](../../../img/LLM/ch01/forms_of_embedding.png)\n",
    "\n",
    "- LLM与高维空间（即数千维）中的嵌入一起工作\n",
    "- 由于我们无法可视化这样的高维空间（我们人类在1、2或3维中思考）,下图说明了一个2维嵌入空间\n",
    "\n",
    "![Alt text](../../../img/LLM/ch01/high_dimensional_space.png)"
   ],
   "metadata": {
    "collapsed": false
   },
   "id": "8ff42782c51caa9f"
  },
  {
   "cell_type": "markdown",
   "source": [
    "# 2、Tokenizer text"
   ],
   "metadata": {
    "collapsed": false
   },
   "id": "3c67e38cfbcc6e0b"
  },
  {
   "cell_type": "markdown",
   "source": [
    "- 在本节中，我们将文本标记化，这意味着将文本分解为更小的单元，例如单个单词和标点符号\n",
    "\n",
    "![Alt text](../../../img/LLM/ch01/tokenize_text.png)\n",
    "\n",
    "- 加载我们要使用的原始文本"
   ],
   "metadata": {
    "collapsed": false
   },
   "id": "94d9994634ee956c"
  },
  {
   "cell_type": "code",
   "execution_count": 4,
   "outputs": [],
   "source": [
    "import os\n",
    "import urllib.request\n",
    "\n",
    "if not os.path.exists('../../../Data/the-verdict.txt'):\n",
    "    url = (\"https://raw.githubusercontent.com/rasbt/\"\n",
    "           \"LLMs-from-scratch/main/ch02/01_main-chapter-code/\"\n",
    "           \"the-verdict.txt\")\n",
    "    file_path = \"the-verdict.txt\"\n",
    "    urllib.request.urlretrieve(url, file_path)"
   ],
   "metadata": {
    "collapsed": false,
    "ExecuteTime": {
     "end_time": "2024-06-13T01:52:56.581339400Z",
     "start_time": "2024-06-13T01:52:56.548427200Z"
    }
   },
   "id": "bf201958892c7f2d"
  },
  {
   "cell_type": "code",
   "execution_count": 5,
   "outputs": [
    {
     "name": "stdout",
     "output_type": "stream",
     "text": [
      "Total number of article: 20479\n",
      "I HAD always thought Jack Gisburn rather a cheap genius--though a good fellow enough--so it was no \n"
     ]
    }
   ],
   "source": [
    "with open('../../../Data/the-verdict.txt', 'r', encoding='utf-8') as f:\n",
    "    raw_text = f.read()\n",
    "\n",
    "print(f\"Total number of article: {len(raw_text)}\")\n",
    "print(raw_text[:99])"
   ],
   "metadata": {
    "collapsed": false,
    "ExecuteTime": {
     "end_time": "2024-06-13T01:52:57.829111700Z",
     "start_time": "2024-06-13T01:52:57.819139Z"
    }
   },
   "id": "ca7e2f5bbb8c54f4"
  },
  {
   "cell_type": "markdown",
   "source": [
    "- 目标:tokenize文本为LLM所用\n",
    "- 基于一些简单的数据开发一个简单的tokenizer,以便于之后我们使用\n",
    "- 以下正则表达式是将其以空格进行分割"
   ],
   "metadata": {
    "collapsed": false
   },
   "id": "e2595a46b2394885"
  },
  {
   "cell_type": "code",
   "execution_count": 6,
   "outputs": [
    {
     "name": "stdout",
     "output_type": "stream",
     "text": [
      "['Hello,', ' ', 'world.', ' ', 'This', ' ', 'is', ' ', 'a', ' ', 'test.']\n"
     ]
    }
   ],
   "source": [
    "import re\n",
    "\n",
    "text = \"Hello, world. This is a test.\"\n",
    "result = re.split(r'(\\s)', text)\n",
    "\n",
    "print(result)"
   ],
   "metadata": {
    "collapsed": false,
    "ExecuteTime": {
     "end_time": "2024-06-13T01:53:00.003848Z",
     "start_time": "2024-06-13T01:52:59.982903800Z"
    }
   },
   "id": "e0e89deee72f4fd7"
  },
  {
   "cell_type": "code",
   "execution_count": 7,
   "outputs": [
    {
     "name": "stdout",
     "output_type": "stream",
     "text": [
      "['Hello,', 'world.', 'This', 'is', 'a', 'test.']\n"
     ]
    }
   ],
   "source": [
    "result = [item for item in result if item.strip()]\n",
    "print(result)"
   ],
   "metadata": {
    "collapsed": false,
    "ExecuteTime": {
     "end_time": "2024-06-13T02:07:59.343593Z",
     "start_time": "2024-06-13T02:07:59.324644100Z"
    }
   },
   "id": "6a750782a728499d"
  },
  {
   "cell_type": "markdown",
   "source": [
    "- 处理其他无意义字符"
   ],
   "metadata": {
    "collapsed": false
   },
   "id": "8cb04e1ab96aa967"
  },
  {
   "cell_type": "code",
   "execution_count": 97,
   "outputs": [
    {
     "name": "stdout",
     "output_type": "stream",
     "text": [
      "['Hello', ',', 'world', '.', 'Is', 'this', '--', 'a', 'test', '?']\n"
     ]
    }
   ],
   "source": [
    "text = \"Hello, world. Is this-- a test?\"\n",
    "\n",
    "result = re.split(r'([,.:;?_!\"()\\']|--|\\s)', text)\n",
    "result = [item.strip() for item in result if item.strip()]\n",
    "print(result)"
   ],
   "metadata": {
    "collapsed": false,
    "ExecuteTime": {
     "end_time": "2024-06-13T09:05:04.665574900Z",
     "start_time": "2024-06-13T09:05:04.649617800Z"
    }
   },
   "id": "afde333fec305bb8"
  },
  {
   "cell_type": "markdown",
   "source": [
    "![Alt text](../../../img/LLM/ch01/tokenization_of_raw_text.png)"
   ],
   "metadata": {
    "collapsed": false
   },
   "id": "4cce4965ea929c91"
  },
  {
   "cell_type": "code",
   "execution_count": 11,
   "outputs": [
    {
     "name": "stdout",
     "output_type": "stream",
     "text": [
      "['I', 'HAD', 'always', 'thought', 'Jack', 'Gisburn', 'rather', 'a', 'cheap', 'genius', '--', 'though', 'a', 'good', 'fellow', 'enough', '--', 'so', 'it', 'was', 'no', 'great', 'surprise', 'to', 'me', 'to', 'hear', 'that', ',', 'in']\n"
     ]
    }
   ],
   "source": [
    "preprocessed = re.split(r'([,.:;?_!\"()\\']|--|\\s)', raw_text)\n",
    "preprocessed = [item.strip() for item in preprocessed if item.strip()]\n",
    "print(preprocessed[:30])"
   ],
   "metadata": {
    "collapsed": false,
    "ExecuteTime": {
     "end_time": "2024-06-13T02:11:36.745639600Z",
     "start_time": "2024-06-13T02:11:36.661864500Z"
    }
   },
   "id": "1fad359c136e6554"
  },
  {
   "cell_type": "markdown",
   "source": [
    "- 计算总的token长度"
   ],
   "metadata": {
    "collapsed": false
   },
   "id": "b422437a07e54e31"
  },
  {
   "cell_type": "code",
   "execution_count": 12,
   "outputs": [
    {
     "name": "stdout",
     "output_type": "stream",
     "text": [
      "4690\n"
     ]
    }
   ],
   "source": [
    "print(len(preprocessed))"
   ],
   "metadata": {
    "collapsed": false,
    "ExecuteTime": {
     "end_time": "2024-06-13T02:11:50.949421200Z",
     "start_time": "2024-06-13T02:11:50.927480700Z"
    }
   },
   "id": "1b18e4633d961902"
  },
  {
   "cell_type": "markdown",
   "source": [
    "# 3、将tokens转换为token IDs"
   ],
   "metadata": {
    "collapsed": false
   },
   "id": "ed009aa78b435f36"
  },
  {
   "cell_type": "markdown",
   "source": [
    "接下来,将文本tokens转换为token IDs,以便于之后我们可以通过embedding层对其进行处理\n",
    "\n",
    "![Alt text](../../../img/LLM/ch01/token_2_tokenID.png)\n",
    "\n",
    "从这些tokens,我们现在可以构建一个包括所有tokens的词表"
   ],
   "metadata": {
    "collapsed": false
   },
   "id": "230af8e26d9aa2fd"
  },
  {
   "cell_type": "code",
   "execution_count": 13,
   "outputs": [
    {
     "name": "stdout",
     "output_type": "stream",
     "text": [
      "1130\n"
     ]
    }
   ],
   "source": [
    "# 进行去重\n",
    "all_words = sorted(set(preprocessed))\n",
    "vocab_size = len(all_words)\n",
    "\n",
    "print(vocab_size)"
   ],
   "metadata": {
    "collapsed": false,
    "ExecuteTime": {
     "end_time": "2024-06-13T02:16:07.385424300Z",
     "start_time": "2024-06-13T02:16:07.346398200Z"
    }
   },
   "id": "95e3b40c00618afc"
  },
  {
   "cell_type": "code",
   "execution_count": 16,
   "outputs": [],
   "source": [
    "# 构建词表\n",
    "vocab = {token:integer for integer,token in enumerate(all_words)}"
   ],
   "metadata": {
    "collapsed": false,
    "ExecuteTime": {
     "end_time": "2024-06-13T02:17:04.588874400Z",
     "start_time": "2024-06-13T02:17:04.512919600Z"
    }
   },
   "id": "718052daac46c486"
  },
  {
   "cell_type": "code",
   "execution_count": 17,
   "outputs": [
    {
     "name": "stdout",
     "output_type": "stream",
     "text": [
      "('!', 0)\n",
      "('\"', 1)\n",
      "(\"'\", 2)\n",
      "('(', 3)\n",
      "(')', 4)\n",
      "(',', 5)\n",
      "('--', 6)\n",
      "('.', 7)\n",
      "(':', 8)\n",
      "(';', 9)\n",
      "('?', 10)\n",
      "('A', 11)\n",
      "('Ah', 12)\n",
      "('Among', 13)\n",
      "('And', 14)\n",
      "('Are', 15)\n",
      "('Arrt', 16)\n",
      "('As', 17)\n",
      "('At', 18)\n",
      "('Be', 19)\n",
      "('Begin', 20)\n",
      "('Burlington', 21)\n",
      "('But', 22)\n",
      "('By', 23)\n",
      "('Carlo', 24)\n",
      "('Chicago', 25)\n",
      "('Claude', 26)\n",
      "('Come', 27)\n",
      "('Croft', 28)\n",
      "('Destroyed', 29)\n",
      "('Devonshire', 30)\n",
      "('Don', 31)\n",
      "('Dubarry', 32)\n",
      "('Emperors', 33)\n",
      "('Florence', 34)\n",
      "('For', 35)\n",
      "('Gallery', 36)\n",
      "('Gideon', 37)\n",
      "('Gisburn', 38)\n",
      "('Gisburns', 39)\n",
      "('Grafton', 40)\n",
      "('Greek', 41)\n",
      "('Grindle', 42)\n",
      "('Grindles', 43)\n",
      "('HAD', 44)\n",
      "('Had', 45)\n",
      "('Hang', 46)\n",
      "('Has', 47)\n",
      "('He', 48)\n",
      "('Her', 49)\n",
      "('Hermia', 50)\n"
     ]
    }
   ],
   "source": [
    "for i, item in enumerate(vocab.items()):\n",
    "    print(item)\n",
    "    if i >= 50:\n",
    "        break"
   ],
   "metadata": {
    "collapsed": false,
    "ExecuteTime": {
     "end_time": "2024-06-13T02:17:05.276036800Z",
     "start_time": "2024-06-13T02:17:05.265066800Z"
    }
   },
   "id": "f5866cce920b56ff"
  },
  {
   "cell_type": "markdown",
   "source": [
    "构建一个tokenizer类"
   ],
   "metadata": {
    "collapsed": false
   },
   "id": "ece9486819e25ea2"
  },
  {
   "cell_type": "code",
   "execution_count": 33,
   "outputs": [],
   "source": [
    "class SimpleTokenizerV1:\n",
    "    def __init__(self, vocab):\n",
    "        '''\n",
    "        Tokenizer类\n",
    "        :param vocab: 词表 \n",
    "        '''\n",
    "        self.str_to_int = vocab\n",
    "        self.int_to_str = {i:s for s, i in vocab.items()}\n",
    "        \n",
    "    def encode(self, text):\n",
    "        preprocessed = re.split(r'([,.?_!\"()\\']|--|\\s)', text)\n",
    "        preprocessed = [\n",
    "            item.strip() for item in preprocessed if item.strip()\n",
    "        ]\n",
    "        ids = [self.str_to_int[s] for s in preprocessed]\n",
    "        return ids\n",
    "    \n",
    "    def decode(self, ids):\n",
    "        text = \" \".join([self.int_to_str[i] for i in ids])\n",
    "        \n",
    "        text = re.sub(r'\\s+([,.?!\"()\\'])', r'\\1', text)\n",
    "        return text"
   ],
   "metadata": {
    "collapsed": false,
    "ExecuteTime": {
     "end_time": "2024-06-13T02:42:40.208172900Z",
     "start_time": "2024-06-13T02:42:40.202190Z"
    }
   },
   "id": "8416638e5fe2c44d"
  },
  {
   "cell_type": "markdown",
   "source": [
    "encode函数将词表转换为token IDs\n",
    "decode函数将token IDs转换回文本\n",
    "\n",
    "![Alt text](../../../img/LLM/ch01/encode_decode.png)"
   ],
   "metadata": {
    "collapsed": false
   },
   "id": "33de3af33036f591"
  },
  {
   "cell_type": "markdown",
   "source": [
    "- 我们可以使用tokenizer来将文本转换为整数,这些整数可以作为LLM的embedding输入层"
   ],
   "metadata": {
    "collapsed": false
   },
   "id": "b6ad26a48fd82118"
  },
  {
   "cell_type": "code",
   "execution_count": 36,
   "outputs": [
    {
     "name": "stdout",
     "output_type": "stream",
     "text": [
      "[56, 2, 850, 988, 602, 533, 746, 5, 1126, 596, 5, 67, 7, 38, 851, 1108, 754, 793, 7]\n"
     ]
    }
   ],
   "source": [
    "tokenizer = SimpleTokenizerV1(vocab)\n",
    "text = \"It's the last he painted, you know, Mrs. Gisburn said with pardonable pride.\"\n",
    "ids = tokenizer.encode(text)\n",
    "print(ids)"
   ],
   "metadata": {
    "collapsed": false,
    "ExecuteTime": {
     "end_time": "2024-06-13T02:42:51.781538200Z",
     "start_time": "2024-06-13T02:42:51.498394400Z"
    }
   },
   "id": "60880454765ad609"
  },
  {
   "cell_type": "markdown",
   "source": [
    "- 将token IDs decode回文本"
   ],
   "metadata": {
    "collapsed": false
   },
   "id": "20e2b654970b9b0e"
  },
  {
   "cell_type": "code",
   "execution_count": 38,
   "outputs": [
    {
     "data": {
      "text/plain": "\"It' s the last he painted, you know, Mrs. Gisburn said with pardonable pride.\""
     },
     "execution_count": 38,
     "metadata": {},
     "output_type": "execute_result"
    }
   ],
   "source": [
    "tokenizer.decode(ids)"
   ],
   "metadata": {
    "collapsed": false,
    "ExecuteTime": {
     "end_time": "2024-06-13T02:43:34.055250600Z",
     "start_time": "2024-06-13T02:43:34.046274300Z"
    }
   },
   "id": "b5c1f353bc5f83a3"
  },
  {
   "cell_type": "code",
   "execution_count": 39,
   "outputs": [
    {
     "data": {
      "text/plain": "\"It' s the last he painted, you know, Mrs. Gisburn said with pardonable pride.\""
     },
     "execution_count": 39,
     "metadata": {},
     "output_type": "execute_result"
    }
   ],
   "source": [
    "tokenizer.decode(tokenizer.encode(text))"
   ],
   "metadata": {
    "collapsed": false,
    "ExecuteTime": {
     "end_time": "2024-06-13T02:43:54.786375Z",
     "start_time": "2024-06-13T02:43:54.735513600Z"
    }
   },
   "id": "fb251595dee72d17"
  },
  {
   "cell_type": "markdown",
   "source": [
    "# 4、加入特殊文本tokens"
   ],
   "metadata": {
    "collapsed": false
   },
   "id": "3f5a64fa84b3e7d3"
  },
  {
   "cell_type": "markdown",
   "source": [
    "1、为未知单词添加一些“特殊”标记并表示文本的结尾是很有用的\n",
    "\n",
    "![Alt text](../../../img/LLM/ch01/special_token.png)\n",
    "\n",
    "2、一些 tokenizer 使用特殊的 tokens 来帮助LLM提供额外的上下文\n",
    "3、其中一些特殊 tokens 是\n",
    "    3.1、[BOS]（序列的开始）标记文本的开始\n",
    "    3.2、[EOS]（序列结束）标记文本的结束位置（这通常用于连接多个不相关的文本，例如，两篇不同的维基百科文章或两本不同的书，等等）\n",
    "    3.3、[PAD]（填充）如果我们训练批量大小大于1的LLM（我们可能包括多个不同长度的文本；使用填充 token，我们将较短的文本填充到最长的长度，使所有文本的长度相等）\n",
    "    3.4、[UNK]表示未包含在词汇表中的词汇\n",
    "4、请注意，GPT-2不需要上述任何tokens，而只使用<|endoftext|> token 来降低复杂性\n",
    "    4.1、<|endoftext|>类似于上面提到的[EOS] token\n",
    "5、GPT还使用<|endoftext|>进行填充（因为我们在对批处理输入进行训练时通常使用掩码，所以无论如何我们都不会使用填充的tokens，所以这些tokens是什么并不重要）\n",
    "6、GPT-2不对词汇表外的单词使用<UNK>标记；相反，GPT-2使用了一个字节对编码（BPE）标记器，它将字分解为子字单元，我们将在后面的部分中讨论\n",
    "\n",
    "![Alt text](../../../img/LLM/ch01/endoftext_example.png)"
   ],
   "metadata": {
    "collapsed": false
   },
   "id": "756270281e4d9b1"
  },
  {
   "cell_type": "code",
   "execution_count": 40,
   "outputs": [
    {
     "ename": "KeyError",
     "evalue": "'Hello'",
     "output_type": "error",
     "traceback": [
      "\u001B[1;31m---------------------------------------------------------------------------\u001B[0m",
      "\u001B[1;31mKeyError\u001B[0m                                  Traceback (most recent call last)",
      "Cell \u001B[1;32mIn[40], line 5\u001B[0m\n\u001B[0;32m      1\u001B[0m tokenizer \u001B[38;5;241m=\u001B[39m SimpleTokenizerV1(vocab)\n\u001B[0;32m      3\u001B[0m text \u001B[38;5;241m=\u001B[39m \u001B[38;5;124m\"\u001B[39m\u001B[38;5;124mHello, do you like tea. Is this-- a test?\u001B[39m\u001B[38;5;124m\"\u001B[39m\n\u001B[1;32m----> 5\u001B[0m \u001B[43mtokenizer\u001B[49m\u001B[38;5;241;43m.\u001B[39;49m\u001B[43mencode\u001B[49m\u001B[43m(\u001B[49m\u001B[43mtext\u001B[49m\u001B[43m)\u001B[49m\n",
      "Cell \u001B[1;32mIn[33], line 15\u001B[0m, in \u001B[0;36mSimpleTokenizerV1.encode\u001B[1;34m(self, text)\u001B[0m\n\u001B[0;32m     11\u001B[0m preprocessed \u001B[38;5;241m=\u001B[39m re\u001B[38;5;241m.\u001B[39msplit(\u001B[38;5;124mr\u001B[39m\u001B[38;5;124m'\u001B[39m\u001B[38;5;124m([,.?_!\u001B[39m\u001B[38;5;124m\"\u001B[39m\u001B[38;5;124m()\u001B[39m\u001B[38;5;130;01m\\'\u001B[39;00m\u001B[38;5;124m]|--|\u001B[39m\u001B[38;5;124m\\\u001B[39m\u001B[38;5;124ms)\u001B[39m\u001B[38;5;124m'\u001B[39m, text)\n\u001B[0;32m     12\u001B[0m preprocessed \u001B[38;5;241m=\u001B[39m [\n\u001B[0;32m     13\u001B[0m     item\u001B[38;5;241m.\u001B[39mstrip() \u001B[38;5;28;01mfor\u001B[39;00m item \u001B[38;5;129;01min\u001B[39;00m preprocessed \u001B[38;5;28;01mif\u001B[39;00m item\u001B[38;5;241m.\u001B[39mstrip()\n\u001B[0;32m     14\u001B[0m ]\n\u001B[1;32m---> 15\u001B[0m ids \u001B[38;5;241m=\u001B[39m [\u001B[38;5;28mself\u001B[39m\u001B[38;5;241m.\u001B[39mstr_to_int[s] \u001B[38;5;28;01mfor\u001B[39;00m s \u001B[38;5;129;01min\u001B[39;00m preprocessed]\n\u001B[0;32m     16\u001B[0m \u001B[38;5;28;01mreturn\u001B[39;00m ids\n",
      "Cell \u001B[1;32mIn[33], line 15\u001B[0m, in \u001B[0;36m<listcomp>\u001B[1;34m(.0)\u001B[0m\n\u001B[0;32m     11\u001B[0m preprocessed \u001B[38;5;241m=\u001B[39m re\u001B[38;5;241m.\u001B[39msplit(\u001B[38;5;124mr\u001B[39m\u001B[38;5;124m'\u001B[39m\u001B[38;5;124m([,.?_!\u001B[39m\u001B[38;5;124m\"\u001B[39m\u001B[38;5;124m()\u001B[39m\u001B[38;5;130;01m\\'\u001B[39;00m\u001B[38;5;124m]|--|\u001B[39m\u001B[38;5;124m\\\u001B[39m\u001B[38;5;124ms)\u001B[39m\u001B[38;5;124m'\u001B[39m, text)\n\u001B[0;32m     12\u001B[0m preprocessed \u001B[38;5;241m=\u001B[39m [\n\u001B[0;32m     13\u001B[0m     item\u001B[38;5;241m.\u001B[39mstrip() \u001B[38;5;28;01mfor\u001B[39;00m item \u001B[38;5;129;01min\u001B[39;00m preprocessed \u001B[38;5;28;01mif\u001B[39;00m item\u001B[38;5;241m.\u001B[39mstrip()\n\u001B[0;32m     14\u001B[0m ]\n\u001B[1;32m---> 15\u001B[0m ids \u001B[38;5;241m=\u001B[39m [\u001B[38;5;28;43mself\u001B[39;49m\u001B[38;5;241;43m.\u001B[39;49m\u001B[43mstr_to_int\u001B[49m\u001B[43m[\u001B[49m\u001B[43ms\u001B[49m\u001B[43m]\u001B[49m \u001B[38;5;28;01mfor\u001B[39;00m s \u001B[38;5;129;01min\u001B[39;00m preprocessed]\n\u001B[0;32m     16\u001B[0m \u001B[38;5;28;01mreturn\u001B[39;00m ids\n",
      "\u001B[1;31mKeyError\u001B[0m: 'Hello'"
     ]
    }
   ],
   "source": [
    "tokenizer = SimpleTokenizerV1(vocab)\n",
    "\n",
    "text = \"Hello, do you like tea. Is this-- a test?\"\n",
    "\n",
    "tokenizer.encode(text)"
   ],
   "metadata": {
    "collapsed": false,
    "ExecuteTime": {
     "end_time": "2024-06-13T02:47:16.086695300Z",
     "start_time": "2024-06-13T02:47:14.951885200Z"
    }
   },
   "id": "dcf6934f35fb8650"
  },
  {
   "cell_type": "markdown",
   "source": [
    "- 由于词汇表中未包含“Hello”一词，因此上述操作会产生错误\n",
    "- 为了处理这种情况，我们可以向词汇表中添加特殊的标记，如“<|unk|>”，以表示未知单词\n",
    "- 由于我们已经在扩展词汇表，让我们添加另一个名为“<|endoftext|>”的标记，它在GPT-2训练中用于表示文本的末尾（它也用于连接的文本之间，例如如果我们的训练数据集由多篇文章、书籍等组成）"
   ],
   "metadata": {
    "collapsed": false
   },
   "id": "6dd469e6b9445a06"
  },
  {
   "cell_type": "code",
   "execution_count": 42,
   "outputs": [],
   "source": [
    "preprocessed = re.split(r'([,.?_!\"()\\']|--|\\s)', raw_text)\n",
    "preprocessed = [item.strip() for item in preprocessed if item.strip()]\n",
    "\n",
    "all_tokens = sorted(list(set(preprocessed)))\n",
    "all_tokens.extend([\"<|endoftext|>\", \"<|unk|>\"])\n",
    "\n",
    "vocab = {token:integer for integer, token in enumerate(all_tokens)}"
   ],
   "metadata": {
    "collapsed": false,
    "ExecuteTime": {
     "end_time": "2024-06-13T02:54:28.318562200Z",
     "start_time": "2024-06-13T02:54:28.237752500Z"
    }
   },
   "id": "1ca46291160ee18a"
  },
  {
   "cell_type": "code",
   "execution_count": 44,
   "outputs": [
    {
     "data": {
      "text/plain": "1161"
     },
     "execution_count": 44,
     "metadata": {},
     "output_type": "execute_result"
    }
   ],
   "source": [
    "len(vocab.items())"
   ],
   "metadata": {
    "collapsed": false,
    "ExecuteTime": {
     "end_time": "2024-06-13T02:54:40.562078800Z",
     "start_time": "2024-06-13T02:54:40.530163400Z"
    }
   },
   "id": "ebb56926ee34417e"
  },
  {
   "cell_type": "code",
   "execution_count": 45,
   "outputs": [
    {
     "name": "stdout",
     "output_type": "stream",
     "text": [
      "('younger', 1156)\n",
      "('your', 1157)\n",
      "('yourself', 1158)\n",
      "('<|endoftext|>', 1159)\n",
      "('<|unk|>', 1160)\n"
     ]
    }
   ],
   "source": [
    "for i, item in enumerate(list(vocab.items())[-5:]):\n",
    "    print(item)"
   ],
   "metadata": {
    "collapsed": false,
    "ExecuteTime": {
     "end_time": "2024-06-13T02:55:16.507555700Z",
     "start_time": "2024-06-13T02:55:16.477634700Z"
    }
   },
   "id": "9662851a748cc32"
  },
  {
   "cell_type": "markdown",
   "source": [
    "- 我们还需要相应地调整tokenizer，以便它知道何时以及如何使用新的＜unk＞ token"
   ],
   "metadata": {
    "collapsed": false
   },
   "id": "c86e188573d8a01"
  },
  {
   "cell_type": "code",
   "execution_count": 46,
   "outputs": [],
   "source": [
    "class SimpleTokenizerV2:\n",
    "    def __init__(self, vocab):\n",
    "        '''\n",
    "        Tokenizer类\n",
    "        :param vocab: 词表 \n",
    "        '''\n",
    "        self.str_to_int = vocab\n",
    "        self.int_to_str = {i:s for s, i in vocab.items()}\n",
    "        \n",
    "    def encode(self, text):\n",
    "        preprocessed = re.split(r'([,.?_!\"()\\']|--|\\s)', text)\n",
    "        preprocessed = [\n",
    "            item.strip() for item in preprocessed if item.strip()\n",
    "        ]\n",
    "        preprocessed = [\n",
    "            item if item in self.str_to_int\n",
    "            else \"<|unk|>\" for item in preprocessed\n",
    "        ]\n",
    "        \n",
    "        ids = [self.str_to_int[s] for s in preprocessed]\n",
    "        return ids\n",
    "    \n",
    "    def decode(self, ids):\n",
    "        text = \" \".join([self.int_to_str[i] for i in ids])\n",
    "        \n",
    "        text = re.sub(r'\\s+([,.?!\"()\\'])', r'\\1', text)\n",
    "        return text"
   ],
   "metadata": {
    "collapsed": false,
    "ExecuteTime": {
     "end_time": "2024-06-13T03:04:08.605050300Z",
     "start_time": "2024-06-13T03:04:08.582112400Z"
    }
   },
   "id": "f2de706baba6cda0"
  },
  {
   "cell_type": "markdown",
   "source": [
    "- 用修正后的tokenizer尝试一下"
   ],
   "metadata": {
    "collapsed": false
   },
   "id": "6653df5166b115a9"
  },
  {
   "cell_type": "code",
   "execution_count": 47,
   "outputs": [
    {
     "name": "stdout",
     "output_type": "stream",
     "text": [
      "Hello, do you like tea? <|endoftext|> In the sunlit terraces of the palace.\n"
     ]
    }
   ],
   "source": [
    "tokenizer = SimpleTokenizerV2(vocab)\n",
    "\n",
    "text1 = \"Hello, do you like tea?\"\n",
    "text2 = \"In the sunlit terraces of the palace.\"\n",
    "\n",
    "text = \" <|endoftext|> \".join((text1, text2))\n",
    "\n",
    "print(text)"
   ],
   "metadata": {
    "collapsed": false,
    "ExecuteTime": {
     "end_time": "2024-06-13T03:04:18.369138200Z",
     "start_time": "2024-06-13T03:04:18.339189500Z"
    }
   },
   "id": "dc874c398edb0b3"
  },
  {
   "cell_type": "code",
   "execution_count": 48,
   "outputs": [
    {
     "data": {
      "text/plain": "[1160,\n 5,\n 362,\n 1155,\n 642,\n 1000,\n 10,\n 1159,\n 57,\n 1013,\n 981,\n 1009,\n 738,\n 1013,\n 1160,\n 7]"
     },
     "execution_count": 48,
     "metadata": {},
     "output_type": "execute_result"
    }
   ],
   "source": [
    "tokenizer.encode(text)"
   ],
   "metadata": {
    "collapsed": false,
    "ExecuteTime": {
     "end_time": "2024-06-13T03:04:45.686364900Z",
     "start_time": "2024-06-13T03:04:45.640488200Z"
    }
   },
   "id": "b2c6a82e751d0e4e"
  },
  {
   "cell_type": "code",
   "execution_count": 49,
   "outputs": [
    {
     "data": {
      "text/plain": "'<|unk|>, do you like tea? <|endoftext|> In the sunlit terraces of the <|unk|>.'"
     },
     "execution_count": 49,
     "metadata": {},
     "output_type": "execute_result"
    }
   ],
   "source": [
    "tokenizer.decode(tokenizer.encode(text))"
   ],
   "metadata": {
    "collapsed": false,
    "ExecuteTime": {
     "end_time": "2024-06-13T03:05:03.290468300Z",
     "start_time": "2024-06-13T03:05:03.258553800Z"
    }
   },
   "id": "d17772363a163625"
  },
  {
   "cell_type": "markdown",
   "source": [
    "# 5、BytePair编码"
   ],
   "metadata": {
    "collapsed": false
   },
   "id": "c4424dfad63ae23f"
  },
  {
   "cell_type": "markdown",
   "source": [
    "- GPT-2使用字节对编码（BPE）作为其标记器\n",
    "- 它允许模型将不在其预定义词汇表中的单词分解为更小的子单词单元甚至单个字符，使其能够处理词汇表外的单词\n",
    "- 例如，如果GPT-2的词汇表中没有单词“unmiliarword”，它可能会将其标记为[“unfam”、“iliar”、“word”]或其他一些子单词细分，这取决于其经过训练的BPE合并\n",
    "- 原始的BPE标记器可以在这里找到：https://github.com/openai/gpt-2/blob/master/src/encoder.py\n",
    "- 在本章中，我们将使用OpenAI开源tiktoken库中的BPE标记器，该库在Rust中实现其核心算法，以提高计算性能\n",
    "- 我创建了一个笔记本/并排比较这两种实现的bytepair_encoder（tiktoken比示例文本快5倍）"
   ],
   "metadata": {
    "collapsed": false
   },
   "id": "92e3358ee028c60"
  },
  {
   "cell_type": "code",
   "execution_count": 50,
   "outputs": [
    {
     "name": "stdout",
     "output_type": "stream",
     "text": [
      "tiktoken version: 0.7.0\n"
     ]
    }
   ],
   "source": [
    "import importlib\n",
    "import tiktoken\n",
    "\n",
    "print(\"tiktoken version:\", importlib.metadata.version(\"tiktoken\"))"
   ],
   "metadata": {
    "collapsed": false,
    "ExecuteTime": {
     "end_time": "2024-06-13T03:07:46.794845600Z",
     "start_time": "2024-06-13T03:07:46.686136400Z"
    }
   },
   "id": "8b5707e3ebc30594"
  },
  {
   "cell_type": "code",
   "execution_count": 51,
   "outputs": [],
   "source": [
    "tokenizer = tiktoken.get_encoding(\"gpt2\")"
   ],
   "metadata": {
    "collapsed": false,
    "ExecuteTime": {
     "end_time": "2024-06-13T03:08:03.972648500Z",
     "start_time": "2024-06-13T03:08:02.317450900Z"
    }
   },
   "id": "2962e9e876ed69c0"
  },
  {
   "cell_type": "code",
   "execution_count": 52,
   "outputs": [
    {
     "name": "stdout",
     "output_type": "stream",
     "text": [
      "[15496, 11, 466, 345, 588, 8887, 30, 220, 50256, 554, 262, 4252, 18250, 8812, 2114, 1659, 617, 34680, 27271, 13]\n"
     ]
    }
   ],
   "source": [
    "text = (\n",
    "    \"Hello, do you like tea? <|endoftext|> In the sunlit terraces\"\n",
    "     \"of someunknownPlace.\"\n",
    ")\n",
    "\n",
    "integers = tokenizer.encode(text, allowed_special={\"<|endoftext|>\"})\n",
    "\n",
    "print(integers)"
   ],
   "metadata": {
    "collapsed": false,
    "ExecuteTime": {
     "end_time": "2024-06-13T03:08:40.713475Z",
     "start_time": "2024-06-13T03:08:40.678282Z"
    }
   },
   "id": "f88fd37773d50d52"
  },
  {
   "cell_type": "code",
   "execution_count": 53,
   "outputs": [
    {
     "name": "stdout",
     "output_type": "stream",
     "text": [
      "Hello, do you like tea? <|endoftext|> In the sunlit terracesof someunknownPlace.\n"
     ]
    }
   ],
   "source": [
    "strings = tokenizer.decode(integers)\n",
    "\n",
    "print(strings)"
   ],
   "metadata": {
    "collapsed": false,
    "ExecuteTime": {
     "end_time": "2024-06-13T03:08:46.290459900Z",
     "start_time": "2024-06-13T03:08:46.252562700Z"
    }
   },
   "id": "5e05bf8d6b7135bb"
  },
  {
   "cell_type": "markdown",
   "source": [
    "- BPE标记器将未知单词分解为子单词和单个字符：\n",
    "\n",
    "![Alt text](../../../img/LLM/ch01/BPE_tokenizers.png)"
   ],
   "metadata": {
    "collapsed": false
   },
   "id": "b8ca0766a51f37d6"
  },
  {
   "cell_type": "markdown",
   "source": [
    "# 6、滑动窗口数据采样"
   ],
   "metadata": {
    "collapsed": false
   },
   "id": "aaddc2dea6028c27"
  },
  {
   "cell_type": "markdown",
   "source": [
    "我们训练LLM一次生成一个单词，因此我们希望相应地准备训练数据，其中序列中的下一个单词表示要预测的目标：\n",
    "\n",
    "![Alt text](../../../img/LLM/ch01/sliding_window.png)"
   ],
   "metadata": {
    "collapsed": false
   },
   "id": "7b3365b81e209e0b"
  },
  {
   "cell_type": "code",
   "execution_count": 54,
   "outputs": [
    {
     "name": "stdout",
     "output_type": "stream",
     "text": [
      "5145\n"
     ]
    }
   ],
   "source": [
    "with open(\"../../../Data/the-verdict.txt\", \"r\", encoding=\"utf-8\") as f:\n",
    "    raw_text = f.read()\n",
    "    \n",
    "enc_text = tokenizer.encode(raw_text)\n",
    "print(len(enc_text))"
   ],
   "metadata": {
    "collapsed": false,
    "ExecuteTime": {
     "end_time": "2024-06-13T03:13:05.490748Z",
     "start_time": "2024-06-13T03:13:05.431907500Z"
    }
   },
   "id": "17c9eeb2f3cf53e1"
  },
  {
   "cell_type": "markdown",
   "source": [
    "- 对于每个文本块，我们需要输入和目标\n",
    "- 由于我们希望模型预测下一个单词，因此目标是向右移动一个位置的输入"
   ],
   "metadata": {
    "collapsed": false
   },
   "id": "4902d4850ce7679c"
  },
  {
   "cell_type": "code",
   "execution_count": 63,
   "outputs": [],
   "source": [
    "enc_sample = enc_text[50:]"
   ],
   "metadata": {
    "collapsed": false,
    "ExecuteTime": {
     "end_time": "2024-06-13T03:20:43.646151600Z",
     "start_time": "2024-06-13T03:20:43.638174700Z"
    }
   },
   "id": "764609a4a70a91ae"
  },
  {
   "cell_type": "code",
   "execution_count": 64,
   "outputs": [
    {
     "name": "stdout",
     "output_type": "stream",
     "text": [
      "x: [290, 4920, 2241, 287]\n",
      "y:     [4920, 2241, 287, 257]\n"
     ]
    }
   ],
   "source": [
    "context_size = 4\n",
    "\n",
    "x = enc_sample[:context_size]\n",
    "y = enc_sample[1:context_size+1]\n",
    "\n",
    "print(f'x: {x}')\n",
    "print(f'y:     {y}')"
   ],
   "metadata": {
    "collapsed": false,
    "ExecuteTime": {
     "end_time": "2024-06-13T03:20:44.270481500Z",
     "start_time": "2024-06-13T03:20:44.252530200Z"
    }
   },
   "id": "4f5595d21ac7e28f"
  },
  {
   "cell_type": "markdown",
   "source": [
    "一个接一个，预测如下："
   ],
   "metadata": {
    "collapsed": false
   },
   "id": "326ae7df0f4037f6"
  },
  {
   "cell_type": "code",
   "execution_count": 65,
   "outputs": [
    {
     "name": "stdout",
     "output_type": "stream",
     "text": [
      "[290] ------> 4920\n",
      "[290, 4920] ------> 2241\n",
      "[290, 4920, 2241] ------> 287\n",
      "[290, 4920, 2241, 287] ------> 257\n"
     ]
    }
   ],
   "source": [
    "for i in range(1, context_size + 1):\n",
    "    context = enc_sample[:i]\n",
    "    desired = enc_sample[i]\n",
    "    \n",
    "    print(context, '------>', desired)"
   ],
   "metadata": {
    "collapsed": false,
    "ExecuteTime": {
     "end_time": "2024-06-13T03:20:46.762821400Z",
     "start_time": "2024-06-13T03:20:46.754843500Z"
    }
   },
   "id": "4e2558a97b010e82"
  },
  {
   "cell_type": "code",
   "execution_count": 66,
   "outputs": [
    {
     "name": "stdout",
     "output_type": "stream",
     "text": [
      " and ---->  established\n",
      " and established ---->  himself\n",
      " and established himself ---->  in\n",
      " and established himself in ---->  a\n"
     ]
    }
   ],
   "source": [
    "for i in range(1, context_size+1):\n",
    "    context = enc_sample[:i]\n",
    "    desired = enc_sample[i]\n",
    "\n",
    "    print(tokenizer.decode(context), \"---->\", tokenizer.decode([desired]))"
   ],
   "metadata": {
    "collapsed": false,
    "ExecuteTime": {
     "end_time": "2024-06-13T03:20:51.615502900Z",
     "start_time": "2024-06-13T03:20:51.598548500Z"
    }
   },
   "id": "48c2093ffc37a931"
  },
  {
   "cell_type": "markdown",
   "source": [
    "- 在我们介绍了注意力机制之后，我们将在后面的章节中讨论下一个单词的预测\n",
    "- 目前，我们实现了一个简单的数据加载器，它在输入数据集上迭代，并返回偏移了一个的输入和目标"
   ],
   "metadata": {
    "collapsed": false
   },
   "id": "88612e8b6a43b983"
  },
  {
   "cell_type": "code",
   "execution_count": 67,
   "outputs": [
    {
     "name": "stdout",
     "output_type": "stream",
     "text": [
      "2.3.1+cpu\n"
     ]
    }
   ],
   "source": [
    "import torch\n",
    "\n",
    "print(torch.__version__)"
   ],
   "metadata": {
    "collapsed": false,
    "ExecuteTime": {
     "end_time": "2024-06-13T03:22:18.798101300Z",
     "start_time": "2024-06-13T03:22:18.754674300Z"
    }
   },
   "id": "b515823e6ea7ba92"
  },
  {
   "cell_type": "markdown",
   "source": [
    "我们使用滑动窗口方法，将位置更改+1：\n",
    "\n",
    "![Alt text](../../../img/LLM/ch01/sliding_window_example.png)"
   ],
   "metadata": {
    "collapsed": false
   },
   "id": "debd644212524b0b"
  },
  {
   "cell_type": "markdown",
   "source": [
    "创建数据集和数据加载器，从输入文本数据集中提取块"
   ],
   "metadata": {
    "collapsed": false
   },
   "id": "578a7f15007b303c"
  },
  {
   "cell_type": "code",
   "execution_count": 76,
   "outputs": [],
   "source": [
    "from torch.utils.data import DataLoader, Dataset\n",
    "\n",
    "class GPTDatasetV1(Dataset):\n",
    "    def __init__(self, txt, tokenizer, max_length, stride):\n",
    "        '''\n",
    "        :param txt: 文本 \n",
    "        :param tokenizer: \n",
    "        :param max_length: 滑动窗口最大长度 \n",
    "        :param stride: 滑动步长\n",
    "        '''\n",
    "        self.input_ids = []\n",
    "        self.tar_ids = []\n",
    "        \n",
    "        token_ids = tokenizer.encode(txt, allowed_special={\"<|endoftext|>\"})\n",
    "        \n",
    "        for i in range(0, len(token_ids) - max_length, stride):\n",
    "            input_chunk = token_ids[i:i + max_length]\n",
    "            tar_chunk = token_ids[i + 1:i + max_length + 1]\n",
    "            self.input_ids.append(torch.tensor(input_chunk))\n",
    "            self.tar_ids.append(torch.tensor(tar_chunk))\n",
    "            \n",
    "    def __len__(self):\n",
    "        return len(self.input_ids)\n",
    "    \n",
    "    def __getitem__(self, idx):\n",
    "        return self.input_ids[idx], self.tar_ids[idx]"
   ],
   "metadata": {
    "collapsed": false,
    "ExecuteTime": {
     "end_time": "2024-06-13T03:43:12.278255300Z",
     "start_time": "2024-06-13T03:43:12.262300100Z"
    }
   },
   "id": "62bad39da20dc9b7"
  },
  {
   "cell_type": "code",
   "execution_count": 78,
   "outputs": [],
   "source": [
    "def create_dataloader_v1(txt, batch_size=4, max_length=256,\n",
    "                         stride=128, shuffle=True, drop_last=True,\n",
    "                         num_workers=0):\n",
    "    tokenizer = tiktoken.get_encoding(\"gpt2\")\n",
    "    \n",
    "    dataset = GPTDatasetV1(txt, tokenizer, max_length, stride)\n",
    "    \n",
    "    dataloader = DataLoader(\n",
    "        dataset,\n",
    "        batch_size=batch_size,\n",
    "        shuffle=shuffle,\n",
    "        drop_last=drop_last,\n",
    "        num_workers=0\n",
    "    )\n",
    "    return dataloader"
   ],
   "metadata": {
    "collapsed": false,
    "ExecuteTime": {
     "end_time": "2024-06-13T03:43:33.172904600Z",
     "start_time": "2024-06-13T03:43:33.152957800Z"
    }
   },
   "id": "eaa92a1f8b73f607"
  },
  {
   "cell_type": "markdown",
   "source": [
    "让我们针对上下文大小为4的LLM测试批处理大小为1的数据加载器："
   ],
   "metadata": {
    "collapsed": false
   },
   "id": "cefd2ccf9ce7aa40"
  },
  {
   "cell_type": "code",
   "execution_count": 79,
   "outputs": [],
   "source": [
    "with open(r'../../../Data/the-verdict.txt', 'r', encoding='utf-8') as f:\n",
    "    raw_text = f.read()"
   ],
   "metadata": {
    "collapsed": false,
    "ExecuteTime": {
     "end_time": "2024-06-13T03:43:34.553754900Z",
     "start_time": "2024-06-13T03:43:34.536797400Z"
    }
   },
   "id": "d38de9606568708f"
  },
  {
   "cell_type": "code",
   "execution_count": 80,
   "outputs": [
    {
     "name": "stdout",
     "output_type": "stream",
     "text": [
      "[tensor([[  40,  367, 2885, 1464]]), tensor([[ 367, 2885, 1464, 1807]])]\n"
     ]
    }
   ],
   "source": [
    "dataloader = create_dataloader_v1(\n",
    "    raw_text, batch_size=1, max_length=4, stride=1, shuffle=False\n",
    ")\n",
    "\n",
    "data_iter = iter(dataloader)\n",
    "first_batch = next(data_iter)\n",
    "print(first_batch)"
   ],
   "metadata": {
    "collapsed": false,
    "ExecuteTime": {
     "end_time": "2024-06-13T03:43:35.120478200Z",
     "start_time": "2024-06-13T03:43:34.958910600Z"
    }
   },
   "id": "b0a615ff85c99dd0"
  },
  {
   "cell_type": "code",
   "execution_count": 81,
   "outputs": [
    {
     "name": "stdout",
     "output_type": "stream",
     "text": [
      "[tensor([[ 367, 2885, 1464, 1807]]), tensor([[2885, 1464, 1807, 3619]])]\n"
     ]
    }
   ],
   "source": [
    "second_batch = next(data_iter)\n",
    "print(second_batch)"
   ],
   "metadata": {
    "collapsed": false,
    "ExecuteTime": {
     "end_time": "2024-06-13T03:44:09.772982900Z",
     "start_time": "2024-06-13T03:44:09.716135200Z"
    }
   },
   "id": "226b8de91bcc2e06"
  },
  {
   "cell_type": "markdown",
   "source": [
    "使用等于上下文长度的步幅（此处：4）的示例如下所示：\n",
    "\n",
    "![Alt text](../../../img/LLM/ch01/sliding_window_4_stride.png)"
   ],
   "metadata": {
    "collapsed": false
   },
   "id": "b35be1a912ceeb55"
  },
  {
   "cell_type": "markdown",
   "source": [
    "我们还可以创建批处理输出\n",
    "请注意，我们在这里增加步长，这样批次之间就不会有重叠，因为更多的重叠可能会导致过拟合增加"
   ],
   "metadata": {
    "collapsed": false
   },
   "id": "ce65af857e2f344b"
  },
  {
   "cell_type": "code",
   "execution_count": 82,
   "outputs": [
    {
     "name": "stdout",
     "output_type": "stream",
     "text": [
      "Inputs:\n",
      " tensor([[   40,   367,  2885,  1464],\n",
      "        [ 1807,  3619,   402,   271],\n",
      "        [10899,  2138,   257,  7026],\n",
      "        [15632,   438,  2016,   257],\n",
      "        [  922,  5891,  1576,   438],\n",
      "        [  568,   340,   373,   645],\n",
      "        [ 1049,  5975,   284,   502],\n",
      "        [  284,  3285,   326,    11]])\n",
      "\n",
      "Targets:\n",
      " tensor([[  367,  2885,  1464,  1807],\n",
      "        [ 3619,   402,   271, 10899],\n",
      "        [ 2138,   257,  7026, 15632],\n",
      "        [  438,  2016,   257,   922],\n",
      "        [ 5891,  1576,   438,   568],\n",
      "        [  340,   373,   645,  1049],\n",
      "        [ 5975,   284,   502,   284],\n",
      "        [ 3285,   326,    11,   287]])\n"
     ]
    }
   ],
   "source": [
    "dataloader = create_dataloader_v1(raw_text, batch_size=8, max_length=4, stride=4, shuffle=False)\n",
    "\n",
    "data_iter = iter(dataloader)\n",
    "inputs, targets = next(data_iter)\n",
    "print(\"Inputs:\\n\", inputs)\n",
    "print(\"\\nTargets:\\n\", targets)"
   ],
   "metadata": {
    "collapsed": false,
    "ExecuteTime": {
     "end_time": "2024-06-13T03:44:52.982314600Z",
     "start_time": "2024-06-13T03:44:52.915493700Z"
    }
   },
   "id": "8f2d1ab502e9ec10"
  },
  {
   "cell_type": "markdown",
   "source": [
    "# 7、 创建token embeddings向量"
   ],
   "metadata": {
    "collapsed": false
   },
   "id": "4634ac70177afc7c"
  },
  {
   "cell_type": "markdown",
   "source": [
    "数据已经准备好进行LLM\n",
    "但最后让我们使用嵌入层将标记嵌入到连续向量表示中\n",
    "通常，这些嵌入层是LLM本身的一部分，并在模型训练期间进行更新（训练）\n",
    "\n",
    "![Alt text](../../../img/LLM/ch01/GPT_pipeline.png)"
   ],
   "metadata": {
    "collapsed": false
   },
   "id": "96216804fcb4c146"
  },
  {
   "cell_type": "markdown",
   "source": [
    "假设我们有以下四个输入示例，输入ID分别为5、1、3和2（标记化后）："
   ],
   "metadata": {
    "collapsed": false
   },
   "id": "101ca0937f51072a"
  },
  {
   "cell_type": "code",
   "execution_count": 83,
   "outputs": [],
   "source": [
    "input_ids = torch.tensor([2, 3, 5, 1])"
   ],
   "metadata": {
    "collapsed": false,
    "ExecuteTime": {
     "end_time": "2024-06-13T05:55:54.584701400Z",
     "start_time": "2024-06-13T05:55:54.540818900Z"
    }
   },
   "id": "e28198894b5d6c93"
  },
  {
   "cell_type": "markdown",
   "source": [
    "为了简单起见，假设我们的词汇量很小，只有6个单词，并且我们想要创建大小为3的嵌入："
   ],
   "metadata": {
    "collapsed": false
   },
   "id": "15e810a783046fa5"
  },
  {
   "cell_type": "code",
   "execution_count": 84,
   "outputs": [],
   "source": [
    "vocab_size = 6\n",
    "output_dim = 3\n",
    "\n",
    "torch.manual_seed(123)\n",
    "embedding_layer = torch.nn.Embedding(vocab_size, output_dim)"
   ],
   "metadata": {
    "collapsed": false,
    "ExecuteTime": {
     "end_time": "2024-06-13T05:56:52.182652800Z",
     "start_time": "2024-06-13T05:56:52.027509300Z"
    }
   },
   "id": "389b441102779a20"
  },
  {
   "cell_type": "markdown",
   "source": [
    "这将产生6x3的权重矩阵："
   ],
   "metadata": {
    "collapsed": false
   },
   "id": "2c3f5423a7b3309a"
  },
  {
   "cell_type": "code",
   "execution_count": 87,
   "outputs": [
    {
     "name": "stdout",
     "output_type": "stream",
     "text": [
      "Parameter containing:\n",
      "tensor([[ 0.3374, -0.1778, -0.1690],\n",
      "        [ 0.9178,  1.5810,  1.3010],\n",
      "        [ 1.2753, -0.2010, -0.1606],\n",
      "        [-0.4015,  0.9666, -1.1481],\n",
      "        [-1.1589,  0.3255, -0.6315],\n",
      "        [-2.8400, -0.7849, -1.4096]], requires_grad=True)\n"
     ]
    }
   ],
   "source": [
    "print(embedding_layer.weight)"
   ],
   "metadata": {
    "collapsed": false,
    "ExecuteTime": {
     "end_time": "2024-06-13T05:57:23.582021400Z",
     "start_time": "2024-06-13T05:57:23.559083100Z"
    }
   },
   "id": "e5f8c3de84402501"
  },
  {
   "cell_type": "markdown",
   "source": [
    "- 对于那些熟悉一个热编码的人来说，上面的嵌入层方法本质上只是在完全连接层中实现一个热编码器-然后进行矩阵乘法的更有效的方式，这在中的补充代码中进行了描述\n",
    "- 因为嵌入层只是一种更有效的实现，相当于一个热编码和矩阵乘法方法，所以它可以被视为一个可以通过反向传播优化的神经网络层\n",
    "- 要将id为3的token转换为三维向量，我们执行以下操作："
   ],
   "metadata": {
    "collapsed": false
   },
   "id": "9e4645b0bf9f79a3"
  },
  {
   "cell_type": "code",
   "execution_count": 88,
   "outputs": [
    {
     "name": "stdout",
     "output_type": "stream",
     "text": [
      "tensor([[-0.4015,  0.9666, -1.1481]], grad_fn=<EmbeddingBackward0>)\n"
     ]
    }
   ],
   "source": [
    "print(embedding_layer(torch.tensor([3])))"
   ],
   "metadata": {
    "collapsed": false,
    "ExecuteTime": {
     "end_time": "2024-06-13T05:59:52.483658400Z",
     "start_time": "2024-06-13T05:59:52.417834800Z"
    }
   },
   "id": "f4dfee710f50ded8"
  },
  {
   "cell_type": "markdown",
   "source": [
    "注意,上面是embedding_layer权重矩阵中的第4行\n",
    "要嵌入上面的所有四个input_ids值，我们需要进行以下操作"
   ],
   "metadata": {
    "collapsed": false
   },
   "id": "5af85ac190794f2c"
  },
  {
   "cell_type": "code",
   "execution_count": 89,
   "outputs": [
    {
     "name": "stdout",
     "output_type": "stream",
     "text": [
      "tensor([[ 1.2753, -0.2010, -0.1606],\n",
      "        [-0.4015,  0.9666, -1.1481],\n",
      "        [-2.8400, -0.7849, -1.4096],\n",
      "        [ 0.9178,  1.5810,  1.3010]], grad_fn=<EmbeddingBackward0>)\n"
     ]
    }
   ],
   "source": [
    "print(embedding_layer(input_ids))"
   ],
   "metadata": {
    "collapsed": false,
    "ExecuteTime": {
     "end_time": "2024-06-13T06:01:27.244377400Z",
     "start_time": "2024-06-13T06:01:27.170577100Z"
    }
   },
   "id": "64a5e7bbda12da96"
  },
  {
   "cell_type": "markdown",
   "source": [
    "嵌入层本质上是一种查找操作：\n",
    "\n",
    "![Alt text](../../../img/LLM/ch01/embedding_layer.png)"
   ],
   "metadata": {
    "collapsed": false
   },
   "id": "e38838e0723a44e0"
  },
  {
   "cell_type": "markdown",
   "source": [
    "# 8、编码单词位置"
   ],
   "metadata": {
    "collapsed": false
   },
   "id": "377f6db7eb1eddbd"
  },
  {
   "cell_type": "markdown",
   "source": [
    "- 嵌入层将ID转换为相同的矢量表示，而不考虑它们在输入序列中的位置：\n",
    "\n",
    "![Alt text](../../../img/LLM/ch01/embedding_layer_example.png)\n",
    "\n",
    "- 位置嵌入与标记嵌入向量相结合，以形成大型语言模型的输入嵌入：\n",
    "\n",
    "![Alt text](../../../img/LLM/ch01/position_embedding.png)\n",
    "\n",
    "- BytePair编码器的词汇表大小为50257：\n",
    "- 假设我们想要将输入令牌编码为256维向量表示："
   ],
   "metadata": {
    "collapsed": false
   },
   "id": "d4c0b84eade51014"
  },
  {
   "cell_type": "code",
   "execution_count": 90,
   "outputs": [],
   "source": [
    "vocab_size = 50257\n",
    "output_dim = 256\n",
    "\n",
    "token_embedding_layer = torch.nn.Embedding(vocab_size, output_dim)"
   ],
   "metadata": {
    "collapsed": false,
    "ExecuteTime": {
     "end_time": "2024-06-13T06:15:40.616873900Z",
     "start_time": "2024-06-13T06:15:40.501624800Z"
    }
   },
   "id": "5303850e2001339a"
  },
  {
   "cell_type": "markdown",
   "source": [
    "- 如果我们从数据加载器中采样数据，我们将每个批次中的token嵌入到256维向量中\n",
    "- 如果我们有一个批量大小为8，每个有4个token，则会产生一个8 x 4 x 256的张量："
   ],
   "metadata": {
    "collapsed": false
   },
   "id": "f5556702af952f0a"
  },
  {
   "cell_type": "code",
   "execution_count": 91,
   "outputs": [],
   "source": [
    "max_length = 4\n",
    "dataloader = create_dataloader_v1(\n",
    "    raw_text, batch_size=8, max_length=max_length,\n",
    "    stride=max_length, shuffle=False\n",
    ")\n",
    "data_iter = iter(dataloader)\n",
    "inputs, targets = next(data_iter)"
   ],
   "metadata": {
    "collapsed": false,
    "ExecuteTime": {
     "end_time": "2024-06-13T06:17:13.119938700Z",
     "start_time": "2024-06-13T06:17:12.934435300Z"
    }
   },
   "id": "5023d7634427f43c"
  },
  {
   "cell_type": "code",
   "execution_count": 92,
   "outputs": [
    {
     "name": "stdout",
     "output_type": "stream",
     "text": [
      "Token IDs:\n",
      " tensor([[   40,   367,  2885,  1464],\n",
      "        [ 1807,  3619,   402,   271],\n",
      "        [10899,  2138,   257,  7026],\n",
      "        [15632,   438,  2016,   257],\n",
      "        [  922,  5891,  1576,   438],\n",
      "        [  568,   340,   373,   645],\n",
      "        [ 1049,  5975,   284,   502],\n",
      "        [  284,  3285,   326,    11]])\n",
      "\n",
      "Inputs shape:\n",
      " torch.Size([8, 4])\n"
     ]
    }
   ],
   "source": [
    "print(\"Token IDs:\\n\", inputs)\n",
    "print(\"\\nInputs shape:\\n\", inputs.shape)"
   ],
   "metadata": {
    "collapsed": false,
    "ExecuteTime": {
     "end_time": "2024-06-13T06:17:48.207017Z",
     "start_time": "2024-06-13T06:17:48.130218900Z"
    }
   },
   "id": "a5b84c625585be32"
  },
  {
   "cell_type": "code",
   "execution_count": 93,
   "outputs": [
    {
     "name": "stdout",
     "output_type": "stream",
     "text": [
      "torch.Size([8, 4, 256])\n"
     ]
    }
   ],
   "source": [
    "token_embeddings = token_embedding_layer(inputs)\n",
    "print(token_embeddings.shape)"
   ],
   "metadata": {
    "collapsed": false,
    "ExecuteTime": {
     "end_time": "2024-06-13T06:18:16.895735200Z",
     "start_time": "2024-06-13T06:18:16.803981200Z"
    }
   },
   "id": "d26950f759f58b91"
  },
  {
   "cell_type": "markdown",
   "source": [
    "GPT-2使用绝对位置嵌入，因此我们只需创建另一个嵌入层："
   ],
   "metadata": {
    "collapsed": false
   },
   "id": "d8a6bad949e8a9e0"
  },
  {
   "cell_type": "code",
   "execution_count": 1,
   "outputs": [
    {
     "ename": "NameError",
     "evalue": "name 'max_length' is not defined",
     "output_type": "error",
     "traceback": [
      "\u001B[1;31m---------------------------------------------------------------------------\u001B[0m",
      "\u001B[1;31mNameError\u001B[0m                                 Traceback (most recent call last)",
      "Cell \u001B[1;32mIn[1], line 1\u001B[0m\n\u001B[1;32m----> 1\u001B[0m context_length \u001B[38;5;241m=\u001B[39m \u001B[43mmax_length\u001B[49m\n\u001B[0;32m      2\u001B[0m pos_embedding_layer \u001B[38;5;241m=\u001B[39m torch\u001B[38;5;241m.\u001B[39mnn\u001B[38;5;241m.\u001B[39mEmbedding(context_length, output_dim)\n",
      "\u001B[1;31mNameError\u001B[0m: name 'max_length' is not defined"
     ]
    }
   ],
   "source": [
    "context_length = max_length\n",
    "pos_embedding_layer = torch.nn.Embedding(context_length, output_dim)"
   ],
   "metadata": {
    "collapsed": false,
    "ExecuteTime": {
     "end_time": "2024-06-21T07:33:33.082408300Z",
     "start_time": "2024-06-21T07:33:31.584809600Z"
    }
   },
   "id": "7bd117dd70bea302"
  },
  {
   "cell_type": "code",
   "execution_count": 95,
   "outputs": [
    {
     "name": "stdout",
     "output_type": "stream",
     "text": [
      "torch.Size([4, 256])\n"
     ]
    }
   ],
   "source": [
    "pos_embeddings = pos_embedding_layer(torch.arange(max_length))\n",
    "print(pos_embeddings.shape)"
   ],
   "metadata": {
    "collapsed": false,
    "ExecuteTime": {
     "end_time": "2024-06-13T06:19:32.665158600Z",
     "start_time": "2024-06-13T06:19:32.581383300Z"
    }
   },
   "id": "d2a9a7447db9aea5"
  },
  {
   "cell_type": "markdown",
   "source": [
    "要创建LLM中使用的输入嵌入，我们只需添加标记和位置嵌入："
   ],
   "metadata": {
    "collapsed": false
   },
   "id": "3fbd5d47fae6c3b9"
  },
  {
   "cell_type": "code",
   "execution_count": 96,
   "outputs": [
    {
     "name": "stdout",
     "output_type": "stream",
     "text": [
      "torch.Size([8, 4, 256])\n"
     ]
    }
   ],
   "source": [
    "input_embeddings = token_embeddings + pos_embeddings\n",
    "print(input_embeddings.shape)"
   ],
   "metadata": {
    "collapsed": false,
    "ExecuteTime": {
     "end_time": "2024-06-13T06:20:32.745193600Z",
     "start_time": "2024-06-13T06:20:32.671391700Z"
    }
   },
   "id": "8957668d6a8e2f71"
  },
  {
   "cell_type": "markdown",
   "source": [
    "在输入处理工作流的初始阶段，输入文本被分割成单独的标记\n",
    "在该分割之后，这些token被转换为基于预定义词汇表的token ID：\n",
    "\n",
    "![Alt text](../../../img/LLM/ch01/vocabulary_with_GPT_pipeline.png)"
   ],
   "metadata": {
    "collapsed": false
   },
   "id": "117853cd6f3e3932"
  },
  {
   "cell_type": "code",
   "execution_count": null,
   "outputs": [],
   "source": [],
   "metadata": {
    "collapsed": false
   },
   "id": "c3ad30cf0bb81a9a"
  }
 ],
 "metadata": {
  "kernelspec": {
   "name": "llm",
   "language": "python",
   "display_name": "LLM"
  },
  "language_info": {
   "codemirror_mode": {
    "name": "ipython",
    "version": 2
   },
   "file_extension": ".py",
   "mimetype": "text/x-python",
   "name": "python",
   "nbconvert_exporter": "python",
   "pygments_lexer": "ipython2",
   "version": "2.7.6"
  }
 },
 "nbformat": 4,
 "nbformat_minor": 5
}
