{
 "cells": [
  {
   "cell_type": "markdown",
   "source": [
    "# 理解Embedding层和线性层的区别"
   ],
   "metadata": {
    "collapsed": false
   },
   "id": "7ffd73194f7adefd"
  },
  {
   "cell_type": "markdown",
   "source": [
    "PyTorch中的嵌入层实现了与执行矩阵乘法的线性层相同的功能;\n",
    "我们使用嵌入层的原因是计算效率,我们将使用PyTorch中的代码示例逐步研究这种关系"
   ],
   "metadata": {
    "collapsed": false
   },
   "id": "5cd6cae8cede85d3"
  },
  {
   "cell_type": "code",
   "execution_count": 4,
   "outputs": [
    {
     "name": "stdout",
     "output_type": "stream",
     "text": [
      "PyTorch version: 2.3.1+cpu\n"
     ]
    }
   ],
   "source": [
    "import torch\n",
    "import torch.nn as nn\n",
    "print(\"PyTorch version:\", torch.__version__)"
   ],
   "metadata": {
    "collapsed": false,
    "ExecuteTime": {
     "end_time": "2024-06-13T09:38:49.531015700Z",
     "start_time": "2024-06-13T09:38:49.518789500Z"
    }
   },
   "id": "194bf58d230de8a6"
  },
  {
   "cell_type": "markdown",
   "source": [
    "# Embedding层"
   ],
   "metadata": {
    "collapsed": false
   },
   "id": "4d2bffb0a716fe83"
  },
  {
   "cell_type": "code",
   "execution_count": 3,
   "outputs": [],
   "source": [
    "idx = torch.tensor([2, 3, 1])\n",
    "\n",
    "num_idx = max(idx) + 1\n",
    "\n",
    "output_dim = 5"
   ],
   "metadata": {
    "collapsed": false,
    "ExecuteTime": {
     "end_time": "2024-06-13T09:38:23.386901600Z",
     "start_time": "2024-06-13T09:38:23.312102800Z"
    }
   },
   "id": "578f70a75362d06c"
  },
  {
   "cell_type": "code",
   "execution_count": 5,
   "outputs": [],
   "source": [
    "torch.manual_seed(123)\n",
    "\n",
    "embedding_layers = nn.Embedding(num_idx, output_dim)"
   ],
   "metadata": {
    "collapsed": false,
    "ExecuteTime": {
     "end_time": "2024-06-13T09:39:05.079516600Z",
     "start_time": "2024-06-13T09:39:05.057573700Z"
    }
   },
   "id": "8a9d3332a955845e"
  },
  {
   "cell_type": "code",
   "execution_count": 6,
   "outputs": [
    {
     "data": {
      "text/plain": "Parameter containing:\ntensor([[ 0.3374, -0.1778, -0.3035, -0.5880,  1.5810],\n        [ 1.3010,  1.2753, -0.2010, -0.1606, -0.4015],\n        [ 0.6957, -1.8061, -1.1589,  0.3255, -0.6315],\n        [-2.8400, -0.7849, -1.4096, -0.4076,  0.7953]], requires_grad=True)"
     },
     "execution_count": 6,
     "metadata": {},
     "output_type": "execute_result"
    }
   ],
   "source": [
    "embedding_layers.weight"
   ],
   "metadata": {
    "collapsed": false,
    "ExecuteTime": {
     "end_time": "2024-06-13T09:39:12.442835200Z",
     "start_time": "2024-06-13T09:39:12.374020400Z"
    }
   },
   "id": "c70a332d05565608"
  },
  {
   "cell_type": "code",
   "execution_count": 8,
   "outputs": [
    {
     "data": {
      "text/plain": "tensor([[ 1.3010,  1.2753, -0.2010, -0.1606, -0.4015]],\n       grad_fn=<EmbeddingBackward0>)"
     },
     "execution_count": 8,
     "metadata": {},
     "output_type": "execute_result"
    }
   ],
   "source": [
    "embedding_layers(torch.tensor([1]))"
   ],
   "metadata": {
    "collapsed": false,
    "ExecuteTime": {
     "end_time": "2024-06-13T09:39:34.449004300Z",
     "start_time": "2024-06-13T09:39:34.355229100Z"
    }
   },
   "id": "a39c170f4665775b"
  },
  {
   "cell_type": "code",
   "execution_count": null,
   "outputs": [],
   "source": [],
   "metadata": {
    "collapsed": false
   },
   "id": "44d02076de390f24"
  }
 ],
 "metadata": {
  "kernelspec": {
   "name": "llm",
   "language": "python",
   "display_name": "LLM"
  },
  "language_info": {
   "codemirror_mode": {
    "name": "ipython",
    "version": 2
   },
   "file_extension": ".py",
   "mimetype": "text/x-python",
   "name": "python",
   "nbconvert_exporter": "python",
   "pygments_lexer": "ipython2",
   "version": "2.7.6"
  }
 },
 "nbformat": 4,
 "nbformat_minor": 5
}
