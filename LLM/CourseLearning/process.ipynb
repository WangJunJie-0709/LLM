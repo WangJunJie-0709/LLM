{
 "cells": [
  {
   "cell_type": "code",
   "execution_count": 1,
   "outputs": [
    {
     "name": "stdout",
     "output_type": "stream",
     "text": [
      "torch version: 2.3.1\n",
      "tiktoken version: 0.7.0\n",
      "tensorflow version: 2.16.1\n",
      "matplotlib version: 3.9.0\n"
     ]
    }
   ],
   "source": [
    "from importlib.metadata import version\n",
    "\n",
    "import tiktoken\n",
    "import torch\n",
    "import tensorflow as tf\n",
    "import matplotlib\n",
    "import torch.nn as nn\n",
    "import torch.nn.functional as F\n",
    "\n",
    "print(\"torch version:\", version(\"torch\"))\n",
    "print(\"tiktoken version:\", version(\"tiktoken\"))\n",
    "print(\"tensorflow version:\", version(\"tensorflow\"))\n",
    "print(\"matplotlib version:\", version(\"matplotlib\"))"
   ],
   "metadata": {
    "collapsed": false,
    "ExecuteTime": {
     "end_time": "2024-06-20T09:50:55.368964600Z",
     "start_time": "2024-06-20T09:50:40.467280200Z"
    }
   },
   "id": "eb242f2f4e59571f"
  },
  {
   "cell_type": "markdown",
   "source": [
    "# 一、 文本数据处理"
   ],
   "metadata": {
    "collapsed": false
   },
   "id": "1066733534c87104"
  },
  {
   "cell_type": "markdown",
   "source": [
    "- 本章介绍数据准备和采样，以便为LLM“准备”输入数据\n",
    "\n",
    "![Alt text](../../img/LLM/ch01/LLM_Course_pipeline.png)"
   ],
   "metadata": {
    "collapsed": false
   },
   "id": "6ac0f4567a90b915"
  },
  {
   "cell_type": "markdown",
   "source": [
    "# 1.1 理解word embeddings"
   ],
   "metadata": {
    "collapsed": false
   },
   "id": "9df9697fb807407f"
  },
  {
   "cell_type": "markdown",
   "source": [],
   "metadata": {
    "collapsed": false
   },
   "id": "f914ea135a3dcc12"
  }
 ],
 "metadata": {
  "kernelspec": {
   "name": "llm",
   "language": "python",
   "display_name": "LLM"
  },
  "language_info": {
   "codemirror_mode": {
    "name": "ipython",
    "version": 2
   },
   "file_extension": ".py",
   "mimetype": "text/x-python",
   "name": "python",
   "nbconvert_exporter": "python",
   "pygments_lexer": "ipython2",
   "version": "2.7.6"
  }
 },
 "nbformat": 4,
 "nbformat_minor": 5
}
