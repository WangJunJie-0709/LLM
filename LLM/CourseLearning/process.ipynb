{
 "cells": [
  {
   "cell_type": "code",
   "execution_count": 1,
   "outputs": [
    {
     "name": "stdout",
     "output_type": "stream",
     "text": [
      "torch version: 2.3.1\n",
      "tiktoken version: 0.7.0\n",
      "tensorflow version: 2.16.1\n",
      "matplotlib version: 3.9.0\n"
     ]
    }
   ],
   "source": [
    "from importlib.metadata import version\n",
    "\n",
    "import tiktoken\n",
    "import torch\n",
    "import tensorflow as tf\n",
    "import matplotlib\n",
    "import torch.nn as nn\n",
    "import torch.nn.functional as F\n",
    "\n",
    "print(\"torch version:\", version(\"torch\"))\n",
    "print(\"tiktoken version:\", version(\"tiktoken\"))\n",
    "print(\"tensorflow version:\", version(\"tensorflow\"))\n",
    "print(\"matplotlib version:\", version(\"matplotlib\"))"
   ],
   "metadata": {
    "collapsed": false,
    "ExecuteTime": {
     "end_time": "2024-07-23T11:28:08.120015300Z",
     "start_time": "2024-07-23T11:27:46.056999900Z"
    }
   },
   "id": "eb242f2f4e59571f"
  },
  {
   "cell_type": "markdown",
   "source": [
    "# 一、 文本数据处理"
   ],
   "metadata": {
    "collapsed": false
   },
   "id": "1066733534c87104"
  },
  {
   "cell_type": "markdown",
   "source": [
    "- 本章介绍数据准备和采样，以便为LLM“准备”输入数据\n",
    "\n",
    "![Alt text](../../img/LLM/ch01/LLM_Course_pipeline.png)"
   ],
   "metadata": {
    "collapsed": false
   },
   "id": "6ac0f4567a90b915"
  },
  {
   "cell_type": "markdown",
   "source": [
    "## 1.1 理解word embeddings"
   ],
   "metadata": {
    "collapsed": false
   },
   "id": "9df9697fb807407f"
  },
  {
   "cell_type": "markdown",
   "source": [
    "- embedding有多种形式,视频、文字以及语音的embedding\n",
    "\n",
    "![Alt text](../../img/LLM/ch01/forms_of_embedding.png)\n",
    "\n",
    "- 这里我们先只关注文本的embedding\n",
    "- LLM使用的是高维空间的embedding向量,我们用一个二维嵌入来可视化一下这个高维空间\n",
    "\n",
    "![Alt text](../../img/LLM/ch01/high_dimensional_space.png)"
   ],
   "metadata": {
    "collapsed": false
   },
   "id": "befd5c5c717cf276"
  },
  {
   "cell_type": "markdown",
   "source": [
    "## 1.2 Tokenizer Text"
   ],
   "metadata": {
    "collapsed": false
   },
   "id": "55c323af6d68e568"
  },
  {
   "cell_type": "markdown",
   "source": [
    "- 在本节中,将文本分解为更小的单元,并将其转换为计算机可识别的id\n",
    "\n",
    "![Alt text](../../img/LLM/ch01/tokenize_text.png)"
   ],
   "metadata": {
    "collapsed": false
   },
   "id": "7755db6531aac607"
  },
  {
   "cell_type": "code",
   "execution_count": 2,
   "outputs": [
    {
     "name": "stdout",
     "output_type": "stream",
     "text": [
      "Total number of article: 20479\n",
      "I HAD always thought Jack Gisburn rather a cheap genius--though a good fellow enough--so it was no \n"
     ]
    }
   ],
   "source": [
    "import os\n",
    "import urllib.request\n",
    "\n",
    "if not os.path.exists(\"../../Data/the-verdict.txt\"):\n",
    "    url = (\"https://raw.githubusercontent.com/rasbt/\"\n",
    "           \"LLMs-from-scratch/main/ch02/01_main-chapter-code/\"\n",
    "           \"the-verdict.txt\")\n",
    "    file_path = \"the-verdict.txt\"\n",
    "    urllib.request.urlretrieve(url, file_path)\n",
    "    \n",
    "with open(\"../../Data/the-verdict.txt\", \"r\", encoding=\"utf-8\") as f:\n",
    "    raw_text = f.read()\n",
    "    \n",
    "print(f\"Total number of article: {len(raw_text)}\")\n",
    "print(raw_text[:99])"
   ],
   "metadata": {
    "collapsed": false,
    "ExecuteTime": {
     "end_time": "2024-07-23T11:28:08.168886200Z",
     "start_time": "2024-07-23T11:28:08.111039200Z"
    }
   },
   "id": "e3a0b594d55a1570"
  },
  {
   "cell_type": "markdown",
   "source": [
    "- tokenize 文本, 并且进行预处理"
   ],
   "metadata": {
    "collapsed": false
   },
   "id": "f914ea135a3dcc12"
  },
  {
   "cell_type": "code",
   "execution_count": 3,
   "outputs": [
    {
     "name": "stdout",
     "output_type": "stream",
     "text": [
      "['Hello', ',', 'world', '.', 'Is', 'this', '--', 'a', 'test', '?']\n"
     ]
    }
   ],
   "source": [
    "import re\n",
    "\n",
    "text = \"Hello, world. Is this-- a test?\"\n",
    "\n",
    "result = re.split(r'([,.:;?_!\"()\\']|--|\\s)', text)\n",
    "result = [item.strip() for item in result if item.strip()]\n",
    "print(result)"
   ],
   "metadata": {
    "collapsed": false,
    "ExecuteTime": {
     "end_time": "2024-07-23T11:28:08.256649100Z",
     "start_time": "2024-07-23T11:28:08.129988800Z"
    }
   },
   "id": "e2464f8134b8221d"
  },
  {
   "cell_type": "markdown",
   "source": [
    "![Alt text](../../img/LLM/ch01/tokenization_of_raw_text.png)"
   ],
   "metadata": {
    "collapsed": false
   },
   "id": "c6bac99f3f779532"
  },
  {
   "cell_type": "code",
   "execution_count": 4,
   "outputs": [
    {
     "name": "stdout",
     "output_type": "stream",
     "text": [
      "['I', 'HAD', 'always', 'thought', 'Jack', 'Gisburn', 'rather', 'a', 'cheap', 'genius', '--', 'though', 'a', 'good', 'fellow', 'enough', '--', 'so', 'it', 'was', 'no', 'great', 'surprise', 'to', 'me', 'to', 'hear', 'that', ',', 'in']\n"
     ]
    }
   ],
   "source": [
    "preprocessed = re.split(r'([,.:;?_!\"()\\']|--|\\s)', raw_text)\n",
    "preprocessed = [item.strip() for item in preprocessed if item.strip()]\n",
    "print(preprocessed[:30])"
   ],
   "metadata": {
    "collapsed": false,
    "ExecuteTime": {
     "end_time": "2024-07-23T11:28:08.256649100Z",
     "start_time": "2024-07-23T11:28:08.140958900Z"
    }
   },
   "id": "cd9bc0c36d45b536"
  },
  {
   "cell_type": "markdown",
   "source": [
    "## 1.3 将tokens转换为token ID"
   ],
   "metadata": {
    "collapsed": false
   },
   "id": "e9fa271d9622ba5d"
  },
  {
   "cell_type": "markdown",
   "source": [
    "- 接下来,将文本tokens转换为token IDs,以便于之后我们可以通过embedding层对其进行处理\n",
    "\n",
    "![Alt text](../../img/LLM/ch01/token_2_tokenID.png)\n",
    "\n",
    "- 从这些tokens,我们现在可以构建一个包括所有tokens的词表"
   ],
   "metadata": {
    "collapsed": false
   },
   "id": "d5adaec274bcc93e"
  },
  {
   "cell_type": "code",
   "execution_count": 5,
   "outputs": [
    {
     "name": "stdout",
     "output_type": "stream",
     "text": [
      "('!', 0)\n",
      "('\"', 1)\n",
      "(\"'\", 2)\n",
      "('(', 3)\n",
      "(')', 4)\n",
      "(',', 5)\n",
      "('--', 6)\n",
      "('.', 7)\n",
      "(':', 8)\n",
      "(';', 9)\n",
      "('?', 10)\n",
      "('A', 11)\n",
      "('Ah', 12)\n",
      "('Among', 13)\n",
      "('And', 14)\n",
      "('Are', 15)\n",
      "('Arrt', 16)\n",
      "('As', 17)\n",
      "('At', 18)\n",
      "('Be', 19)\n",
      "('Begin', 20)\n",
      "('Burlington', 21)\n",
      "('But', 22)\n",
      "('By', 23)\n",
      "('Carlo', 24)\n",
      "('Chicago', 25)\n",
      "('Claude', 26)\n",
      "('Come', 27)\n",
      "('Croft', 28)\n",
      "('Destroyed', 29)\n",
      "('Devonshire', 30)\n"
     ]
    }
   ],
   "source": [
    "# 去重\n",
    "all_words = sorted(set(preprocessed))\n",
    "vocab_size = len(all_words)\n",
    "\n",
    "# 构建词表\n",
    "vocab = {token:integer for integer, token in enumerate(all_words)}\n",
    "\n",
    "for i, item in enumerate(vocab.items()):\n",
    "    print(item)\n",
    "    if i >= 30:\n",
    "        break"
   ],
   "metadata": {
    "collapsed": false,
    "ExecuteTime": {
     "end_time": "2024-07-23T11:28:12.913275300Z",
     "start_time": "2024-07-23T11:28:12.825510200Z"
    }
   },
   "id": "f80a7fd0a0e0980e"
  },
  {
   "cell_type": "code",
   "execution_count": 6,
   "outputs": [],
   "source": [
    "class SimpleTokenizerV1:\n",
    "    def __init__(self, vocab):\n",
    "        '''\n",
    "        Tokenizer 类\n",
    "        :param vocab: 词表 \n",
    "        '''\n",
    "        self.str_to_int = vocab\n",
    "        self.int_to_str = {i:s for s, i in vocab.items()}\n",
    "        \n",
    "    def encode(self, text):\n",
    "        preprocessed = re.split(r'([,.?_!\"()\\']|--|\\s)', text)\n",
    "        preprocessed = [\n",
    "            item.strip() for item in preprocessed if item.strip()\n",
    "        ]\n",
    "        ids = [self.str_to_int[s] for s in preprocessed]\n",
    "        return ids\n",
    "    \n",
    "    def decode(self, ids):\n",
    "        text = \" \".join([self.int_to_str[i] for i in ids])\n",
    "        \n",
    "        text = re.sub(r'\\s+([,.?!\"()\\'])', r'\\1', text)\n",
    "        return text"
   ],
   "metadata": {
    "collapsed": false,
    "ExecuteTime": {
     "end_time": "2024-07-23T11:28:21.903527100Z",
     "start_time": "2024-07-23T11:28:21.745954600Z"
    }
   },
   "id": "bbe9578002d63904"
  },
  {
   "cell_type": "markdown",
   "source": [
    "![Alt text](../../img/LLM/ch01/encode_decode.png)\n",
    "\n",
    "- 我们可以用tokenizer类将文本转换为整数,这些整数可以作为LLM的embedding层输入"
   ],
   "metadata": {
    "collapsed": false
   },
   "id": "234a625d16e12a9b"
  },
  {
   "cell_type": "code",
   "execution_count": 7,
   "outputs": [
    {
     "name": "stdout",
     "output_type": "stream",
     "text": [
      "[56, 2, 850, 988, 602, 533, 746, 5, 1126, 596, 5, 67, 7, 38, 851, 1108, 754, 793, 7]\n",
      "It' s the last he painted, you know, Mrs. Gisburn said with pardonable pride.\n"
     ]
    }
   ],
   "source": [
    "tokenizer = SimpleTokenizerV1(vocab)\n",
    "\n",
    "text = \"It's the last he painted, you know, Mrs. Gisburn said with pardonable pride.\"\n",
    "\n",
    "ids = tokenizer.encode(text)\n",
    "print(ids)\n",
    "decode_text = tokenizer.decode(ids)\n",
    "print(decode_text)"
   ],
   "metadata": {
    "collapsed": false,
    "ExecuteTime": {
     "end_time": "2024-07-23T11:28:24.731642600Z",
     "start_time": "2024-07-23T11:28:24.606821700Z"
    }
   },
   "id": "17b2a0f48beb1ae"
  },
  {
   "cell_type": "markdown",
   "source": [
    "## 1.4 特殊文本tokens"
   ],
   "metadata": {
    "collapsed": false
   },
   "id": "46ae98c6c5779379"
  },
  {
   "cell_type": "markdown",
   "source": [
    "- 为未知单词添加一些“特殊”标记并表示文本的结尾是很有用的\n",
    "\n",
    "![Alt text](../../img/LLM/ch01/special_token.png)\n",
    "\n",
    "- 一些 tokenizer 使用特殊的 tokens 来帮助LLM提供额外的上下文\n",
    "- 其中一些特殊 tokens 是\n",
    "    - [BOS]（序列的开始）标记文本的开始\n",
    "    - [EOS]（序列结束）标记文本的结束位置（这通常用于连接多个不相关的文本，例如，两篇不同的维基百科文章或两本不同的书，等等）\n",
    "    - [PAD]（填充）如果我们训练批量大小大于1的LLM（我们可能包括多个不同长度的文本；使用填充 token，我们将较短的文本填充到最长的长度，使所有文本的长度相等）\n",
    "    - [UNK]表示未包含在词汇表中的词汇\n",
    "- 请注意，GPT-2不需要上述任何tokens，而只使用<|endoftext|> token 来降低复杂性\n",
    "    - <|endoftext|>类似于上面提到的[EOS] token\n",
    "- GPT还使用<|endoftext|>进行填充 (因为我们在对批处理输入进行训练时通常使用掩码，所以无论如何我们都不会使用填充的tokens，所以这些 tokens 是什么并不重要)\n",
    "- GPT-2不对词汇表外的单词使用<UNK>标记；相反，GPT-2使用了一个字节对编码（BPE）标记器，它将字分解为子字单元，我们将在后面的部分中讨论\n",
    "\n",
    "![Alt text](../../img/LLM/ch01/endoftext_example.png)"
   ],
   "metadata": {
    "collapsed": false
   },
   "id": "b770bad20ffbf91d"
  },
  {
   "cell_type": "code",
   "execution_count": 8,
   "outputs": [
    {
     "ename": "KeyError",
     "evalue": "'Hello'",
     "output_type": "error",
     "traceback": [
      "\u001B[1;31m---------------------------------------------------------------------------\u001B[0m",
      "\u001B[1;31mKeyError\u001B[0m                                  Traceback (most recent call last)",
      "Cell \u001B[1;32mIn[8], line 5\u001B[0m\n\u001B[0;32m      1\u001B[0m tokenizer \u001B[38;5;241m=\u001B[39m SimpleTokenizerV1(vocab)\n\u001B[0;32m      3\u001B[0m text \u001B[38;5;241m=\u001B[39m (\u001B[38;5;124m\"\u001B[39m\u001B[38;5;124mHello, do you like tea. Is this-- a test?\u001B[39m\u001B[38;5;124m\"\u001B[39m)\n\u001B[1;32m----> 5\u001B[0m \u001B[43mtokenizer\u001B[49m\u001B[38;5;241;43m.\u001B[39;49m\u001B[43mencode\u001B[49m\u001B[43m(\u001B[49m\u001B[43mtext\u001B[49m\u001B[43m)\u001B[49m\n",
      "Cell \u001B[1;32mIn[6], line 15\u001B[0m, in \u001B[0;36mSimpleTokenizerV1.encode\u001B[1;34m(self, text)\u001B[0m\n\u001B[0;32m     11\u001B[0m preprocessed \u001B[38;5;241m=\u001B[39m re\u001B[38;5;241m.\u001B[39msplit(\u001B[38;5;124mr\u001B[39m\u001B[38;5;124m'\u001B[39m\u001B[38;5;124m([,.?_!\u001B[39m\u001B[38;5;124m\"\u001B[39m\u001B[38;5;124m()\u001B[39m\u001B[38;5;130;01m\\'\u001B[39;00m\u001B[38;5;124m]|--|\u001B[39m\u001B[38;5;124m\\\u001B[39m\u001B[38;5;124ms)\u001B[39m\u001B[38;5;124m'\u001B[39m, text)\n\u001B[0;32m     12\u001B[0m preprocessed \u001B[38;5;241m=\u001B[39m [\n\u001B[0;32m     13\u001B[0m     item\u001B[38;5;241m.\u001B[39mstrip() \u001B[38;5;28;01mfor\u001B[39;00m item \u001B[38;5;129;01min\u001B[39;00m preprocessed \u001B[38;5;28;01mif\u001B[39;00m item\u001B[38;5;241m.\u001B[39mstrip()\n\u001B[0;32m     14\u001B[0m ]\n\u001B[1;32m---> 15\u001B[0m ids \u001B[38;5;241m=\u001B[39m [\u001B[38;5;28mself\u001B[39m\u001B[38;5;241m.\u001B[39mstr_to_int[s] \u001B[38;5;28;01mfor\u001B[39;00m s \u001B[38;5;129;01min\u001B[39;00m preprocessed]\n\u001B[0;32m     16\u001B[0m \u001B[38;5;28;01mreturn\u001B[39;00m ids\n",
      "Cell \u001B[1;32mIn[6], line 15\u001B[0m, in \u001B[0;36m<listcomp>\u001B[1;34m(.0)\u001B[0m\n\u001B[0;32m     11\u001B[0m preprocessed \u001B[38;5;241m=\u001B[39m re\u001B[38;5;241m.\u001B[39msplit(\u001B[38;5;124mr\u001B[39m\u001B[38;5;124m'\u001B[39m\u001B[38;5;124m([,.?_!\u001B[39m\u001B[38;5;124m\"\u001B[39m\u001B[38;5;124m()\u001B[39m\u001B[38;5;130;01m\\'\u001B[39;00m\u001B[38;5;124m]|--|\u001B[39m\u001B[38;5;124m\\\u001B[39m\u001B[38;5;124ms)\u001B[39m\u001B[38;5;124m'\u001B[39m, text)\n\u001B[0;32m     12\u001B[0m preprocessed \u001B[38;5;241m=\u001B[39m [\n\u001B[0;32m     13\u001B[0m     item\u001B[38;5;241m.\u001B[39mstrip() \u001B[38;5;28;01mfor\u001B[39;00m item \u001B[38;5;129;01min\u001B[39;00m preprocessed \u001B[38;5;28;01mif\u001B[39;00m item\u001B[38;5;241m.\u001B[39mstrip()\n\u001B[0;32m     14\u001B[0m ]\n\u001B[1;32m---> 15\u001B[0m ids \u001B[38;5;241m=\u001B[39m [\u001B[38;5;28;43mself\u001B[39;49m\u001B[38;5;241;43m.\u001B[39;49m\u001B[43mstr_to_int\u001B[49m\u001B[43m[\u001B[49m\u001B[43ms\u001B[49m\u001B[43m]\u001B[49m \u001B[38;5;28;01mfor\u001B[39;00m s \u001B[38;5;129;01min\u001B[39;00m preprocessed]\n\u001B[0;32m     16\u001B[0m \u001B[38;5;28;01mreturn\u001B[39;00m ids\n",
      "\u001B[1;31mKeyError\u001B[0m: 'Hello'"
     ]
    }
   ],
   "source": [
    "tokenizer = SimpleTokenizerV1(vocab)\n",
    "\n",
    "text = (\"Hello, do you like tea. Is this-- a test?\")\n",
    "\n",
    "tokenizer.encode(text)"
   ],
   "metadata": {
    "collapsed": false,
    "ExecuteTime": {
     "end_time": "2024-07-23T11:28:40.307757500Z",
     "start_time": "2024-07-23T11:28:28.130880400Z"
    }
   },
   "id": "730ebf941abd9db9"
  },
  {
   "cell_type": "markdown",
   "source": [
    "- 由于词汇表中未包含“Hello”一词，因此上述操作会产生错误\n",
    "- 为了处理这种情况，我们可以向词汇表中添加特殊的标记，如“<|unk|>”，以表示未知单词\n",
    "- 由于我们已经在扩展词汇表，让我们添加另一个名为“<|endoftext|>”的标记，它在GPT-2训练中用于表示文本的末尾（它也用于连接的文本之间，例如如果我们的训练数据集由多篇文章、书籍等组成）"
   ],
   "metadata": {
    "collapsed": false
   },
   "id": "908ced1bfb4f7ad7"
  },
  {
   "cell_type": "code",
   "execution_count": null,
   "outputs": [],
   "source": [
    "# 重新进行预处理\n",
    "preprocessed = re.split(r'([,.?_!\"()\\']|--|\\s)', raw_text)\n",
    "preprocessed = [item.strip() for item in preprocessed if item.strip()]\n",
    "# 加入辅助词\n",
    "all_tokens = sorted(list(set(preprocessed)))\n",
    "all_tokens.extend([\"<|endoftext|>\", \"<|unk|>\"])\n",
    "\n",
    "vocab = {token:integer for integer, token in enumerate(all_tokens)}\n",
    "\n",
    "class SimpleTokenizerV2:\n",
    "    def __init__(self, vocab):\n",
    "        '''\n",
    "        Tokenizer类 v2\n",
    "        :param vocab: 词表 \n",
    "        '''\n",
    "        self.str_to_int = vocab\n",
    "        self.int_to_str = {i:s for s, i in vocab.items()}\n",
    "        \n",
    "    def encode(self, text):\n",
    "        preprocessed = re.split(r'([,.?_!\"()\\']|--|\\s)', text)\n",
    "        preprocessed = [\n",
    "            item.strip() for item in preprocessed if item.strip()\n",
    "        ]\n",
    "        preprocessed = [\n",
    "            item if item in self.str_to_int\n",
    "            else \"<|unk|>\" for item in preprocessed\n",
    "        ]\n",
    "        \n",
    "        ids = [self.str_to_int[s] for s in preprocessed]\n",
    "        return ids\n",
    "    \n",
    "    def decode(self, ids):\n",
    "        text = \" \".join([self.int_to_str[i] for i in ids])\n",
    "        \n",
    "        text = re.sub(r'\\s+([,.?!\"()\\'])', r'\\1', text)\n",
    "        return text\n",
    "\n",
    "tokenizer = SimpleTokenizerV2(vocab)\n",
    "\n",
    "text1 = \"Hello, do you like tea?\"\n",
    "text2 = \"In the sunlit terraces of the palace.\"\n",
    "\n",
    "text = \" <|endoftext|> \".join((text1, text2))\n",
    "\n",
    "print(text)\n",
    "print(tokenizer.encode(text))\n",
    "print(tokenizer.decode(tokenizer.encode(text)))"
   ],
   "metadata": {
    "collapsed": false,
    "ExecuteTime": {
     "start_time": "2024-07-23T11:28:40.305762900Z"
    }
   },
   "id": "2e3b328e378c6f4e"
  },
  {
   "cell_type": "markdown",
   "source": [
    "## 1.5 BytePair编码"
   ],
   "metadata": {
    "collapsed": false
   },
   "id": "74ec7f88c4e927af"
  },
  {
   "cell_type": "markdown",
   "source": [
    "- GPT-2使用字节对编码（BPE）作为其标记器\n",
    "- 它允许模型将不在其预定义词汇表中的单词分解为更小的子单词单元甚至单个字符，使其能够处理词汇表外的单词\n",
    "- 例如，如果GPT-2的词汇表中没有单词“unfamiliarword”，它可能会将其标记为[“unfam”、“iliar”、“word”]或其他一些子单词细分，这取决于其经过训练的BPE合并\n",
    "- 原始的BPE标记器可以在这里找到：https://github.com/openai/gpt-2/blob/master/src/encoder.py\n",
    "- 在本章中，我们将使用OpenAI开源tiktoken库中的BPE标记器，该库在Rust中实现其核心算法，以提高计算性能\n",
    "\n",
    "![Alt text](../../img/LLM/ch01/BPE_tokenizers.png)"
   ],
   "metadata": {
    "collapsed": false
   },
   "id": "c931e252f061f94a"
  },
  {
   "cell_type": "code",
   "execution_count": null,
   "outputs": [],
   "source": [
    "import importlib\n",
    "import tiktoken\n",
    "\n",
    "print(\"tiktoken version:\", importlib.metadata.version(\"tiktoken\"))"
   ],
   "metadata": {
    "collapsed": false,
    "ExecuteTime": {
     "end_time": "2024-07-23T11:28:40.325708700Z",
     "start_time": "2024-07-23T11:28:40.308755300Z"
    }
   },
   "id": "837f2e970b22500c"
  },
  {
   "cell_type": "code",
   "execution_count": null,
   "outputs": [],
   "source": [
    "tokenizer = tiktoken.get_encoding(\"gpt2\")\n",
    "text = (\n",
    "    \"Hello, do you like tea? <|endoftext|> In the sunlit terraces\"\n",
    "     \"of someunknownPlace.\"\n",
    ")\n",
    "\n",
    "integers = tokenizer.encode(text, allowed_special={\"<|endoftext|>\"})\n",
    "strings = tokenizer.decode(integers)\n",
    "print(\"integers= \\n\", integers)\n",
    "print(\"strings= \\n\", strings)"
   ],
   "metadata": {
    "collapsed": false,
    "ExecuteTime": {
     "start_time": "2024-07-23T11:28:40.311749600Z"
    }
   },
   "id": "79bac9881d9064e5"
  },
  {
   "cell_type": "markdown",
   "source": [
    "## 1.6 滑动窗口数据采样"
   ],
   "metadata": {
    "collapsed": false
   },
   "id": "5a6173a63bfe349b"
  },
  {
   "cell_type": "markdown",
   "source": [
    "- 我们训练LLM一次生成一个单词，因此我们希望相应地准备训练数据，其中序列中的下一个单词表示要预测的目标：\n",
    "\n",
    "![Alt text](../../img/LLM/ch01/sliding_window.png)\n",
    "\n",
    "- 对于每个文本块，我们需要输入和目标\n",
    "- 由于我们希望模型预测下一个单词，因此目标是向右移动一个位置的输入"
   ],
   "metadata": {
    "collapsed": false
   },
   "id": "feb0077ff91d5e6f"
  },
  {
   "cell_type": "code",
   "execution_count": null,
   "outputs": [],
   "source": [
    "with open(\"../../Data/the-verdict.txt\", \"r\", encoding=\"utf-8\") as f:\n",
    "    raw_text = f.read()\n",
    "    \n",
    "enc_text = tokenizer.encode(raw_text)\n",
    "print(f\"length of data: {len(enc_text)}\")\n",
    "\n",
    "enc_sample = enc_text[50:]\n",
    "context_size = 4\n",
    "\n",
    "for i in range(1, context_size + 1):\n",
    "    context = enc_sample[:i]\n",
    "    desired = enc_sample[i]\n",
    "    \n",
    "    print(context, '------>', desired, ' ' * 10, tokenizer.decode(context), \"---->\", tokenizer.decode([desired]))"
   ],
   "metadata": {
    "collapsed": false,
    "ExecuteTime": {
     "start_time": "2024-07-23T11:28:40.315737300Z"
    }
   },
   "id": "b36390dd81cd2fea"
  },
  {
   "cell_type": "markdown",
   "source": [
    "- 在我们介绍了注意力机制之后，我们将在后面的章节中讨论下一个单词的预测\n",
    "- 目前，我们实现了一个简单的数据加载器，它在输入数据集上迭代，并返回偏移了一个的输入和目标\n",
    "- 我们使用滑动窗口方法，将位置更改+1：\n",
    "\n",
    "![Alt text](../../img/LLM/ch01/sliding_window_example.png)\n",
    "\n",
    "- 创建数据集和数据加载器，从输入文本数据集中提取块"
   ],
   "metadata": {
    "collapsed": false
   },
   "id": "c9b735fde7d406cc"
  },
  {
   "cell_type": "code",
   "execution_count": 9,
   "outputs": [],
   "source": [
    "import torch\n",
    "from torch.utils.data import DataLoader, Dataset\n",
    "\n",
    "class GPTDatasetV1(Dataset):\n",
    "    def __init__(self, txt, tokenizer, max_length, stride):\n",
    "        '''\n",
    "        :param txt: 文本 \n",
    "        :param tokenizer: tokenizer \n",
    "        :param max_length: 滑动窗口最大长度\n",
    "        :param stride: 滑动补偿\n",
    "        '''\n",
    "        self.input_ids = []\n",
    "        self.tar_ids = []\n",
    "        \n",
    "        token_ids = tokenizer.encode(txt, allowed_special={\"<|endoftext|>\"})\n",
    "        \n",
    "        for i in range(0, len(token_ids) - max_length, stride):\n",
    "            input_chunk = token_ids[i:i + max_length]\n",
    "            tar_chunk = token_ids[i + 1:i + max_length + 1]\n",
    "            self.input_ids.append(torch.tensor(input_chunk))\n",
    "            self.tar_ids.append(torch.tensor(tar_chunk))\n",
    "            \n",
    "    def __len__(self):\n",
    "        return len(self.input_ids)\n",
    "    \n",
    "    def __getitem__(self, idx):\n",
    "        return self.input_ids[idx], self.tar_ids[idx]\n",
    "    \n",
    "\n",
    "def create_dataloader_v1(txt, batch_size=4, max_length=256,\n",
    "                         stride=128, shuffle=True, drop_last=True,\n",
    "                         num_worker=0):\n",
    "    tokenizer = tiktoken.get_encoding(\"gpt2\")\n",
    "    \n",
    "    dataset = GPTDatasetV1(txt, tokenizer, max_length, stride)\n",
    "    \n",
    "    dataloader = DataLoader(\n",
    "        dataset,\n",
    "        batch_size=batch_size,\n",
    "        shuffle=shuffle,\n",
    "        drop_last=drop_last,\n",
    "        num_workers=0\n",
    "    )\n",
    "    return dataloader"
   ],
   "metadata": {
    "collapsed": false,
    "ExecuteTime": {
     "end_time": "2024-07-23T11:28:42.234626800Z",
     "start_time": "2024-07-23T11:28:42.046126100Z"
    }
   },
   "id": "4c6ec98bdc6ee8e"
  },
  {
   "cell_type": "markdown",
   "source": [
    "- 让我们针对上下文大小为4的LLM测试批处理大小为1的数据加载器"
   ],
   "metadata": {
    "collapsed": false
   },
   "id": "a6ee71935a22fcd5"
  },
  {
   "cell_type": "code",
   "execution_count": 10,
   "outputs": [
    {
     "name": "stdout",
     "output_type": "stream",
     "text": [
      "[tensor([[  40,  367, 2885, 1464]]), tensor([[ 367, 2885, 1464, 1807]])]\n",
      "[tensor([[ 367, 2885, 1464, 1807]]), tensor([[2885, 1464, 1807, 3619]])]\n"
     ]
    }
   ],
   "source": [
    "with open(r\"../../Data/the-verdict.txt\", \"r\", encoding=\"utf-8\") as f:\n",
    "    raw_text = f.read()\n",
    "    \n",
    "dataloader = create_dataloader_v1(\n",
    "    raw_text, batch_size=1, max_length=4, stride=1, shuffle=False\n",
    ")\n",
    "\n",
    "data_iter = iter(dataloader)\n",
    "first_batch = next(data_iter)\n",
    "print(first_batch)\n",
    "\n",
    "second_batch = next(data_iter)\n",
    "print(second_batch)"
   ],
   "metadata": {
    "collapsed": false,
    "ExecuteTime": {
     "end_time": "2024-07-23T11:29:09.482293800Z",
     "start_time": "2024-07-23T11:28:44.387164800Z"
    }
   },
   "id": "daaf00fb845911a"
  },
  {
   "cell_type": "markdown",
   "source": [
    "- 使用等于上下文长度的步幅（此处：4）的示例如下所示：\n",
    "\n",
    "![Alt text](../../img/LLM/ch01/sliding_window_4_stride.png)\n",
    "\n",
    "- 我们还可以创建批处理输出\n",
    "- 请注意，我们在这里增加步长，这样批次之间就不会有重叠，因为更多的重叠可能会导致过拟合增加"
   ],
   "metadata": {
    "collapsed": false
   },
   "id": "39adfb5a46ebb488"
  },
  {
   "cell_type": "code",
   "execution_count": 11,
   "outputs": [
    {
     "name": "stdout",
     "output_type": "stream",
     "text": [
      "Inputs:\n",
      " tensor([[   40,   367,  2885,  1464],\n",
      "        [ 1807,  3619,   402,   271],\n",
      "        [10899,  2138,   257,  7026],\n",
      "        [15632,   438,  2016,   257],\n",
      "        [  922,  5891,  1576,   438],\n",
      "        [  568,   340,   373,   645],\n",
      "        [ 1049,  5975,   284,   502],\n",
      "        [  284,  3285,   326,    11]])\n",
      "\n",
      "Targets:\n",
      " tensor([[  367,  2885,  1464,  1807],\n",
      "        [ 3619,   402,   271, 10899],\n",
      "        [ 2138,   257,  7026, 15632],\n",
      "        [  438,  2016,   257,   922],\n",
      "        [ 5891,  1576,   438,   568],\n",
      "        [  340,   373,   645,  1049],\n",
      "        [ 5975,   284,   502,   284],\n",
      "        [ 3285,   326,    11,   287]])\n"
     ]
    }
   ],
   "source": [
    "dataloader = create_dataloader_v1(raw_text, batch_size=8, max_length=4, stride=4, shuffle=False)\n",
    "\n",
    "data_iter = iter(dataloader)\n",
    "inputs, targets = next(data_iter)\n",
    "print(\"Inputs:\\n\", inputs)\n",
    "print(\"\\nTargets:\\n\", targets)"
   ],
   "metadata": {
    "collapsed": false,
    "ExecuteTime": {
     "end_time": "2024-07-23T11:29:09.625909200Z",
     "start_time": "2024-07-23T11:29:09.492265700Z"
    }
   },
   "id": "238d7109b9f37e2d"
  },
  {
   "cell_type": "markdown",
   "source": [
    "## 1.7 创建token embedding向量"
   ],
   "metadata": {
    "collapsed": false
   },
   "id": "f4485bc5243b399d"
  },
  {
   "cell_type": "markdown",
   "source": [
    "- 数据已经准备好进行LLM\n",
    "- 但最后让我们使用嵌入层将标记嵌入到连续向量表示中\n",
    "- 通常，这些嵌入层是LLM本身的一部分，并在模型训练期间进行更新（训练）\n",
    "\n",
    "![Alt text](../../img/LLM/ch01/GPT_pipeline.png)\n",
    "\n",
    "- 假设我们有以下四个输入示例，输入ID分别为5、1、3和2 (标记化后):"
   ],
   "metadata": {
    "collapsed": false
   },
   "id": "7013cf49f8705694"
  },
  {
   "cell_type": "code",
   "execution_count": 12,
   "outputs": [
    {
     "name": "stdout",
     "output_type": "stream",
     "text": [
      "Parameter containing:\n",
      "tensor([[ 0.3374, -0.1778, -0.1690],\n",
      "        [ 0.9178,  1.5810,  1.3010],\n",
      "        [ 1.2753, -0.2010, -0.1606],\n",
      "        [-0.4015,  0.9666, -1.1481],\n",
      "        [-1.1589,  0.3255, -0.6315],\n",
      "        [-2.8400, -0.7849, -1.4096]], requires_grad=True)\n"
     ]
    }
   ],
   "source": [
    "import torch.nn as nn\n",
    "input_ids = torch.tensor([2, 3, 5, 1])\n",
    "\n",
    "vocab_size = 6\n",
    "output_dim = 3\n",
    "torch.manual_seed(123)\n",
    "embedding_layer = nn.Embedding(vocab_size, output_dim)\n",
    "print(embedding_layer.weight)"
   ],
   "metadata": {
    "collapsed": false,
    "ExecuteTime": {
     "end_time": "2024-07-23T11:29:09.649844Z",
     "start_time": "2024-07-23T11:29:09.522186700Z"
    }
   },
   "id": "a7c0d3879e6770f8"
  },
  {
   "cell_type": "markdown",
   "source": [
    "- 上面的嵌入层方法本质上只是在完全连接层中实现一个热编码器-然后进行矩阵乘法的更有效的方式，这在中的补充代码中进行了描述\n",
    "- 因为嵌入层只是一种更有效的实现，相当于一个热编码和矩阵乘法方法，所以它可以被视为一个可以通过反向传播优化的神经网络层\n",
    "- 要将id为3的token转换为三维向量，我们执行以下操作："
   ],
   "metadata": {
    "collapsed": false
   },
   "id": "fbdce9e48c891abb"
  },
  {
   "cell_type": "code",
   "execution_count": 13,
   "outputs": [
    {
     "name": "stdout",
     "output_type": "stream",
     "text": [
      "tensor([[-0.4015,  0.9666, -1.1481]], grad_fn=<EmbeddingBackward0>)\n"
     ]
    }
   ],
   "source": [
    "print(embedding_layer(torch.tensor([3])))"
   ],
   "metadata": {
    "collapsed": false,
    "ExecuteTime": {
     "end_time": "2024-07-23T11:29:09.666799300Z",
     "start_time": "2024-07-23T11:29:09.586014900Z"
    }
   },
   "id": "d5c30e03e4b6142e"
  },
  {
   "cell_type": "markdown",
   "source": [
    "- 注意,上面是embedding_layer权重矩阵中的第4行\n",
    "- 要embedding上面的所有四个input_ids值，我们需要进行以下操作"
   ],
   "metadata": {
    "collapsed": false
   },
   "id": "f03066a723882510"
  },
  {
   "cell_type": "code",
   "execution_count": 14,
   "outputs": [
    {
     "name": "stdout",
     "output_type": "stream",
     "text": [
      "tensor([[ 1.2753, -0.2010, -0.1606],\n",
      "        [-0.4015,  0.9666, -1.1481],\n",
      "        [-2.8400, -0.7849, -1.4096],\n",
      "        [ 0.9178,  1.5810,  1.3010]], grad_fn=<EmbeddingBackward0>)\n"
     ]
    }
   ],
   "source": [
    "print(embedding_layer(input_ids))"
   ],
   "metadata": {
    "collapsed": false,
    "ExecuteTime": {
     "end_time": "2024-07-23T11:29:09.746586100Z",
     "start_time": "2024-07-23T11:29:09.612944500Z"
    }
   },
   "id": "47854fbf08445d8c"
  },
  {
   "cell_type": "markdown",
   "source": [
    "- 嵌入层本质上是一种查找操作：\n",
    "\n",
    "![Alt text](../../img/LLM/ch01/embedding_layer.png)"
   ],
   "metadata": {
    "collapsed": false
   },
   "id": "bb085ada3cca07dc"
  },
  {
   "cell_type": "markdown",
   "source": [
    "## 1.8 编码单词位置"
   ],
   "metadata": {
    "collapsed": false
   },
   "id": "265fe8ffc73efef8"
  },
  {
   "cell_type": "markdown",
   "source": [
    "- 嵌入层将ID转换为相同的矢量表示，而不考虑它们在输入序列中的位置：\n",
    "\n",
    "![Alt text](../../img/LLM/ch01/embedding_layer_example.png)\n",
    "\n",
    "- 位置嵌入与标记嵌入向量相结合，以形成大型语言模型的输入嵌入：\n",
    "\n",
    "![Alt text](../../img/LLM/ch01/position_embedding.png)\n",
    "\n",
    "- BytePair编码器的词汇表大小为50257：\n",
    "- 假设我们想要将输入令牌编码为256维向量表示："
   ],
   "metadata": {
    "collapsed": false
   },
   "id": "71146004e10e1e7c"
  },
  {
   "cell_type": "code",
   "execution_count": 15,
   "outputs": [],
   "source": [
    "vocab_size = 50257\n",
    "output_dim = 256\n",
    "\n",
    "token_embedding_layer = nn.Embedding(vocab_size, output_dim)"
   ],
   "metadata": {
    "collapsed": false,
    "ExecuteTime": {
     "end_time": "2024-07-23T11:29:09.880228Z",
     "start_time": "2024-07-23T11:29:09.625909200Z"
    }
   },
   "id": "51fb55dff818d0a9"
  },
  {
   "cell_type": "markdown",
   "source": [
    "- 如果我们从数据加载器中采样数据，我们将每个批次中的token嵌入到256维向量中\n",
    "- 如果我们有一个批量大小为8，每个有4个token，则会产生一个8 x 4 x 256的张量："
   ],
   "metadata": {
    "collapsed": false
   },
   "id": "2453de3331fc3841"
  },
  {
   "cell_type": "code",
   "execution_count": 16,
   "outputs": [
    {
     "name": "stdout",
     "output_type": "stream",
     "text": [
      "Token IDs:\n",
      " tensor([[   40,   367,  2885,  1464],\n",
      "        [ 1807,  3619,   402,   271],\n",
      "        [10899,  2138,   257,  7026],\n",
      "        [15632,   438,  2016,   257],\n",
      "        [  922,  5891,  1576,   438],\n",
      "        [  568,   340,   373,   645],\n",
      "        [ 1049,  5975,   284,   502],\n",
      "        [  284,  3285,   326,    11]])\n",
      "\n",
      "Inputs shape:\n",
      " torch.Size([8, 4])\n"
     ]
    }
   ],
   "source": [
    "max_length = 4\n",
    "dataloader = create_dataloader_v1(\n",
    "    raw_text, batch_size=8, max_length=max_length,\n",
    "    stride=max_length, shuffle=False\n",
    ")\n",
    "data_iter = iter(dataloader)\n",
    "inputs, targets = next(data_iter)\n",
    "\n",
    "print(\"Token IDs:\\n\", inputs)\n",
    "print(\"\\nInputs shape:\\n\", inputs.shape)"
   ],
   "metadata": {
    "collapsed": false,
    "ExecuteTime": {
     "end_time": "2024-07-23T11:29:14.872366700Z",
     "start_time": "2024-07-23T11:29:14.747546700Z"
    }
   },
   "id": "e2ed5e1902f954a6"
  },
  {
   "cell_type": "code",
   "execution_count": 17,
   "outputs": [
    {
     "name": "stdout",
     "output_type": "stream",
     "text": [
      "torch.Size([8, 4, 256])\n"
     ]
    }
   ],
   "source": [
    "token_embeddings = token_embedding_layer(inputs)\n",
    "print(token_embeddings.shape)"
   ],
   "metadata": {
    "collapsed": false,
    "ExecuteTime": {
     "end_time": "2024-07-23T11:29:21.438762700Z",
     "start_time": "2024-07-23T11:29:21.237758300Z"
    }
   },
   "id": "29250a1c2589dec2"
  },
  {
   "cell_type": "markdown",
   "source": [
    "- GPT-2使用绝对位置嵌入，因此我们只需创建另一个嵌入层："
   ],
   "metadata": {
    "collapsed": false
   },
   "id": "d1b84e42e2c3fb2b"
  },
  {
   "cell_type": "code",
   "execution_count": 18,
   "outputs": [],
   "source": [
    "context_length = max_length\n",
    "pos_embedding_layer = nn.Embedding(context_length, output_dim)"
   ],
   "metadata": {
    "collapsed": false,
    "ExecuteTime": {
     "end_time": "2024-07-23T11:29:23.774292300Z",
     "start_time": "2024-07-23T11:29:23.640650600Z"
    }
   },
   "id": "cebdf3c6ac10bc32"
  },
  {
   "cell_type": "code",
   "execution_count": 19,
   "outputs": [
    {
     "name": "stdout",
     "output_type": "stream",
     "text": [
      "torch.Size([4, 256])\n"
     ]
    }
   ],
   "source": [
    "pos_embeddings = pos_embedding_layer(torch.arange(max_length))\n",
    "print(pos_embeddings.shape)"
   ],
   "metadata": {
    "collapsed": false,
    "ExecuteTime": {
     "end_time": "2024-07-23T11:29:24.295483800Z",
     "start_time": "2024-07-23T11:29:24.215113Z"
    }
   },
   "id": "7e76516190eb1f1d"
  },
  {
   "cell_type": "code",
   "execution_count": 20,
   "outputs": [
    {
     "name": "stdout",
     "output_type": "stream",
     "text": [
      "torch.Size([8, 4, 256])\n"
     ]
    }
   ],
   "source": [
    "input_embeddings = token_embeddings + pos_embeddings\n",
    "print(input_embeddings.shape)"
   ],
   "metadata": {
    "collapsed": false,
    "ExecuteTime": {
     "end_time": "2024-07-23T11:29:24.997678900Z",
     "start_time": "2024-07-23T11:29:24.846006800Z"
    }
   },
   "id": "9de492844165aaff"
  },
  {
   "cell_type": "markdown",
   "source": [
    "在输入处理工作流的初始阶段，输入文本被分割成单独的标记\n",
    "在该分割之后，这些token被转换为基于预定义词汇表的token ID：\n",
    "\n",
    "![Alt text](../../img/LLM/ch01/vocabulary_with_GPT_pipeline.png)"
   ],
   "metadata": {
    "collapsed": false
   },
   "id": "e8738a1b503fc5ff"
  },
  {
   "cell_type": "markdown",
   "source": [
    "# 二、搭建注意力机制"
   ],
   "metadata": {
    "collapsed": false
   },
   "id": "efb153d3cc6e1088"
  },
  {
   "cell_type": "code",
   "execution_count": 21,
   "outputs": [
    {
     "name": "stdout",
     "output_type": "stream",
     "text": [
      "torch version: 2.3.1\n"
     ]
    }
   ],
   "source": [
    "from importlib.metadata import version\n",
    "\n",
    "print(\"torch version:\", version(\"torch\"))"
   ],
   "metadata": {
    "collapsed": false,
    "ExecuteTime": {
     "end_time": "2024-07-23T11:29:28.494773400Z",
     "start_time": "2024-07-23T11:29:28.287330300Z"
    }
   },
   "id": "f15f4fe498d1cce3"
  },
  {
   "cell_type": "markdown",
   "source": [
    "- 本章涵盖注意力机制，LLM的引擎：\n",
    "\n",
    "![Alt text](../../img/LLM/ch02/engine_of_LLMs.png)\n",
    "\n",
    "![Alt text](../../img/LLM/ch02/Attention_Mechanism.png)"
   ],
   "metadata": {
    "collapsed": false
   },
   "id": "dea09713009035da"
  },
  {
   "cell_type": "markdown",
   "source": [
    "## 2.1 长序列建模问题"
   ],
   "metadata": {
    "collapsed": false
   },
   "id": "91b37f32f8b4adb"
  },
  {
   "cell_type": "markdown",
   "source": [
    "- 由于源语言和目标语言之间的语法结构不同，逐字翻译文本是不可行的：\n",
    "\n",
    "![Alt text](../../img/LLM/ch02/word2word.png)\n",
    "\n",
    "- 在引入Transformer模型之前，编码器-解码器RNN通常用于机器翻译任务\n",
    "- 在这种设置中，编码器使用隐藏状态（神经网络中的一种中间层）处理源语言中的一系列标记，以生成整个输入序列的压缩表示：\n",
    "\n",
    "![Alt text](../../img/LLM/ch02/input_series.png)"
   ],
   "metadata": {
    "collapsed": false
   },
   "id": "5d37e613c602c051"
  },
  {
   "cell_type": "markdown",
   "source": [
    "## 2.2 利用注意力机制捕获数据相关性"
   ],
   "metadata": {
    "collapsed": false
   },
   "id": "d95fed686978daf7"
  },
  {
   "cell_type": "markdown",
   "source": [
    "- 通过注意力机制，网络的文本生成解码器段能够选择性地访问所有输入token，这意味着在特定输出token的生成中，某些输入token比其他输入token具有更大的意义：\n",
    "\n",
    "![Alt text](../../img/LLM/ch02/attention_tokens.png)\n",
    "\n",
    "- Transformer中的自注意是一种技术，旨在通过使序列中的每个位置能够参与并确定同一序列中其他每个位置的相关性来增强输入表示\n",
    "\n",
    "![Alt text](../../img/LLM/ch02/self-attention.png)"
   ],
   "metadata": {
    "collapsed": false
   },
   "id": "c1281af21ba0e5c3"
  },
  {
   "cell_type": "markdown",
   "source": [
    "## 2.3 用self-attention的方式处理输入的不同部分"
   ],
   "metadata": {
    "collapsed": false
   },
   "id": "698d1b0be3176641"
  },
  {
   "cell_type": "markdown",
   "source": [
    "### 2.3.1 一种没有可训练权重的简单自注意力机制"
   ],
   "metadata": {
    "collapsed": false
   },
   "id": "fb0efe682671419c"
  },
  {
   "cell_type": "markdown",
   "source": [
    "- 本节解释了自我注意力机制的一个非常简化的变体，它不包含任何可训练的权重\n",
    "- 这纯粹是为了说明，而不是transformers中使用的注意力机制\n",
    "- 下一节，第3.3.2节，将扩展这种简单的注意力机制，以实现真正的自我注意力机制\n",
    "- 假设我们得到一个输入序列 $x^{(1)}$ 到 $x^{(n)}$\n",
    "     - 输入是一个文本（例如，像“你的旅程从第一步开始”这样的句子），它已经被转换为token embedding\n",
    "     - 例如，$x^{(1)}$是表示单词“Your”的d维向量，依此类推\n",
    "- 目标：计算上下文向量$z^{(i)}$对于$x^{(1)}$到$x^{(T)}$序列中的$x^{(i)}$($x$和$z$具有相同的尺寸)\n",
    "     - 上下文矢量$z^{(i)}$是输入$x^{(1)}$到$x^{(T)}$序列的加权和\n",
    "     - 上下文向量是特定于某个输入的“上下文”\n",
    "        - 与其将$x^{(1)}$作为任意输入token的占位符，让我们考虑第二个输入$x^{(2)}$\n",
    "        - 继续一个具体的例子，而不是占位符$z^{(1)}$, 我们考虑第二输出上下文向量,$z^{(2)}$\n",
    "        - 第二上下文向量,$z^{(2)}$,是所有输入的加权和$x^{(1)}$到$x^{(T)}$相对于第二输入元素$x^{(2)}$加权\n",
    "        - 注意力权重是在计算$z^{(2)}$时确定每个输入元素对加权和的贡献程度的权重\n",
    "        - 简而言之，将$z^{(2)}$作为$x^{(2)}$修改版本,它还包含与手头给定任务相关的所有其他输入元素的信息\n",
    "     \n",
    "![Alt text](../../img/LLM/ch02/compute_z2.png)\n",
    "\n",
    "- （请注意，此图中的数字被截断为小数点后的一位数字，以减少视觉混乱；同样，其他数字也可能包含截断值）\n",
    "- 按照惯例,未归一化的注意力权重被称为“注意力得分”，而归一化的注意力得分加起来为1,则被称作“注意力权重”\n",
    "- Step1:计算未归一化的注意力分数$w$\n",
    "- 假设我们使用第二个输入令牌作为查询，即,$q^{(2)}$=$x^{(2)}$,我们通过点积计算未规范化的注意力得分：\n",
    "     - $w_{21}$=$x^{(1)}$$q^{(2)T}$\n",
    "     - $w_{22}$=$x^{(2)}$$q^{(2)T}$\n",
    "     - $w_{23}$=$x^{(3)}$$q^{(2)T}$\n",
    "     - ...\n",
    "     - $w_{2n}$=$x^{(n)}$$q^{(2)T}$\n",
    "- 希腊字母 $w$ 是用来象征未规范的注意力分数的\n",
    "     - $w_{21}$中的下标“21”意味着输入序列元素2被用作针对输入序列元素1的查询\n",
    "- 假设我们有以下输入句子，如第3章所述，它已经嵌入到三维向量中（为了便于说明，我们在这里使用了一个非常小的嵌入维度，这样它就可以在没有换行的情况下嵌入到页面上）："
   ],
   "metadata": {
    "collapsed": false
   },
   "id": "f71804e2aa3b2aa2"
  },
  {
   "cell_type": "code",
   "execution_count": 22,
   "outputs": [],
   "source": [
    "import torch\n",
    "\n",
    "inputs = torch.tensor(\n",
    "   [[0.43, 0.15, 0.89], # Your     (x^1)\n",
    "    [0.55, 0.87, 0.66], # journey  (x^2)\n",
    "    [0.57, 0.85, 0.64], # starts   (x^3)\n",
    "    [0.22, 0.58, 0.33], # with     (x^4)\n",
    "    [0.77, 0.25, 0.10], # one      (x^5)\n",
    "    [0.05, 0.80, 0.55]] # step     (x^6)\n",
    ")"
   ],
   "metadata": {
    "collapsed": false,
    "ExecuteTime": {
     "end_time": "2024-07-23T11:29:35.229632400Z",
     "start_time": "2024-07-23T11:29:35.030991200Z"
    }
   },
   "id": "89f2cdacf6f05c00"
  },
  {
   "cell_type": "markdown",
   "source": [
    "- 每行表示一个单词，每列表示一个embedding维度\n",
    "- 本节的主要目的是演示上下文向量 $z^{(2)}$ 使用第二个输入序列$x^{(2)}$来计算,作为查询\n",
    "- 该图描绘了这个过程的初始步骤，包括计算$x^{(2)}$之间的注意力得分ω以及通过点积运算的所有其他输入元素\n",
    "\n",
    "![Alt text](../../img/LLM/ch02/attention_score_initial_process.png)\n",
    "\n",
    "- 我们使用输入序列元素2,$x^{(2)}$,作为计算上下文向量的示例$z^{(2)}$;在本节的后面,我们将把它推广到计算所有上下文向量。\n",
    "- 步骤一：\n",
    "    - 是通过计算查询$x^{(2)}$之间的点积来计算未规范化的注意力得分以及所有其他输入token："
   ],
   "metadata": {
    "collapsed": false
   },
   "id": "daad11c43154192a"
  },
  {
   "cell_type": "code",
   "execution_count": 23,
   "outputs": [
    {
     "name": "stdout",
     "output_type": "stream",
     "text": [
      "attention_scores_2=\n",
      " tensor([0.9544, 1.4950, 1.4754, 0.8434, 0.7070, 1.0865])\n"
     ]
    }
   ],
   "source": [
    "query = inputs[1]\n",
    "\n",
    "attention_scores_2 = torch.empty(inputs.shape[0])\n",
    "\n",
    "for i, x_i in enumerate(inputs):\n",
    "    attention_scores_2[i] = torch.dot(x_i, query)\n",
    "    \n",
    "print(\"attention_scores_2=\\n\", attention_scores_2)"
   ],
   "metadata": {
    "collapsed": false,
    "ExecuteTime": {
     "end_time": "2024-07-23T11:29:37.761520600Z",
     "start_time": "2024-07-23T11:29:37.560037700Z"
    }
   },
   "id": "752c47eaf5de4c7c"
  },
  {
   "cell_type": "markdown",
   "source": [
    "- 步骤2：\n",
    "    - 将未规范化的注意力得分标准化，使其总和为1（增加训练稳定性）\n",
    "\n",
    "- 最简单的一种方式就是各个得分除以总的分数之和\n",
    "\n",
    "![Alt text](../../img/LLM/ch02/normalization_attention_scores.png)\n",
    "\n",
    "- 然而，在实践中，使用softmax函数进行归一化是常见的，也是推荐的，该函数更善于处理极值，并且在训练期间具有更理想的梯度特性。\n",
    "- 这里是一个用于缩放的softmax函数的简单实现，它还对向量元素进行归一化，使它们的总和为1："
   ],
   "metadata": {
    "collapsed": false
   },
   "id": "7ae556f9644ba157"
  },
  {
   "cell_type": "code",
   "execution_count": 24,
   "outputs": [
    {
     "name": "stdout",
     "output_type": "stream",
     "text": [
      "Attention weights:tensor([0.1385, 0.2379, 0.2333, 0.1240, 0.1082, 0.1581])\n",
      "Sum:1.0\n",
      "Attention weights:tensor([0.1385, 0.2379, 0.2333, 0.1240, 0.1082, 0.1581])\n",
      "Sum:1.0\n"
     ]
    }
   ],
   "source": [
    "def softmax_naive(x):\n",
    "    return torch.exp(x) / torch.exp(x).sum(dim=0)\n",
    "\n",
    "attention_weights_2_naive = softmax_naive(attention_scores_2)\n",
    "\n",
    "print(f\"Attention weights:{attention_weights_2_naive}\")\n",
    "print(f\"Sum:{attention_weights_2_naive.sum()}\")\n",
    "\n",
    "attention_weights_2 = torch.softmax(attention_scores_2, dim=0)\n",
    "\n",
    "print(f\"Attention weights:{attention_weights_2}\")\n",
    "print(f\"Sum:{attention_weights_2.sum()}\")"
   ],
   "metadata": {
    "collapsed": false,
    "ExecuteTime": {
     "end_time": "2024-07-23T11:29:40.111498600Z",
     "start_time": "2024-07-23T11:29:39.919014Z"
    }
   },
   "id": "7c55ac11d49907a6"
  },
  {
   "cell_type": "markdown",
   "source": [
    "- 步骤3：\n",
    "    - 计算上下文向量$z^{(2)}$通过乘以embedding的输入token，使用注意力权重并对结果向量$x^{(2)}$求和：\n",
    "\n",
    "![Alt text](../../img/LLM/ch02/attention_tokens_sum.png)"
   ],
   "metadata": {
    "collapsed": false
   },
   "id": "eecccff6b8f8c9b5"
  },
  {
   "cell_type": "code",
   "execution_count": 25,
   "outputs": [
    {
     "name": "stdout",
     "output_type": "stream",
     "text": [
      "tensor([0.4419, 0.6515, 0.5683])\n"
     ]
    }
   ],
   "source": [
    "query = inputs[1]\n",
    "\n",
    "context_vec_2 = torch.zeros(query.shape)\n",
    "for i, x_i in enumerate(inputs):\n",
    "    context_vec_2 += attention_weights_2[i] * x_i\n",
    "    \n",
    "print(context_vec_2)"
   ],
   "metadata": {
    "collapsed": false,
    "ExecuteTime": {
     "end_time": "2024-07-23T11:29:42.429522900Z",
     "start_time": "2024-07-23T11:29:42.268545400Z"
    }
   },
   "id": "fc961e676faae32c"
  },
  {
   "cell_type": "markdown",
   "source": [
    "### 2.3.2 计算所有输入token的注意力权重"
   ],
   "metadata": {
    "collapsed": false
   },
   "id": "aa02df64cf4866b8"
  },
  {
   "cell_type": "markdown",
   "source": [
    "- 推广到所有输入序列标记：\n",
    "    - 上面，我们计算了输入2的注意力权重和上下文向量（如下图中突出显示的行所示）\n",
    "    - 接下来，我们将此计算推广到计算所有注意力权重和上下文向量\n",
    "\n",
    "![Alt text](../../img/LLM/ch02/attention_weights_context_vectors.png)\n",
    "\n",
    "- （请注意，此图中的数字被截断为小数点后的两位数，以减少视觉混乱；每行中的值加起来应为1.0或100%；同样，其他图中的位数也被截断）\n",
    "- 在self-attention中，这个过程从注意力得分的计算开始，随后对其进行归一化，以得出总共为1的注意力权重\n",
    "- 然后利用这些注意力权重通过输入的加权求和来生成上下文向量\n",
    "\n",
    "![Alt text](../../img/LLM/ch02/attention_compute_process.png)\n",
    "\n",
    "- 将前面的步骤应用于所有成对元素"
   ],
   "metadata": {
    "collapsed": false
   },
   "id": "203dcd31f8e6b5f3"
  },
  {
   "cell_type": "code",
   "execution_count": 26,
   "outputs": [
    {
     "name": "stdout",
     "output_type": "stream",
     "text": [
      "attention_scores=\n",
      " tensor([[0.9995, 0.9544, 0.9422, 0.4753, 0.4576, 0.6310],\n",
      "        [0.9544, 1.4950, 1.4754, 0.8434, 0.7070, 1.0865],\n",
      "        [0.9422, 1.4754, 1.4570, 0.8296, 0.7154, 1.0605],\n",
      "        [0.4753, 0.8434, 0.8296, 0.4937, 0.3474, 0.6565],\n",
      "        [0.4576, 0.7070, 0.7154, 0.3474, 0.6654, 0.2935],\n",
      "        [0.6310, 1.0865, 1.0605, 0.6565, 0.2935, 0.9450]])\n",
      "attention_weights=\n",
      " tensor([[0.2098, 0.2006, 0.1981, 0.1242, 0.1220, 0.1452],\n",
      "        [0.1385, 0.2379, 0.2333, 0.1240, 0.1082, 0.1581],\n",
      "        [0.1390, 0.2369, 0.2326, 0.1242, 0.1108, 0.1565],\n",
      "        [0.1435, 0.2074, 0.2046, 0.1462, 0.1263, 0.1720],\n",
      "        [0.1526, 0.1958, 0.1975, 0.1367, 0.1879, 0.1295],\n",
      "        [0.1385, 0.2184, 0.2128, 0.1420, 0.0988, 0.1896]])\n",
      "all_context_vecs=\n",
      " tensor([[0.4421, 0.5931, 0.5790],\n",
      "        [0.4419, 0.6515, 0.5683],\n",
      "        [0.4431, 0.6496, 0.5671],\n",
      "        [0.4304, 0.6298, 0.5510],\n",
      "        [0.4671, 0.5910, 0.5266],\n",
      "        [0.4177, 0.6503, 0.5645]])\n"
     ]
    }
   ],
   "source": [
    "# 计算注意力分数\n",
    "attention_scores = inputs @ inputs.T\n",
    "print(\"attention_scores=\\n\", attention_scores)\n",
    "\n",
    "# 计算注意力权重\n",
    "attention_weights = torch.softmax(attention_scores, dim=-1)\n",
    "print(\"attention_weights=\\n\", attention_weights)\n",
    "\n",
    "# 加权,计算上下文向量\n",
    "all_context_vecs = attention_weights @ inputs\n",
    "print(\"all_context_vecs=\\n\", all_context_vecs)"
   ],
   "metadata": {
    "collapsed": false,
    "ExecuteTime": {
     "end_time": "2024-07-23T11:29:46.194835600Z",
     "start_time": "2024-07-23T11:29:46.056206500Z"
    }
   },
   "id": "7a195130b87f22c7"
  },
  {
   "cell_type": "markdown",
   "source": [
    "### 2.4 用可训练的权重实现self-attention"
   ],
   "metadata": {
    "collapsed": false
   },
   "id": "c562a61f091fbb14"
  },
  {
   "cell_type": "markdown",
   "source": [
    "![Alt text](../../img/LLM/ch02/selfattention_process.png)"
   ],
   "metadata": {
    "collapsed": false
   },
   "id": "df41e346a0eb779"
  },
  {
   "cell_type": "markdown",
   "source": [
    "### 2.4.1 逐步计算注意力权重"
   ],
   "metadata": {
    "collapsed": false
   },
   "id": "8c803fdeaf460917"
  },
  {
   "cell_type": "markdown",
   "source": [
    "- 在本节中，我们将实现在Transformer、GPT模型和大多数其他流行的LLM中使用的self-attention\n",
    "- 这种self-attention也被称为“缩放点积注意力”\n",
    "- 总体思路与之前类似：\n",
    "    - 我们希望将上下文向量计算为特定于某个输入元素的输入向量的加权和\n",
    "    - 对于以上内容，我们需要注意力权重\n",
    "- 正如你将看到的，与前面介绍的基本注意力机制相比，只有细微的区别：\n",
    "    -  最显著的区别是引入了在模型训练期间更新的权重矩阵\n",
    "    - 这些可训练的权重矩阵至关重要，因此模型（特别是模型内部的注意力模块）可以学习生成“好”的上下文向量\n",
    "\n",
    "![Alt text](../../img/LLM/ch02/self_attention_mechanism.png)\n",
    "\n",
    "- 逐步实现self-attention，我们将从引入三个训练权重矩阵开始,分别为$W_{q}$,$W_{k}$,$W_{v}$\n",
    "- 这三个矩阵用于投影embedding的输入token，$x^{i}$，通过矩阵乘法转换为查询、键和值向量：\n",
    "    - query 向量:$q^{(i)}$=$W_{q}x^{(i)}$\n",
    "    - key 向量:$k^{(i)}$=$W_{k}x^{(i)}$\n",
    "    - value 向量:$v^{(i)}$=$W_{v}x^{(i)}$\n",
    "- 输入的嵌入维度 $x$ 和query向量 $q$ 可以相同也可以不同，这取决于模型的设计和具体实现\n",
    "- 在GPT模型中，输入和输出维度通常是相同的，但为了便于说明，我们在这里选择了不同的输入和输出维度："
   ],
   "metadata": {
    "collapsed": false
   },
   "id": "453ded8776b71802"
  },
  {
   "cell_type": "code",
   "execution_count": 27,
   "outputs": [],
   "source": [
    "x_2 = inputs[1]\n",
    "d_in = inputs.shape[1]\n",
    "d_out = 2 # the output embedding size, d=2"
   ],
   "metadata": {
    "collapsed": false,
    "ExecuteTime": {
     "end_time": "2024-07-23T11:29:50.693598200Z",
     "start_time": "2024-07-23T11:29:50.626777Z"
    }
   },
   "id": "bf031e58ef234f2"
  },
  {
   "cell_type": "code",
   "execution_count": 28,
   "outputs": [],
   "source": [
    "torch.manual_seed(123)\n",
    "W_q = nn.Parameter(torch.rand(d_in, d_out), requires_grad=False)\n",
    "W_k = nn.Parameter(torch.rand(d_in, d_out), requires_grad=False)\n",
    "W_v = nn.Parameter(torch.rand(d_in, d_out), requires_grad=False)"
   ],
   "metadata": {
    "collapsed": false,
    "ExecuteTime": {
     "end_time": "2024-07-23T11:29:51.328652900Z",
     "start_time": "2024-07-23T11:29:51.141401300Z"
    }
   },
   "id": "b5d7861c15803cf1"
  },
  {
   "cell_type": "markdown",
   "source": [
    "- 计算Q、K和V向量"
   ],
   "metadata": {
    "collapsed": false
   },
   "id": "d5608149fd3bc031"
  },
  {
   "cell_type": "code",
   "execution_count": 29,
   "outputs": [
    {
     "name": "stdout",
     "output_type": "stream",
     "text": [
      "tensor([0.4306, 1.4551])\n"
     ]
    }
   ],
   "source": [
    "query_2 = x_2 @ W_q\n",
    "key_2 = x_2 @ W_k\n",
    "value_2 = x_2 @ W_v\n",
    "print(query_2)"
   ],
   "metadata": {
    "collapsed": false,
    "ExecuteTime": {
     "end_time": "2024-07-23T11:29:53.508771500Z",
     "start_time": "2024-07-23T11:29:53.421005900Z"
    }
   },
   "id": "6f742597b49cd3be"
  },
  {
   "cell_type": "code",
   "execution_count": 30,
   "outputs": [
    {
     "name": "stdout",
     "output_type": "stream",
     "text": [
      "key.shape: torch.Size([6, 2])\n",
      "values.shape: torch.Size([6, 2])\n"
     ]
    }
   ],
   "source": [
    "keys = inputs @ W_k\n",
    "values = inputs @ W_v\n",
    "\n",
    "print(f\"key.shape: {keys.shape}\")\n",
    "print(f\"values.shape: {values.shape}\")"
   ],
   "metadata": {
    "collapsed": false,
    "ExecuteTime": {
     "end_time": "2024-07-23T11:29:54.162022900Z",
     "start_time": "2024-07-23T11:29:54.008433800Z"
    }
   },
   "id": "7f2c2cb9225f1a90"
  },
  {
   "cell_type": "markdown",
   "source": [
    "- 在第2步中，我们通过计算查询和每个关键向量之间的点积来计算未规范化的注意力得分\n",
    "\n",
    "![Alt text](../../img/LLM/ch02/qkv_score.png)"
   ],
   "metadata": {
    "collapsed": false
   },
   "id": "1a6a958f79b4cc26"
  },
  {
   "cell_type": "code",
   "execution_count": 31,
   "outputs": [
    {
     "name": "stdout",
     "output_type": "stream",
     "text": [
      "attention_scores_2=\n",
      " tensor([1.2705, 1.8524, 1.8111, 1.0795, 0.5577, 1.5440])\n"
     ]
    }
   ],
   "source": [
    "attention_scores_2 = query_2 @ keys.T\n",
    "print(\"attention_scores_2=\\n\", attention_scores_2)"
   ],
   "metadata": {
    "collapsed": false,
    "ExecuteTime": {
     "end_time": "2024-07-23T11:29:57.702768800Z",
     "start_time": "2024-07-23T11:29:57.527239600Z"
    }
   },
   "id": "54260d346422362d"
  },
  {
   "cell_type": "markdown",
   "source": [
    "![Alt text](../../img/LLM/ch02/six_attention_scores.png)\n",
    "\n",
    "- 步骤3，我们使用前面使用的softmax函数计算注意力权重（归一化注意力得分，总和为1）\n",
    "- 与之前的不同之处在于，我们现在通过将注意力分数除以嵌入维度的平方根来缩放注意力分数，$\\sqrt{d_k}$"
   ],
   "metadata": {
    "collapsed": false
   },
   "id": "7e621eea243caf0"
  },
  {
   "cell_type": "code",
   "execution_count": 32,
   "outputs": [
    {
     "name": "stdout",
     "output_type": "stream",
     "text": [
      "attention_weights_2=\n",
      " tensor([0.1500, 0.2264, 0.2199, 0.1311, 0.0906, 0.1820])\n"
     ]
    }
   ],
   "source": [
    "d_k = keys.shape[1]\n",
    "attention_weights_2 = torch.softmax(attention_scores_2 / d_k ** 0.5, dim=-1)\n",
    "print(\"attention_weights_2=\\n\", attention_weights_2)"
   ],
   "metadata": {
    "collapsed": false,
    "ExecuteTime": {
     "end_time": "2024-07-23T11:30:00.078972Z",
     "start_time": "2024-07-23T11:29:59.863545900Z"
    }
   },
   "id": "821c80b89da69117"
  },
  {
   "cell_type": "markdown",
   "source": [
    "![Alt text](../../img/LLM/ch02/qkv_softmax.png)\n",
    "\n",
    "- 步骤4，我们现在计算输入查询向量2的上下文向量："
   ],
   "metadata": {
    "collapsed": false
   },
   "id": "31d0970414443578"
  },
  {
   "cell_type": "code",
   "execution_count": 33,
   "outputs": [
    {
     "name": "stdout",
     "output_type": "stream",
     "text": [
      "tensor([0.3061, 0.8210])\n"
     ]
    }
   ],
   "source": [
    "context_vec_2 = attention_weights_2 @ values\n",
    "print(context_vec_2)"
   ],
   "metadata": {
    "collapsed": false,
    "ExecuteTime": {
     "end_time": "2024-07-23T11:30:02.256592700Z",
     "start_time": "2024-07-23T11:30:02.124945900Z"
    }
   },
   "id": "fed0e8320cad0853"
  },
  {
   "cell_type": "markdown",
   "source": [
    "### 2.4.2 实现一个self-attention类"
   ],
   "metadata": {
    "collapsed": false
   },
   "id": "6a87026fd7055348"
  },
  {
   "cell_type": "markdown",
   "source": [
    "![Alt text](../../img/LLM/ch02/self_attention_module.png)"
   ],
   "metadata": {
    "collapsed": false
   },
   "id": "80437c5a3f354cd6"
  },
  {
   "cell_type": "code",
   "execution_count": 34,
   "outputs": [
    {
     "name": "stdout",
     "output_type": "stream",
     "text": [
      "tensor([[-0.5337, -0.1051],\n",
      "        [-0.5323, -0.1080],\n",
      "        [-0.5323, -0.1079],\n",
      "        [-0.5297, -0.1076],\n",
      "        [-0.5311, -0.1066],\n",
      "        [-0.5299, -0.1081]], grad_fn=<MmBackward0>)\n"
     ]
    }
   ],
   "source": [
    "class SelfAttention(nn.Module):\n",
    "    def __init__(self, d_in, d_out, qkv_bias=False):\n",
    "        super().__init__()\n",
    "        self.W_q = nn.Linear(d_in, d_out, bias=qkv_bias)\n",
    "        self.W_k = nn.Linear(d_in, d_out, bias=qkv_bias)\n",
    "        self.W_v = nn.Linear(d_in, d_out, bias=qkv_bias)\n",
    "        \n",
    "    def forward(self, x):\n",
    "        queries = self.W_q(x)\n",
    "        keys = self.W_k(x)\n",
    "        values = self.W_v(x)\n",
    "        \n",
    "        attention_scores = queries @ keys.T\n",
    "        attention_weights = torch.softmax(attention_scores / keys.shape[-1] ** 0.5, dim=-1)\n",
    "        \n",
    "        context_vec = attention_weights @ values\n",
    "        return context_vec\n",
    "    \n",
    "torch.manual_seed(123)\n",
    "sa = SelfAttention(d_in, d_out)\n",
    "print(sa(inputs))"
   ],
   "metadata": {
    "collapsed": false,
    "ExecuteTime": {
     "end_time": "2024-07-23T11:30:05.437121800Z",
     "start_time": "2024-07-23T11:30:05.224943Z"
    }
   },
   "id": "2507411290225207"
  },
  {
   "cell_type": "markdown",
   "source": [
    "## 2.5 用因果注意力机制隐藏之后的单词"
   ],
   "metadata": {
    "collapsed": false
   },
   "id": "7da3df21d1acf5ae"
  },
  {
   "cell_type": "markdown",
   "source": [
    "- 在因果注意力中，对角线上方的注意力权重被屏蔽，确保对于任何给定的输入，LLM在计算具有注意力权重的上下文向量时都无法利用未来的标记\n",
    "\n",
    "![Alt text](../../img/LLM/ch02/casual_attention.png)"
   ],
   "metadata": {
    "collapsed": false
   },
   "id": "c97c61b66f4c2408"
  },
  {
   "cell_type": "markdown",
   "source": [
    "### 2.5.1 因果掩码注意力机制的应用"
   ],
   "metadata": {
    "collapsed": false
   },
   "id": "18ea7f8d35d1b152"
  },
  {
   "cell_type": "markdown",
   "source": [
    "- 在本节中，我们将把以前的self-attention转换为casual self-attention\n",
    "- casual self-attention确保模型对序列中某个位置的预测仅取决于先前位置的已知输出，而不是未来位置\n",
    "- 简单地说，这确保了每个下一个单词的预测应该只取决于前一个单词\n",
    "- 为了实现这一点，对于每个给定的token，我们屏蔽掉未来的token（输入文本中当前token之后的token）：\n",
    "\n",
    "![Alt text](../../img/LLM/ch02/mask_attention_process.png)\n",
    "\n",
    "- 为了说明和实现casual self-attention，让我们使用上一节中的注意力得分和权重"
   ],
   "metadata": {
    "collapsed": false
   },
   "id": "3e4a836856ac53e9"
  },
  {
   "cell_type": "code",
   "execution_count": 35,
   "outputs": [
    {
     "name": "stdout",
     "output_type": "stream",
     "text": [
      "tensor([[0.1717, 0.1762, 0.1761, 0.1555, 0.1627, 0.1579],\n",
      "        [0.1636, 0.1749, 0.1746, 0.1612, 0.1605, 0.1652],\n",
      "        [0.1637, 0.1749, 0.1746, 0.1611, 0.1606, 0.1651],\n",
      "        [0.1636, 0.1704, 0.1702, 0.1652, 0.1632, 0.1674],\n",
      "        [0.1667, 0.1722, 0.1721, 0.1618, 0.1633, 0.1639],\n",
      "        [0.1624, 0.1709, 0.1706, 0.1654, 0.1625, 0.1682]],\n",
      "       grad_fn=<SoftmaxBackward0>)\n"
     ]
    }
   ],
   "source": [
    "query = sa.W_q(inputs)\n",
    "key = sa.W_k(inputs)\n",
    "attention_score = query @ key.T\n",
    "\n",
    "attention_weights = torch.softmax(attention_score / key.shape[-1] ** 0.5, dim=-1)\n",
    "print(attention_weights)"
   ],
   "metadata": {
    "collapsed": false,
    "ExecuteTime": {
     "end_time": "2024-07-23T11:30:09.723071300Z",
     "start_time": "2024-07-23T11:30:09.513415200Z"
    }
   },
   "id": "91957454aeca0828"
  },
  {
   "cell_type": "markdown",
   "source": [
    "- 我们如果直接给权重矩阵上将上三角的值设为0，会导致之前约定好的概率和为1的前提\n",
    "- 我们可以在置零之后在进行归一化，但是过程更复杂了\n",
    "- 因此，我们可以在对角线上方的未规范化注意力分数进入softmax函数之前，用负无穷大来掩盖它们，而不是将对角线上方的注意力权重归零并重新规范化结果：\n",
    "\n",
    "![Alt text](../../img/LLM/ch02/masked_inf_softmax.png)"
   ],
   "metadata": {
    "collapsed": false
   },
   "id": "147854049e8fbe21"
  },
  {
   "cell_type": "code",
   "execution_count": 36,
   "outputs": [
    {
     "name": "stdout",
     "output_type": "stream",
     "text": [
      "tensor([[0.3111,   -inf,   -inf,   -inf,   -inf,   -inf],\n",
      "        [0.1655, 0.2602,   -inf,   -inf,   -inf,   -inf],\n",
      "        [0.1667, 0.2602, 0.2577,   -inf,   -inf,   -inf],\n",
      "        [0.0510, 0.1080, 0.1064, 0.0643,   -inf,   -inf],\n",
      "        [0.1415, 0.1875, 0.1863, 0.0987, 0.1121,   -inf],\n",
      "        [0.0476, 0.1192, 0.1171, 0.0731, 0.0477, 0.0966]],\n",
      "       grad_fn=<MaskedFillBackward0>)\n"
     ]
    }
   ],
   "source": [
    "context_length = attention_score.shape[0]\n",
    "mask = torch.triu(torch.ones(context_length, context_length), diagonal=1)\n",
    "masked = attention_score.masked_fill(mask.bool(), -torch.inf)\n",
    "print(masked)"
   ],
   "metadata": {
    "collapsed": false,
    "ExecuteTime": {
     "end_time": "2024-07-23T11:30:12.361181800Z",
     "start_time": "2024-07-23T11:30:12.230518400Z"
    }
   },
   "id": "ea4dfe9ca1eaa62a"
  },
  {
   "cell_type": "code",
   "execution_count": 37,
   "outputs": [
    {
     "name": "stdout",
     "output_type": "stream",
     "text": [
      "tensor([[1.0000, 0.0000, 0.0000, 0.0000, 0.0000, 0.0000],\n",
      "        [0.4833, 0.5167, 0.0000, 0.0000, 0.0000, 0.0000],\n",
      "        [0.3190, 0.3408, 0.3402, 0.0000, 0.0000, 0.0000],\n",
      "        [0.2445, 0.2545, 0.2542, 0.2468, 0.0000, 0.0000],\n",
      "        [0.1994, 0.2060, 0.2058, 0.1935, 0.1953, 0.0000],\n",
      "        [0.1624, 0.1709, 0.1706, 0.1654, 0.1625, 0.1682]],\n",
      "       grad_fn=<SoftmaxBackward0>)\n"
     ]
    }
   ],
   "source": [
    "attention_weights = torch.softmax(masked / key.shape[-1] ** 0.5, dim=-1)\n",
    "print(attention_weights)"
   ],
   "metadata": {
    "collapsed": false,
    "ExecuteTime": {
     "end_time": "2024-07-23T11:30:14.456238600Z",
     "start_time": "2024-07-23T11:30:14.340549900Z"
    }
   },
   "id": "8125455e13ca237e"
  },
  {
   "cell_type": "markdown",
   "source": [
    "### 2.5.2 mask注意力权重与dropout"
   ],
   "metadata": {
    "collapsed": false
   },
   "id": "e0e69ee7cf4e9f27"
  },
  {
   "cell_type": "markdown",
   "source": [
    "- 此外，我们还应用dropout来减少训练过程中的过度拟合\n",
    "\n",
    "- Dropout可以应用于多个地方：\n",
    "    - 例如在计算注意力权重之后；\n",
    "    - 或者在注意力权重与值向量相乘之后\n",
    "- 在这里，我们将在计算注意力权重后应用丢弃掩码，因为它更常见\n",
    "\n",
    "- 此外，在这个特定的例子中，我们使用50%的dropout率，这意味着随机屏蔽掉一半的注意力权重。（当我们稍后训练GPT模型时，我们将使用较低的dropout率，例如0.1或0.2\n",
    "\n",
    "![Alt text](../../img/LLM/ch02/masked_matrix_dropout.png)\n",
    "\n",
    "- 如果我们应用0.5（50%）的dropout率,为了确保数学期望一致,未丢弃的值将相应地按因子1/0.5=2进行缩放。"
   ],
   "metadata": {
    "collapsed": false
   },
   "id": "478976be3f09256f"
  },
  {
   "cell_type": "code",
   "execution_count": 38,
   "outputs": [
    {
     "name": "stdout",
     "output_type": "stream",
     "text": [
      "tensor([[2., 2., 2., 2., 2., 2.],\n",
      "        [0., 2., 0., 0., 0., 0.],\n",
      "        [0., 0., 2., 0., 2., 0.],\n",
      "        [2., 2., 0., 0., 0., 2.],\n",
      "        [2., 0., 0., 0., 0., 2.],\n",
      "        [0., 2., 0., 0., 0., 0.]])\n",
      "tensor([[2.0000, 0.0000, 0.0000, 0.0000, 0.0000, 0.0000],\n",
      "        [0.0000, 0.0000, 0.0000, 0.0000, 0.0000, 0.0000],\n",
      "        [0.0000, 0.0000, 0.6804, 0.0000, 0.0000, 0.0000],\n",
      "        [0.0000, 0.5090, 0.0000, 0.4936, 0.0000, 0.0000],\n",
      "        [0.0000, 0.4120, 0.4116, 0.3869, 0.3906, 0.0000],\n",
      "        [0.3249, 0.3418, 0.0000, 0.0000, 0.3249, 0.3363]],\n",
      "       grad_fn=<MulBackward0>)\n"
     ]
    }
   ],
   "source": [
    "torch.manual_seed(123)\n",
    "dropout = torch.nn.Dropout(0.5)\n",
    "example = torch.ones(6, 6)\n",
    "print(dropout(example))\n",
    "\n",
    "print(dropout(attention_weights))"
   ],
   "metadata": {
    "collapsed": false,
    "ExecuteTime": {
     "end_time": "2024-07-23T11:30:17.738135700Z",
     "start_time": "2024-07-23T11:30:17.561607700Z"
    }
   },
   "id": "d3b0dc9aaa70dfbc"
  },
  {
   "cell_type": "markdown",
   "source": [
    "### 2.5.3 实现Casual Self-attention类"
   ],
   "metadata": {
    "collapsed": false
   },
   "id": "2d2af575f9127b5f"
  },
  {
   "cell_type": "code",
   "execution_count": 39,
   "outputs": [
    {
     "name": "stdout",
     "output_type": "stream",
     "text": [
      "torch.Size([2, 6, 3])\n"
     ]
    }
   ],
   "source": [
    "batch = torch.stack((inputs, inputs), dim=0)\n",
    "print(batch.shape)"
   ],
   "metadata": {
    "collapsed": false,
    "ExecuteTime": {
     "end_time": "2024-07-23T11:30:20.614668Z",
     "start_time": "2024-07-23T11:30:20.547845600Z"
    }
   },
   "id": "3dd3f96608cf893d"
  },
  {
   "cell_type": "code",
   "execution_count": 40,
   "outputs": [
    {
     "name": "stdout",
     "output_type": "stream",
     "text": [
      "tensor([[[-0.4519,  0.2216],\n",
      "         [-0.5874,  0.0058],\n",
      "         [-0.6300, -0.0632],\n",
      "         [-0.5675, -0.0843],\n",
      "         [-0.5526, -0.0981],\n",
      "         [-0.5299, -0.1081]],\n",
      "\n",
      "        [[-0.4519,  0.2216],\n",
      "         [-0.5874,  0.0058],\n",
      "         [-0.6300, -0.0632],\n",
      "         [-0.5675, -0.0843],\n",
      "         [-0.5526, -0.0981],\n",
      "         [-0.5299, -0.1081]]], grad_fn=<UnsafeViewBackward0>)\n",
      "context_vecs.shape: torch.Size([2, 6, 2])\n"
     ]
    }
   ],
   "source": [
    "class CasualAttention(nn.Module):\n",
    "    def __init__(self, d_in, d_out, context_length,\n",
    "                 dropout, qkv_bias=False):\n",
    "        super().__init__()\n",
    "        self.d_out = d_out\n",
    "        self.W_q = nn.Linear(d_in, d_out, bias=qkv_bias)\n",
    "        self.W_k = nn.Linear(d_in, d_out, bias=qkv_bias)\n",
    "        self.W_v = nn.Linear(d_in, d_out, bias=qkv_bias)\n",
    "        self.dropout = nn.Dropout(dropout)\n",
    "        self.register_buffer('mask', torch.triu(torch.ones(context_length, context_length), diagonal=1))\n",
    "        \n",
    "    def forward(self, x):\n",
    "        b, num_tokens, d_in = x.shape\n",
    "        key = self.W_k(x)\n",
    "        query = self.W_q(x)\n",
    "        value = self.W_v(x)\n",
    "        \n",
    "        attention_scores = query @ key.transpose(1, 2)\n",
    "        attention_scores.masked_fill_(self.mask.bool()[:num_tokens, :num_tokens], -torch.inf)\n",
    "        attention_weights = torch.softmax(attention_scores / key.shape[-1] ** 0.5, dim=-1)\n",
    "        attention_weights = self.dropout(attention_weights)\n",
    "        \n",
    "        context_vec = attention_weights @ value\n",
    "        return context_vec\n",
    "    \n",
    "torch.manual_seed(123)\n",
    "context_length = batch.shape[1]\n",
    "ca = CasualAttention(d_in, d_out, context_length, 0.0)\n",
    "context_vecs = ca(batch)\n",
    "print(context_vecs)\n",
    "print(f\"context_vecs.shape: {context_vecs.shape}\")"
   ],
   "metadata": {
    "collapsed": false,
    "ExecuteTime": {
     "end_time": "2024-07-23T11:30:21.355428600Z",
     "start_time": "2024-07-23T11:30:21.205087900Z"
    }
   },
   "id": "4d99f5855791c641"
  },
  {
   "cell_type": "markdown",
   "source": [
    "- 请注意，dropout仅适用于训练期间，而不适用于推理期间\n",
    "\n",
    "![Alt text](../../img/LLM/ch02/third_step_of_transformers.png)"
   ],
   "metadata": {
    "collapsed": false
   },
   "id": "a90981ce7071ff4"
  },
  {
   "cell_type": "markdown",
   "source": [
    "## 2.6 将单头注意力扩展到多头注意力"
   ],
   "metadata": {
    "collapsed": false
   },
   "id": "29761a59a15c5c80"
  },
  {
   "cell_type": "markdown",
   "source": [
    "### 2.6.1 堆叠多个单头注意力层"
   ],
   "metadata": {
    "collapsed": false
   },
   "id": "20b50e473c7a843"
  },
  {
   "cell_type": "markdown",
   "source": [
    "- 以下是之前实现的自我注意的摘要（为了简单起见，未显示因果和脱落掩码）\n",
    "\n",
    "- 这也被称为单头注意力：\n",
    "\n",
    "![Alt text](../../img/LLM/ch02/single_head_attention.png)\n",
    "\n",
    "- 我们简单地堆叠多个单头注意力模块来获得多头注意力模块：\n",
    "\n",
    "![Alt text](../../img/LLM/ch02/stack_single_head_attention.png)\n",
    "\n",
    "- 多头注意力背后的主要思想是用不同的、习得的线性投影多次（并行）运行注意力机制。这允许模型联合关注来自不同位置处的不同表示子空间的信息。"
   ],
   "metadata": {
    "collapsed": false
   },
   "id": "8bc206390c51d6fd"
  },
  {
   "cell_type": "code",
   "execution_count": 41,
   "outputs": [
    {
     "name": "stdout",
     "output_type": "stream",
     "text": [
      "tensor([[[-0.4519,  0.2216,  0.4772,  0.1063],\n",
      "         [-0.5874,  0.0058,  0.5891,  0.3257],\n",
      "         [-0.6300, -0.0632,  0.6202,  0.3860],\n",
      "         [-0.5675, -0.0843,  0.5478,  0.3589],\n",
      "         [-0.5526, -0.0981,  0.5321,  0.3428],\n",
      "         [-0.5299, -0.1081,  0.5077,  0.3493]],\n",
      "\n",
      "        [[-0.4519,  0.2216,  0.4772,  0.1063],\n",
      "         [-0.5874,  0.0058,  0.5891,  0.3257],\n",
      "         [-0.6300, -0.0632,  0.6202,  0.3860],\n",
      "         [-0.5675, -0.0843,  0.5478,  0.3589],\n",
      "         [-0.5526, -0.0981,  0.5321,  0.3428],\n",
      "         [-0.5299, -0.1081,  0.5077,  0.3493]]], grad_fn=<CatBackward0>)\n",
      "context_vecs.shape: torch.Size([2, 6, 4])\n"
     ]
    }
   ],
   "source": [
    "class MultiHeadAttentionWrapper(nn.Module):\n",
    "    def __init__(self, d_in, d_out, context_length, dropout, num_heads, qkv_bias=False):\n",
    "        super().__init__()\n",
    "        self.heads = nn.ModuleList(\n",
    "            [CasualAttention(d_in, d_out, context_length, dropout, qkv_bias)\n",
    "            for _ in range(num_heads)]\n",
    "        )\n",
    "        \n",
    "    def forward(self, x):\n",
    "        return torch.cat([head(x) for head in self.heads], dim=-1)\n",
    "    \n",
    "torch.manual_seed(123)\n",
    "\n",
    "context_length = batch.shape[1]\n",
    "d_in, d_out = 3, 2\n",
    "MHA = MultiHeadAttentionWrapper(\n",
    "    d_in, d_out, context_length, 0.0, num_heads=2\n",
    ")\n",
    "\n",
    "context_vecs = MHA(batch)\n",
    "\n",
    "print(context_vecs)\n",
    "print(f\"context_vecs.shape: {context_vecs.shape}\")"
   ],
   "metadata": {
    "collapsed": false,
    "ExecuteTime": {
     "end_time": "2024-07-23T11:30:26.624174Z",
     "start_time": "2024-07-23T11:30:26.405709500Z"
    }
   },
   "id": "37c55dbc5c98fc9a"
  },
  {
   "cell_type": "markdown",
   "source": [
    "- 在上面的实现中，嵌入维度是4，因为我们d_out＝2作为关键字、查询和值向量以及上下文向量的嵌入维度。由于我们有两个注意力头，我们的输出嵌入维数为2*2=4"
   ],
   "metadata": {
    "collapsed": false
   },
   "id": "fa9cad855541dcc"
  },
  {
   "cell_type": "markdown",
   "source": [
    "### 2.6.2 通过weight拆分实现多头注意力"
   ],
   "metadata": {
    "collapsed": false
   },
   "id": "efa174a27705bfcb"
  },
  {
   "cell_type": "markdown",
   "source": [
    "- 虽然上面是多头注意力的直观且功能齐全的实现（包装了前面的单头注意力因果注意力实现），但我们可以编写一个名为MultiHeadAttention的独立类来实现\n",
    "\n",
    "- 我们不为这个独立的MultiHeadAttention类连接单个注意力头\n",
    "\n",
    "- 相反，我们创建单个W_query、W_key和W_value权重矩阵，然后将它们拆分为每个注意力头的单独矩阵："
   ],
   "metadata": {
    "collapsed": false
   },
   "id": "85d77cbc0a30d12d"
  },
  {
   "cell_type": "code",
   "execution_count": 42,
   "outputs": [
    {
     "name": "stdout",
     "output_type": "stream",
     "text": [
      "tensor([[[0.3190, 0.4858],\n",
      "         [0.2943, 0.3897],\n",
      "         [0.2856, 0.3593],\n",
      "         [0.2693, 0.3873],\n",
      "         [0.2639, 0.3928],\n",
      "         [0.2575, 0.4028]],\n",
      "\n",
      "        [[0.3190, 0.4858],\n",
      "         [0.2943, 0.3897],\n",
      "         [0.2856, 0.3593],\n",
      "         [0.2693, 0.3873],\n",
      "         [0.2639, 0.3928],\n",
      "         [0.2575, 0.4028]]], grad_fn=<ViewBackward0>)\n",
      "context_vecs.shape: torch.Size([2, 6, 2])\n"
     ]
    }
   ],
   "source": [
    "class MultiHeadAttention(nn.Module):\n",
    "    def __init__(self, d_in, d_out, context_length, dropout, num_heads, qkv_bias=False):\n",
    "        super().__init__()\n",
    "        assert (d_out % num_heads == 0), \\\n",
    "            \"d_out must be divisible by num_heads\"\n",
    "        \n",
    "        self.d_out = d_out\n",
    "        self.num_heads = num_heads\n",
    "        self.head_dim = d_out // num_heads\n",
    "        \n",
    "        self.W_q = nn.Linear(d_in, d_out, bias=qkv_bias)\n",
    "        self.W_k = nn.Linear(d_in, d_out, bias=qkv_bias)\n",
    "        self.W_v = nn.Linear(d_in, d_out, bias=qkv_bias)\n",
    "        self.dropout = nn.Dropout(dropout)\n",
    "        self.register_buffer(\n",
    "            'mask', \n",
    "            torch.triu(torch.ones(context_length, context_length), diagonal=1))\n",
    "        self.out_proj = nn.Linear(d_out, d_out)\n",
    "        \n",
    "    def forward(self, x):\n",
    "        b, num_tokens, d_in = x.shape\n",
    "        \n",
    "        key = self.W_k(x)\n",
    "        query = self.W_q(x)\n",
    "        value = self.W_v(x)\n",
    "        \n",
    "        # We implicitly split the matrix by adding a `num_heads` dimension\n",
    "        # Unroll last dim: (b, num_tokens, d_out) -> (b, num_tokens, num_heads, head_dim)\n",
    "        key = key.view(b, num_tokens, self.num_heads, self.head_dim) \n",
    "        value = value.view(b, num_tokens, self.num_heads, self.head_dim)\n",
    "        query = query.view(b, num_tokens, self.num_heads, self.head_dim)\n",
    "        \n",
    "        # Transpose: (b, num_tokens, num_heads, head_dim) -> (b, num_heads, num_tokens, head_dim)\n",
    "        key = key.transpose(1, 2)\n",
    "        query = query.transpose(1, 2)\n",
    "        value = value.transpose(1, 2)\n",
    "        \n",
    "        attention_score = query @ key.transpose(2, 3)\n",
    "        mask_bool = self.mask.bool()[:num_tokens, :num_tokens]\n",
    "        \n",
    "        attention_score.masked_fill_(mask_bool, -torch.inf)\n",
    "        \n",
    "        attention_weights = torch.softmax(attention_score / key.shape[-1] ** 0.5, dim=-1)\n",
    "        attention_weights = self.dropout(attention_weights)\n",
    "        \n",
    "        # Shape: (b, num_tokens, num_heads, head_dim)\n",
    "        context_vec = (attention_weights @ value).transpose(1, 2) \n",
    "        \n",
    "        # Combine heads, where self.d_out = self.num_heads * self.head_dim\n",
    "        context_vec = context_vec.contiguous().view(b, num_tokens, self.d_out)\n",
    "        context_vec = self.out_proj(context_vec) # optional projection\n",
    "\n",
    "        return context_vec\n",
    "    \n",
    "torch.manual_seed(123)\n",
    "\n",
    "batch_size, context_length, d_in = batch.shape\n",
    "d_out = 2\n",
    "mha = MultiHeadAttention(d_in, d_out, context_length, 0.0, num_heads=2)\n",
    "\n",
    "context_vecs = mha(batch)\n",
    "\n",
    "print(context_vecs)\n",
    "print(\"context_vecs.shape:\", context_vecs.shape)"
   ],
   "metadata": {
    "collapsed": false,
    "ExecuteTime": {
     "end_time": "2024-07-23T11:30:36.844166400Z",
     "start_time": "2024-07-23T11:30:36.675618600Z"
    }
   },
   "id": "5fd90a4c7d02bdb2"
  },
  {
   "cell_type": "markdown",
   "source": [
    "- 请注意，以上内容本质上是MultiHeadAttentionWrapper的重写版本，它更高效\n",
    "- 由于随机权重初始化不同，结果输出看起来有点不同，但两者都是功能齐全的实现，可以在我们将在接下来的章节中实现的GPT类中使用\n",
    "- 请注意，此外，我们还在上面的MultiHeadAttention类中添加了一个线性投影层（self.out_proj）。这只是一个不改变尺寸的线性变换。在LLM实现中使用这样的投影层是一种标准约定，但并非绝对必要（最近的研究表明，可以在不影响建模性能的情况下删除它）\n",
    "\n",
    "![Alt text](../../img/LLM/ch02/multihead_attention.png)\n",
    "\n",
    "- 请注意，如果您对上述内容的紧凑高效实现感兴趣，也可以考虑使用torch.nn.PyTorch中的MultiHeadAttention类\n",
    "- 由于上面的实现乍一看可能有点复杂，让我们看看当执行attention_scores=queries@keys.transpose（2，3）时会发生什么："
   ],
   "metadata": {
    "collapsed": false
   },
   "id": "690b3d4ae6abbd63"
  },
  {
   "cell_type": "code",
   "execution_count": 43,
   "outputs": [
    {
     "name": "stdout",
     "output_type": "stream",
     "text": [
      "tensor([[[[1.3208, 1.1631, 1.2879],\n",
      "          [1.1631, 2.2150, 1.8424],\n",
      "          [1.2879, 1.8424, 2.0402]],\n",
      "\n",
      "         [[0.4391, 0.7003, 0.5903],\n",
      "          [0.7003, 1.3737, 1.0620],\n",
      "          [0.5903, 1.0620, 0.9912]]]])\n"
     ]
    }
   ],
   "source": [
    "# (b, num_heads, num_tokens, head_dim) = (1, 2, 3, 4)\n",
    "a = torch.tensor([[[[0.2745, 0.6584, 0.2775, 0.8573],\n",
    "                    [0.8993, 0.0390, 0.9268, 0.7388],\n",
    "                    [0.7179, 0.7058, 0.9156, 0.4340]],\n",
    "\n",
    "                   [[0.0772, 0.3565, 0.1479, 0.5331],\n",
    "                    [0.4066, 0.2318, 0.4545, 0.9737],\n",
    "                    [0.4606, 0.5159, 0.4220, 0.5786]]]])\n",
    "\n",
    "print(a @ a.transpose(2, 3))"
   ],
   "metadata": {
    "collapsed": false,
    "ExecuteTime": {
     "end_time": "2024-07-23T11:30:39.812703500Z",
     "start_time": "2024-07-23T11:30:39.628165500Z"
    }
   },
   "id": "495851e245da6c8d"
  },
  {
   "cell_type": "markdown",
   "source": [
    "- 在这种情况下，PyTorch中的矩阵乘法实现将处理4维输入张量，以便在最后2个维度（num_tokens，head_dim）之间执行矩阵乘法，然后对各个头重复执行\n",
    "\n",
    "- 例如，以下成为单独计算每个头的矩阵乘法的更紧凑的方法："
   ],
   "metadata": {
    "collapsed": false
   },
   "id": "32180d2d89e77c8"
  },
  {
   "cell_type": "code",
   "execution_count": 44,
   "outputs": [
    {
     "name": "stdout",
     "output_type": "stream",
     "text": [
      "First head:\n",
      " tensor([[1.3208, 1.1631, 1.2879],\n",
      "        [1.1631, 2.2150, 1.8424],\n",
      "        [1.2879, 1.8424, 2.0402]])\n",
      "\n",
      "Second head:\n",
      " tensor([[0.4391, 0.7003, 0.5903],\n",
      "        [0.7003, 1.3737, 1.0620],\n",
      "        [0.5903, 1.0620, 0.9912]])\n"
     ]
    }
   ],
   "source": [
    "first_head = a[0, 0, :, :]\n",
    "first_res = first_head @ first_head.T\n",
    "print(\"First head:\\n\", first_res)\n",
    "\n",
    "second_head = a[0, 1, :, :]\n",
    "second_res = second_head @ second_head.T\n",
    "print(\"\\nSecond head:\\n\", second_res)"
   ],
   "metadata": {
    "collapsed": false,
    "ExecuteTime": {
     "end_time": "2024-07-23T11:30:46.917582600Z",
     "start_time": "2024-07-23T11:30:46.736063100Z"
    }
   },
   "id": "982feac614ca0fb"
  },
  {
   "cell_type": "markdown",
   "source": [
    "# 三、从头实现GPT模型以生成文本"
   ],
   "metadata": {
    "collapsed": false
   },
   "id": "90013e36f0f7fc4c"
  },
  {
   "cell_type": "code",
   "execution_count": 45,
   "outputs": [
    {
     "name": "stdout",
     "output_type": "stream",
     "text": [
      "matplotlib version: 3.9.0\n",
      "torch version: 2.3.1\n",
      "tiktoken version: 0.7.0\n"
     ]
    }
   ],
   "source": [
    "from importlib.metadata import version\n",
    "\n",
    "import matplotlib\n",
    "import tiktoken\n",
    "import torch\n",
    "import torch.nn as nn\n",
    "\n",
    "print(f\"matplotlib version: {version('matplotlib')}\")\n",
    "print(f\"torch version: {version('torch')}\")\n",
    "print(f\"tiktoken version: {version('tiktoken')}\")"
   ],
   "metadata": {
    "collapsed": false,
    "ExecuteTime": {
     "end_time": "2024-07-23T11:30:48.988235200Z",
     "start_time": "2024-07-23T11:30:48.816694600Z"
    }
   },
   "id": "60b021f876b20854"
  },
  {
   "cell_type": "markdown",
   "source": [
    "![Alt text](../../img/LLM/ch03/one_of_process_LLM.png)"
   ],
   "metadata": {
    "collapsed": false
   },
   "id": "e3a1dd66a54cbfb5"
  },
  {
   "cell_type": "markdown",
   "source": [
    "## 3.1 LLM架构代码实现"
   ],
   "metadata": {
    "collapsed": false
   },
   "id": "554371d99ec2ae18"
  },
  {
   "cell_type": "markdown",
   "source": [
    "- GPT和Llama等模型，它们按顺序生成单词，并基于原始Transformer架构的解码器部分\n",
    "- 因此，这些LLM通常被称为“解码器式”LLM\n",
    "- 与传统的深度学习模型相比，LLM更大，主要是因为它们有大量的参数，而不是代码量\n",
    "- 我们将看到LLM的体系结构中重复了许多元素\n",
    "\n",
    "![Alt text](../../img/LLM/ch03/architecture_of_LLM.png)\n",
    "\n",
    "- 为了便于说明，我们对token输入和输出使用了较小的嵌入维度\n",
    "- 我们考虑类似于小型GPT-2模型的嵌入和模型大小\n",
    "- 我们将具体编码最小的GPT-2模型（1.24亿个参数）的架构，如Radford等人的《语言模型是无监督的多任务学习者》中所述（注意，最初的报告将其列为117M个参数，但后来在模型权重库中进行了更正）\n",
    "- 之后将展示如何将预训练的权重加载到我们的实现中，该实现将与345、762和15.42亿参数的模型大小兼容\n",
    "- 1.24亿参数GPT-2模型的配置详细信息包括："
   ],
   "metadata": {
    "collapsed": false
   },
   "id": "b05261b1c0cbf42"
  },
  {
   "cell_type": "code",
   "execution_count": 46,
   "outputs": [],
   "source": [
    "GPT_CONFIG_124M = {\n",
    "    \"vocab_size\": 50257,  # 表示50257个单词的词汇大小，由之前用到的BPE标记器支持\n",
    "    \"context_length\": 1024,  # 表示模型的最大输入token数\n",
    "    \"embedding_dim\": 768,  # 是token输入的嵌入大小，将每个输入token转换为768维向量\n",
    "    \"n_heads\": 12,  # 多头注意力机制中注意力头的数量\n",
    "    \"n_layers\": 12,  # 是模型中Transformer块的数量\n",
    "    \"drop_rate\": 0.1,  # dropout率\n",
    "    \"qkv_bias\": False  # 决定在计算查询（Q）、密钥（K）和值（V）张量时，多头注意力机制（来自第3章）中的线性层是否应包括偏差向量\n",
    "}"
   ],
   "metadata": {
    "collapsed": false,
    "ExecuteTime": {
     "end_time": "2024-07-23T11:30:52.362186800Z",
     "start_time": "2024-07-23T11:30:52.143666700Z"
    }
   },
   "id": "97dfd2a84c6542f2"
  },
  {
   "cell_type": "markdown",
   "source": [
    "![Alt text](../../img/LLM/ch03/LLM_process.png)"
   ],
   "metadata": {
    "collapsed": false
   },
   "id": "410128375897ac1e"
  },
  {
   "cell_type": "code",
   "execution_count": 47,
   "outputs": [],
   "source": [
    "import torch\n",
    "import torch.nn as nn\n",
    "\n",
    "class DummyGPTModel(nn.Module):\n",
    "    def __init__(self, cfg):\n",
    "        super().__init__()\n",
    "        self.cfg = cfg\n",
    "        self.token_emb = nn.Embedding(cfg[\"vocab_size\"], cfg[\"embedding_dim\"])\n",
    "        self.pos_emb = nn.Embedding(cfg[\"context_length\"], cfg[\"embedding_dim\"])\n",
    "        self.drop_emb = nn.Dropout(cfg[\"drop_rate\"])\n",
    "        \n",
    "        self.transformer_blocks = nn.Sequential(\n",
    "            *[DummyTransformerBlock(cfg) for _ in range(cfg[\"n_layers\"])] \n",
    "        )\n",
    "        \n",
    "        self.final_norm = DummyLayerNorm(cfg[\"embedding_dim\"])\n",
    "        self.out_head = nn.Linear(\n",
    "            cfg[\"embedding_dim\"], cfg[\"vocab_size\"], bias=False\n",
    "        )\n",
    "        \n",
    "    def forward(self, in_idx):\n",
    "        batch_size, seq_len = in_idx.shape\n",
    "        tok_embeds = self.token_emb(in_idx)\n",
    "        pos_embeds = self.pos_emb(torch.arange(seq_len, device=in_idx.device))\n",
    "        x = tok_embeds + pos_embeds\n",
    "        x = self.drop_emb(x)\n",
    "        x = self.transformer_blocks(x)\n",
    "        logits = self.out_head(x)\n",
    "        return logits\n",
    "        \n",
    "\n",
    "class DummyTransformerBlock(nn.Module):\n",
    "    def __init__(self, cfg):\n",
    "        super().__init__()\n",
    "        \n",
    "    def forward(self, x):\n",
    "        return x\n",
    "    \n",
    "    \n",
    "class DummyLayerNorm(nn.Module):\n",
    "    def __init__(self, normalized_shape, eps=1e-5):\n",
    "        super().__init__()\n",
    "        \n",
    "    def forward(self, x):\n",
    "        return x"
   ],
   "metadata": {
    "collapsed": false,
    "ExecuteTime": {
     "end_time": "2024-07-23T11:30:59.765896400Z",
     "start_time": "2024-07-23T11:30:59.585597300Z"
    }
   },
   "id": "81a7b028fa5d63fb"
  },
  {
   "cell_type": "markdown",
   "source": [
    "![Alt text](../../img/LLM/ch03/dummy_LLM_architecture.png)"
   ],
   "metadata": {
    "collapsed": false
   },
   "id": "65550f1dd1c430a9"
  },
  {
   "cell_type": "code",
   "execution_count": 48,
   "outputs": [
    {
     "name": "stdout",
     "output_type": "stream",
     "text": [
      "tensor([[6109, 3626, 6100,  345],\n",
      "        [6109, 1110, 6622,  257]])\n"
     ]
    }
   ],
   "source": [
    "import tiktoken\n",
    "\n",
    "tokenizer = tiktoken.get_encoding(\"gpt2\")\n",
    "\n",
    "batch = []\n",
    "\n",
    "txt1 = \"Every effort moves you\"\n",
    "txt2 = \"Every day holds a\"\n",
    "\n",
    "batch.append(torch.tensor(tokenizer.encode(txt1)))\n",
    "batch.append(torch.tensor(tokenizer.encode(txt2)))\n",
    "\n",
    "batch = torch.stack(batch, dim=0)\n",
    "print(batch)"
   ],
   "metadata": {
    "collapsed": false,
    "ExecuteTime": {
     "end_time": "2024-07-23T11:31:01.456667600Z",
     "start_time": "2024-07-23T11:31:01.357886600Z"
    }
   },
   "id": "25a988e18f76f1d5"
  },
  {
   "cell_type": "code",
   "execution_count": 49,
   "outputs": [
    {
     "name": "stdout",
     "output_type": "stream",
     "text": [
      "output shape: torch.Size([2, 4, 50257])\n",
      "tensor([[[-0.9289,  0.2748, -0.7557,  ..., -1.6070,  0.2702, -0.5888],\n",
      "         [-0.4476,  0.1726,  0.5354,  ..., -0.3932,  1.5285,  0.8557],\n",
      "         [ 0.5680,  1.6053, -0.2155,  ...,  1.1624,  0.1380,  0.7425],\n",
      "         [ 0.0447,  2.4787, -0.8843,  ...,  1.3219, -0.0864, -0.5856]],\n",
      "\n",
      "        [[-1.5474, -0.0542, -1.0571,  ..., -1.8061, -0.4494, -0.6747],\n",
      "         [-0.8422,  0.8243, -0.1098,  ..., -0.1434,  0.2079,  1.2046],\n",
      "         [ 0.1355,  1.1858, -0.1453,  ...,  0.0869, -0.1590,  0.1552],\n",
      "         [ 0.1666, -0.8138,  0.2307,  ...,  2.5035, -0.3055, -0.3083]]],\n",
      "       grad_fn=<UnsafeViewBackward0>)\n"
     ]
    }
   ],
   "source": [
    "torch.manual_seed(123)\n",
    "model = DummyGPTModel(GPT_CONFIG_124M)\n",
    "\n",
    "logits = model(batch)\n",
    "print(f\"output shape: {logits.shape}\")\n",
    "print(logits)"
   ],
   "metadata": {
    "collapsed": false,
    "ExecuteTime": {
     "end_time": "2024-07-23T11:31:03.703454500Z",
     "start_time": "2024-07-23T11:31:02.739323700Z"
    }
   },
   "id": "70a24ab1bb6e5863"
  },
  {
   "cell_type": "markdown",
   "source": [
    "## 3.2 使用LayerNormalize对输出进行规范化"
   ],
   "metadata": {
    "collapsed": false
   },
   "id": "302c7608eb9b665a"
  },
  {
   "cell_type": "markdown",
   "source": [
    "- 层归一化，也称为LayerNorm，将神经网络层的激活集中在平均值0附近，并将其方差归一化为1\n",
    "- 这稳定了训练，并能够更快地收敛到有效权重\n",
    "- 在Transformer块内的多头注意力模块之前和之后都应用了层规范化,我们稍后将实现;它也应用于最终输出层之前\n",
    "\n",
    "![Alt text](../../img/LLM/ch03/example_of_layernormlization.png)\n",
    "\n",
    "- 让我们看看层规范化是如何通过一个简单的神经网络层传递一个小的输入样本来工作的："
   ],
   "metadata": {
    "collapsed": false
   },
   "id": "21ce206d88dfd98c"
  },
  {
   "cell_type": "code",
   "execution_count": 50,
   "outputs": [
    {
     "name": "stdout",
     "output_type": "stream",
     "text": [
      "tensor([[0.2260, 0.3470, 0.0000, 0.2216, 0.0000, 0.0000],\n",
      "        [0.2133, 0.2394, 0.0000, 0.5198, 0.3297, 0.0000]],\n",
      "       grad_fn=<ReluBackward0>)\n"
     ]
    }
   ],
   "source": [
    "torch.manual_seed(123)\n",
    "\n",
    "batch_example = torch.randn(2, 5)\n",
    "\n",
    "layer = nn.Sequential(nn.Linear(5, 6), nn.ReLU())\n",
    "out = layer(batch_example)\n",
    "print(out)"
   ],
   "metadata": {
    "collapsed": false,
    "ExecuteTime": {
     "end_time": "2024-07-23T11:31:05.539533100Z",
     "start_time": "2024-07-23T11:31:05.360976400Z"
    }
   },
   "id": "fb69ae8eee8ba8d6"
  },
  {
   "cell_type": "code",
   "execution_count": 51,
   "outputs": [
    {
     "name": "stdout",
     "output_type": "stream",
     "text": [
      "Mean:\n",
      " tensor([[0.1324],\n",
      "        [0.2170]], grad_fn=<MeanBackward1>)\n",
      "Variance:\n",
      " tensor([[0.0231],\n",
      "        [0.0398]], grad_fn=<VarBackward0>)\n"
     ]
    }
   ],
   "source": [
    "mean = out.mean(dim=-1, keepdim=True)\n",
    "variance = out.var(dim=-1, keepdim=True)\n",
    "\n",
    "print(\"Mean:\\n\", mean)\n",
    "print(\"Variance:\\n\", variance)"
   ],
   "metadata": {
    "collapsed": false,
    "ExecuteTime": {
     "end_time": "2024-07-23T11:31:07.491459600Z",
     "start_time": "2024-07-23T11:31:07.251474500Z"
    }
   },
   "id": "328137f3d62de1f0"
  },
  {
   "cell_type": "markdown",
   "source": [
    "- 归一化被独立地应用于两个输入（行）中的每一个；使用dim=-1将计算应用于最后一个维度（在本例中为特征维度）, 而不是行维度\n",
    "\n",
    "![Alt text](../../img/LLM/ch03/dim_of_inputs.png)\n",
    "\n",
    "- 减去平均值并除以方差的平方根（标准偏差），使输入在列（特征）维度上的平均值为0，方差为1："
   ],
   "metadata": {
    "collapsed": false
   },
   "id": "2ffc2c9347a7d827"
  },
  {
   "cell_type": "code",
   "execution_count": 52,
   "outputs": [
    {
     "name": "stdout",
     "output_type": "stream",
     "text": [
      "Normalized layer outputs:\n",
      " tensor([[ 0.6159,  1.4126, -0.8719,  0.5872, -0.8719, -0.8719],\n",
      "        [-0.0189,  0.1121, -1.0876,  1.5173,  0.5647, -1.0876]],\n",
      "       grad_fn=<DivBackward0>)\n",
      "Mean:\n",
      " tensor([[9.9341e-09],\n",
      "        [0.0000e+00]], grad_fn=<MeanBackward1>)\n",
      "Variance:\n",
      " tensor([[1.0000],\n",
      "        [1.0000]], grad_fn=<VarBackward0>)\n"
     ]
    }
   ],
   "source": [
    "out_norm = (out - mean) / torch.sqrt(variance)\n",
    "print(\"Normalized layer outputs:\\n\", out_norm)\n",
    "\n",
    "mean = out_norm.mean(dim=-1, keepdim=True)\n",
    "variance = out_norm.var(dim=-1, keepdim=True)\n",
    "\n",
    "print(\"Mean:\\n\", mean)\n",
    "print(\"Variance:\\n\", variance)"
   ],
   "metadata": {
    "collapsed": false,
    "ExecuteTime": {
     "end_time": "2024-07-23T11:31:09.147291100Z",
     "start_time": "2024-07-23T11:31:08.927798300Z"
    }
   },
   "id": "4c5172382f509a33"
  },
  {
   "cell_type": "markdown",
   "source": [
    "- 上面，我们对每个输入的特征进行了归一化\n",
    "- 现在，使用相同的思想，我们可以实现LayerNorm类：\n",
    "\n",
    "**缩放和偏移**\n",
    "- 注意，除了通过减去平均值和除以方差来执行归一化外，我们还添加了两个可训练参数，一个尺度和一个偏移参数\n",
    "- 初始缩放（乘以1）和偏移（加0）值没有任何效果；然而，如果确定这样做可以提高模型在训练任务中的性能，则LLM会在训练过程中自动调整规模和偏移量\n",
    "- 这使模型能够学习最适合其处理的数据的适当缩放和移位\n",
    "- 注意，在计算方差的平方根之前，我们还添加了一个较小的值（eps）；这是为了避免在方差为0的情况下除以零的错误\n",
    "\n",
    "**有偏方差**\n",
    "- 在上面的方差计算中,设置无偏=False意味着使用公式 $\\frac{\\sum_i{({x^i-\\bar{x}}})^2}{n}$计算方差,其中n是样本大小(这里是特征或列的数量);该公式不包括贝塞尔校正(分母中使用n-1),因此提供了方差的有偏估计\n",
    "- 对于LLM，其中嵌入维度n非常大，使用n和n-1之间的差异可以忽略不计\n",
    "- 然而，GPT-2在归一化层中使用有偏差的方差进行训练，这就是为什么出于与我们将在后面章节中加载的预训练权重的兼容性原因，我们也采用了此设置\n",
    "- 现在让我们在实践中试用LayerNorm："
   ],
   "metadata": {
    "collapsed": false
   },
   "id": "ca9759b32c37f163"
  },
  {
   "cell_type": "code",
   "execution_count": 53,
   "outputs": [
    {
     "name": "stdout",
     "output_type": "stream",
     "text": [
      "Mean:\n",
      " tensor([[-2.9802e-08],\n",
      "        [ 0.0000e+00]], grad_fn=<MeanBackward1>)\n",
      "Variance:\n",
      " tensor([[1.0000],\n",
      "        [1.0000]], grad_fn=<VarBackward0>)\n"
     ]
    }
   ],
   "source": [
    "class LayerNorm(nn.Module):\n",
    "    def __init__(self, embedding_dim):\n",
    "        super().__init__()\n",
    "        self.eps = 1e-5\n",
    "        self.scale = nn.Parameter(torch.ones(embedding_dim))\n",
    "        self.shift = nn.Parameter(torch.zeros(embedding_dim))\n",
    "        \n",
    "    def forward(self, x):\n",
    "        mean = x.mean(dim=-1, keepdim=True)\n",
    "        var = x.var(dim=-1, keepdim=True, unbiased=False)\n",
    "        norm_x = (x - mean) / torch.sqrt(var + self.eps)\n",
    "        return self.scale * norm_x + self.shift\n",
    "    \n",
    "ln = LayerNorm(embedding_dim=5)\n",
    "out_ln = ln(batch_example)\n",
    "\n",
    "mean = out_ln.mean(dim=-1, keepdim=True)\n",
    "variance = out_ln.var(dim=-1, unbiased=False, keepdim=True)\n",
    "\n",
    "print(\"Mean:\\n\", mean)\n",
    "print(\"Variance:\\n\", variance)"
   ],
   "metadata": {
    "collapsed": false,
    "ExecuteTime": {
     "end_time": "2024-07-23T11:31:11.159467500Z",
     "start_time": "2024-07-23T11:31:11.021814800Z"
    }
   },
   "id": "e4979618480438d3"
  },
  {
   "cell_type": "markdown",
   "source": [
    "![Alt text](../../img/LLM/ch03/Layernormlization.png)"
   ],
   "metadata": {
    "collapsed": false
   },
   "id": "512055e075915995"
  },
  {
   "cell_type": "markdown",
   "source": [
    "## 3.3 通过GELU激活实现前馈网络"
   ],
   "metadata": {
    "collapsed": false
   },
   "id": "37fc4d990c9c62f2"
  },
  {
   "cell_type": "markdown",
   "source": [
    "- 在本节中，我们实现了一个小型神经网络子模块，该子模块用作LLM中Transformer块的一部分\n",
    "- 我们从激活函数开始\n",
    "- 在深度学习中，ReLU（整流线性单元）激活函数因其在各种神经网络架构中的简单性和有效性而被广泛使用\n",
    "- 在LLM中，除了传统的ReLU之外，还使用了各种其他类型的激活功能；两个值得注意的例子是GELU（高斯误差线性单元）和SwiGLU（Swish-Gated线性单元）\n",
    "- GELU和SwiGLU是更复杂、更平滑的激活函数，分别包含高斯和S形门控线性单元，为深度学习模型提供了更好的性能，不同于ReLU的更简单的分段线性函数\n",
    "- GELU（Hendrycks和Gimpel 2016）可以通过多种方式实现；精确的版本定义为GELU(x)=x·Φ(x)，其中Φ(x)是标准高斯分布的累积分布函数。\n",
    "- 在实践中，实现计算上更简化的近似是很常见的：\n",
    "- $GELU(x)\\thickapprox0.5·x·(1+tanh[\\sqrt{\\frac{2}{\\pi}}·(x+0.044715·x^3])$\n",
    "- (原始GPT-2模型也使用此近似值进行了训练)"
   ],
   "metadata": {
    "collapsed": false
   },
   "id": "d33d8e555a60dc1e"
  },
  {
   "cell_type": "code",
   "execution_count": 54,
   "outputs": [],
   "source": [
    "class GELU(nn.Module):\n",
    "    def __init__(self):\n",
    "        super().__init__()\n",
    "\n",
    "    def forward(self, x):\n",
    "        return 0.5 * x * (1 + torch.tanh(\n",
    "            torch.sqrt(torch.tensor(2.0 / torch.pi)) * \n",
    "            (x + 0.044715 * torch.pow(x, 3))\n",
    "        ))"
   ],
   "metadata": {
    "collapsed": false,
    "ExecuteTime": {
     "end_time": "2024-07-23T11:31:13.803455Z",
     "start_time": "2024-07-23T11:31:13.722630500Z"
    }
   },
   "id": "a55b7059e99afbb0"
  },
  {
   "cell_type": "code",
   "execution_count": 55,
   "outputs": [
    {
     "data": {
      "text/plain": "<Figure size 800x300 with 2 Axes>",
      "image/png": "[encoded data removed]"
     },
     "metadata": {},
     "output_type": "display_data"
    }
   ],
   "source": [
    "import matplotlib.pyplot as plt\n",
    "\n",
    "gelu, relu = GELU(), nn.ReLU()\n",
    "\n",
    "x = torch.linspace(-3, 3, 100)\n",
    "y_gelu, y_relu = gelu(x), relu(x)\n",
    "\n",
    "plt.figure(figsize=(8, 3))\n",
    "for i, (y, label) in enumerate(zip([y_gelu, y_relu], [\"GELU\", \"ReLU\"]), 1):\n",
    "    plt.subplot(1, 2, i)\n",
    "    plt.plot(x, y)\n",
    "    plt.title(f\"{label} activation function\")\n",
    "    plt.xlabel(\"x\")\n",
    "    plt.ylabel(f\"{label}(x)\")\n",
    "    plt.grid(True)\n",
    "    \n",
    "plt.tight_layout()\n",
    "plt.show()"
   ],
   "metadata": {
    "collapsed": false,
    "ExecuteTime": {
     "end_time": "2024-07-23T11:31:15.974138500Z",
     "start_time": "2024-07-23T11:31:14.795593600Z"
    }
   },
   "id": "4bea734d2dce434e"
  },
  {
   "cell_type": "markdown",
   "source": [
    "- 正如我们所看到的,ReLU是一个分段线性函数,如果它是正的,则直接输出输入;否则，它输出零\n",
    "\n",
    "- GELU是一个平滑的非线性函数,近似ReLU,但负值的梯度为非零\n",
    "\n",
    "- 接下来,让我们实现一个小型神经网络模块FeedForward,稍后我们将在LLM的Transformer块中使用它："
   ],
   "metadata": {
    "collapsed": false
   },
   "id": "3151508d168a79b7"
  },
  {
   "cell_type": "code",
   "execution_count": 56,
   "outputs": [],
   "source": [
    "class FeedForward(nn.Module):\n",
    "    def __init__(self, cfg):\n",
    "        super().__init__()\n",
    "        self.layers = nn.Sequential(\n",
    "            nn.Linear(cfg[\"embedding_dim\"], 4 * cfg[\"embedding_dim\"]),\n",
    "            GELU(),\n",
    "            nn.Linear(cfg[\"embedding_dim\"] * 4, cfg[\"embedding_dim\"])\n",
    "        )\n",
    "        \n",
    "    def forward(self, x):\n",
    "        return self.layers(x)"
   ],
   "metadata": {
    "collapsed": false,
    "ExecuteTime": {
     "end_time": "2024-07-23T11:31:16.573113400Z",
     "start_time": "2024-07-23T11:31:16.492298500Z"
    }
   },
   "id": "e996eff480dbc71"
  },
  {
   "cell_type": "code",
   "execution_count": 58,
   "outputs": [
    {
     "name": "stdout",
     "output_type": "stream",
     "text": [
      "768\n"
     ]
    }
   ],
   "source": [
    "print(GPT_CONFIG_124M[\"embedding_dim\"])"
   ],
   "metadata": {
    "collapsed": false,
    "ExecuteTime": {
     "end_time": "2024-07-23T11:31:25.529265600Z",
     "start_time": "2024-07-23T11:31:25.441500100Z"
    }
   },
   "id": "13241b5e2d856fe6"
  },
  {
   "cell_type": "markdown",
   "source": [
    "![Alt text](../../img/LLM/ch03/FeedForward_process.png)"
   ],
   "metadata": {
    "collapsed": false
   },
   "id": "e974173e7848e057"
  },
  {
   "cell_type": "code",
   "execution_count": 59,
   "outputs": [
    {
     "name": "stdout",
     "output_type": "stream",
     "text": [
      "torch.Size([2, 3, 768])\n"
     ]
    }
   ],
   "source": [
    "ffn = FeedForward(GPT_CONFIG_124M)\n",
    "\n",
    "x = torch.rand(2, 3, 768)\n",
    "out = ffn(x)\n",
    "print(out.shape)"
   ],
   "metadata": {
    "collapsed": false,
    "ExecuteTime": {
     "end_time": "2024-07-23T11:31:27.370131300Z",
     "start_time": "2024-07-23T11:31:27.237896700Z"
    }
   },
   "id": "2394238c73be2e81"
  },
  {
   "cell_type": "markdown",
   "source": [
    "![Alt text](../../img/LLM/ch03/FeedForward_network.png)\n",
    "\n",
    "![Alt text](../../img/LLM/ch03/ffn_of_LLM.png)"
   ],
   "metadata": {
    "collapsed": false
   },
   "id": "f8c296e70c2fe98"
  },
  {
   "cell_type": "markdown",
   "source": [
    "## 3.4 添加残差连接"
   ],
   "metadata": {
    "collapsed": false
   },
   "id": "863341c084df7ae5"
  },
  {
   "cell_type": "markdown",
   "source": [
    "- 接下来，让我们谈谈shortcut连接背后的概念，也称为残差连接\n",
    "- 最初，在计算机视觉的深度网络（残差网络）中提出了shortcut连接，**以缓解消失梯度问题**\n",
    "- shortcut连接为梯度在网络中流动创建了一个替代的较短路径\n",
    "- 这是通过将一个层的输出添加到后一层的输出来实现的，通常跳过中间的一个或多个层\n",
    "- 让我们用一个小的网络示例来说明这个想法：\n",
    "\n",
    "![Alt text](../../img/LLM/ch03/resnet_network.png)"
   ],
   "metadata": {
    "collapsed": false
   },
   "id": "387c854cbb3e2f8b"
  },
  {
   "cell_type": "code",
   "execution_count": 60,
   "outputs": [],
   "source": [
    "class ExampleDeepNeuralNetwork(nn.Module):\n",
    "    def __init__(self, layer_sizes, use_shortcut):\n",
    "        super().__init__()\n",
    "        self.use_shortcut = use_shortcut\n",
    "        self.layers = nn.ModuleList([\n",
    "            nn.Sequential(nn.Linear(layer_sizes[i], layer_sizes[i+1]), GELU()) for i in range(len(layer_sizes) - 1)\n",
    "        ])\n",
    "        \n",
    "    def forward(self, x):\n",
    "        for layer in self.layers:\n",
    "            layer_output = layer(x)\n",
    "            if self.use_shortcut and x.shape == layer_output.shape:\n",
    "                x = x + layer_output\n",
    "            else:\n",
    "                x = layer_output\n",
    "        return x\n",
    "    \n",
    "\n",
    "def print_gradients(model, x):\n",
    "    output = model(x)\n",
    "    tar = torch.tensor([[0.]])\n",
    "    \n",
    "    loss = nn.MSELoss()\n",
    "    loss = loss(output, tar)\n",
    "    \n",
    "    loss.backward()\n",
    "    \n",
    "    for name, param in model.named_parameters():\n",
    "        if \"weight\" in name:\n",
    "            print(f\"{name} has gradient mean of {param.grad.abs().mean().item()}\")"
   ],
   "metadata": {
    "collapsed": false,
    "ExecuteTime": {
     "end_time": "2024-07-23T11:31:29.764155100Z",
     "start_time": "2024-07-23T11:31:29.600440700Z"
    }
   },
   "id": "8684c73ae9685e56"
  },
  {
   "cell_type": "markdown",
   "source": [
    "- 首先看一下没有残差连接的梯度值"
   ],
   "metadata": {
    "collapsed": false
   },
   "id": "aed9a3d45c90d625"
  },
  {
   "cell_type": "code",
   "execution_count": 61,
   "outputs": [
    {
     "name": "stdout",
     "output_type": "stream",
     "text": [
      "layers.0.0.weight has gradient mean of 0.00020173587836325169\n",
      "layers.1.0.weight has gradient mean of 0.0001201116101583466\n",
      "layers.2.0.weight has gradient mean of 0.0007152041653171182\n",
      "layers.3.0.weight has gradient mean of 0.001398873864673078\n",
      "layers.4.0.weight has gradient mean of 0.005049646366387606\n"
     ]
    }
   ],
   "source": [
    "layer_sizes = [3, 3, 3, 3, 3, 1]\n",
    "\n",
    "sample_input = torch.tensor([[1., 0., -1.]])\n",
    "\n",
    "torch.manual_seed(123)\n",
    "model_without_shortcut = ExampleDeepNeuralNetwork(\n",
    "    layer_sizes, use_shortcut=False\n",
    ")\n",
    "print_gradients(model_without_shortcut, sample_input)"
   ],
   "metadata": {
    "collapsed": false,
    "ExecuteTime": {
     "end_time": "2024-07-23T11:31:31.601342800Z",
     "start_time": "2024-07-23T11:31:31.360956300Z"
    }
   },
   "id": "d0a61cf382b85115"
  },
  {
   "cell_type": "markdown",
   "source": [
    "- 再看一下有残差连接的梯度值"
   ],
   "metadata": {
    "collapsed": false
   },
   "id": "67b5441e3ccf1011"
  },
  {
   "cell_type": "code",
   "execution_count": 62,
   "outputs": [
    {
     "name": "stdout",
     "output_type": "stream",
     "text": [
      "layers.0.0.weight has gradient mean of 0.22169792652130127\n",
      "layers.1.0.weight has gradient mean of 0.20694106817245483\n",
      "layers.2.0.weight has gradient mean of 0.32896995544433594\n",
      "layers.3.0.weight has gradient mean of 0.2665732502937317\n",
      "layers.4.0.weight has gradient mean of 1.3258541822433472\n"
     ]
    }
   ],
   "source": [
    "torch.manual_seed(123)\n",
    "model_with_shortcut = ExampleDeepNeuralNetwork(\n",
    "    layer_sizes, use_shortcut=True\n",
    ")\n",
    "print_gradients(model_with_shortcut, sample_input)"
   ],
   "metadata": {
    "collapsed": false,
    "ExecuteTime": {
     "end_time": "2024-07-23T11:31:33.322595700Z",
     "start_time": "2024-07-23T11:31:33.165853900Z"
    }
   },
   "id": "3070de9a8440b4c5"
  },
  {
   "cell_type": "markdown",
   "source": [
    "- 根据上面的输出，我们可以看到，残差连接可以防止梯度在早期层(layer.0)中消失\n",
    "- 接下来，当我们实现Transformer块时，我们将使用shortcut连接的概念"
   ],
   "metadata": {
    "collapsed": false
   },
   "id": "529a621d7091ff67"
  },
  {
   "cell_type": "markdown",
   "source": [
    "## 3.5 Transformer块中的注意力和线性层"
   ],
   "metadata": {
    "collapsed": false
   },
   "id": "238bc1bd6705389b"
  },
  {
   "cell_type": "markdown",
   "source": [
    "- 我们现在将前面的概念组合成一个transformer块\n",
    "- transformer块将因果多头注意力模块与线性层相结合，线性层是我们之前实现的前馈神经网络\n",
    "- 此外，transformer块还使用dropout和shortcut连接"
   ],
   "metadata": {
    "collapsed": false
   },
   "id": "d1b4ac87d317e8d"
  },
  {
   "cell_type": "code",
   "execution_count": 63,
   "outputs": [],
   "source": [
    "class TransformerBlock(nn.Module):\n",
    "    def __init__(self, cfg):\n",
    "        super().__init__()\n",
    "        self.d_in = cfg[\"embedding_dim\"]\n",
    "        self.d_out = cfg[\"embedding_dim\"]\n",
    "        self.context_length = cfg[\"context_length\"]\n",
    "        self.num_heads = cfg[\"n_heads\"]\n",
    "        self.dropout = cfg[\"drop_rate\"]\n",
    "        self.qkv_bias = cfg[\"qkv_bias\"]\n",
    "        \n",
    "        self.attention = MultiHeadAttention(\n",
    "            d_in=self.d_in,\n",
    "            d_out=self.d_out,\n",
    "            context_length=self.context_length,\n",
    "            num_heads=self.num_heads,\n",
    "            dropout=self.dropout,\n",
    "            qkv_bias=self.qkv_bias\n",
    "        )\n",
    "        self.ffn = FeedForward(cfg)\n",
    "        self.norm1 = LayerNorm(self.d_in)\n",
    "        self.norm2 = LayerNorm(self.d_out)\n",
    "        self.drop_shortcut = nn.Dropout(self.dropout)\n",
    "        \n",
    "    def forward(self, x):\n",
    "        shortcut = x\n",
    "        x = self.norm1(x)\n",
    "        x = self.attention(x)\n",
    "        x = self.drop_shortcut(x)\n",
    "        x = x + shortcut\n",
    "        \n",
    "        shortcut = x\n",
    "        x = self.norm2(x)\n",
    "        x = self.ffn(x)\n",
    "        x = self.drop_shortcut(x)\n",
    "        x = x + shortcut\n",
    "        return x"
   ],
   "metadata": {
    "collapsed": false,
    "ExecuteTime": {
     "end_time": "2024-07-23T11:31:36.320908400Z",
     "start_time": "2024-07-23T11:31:36.182200Z"
    }
   },
   "id": "da46af717d8fda13"
  },
  {
   "cell_type": "markdown",
   "source": [
    "![Alt text](../../img/LLM/ch03/shortcut_of_LLM.png)"
   ],
   "metadata": {
    "collapsed": false
   },
   "id": "201755e33b38b3d2"
  },
  {
   "cell_type": "markdown",
   "source": [
    "- 假设我们有2个输入样本，每个样本有6个标记，其中每个标记是768维的嵌入向量；然后这个Transformer块应用自注意，然后是线性层，以产生类似大小的输出"
   ],
   "metadata": {
    "collapsed": false
   },
   "id": "7e7ca6a74f60dec"
  },
  {
   "cell_type": "code",
   "execution_count": 64,
   "outputs": [
    {
     "name": "stdout",
     "output_type": "stream",
     "text": [
      "Input shape: torch.Size([2, 4, 768])\n",
      "Output shape: torch.Size([2, 4, 768])\n"
     ]
    }
   ],
   "source": [
    "torch.manual_seed(123)\n",
    "x = torch.rand(2, 4, 768)\n",
    "block = TransformerBlock(GPT_CONFIG_124M)\n",
    "out = block(x)\n",
    "\n",
    "print(f\"Input shape: {x.shape}\")\n",
    "print(f\"Output shape: {out.shape}\")"
   ],
   "metadata": {
    "collapsed": false,
    "ExecuteTime": {
     "end_time": "2024-07-23T11:31:38.505186800Z",
     "start_time": "2024-07-23T11:31:38.311704600Z"
    }
   },
   "id": "e0e62ffeb0f5fbc5"
  },
  {
   "cell_type": "markdown",
   "source": [
    "![Alt text](../../img/LLM/ch03/Transformer_Block.png)"
   ],
   "metadata": {
    "collapsed": false
   },
   "id": "2b83ad826b8f3c7f"
  },
  {
   "cell_type": "markdown",
   "source": [
    "## 3.6 GPT模型代码编写"
   ],
   "metadata": {
    "collapsed": false
   },
   "id": "5988e04956b8e483"
  },
  {
   "cell_type": "markdown",
   "source": [
    "- 现在让我们将transformer块插入到我们在开头编码的体系结构中，以便获得可用的GPT体系结构\n",
    "- 请注意，transformer块重复多次；在最小的124M GPT-2模型的情况下，我们重复它12次：\n",
    "\n",
    "![Alt text](../../img/LLM/ch03/GPT_model.png)"
   ],
   "metadata": {
    "collapsed": false
   },
   "id": "608f730fe44ed090"
  },
  {
   "cell_type": "code",
   "execution_count": 65,
   "outputs": [],
   "source": [
    "import torch.nn as nn\n",
    "import torch\n",
    "\n",
    "class GPTModel(nn.Module):\n",
    "    def __init__(self, cfg):\n",
    "        super().__init__()\n",
    "        self.tok_emb = nn.Embedding(cfg[\"vocab_size\"], cfg[\"embedding_dim\"])\n",
    "        self.pos_emb = nn.Embedding(cfg[\"context_length\"], cfg[\"embedding_dim\"])\n",
    "        self.drop_emb = nn.Dropout(cfg[\"drop_rate\"])\n",
    "        \n",
    "        self.transformer_block = nn.Sequential(\n",
    "            *[TransformerBlock(cfg) for _ in range(cfg[\"n_layers\"])]\n",
    "        )\n",
    "        \n",
    "        self.final_norm = LayerNorm(cfg[\"embedding_dim\"])\n",
    "        self.out_head = nn.Linear(\n",
    "            cfg[\"embedding_dim\"], cfg[\"vocab_size\"], bias=False\n",
    "        )\n",
    "        \n",
    "    def forward(self, in_idx):\n",
    "        batch_size, seq_len = in_idx.shape\n",
    "        token_embeddings = self.tok_emb(in_idx)\n",
    "        pos_embeddings = self.pos_emb(torch.arange(seq_len, device=in_idx.device))\n",
    "        x = token_embeddings + pos_embeddings\n",
    "        x = self.drop_emb(x)\n",
    "        x = self.transformer_block(x)\n",
    "        x = self.final_norm(x)\n",
    "        logits = self.out_head(x)\n",
    "        return logits"
   ],
   "metadata": {
    "collapsed": false,
    "ExecuteTime": {
     "end_time": "2024-07-23T11:31:40.976106500Z",
     "start_time": "2024-07-23T11:31:40.789604500Z"
    }
   },
   "id": "f9b247c6bd4b3710"
  },
  {
   "cell_type": "markdown",
   "source": [
    "- 使用124M参数模型的配置，我们现在可以实例化具有随机初始权重的GPT模型，如下所示："
   ],
   "metadata": {
    "collapsed": false
   },
   "id": "384c884552ef9516"
  },
  {
   "cell_type": "code",
   "execution_count": 66,
   "outputs": [
    {
     "name": "stdout",
     "output_type": "stream",
     "text": [
      "Input batch:\n",
      " tensor([[6109, 3626, 6100,  345],\n",
      "        [6109, 1110, 6622,  257]])\n",
      "Output shape:\n",
      " torch.Size([2, 4, 50257])\n",
      "tensor([[[ 0.1381,  0.0077, -0.1963,  ..., -0.0222, -0.1060,  0.1717],\n",
      "         [ 0.3865, -0.8408, -0.6564,  ..., -0.5163,  0.2369, -0.3357],\n",
      "         [ 0.6989, -0.1829, -0.1631,  ...,  0.1472, -0.6504, -0.0056],\n",
      "         [-0.4290,  0.1669, -0.1258,  ...,  1.1579,  0.5303, -0.5549]],\n",
      "\n",
      "        [[ 0.1094, -0.2894, -0.1467,  ..., -0.0557,  0.2911, -0.2824],\n",
      "         [ 0.0882, -0.3552, -0.3527,  ...,  1.2930,  0.0053,  0.1898],\n",
      "         [ 0.6091,  0.4702, -0.4094,  ...,  0.7688,  0.3787, -0.1974],\n",
      "         [-0.0612, -0.0737,  0.4751,  ...,  1.2463, -0.3834,  0.0609]]],\n",
      "       grad_fn=<UnsafeViewBackward0>)\n"
     ]
    }
   ],
   "source": [
    "torch.manual_seed(123)\n",
    "model = GPTModel(GPT_CONFIG_124M)\n",
    "out = model(batch)\n",
    "print(\"Input batch:\\n\", batch)\n",
    "print(\"Output shape:\\n\", out.shape)\n",
    "print(out)"
   ],
   "metadata": {
    "collapsed": false,
    "ExecuteTime": {
     "end_time": "2024-07-23T11:31:50.284693Z",
     "start_time": "2024-07-23T11:31:42.436130600Z"
    }
   },
   "id": "e998e0e3b2db8be2"
  },
  {
   "cell_type": "markdown",
   "source": [
    "- 我们之后训练此模型\n",
    "- 然而，关于它的大小，请简要说明：我们之前将其称为124M参数模型；我们可以按如下方式对这个数字进行双重检查："
   ],
   "metadata": {
    "collapsed": false
   },
   "id": "a2fb2db5d2278245"
  },
  {
   "cell_type": "code",
   "execution_count": 67,
   "outputs": [
    {
     "name": "stdout",
     "output_type": "stream",
     "text": [
      "Total number of parameters: 163,009,536\n"
     ]
    }
   ],
   "source": [
    "total_params = sum(p.numel() for p in model.parameters())\n",
    "print(f\"Total number of parameters: {total_params:,}\")"
   ],
   "metadata": {
    "collapsed": false,
    "ExecuteTime": {
     "end_time": "2024-07-23T11:31:50.432881Z",
     "start_time": "2024-07-23T11:31:50.237294700Z"
    }
   },
   "id": "a579c55459901560"
  },
  {
   "cell_type": "markdown",
   "source": [
    "- 正如我们在上面看到的，这个模型有163M个参数，而不是124M个参数；为什么？\n",
    "- 在GPT-2的原始论文中，研究人员应用了权重绑定，这意味着他们将token embedding层重新用作输出层，这意味着您将self.out_head.weight设置为self.tok_emb.weight\n",
    "- token嵌入层将50257维token投影到768维嵌入表示\n",
    "- 输出层将768个维度的嵌入投影回50257个维度的表示，这样我们就可以将这些embedding转换回单词（下一节将详细介绍）\n",
    "- 因此，嵌入层和输出层具有相同数量的权重参数，正如我们根据其权重矩阵的形状所看到的\n",
    "- 然而，关于它的大小，请简要说明：我们之前将其称为124M参数模型；我们可以按如下方式对这个数字进行双重检查："
   ],
   "metadata": {
    "collapsed": false
   },
   "id": "9e62245c080cde3a"
  },
  {
   "cell_type": "code",
   "execution_count": 68,
   "outputs": [
    {
     "name": "stdout",
     "output_type": "stream",
     "text": [
      "Number of trainable parameters considering weight trying: 124,412,160\n"
     ]
    }
   ],
   "source": [
    "total_params_gpt2 = total_params - sum(p.numel() for p in model.out_head.parameters())\n",
    "print(f\"Number of trainable parameters considering weight trying: {total_params_gpt2:,}\")"
   ],
   "metadata": {
    "collapsed": false,
    "ExecuteTime": {
     "end_time": "2024-07-23T11:31:50.433877100Z",
     "start_time": "2024-07-23T11:31:50.406951Z"
    }
   },
   "id": "fa665233d776d0ee"
  },
  {
   "cell_type": "markdown",
   "source": [
    "## 3.7 生成文本"
   ],
   "metadata": {
    "collapsed": false
   },
   "id": "e6f9b4f32d1aad36"
  },
  {
   "cell_type": "markdown",
   "source": [
    "- 像我们上面实现的GPT模型这样的LLM用于一次生成一个单词\n",
    "\n",
    "![Alt text](../../img/LLM/ch03/generate_text.png)\n",
    "\n",
    "- 下面的generate_text_simple函数实现了贪婪解码，这是一种简单快速的生成文本的方法\n",
    "- 在贪婪解码中，在每一步，模型都会选择具有最高概率的单词（或token）作为其下一个输出（最高logit对应于最高概率，因此从技术上讲，我们甚至不必显式计算softmax函数）\n",
    "- 下图描述了给定输入上下文的GPT模型如何生成下一个单词标记\n",
    "\n",
    "![Alt text](../../img/LLM/ch03/greedy_decoding.png)"
   ],
   "metadata": {
    "collapsed": false
   },
   "id": "8be3b73877fc4a1e"
  },
  {
   "cell_type": "code",
   "execution_count": 69,
   "outputs": [],
   "source": [
    "def generate_text_simple(model, idx, max_new_tokens, context_size):\n",
    "    \n",
    "    for _ in range(max_new_tokens):\n",
    "        idx_cond = idx[:, -context_size:]\n",
    "        \n",
    "        with torch.no_grad():\n",
    "            logits = model(idx_cond)\n",
    "            \n",
    "        logits = logits[:, -1, :]\n",
    "        \n",
    "        probas = torch.softmax(logits, dim=-1)\n",
    "        \n",
    "        idx_next = torch.argmax(probas, dim=-1, keepdim=True)\n",
    "        \n",
    "        idx = torch.cat((idx, idx_next), dim=1)\n",
    "    return idx"
   ],
   "metadata": {
    "collapsed": false,
    "ExecuteTime": {
     "end_time": "2024-07-23T11:31:50.707503900Z",
     "start_time": "2024-07-23T11:31:50.431883300Z"
    }
   },
   "id": "4c25a6e4a47b1b6a"
  },
  {
   "cell_type": "markdown",
   "source": [
    "- 上面的generate_text_simple实现了一个迭代过程，一次创建一个token\n",
    "\n",
    "![Alt text](../../img/LLM/ch03/generate_text_example.png)"
   ],
   "metadata": {
    "collapsed": false
   },
   "id": "2fc41bb796f9c541"
  },
  {
   "cell_type": "code",
   "execution_count": 70,
   "outputs": [
    {
     "name": "stdout",
     "output_type": "stream",
     "text": [
      "encoded: [15496, 11, 314, 716]\n",
      "encoded_tensor.shape: torch.Size([1, 4])\n"
     ]
    }
   ],
   "source": [
    "start_context = \"Hello, I am\"\n",
    "encoded = tokenizer.encode(start_context)\n",
    "print(f\"encoded: {encoded}\")\n",
    "\n",
    "encoded_tensor = torch.tensor(encoded).unsqueeze(0)\n",
    "print(f\"encoded_tensor.shape: {encoded_tensor.shape}\")"
   ],
   "metadata": {
    "collapsed": false,
    "ExecuteTime": {
     "end_time": "2024-07-23T11:31:54.399740700Z",
     "start_time": "2024-07-23T11:31:54.229060200Z"
    }
   },
   "id": "3cc4121de6c3f3dd"
  },
  {
   "cell_type": "code",
   "execution_count": 72,
   "outputs": [
    {
     "name": "stdout",
     "output_type": "stream",
     "text": [
      "output: tensor([[15496,    11,   314,   716, 27018, 24086, 47843, 30961, 42348,  7267]])\n",
      "output shape: torch.Size([1, 10])\n"
     ]
    }
   ],
   "source": [
    "model.eval()\n",
    "\n",
    "out = generate_text_simple(\n",
    "    model=model,\n",
    "    idx=encoded_tensor,\n",
    "    max_new_tokens=6,\n",
    "    context_size=GPT_CONFIG_124M[\"context_length\"]\n",
    ")\n",
    "\n",
    "print(f\"output: {out}\")\n",
    "print(f\"output shape: {out.shape}\")"
   ],
   "metadata": {
    "collapsed": false,
    "ExecuteTime": {
     "end_time": "2024-07-23T11:31:58.410770800Z",
     "start_time": "2024-07-23T11:31:57.848764300Z"
    }
   },
   "id": "6bb3cb5750c6b8fd"
  },
  {
   "cell_type": "code",
   "execution_count": 73,
   "outputs": [
    {
     "name": "stdout",
     "output_type": "stream",
     "text": [
      "Hello, I am Featureiman Byeswickattribute argue\n"
     ]
    }
   ],
   "source": [
    "decoded_text = tokenizer.decode(out.squeeze(0).tolist())\n",
    "print(decoded_text)"
   ],
   "metadata": {
    "collapsed": false,
    "ExecuteTime": {
     "end_time": "2024-07-23T11:32:00.019945300Z",
     "start_time": "2024-07-23T11:31:59.846409200Z"
    }
   },
   "id": "d02f2ed673cdbc5c"
  },
  {
   "cell_type": "markdown",
   "source": [
    "- 由于模型未经训练，所以输出的是随机文本"
   ],
   "metadata": {
    "collapsed": false
   },
   "id": "15c93de735178689"
  },
  {
   "cell_type": "markdown",
   "source": [
    "# 四、预训练"
   ],
   "metadata": {
    "collapsed": false
   },
   "id": "4b90ae22505a25aa"
  },
  {
   "cell_type": "code",
   "execution_count": 74,
   "outputs": [
    {
     "name": "stdout",
     "output_type": "stream",
     "text": [
      "matplotlib version: 3.9.0\n",
      "numpy version: 1.26.4\n",
      "tiktoken version: 0.7.0\n",
      "torch version: 2.3.1\n",
      "tensorflow version: 2.16.1\n"
     ]
    }
   ],
   "source": [
    "from importlib.metadata import version\n",
    "\n",
    "pkgs = [\"matplotlib\",\n",
    "        \"numpy\",\n",
    "        \"tiktoken\",\n",
    "        \"torch\",\n",
    "        \"tensorflow\"]\n",
    "\n",
    "for pkg in pkgs:\n",
    "    print(f\"{pkg} version: {version(pkg)}\")"
   ],
   "metadata": {
    "collapsed": false,
    "ExecuteTime": {
     "end_time": "2024-07-23T11:32:03.175787Z",
     "start_time": "2024-07-23T11:32:02.493612Z"
    }
   },
   "id": "a47a0db67214ea7c"
  },
  {
   "cell_type": "markdown",
   "source": [
    "![Alt text](../../img/LLM/ch04/pretrain.png)\n",
    "\n",
    "![Alt text](../../img/LLM/ch04/ch04_topic.png)"
   ],
   "metadata": {
    "collapsed": false
   },
   "id": "1eb734658510f63d"
  },
  {
   "cell_type": "markdown",
   "source": [
    "## 4.1 评估生成文本模型"
   ],
   "metadata": {
    "collapsed": false
   },
   "id": "1d217d3f378de26f"
  },
  {
   "cell_type": "code",
   "execution_count": 75,
   "outputs": [
    {
     "name": "stdout",
     "output_type": "stream",
     "text": [
      "Output text:\n",
      " Every effort moves you rentingetic wasnم refres RexMeCHicular stren\n"
     ]
    }
   ],
   "source": [
    "import tiktoken\n",
    "from funcs import generate_text_simple\n",
    "\n",
    "GPT_CONFIG_124M = {\n",
    "    \"vocab_size\": 50257,   # Vocabulary size\n",
    "    \"context_length\": 256, # Shortened context length (orig: 1024)\n",
    "    \"embedding_dim\": 768,  # Embedding dimension\n",
    "    \"n_heads\": 12,         # Number of attention heads\n",
    "    \"n_layers\": 12,        # Number of layers\n",
    "    \"drop_rate\": 0.1,      # Dropout rate\n",
    "    \"qkv_bias\": False      # Query-key-value bias\n",
    "}\n",
    "\n",
    "torch.manual_seed(123)\n",
    "model = GPTModel(GPT_CONFIG_124M)\n",
    "model.eval()\n",
    "\n",
    "def text_to_token_ids(text, tokenizer):\n",
    "    encoded = tokenizer.encode(text, allowed_special={'<|endoftext|>'})\n",
    "    encoded_tensor = torch.tensor(encoded).unsqueeze(0)\n",
    "    return encoded_tensor\n",
    "\n",
    "def token_ids_to_text(token_ids, tokenizer):\n",
    "    flat = token_ids.squeeze(0)\n",
    "    return tokenizer.decode(flat.tolist())\n",
    "\n",
    "start_context = \"Every effort moves you\"\n",
    "tokenizer = tiktoken.get_encoding(\"gpt2\")\n",
    "\n",
    "token_ids = generate_text_simple(\n",
    "    model=model,\n",
    "    idx=text_to_token_ids(start_context, tokenizer),\n",
    "    max_new_tokens=10,\n",
    "    context_size=GPT_CONFIG_124M[\"context_length\"]\n",
    ")\n",
    "\n",
    "print(\"Output text:\\n\", token_ids_to_text(token_ids, tokenizer))"
   ],
   "metadata": {
    "collapsed": false,
    "ExecuteTime": {
     "end_time": "2024-07-23T11:32:09.271767100Z",
     "start_time": "2024-07-23T11:32:04.859116400Z"
    }
   },
   "id": "7d03ccfefc5610f0"
  },
  {
   "cell_type": "markdown",
   "source": [
    "### 4.1.1 计算文本生成损失:交叉熵与幻觉"
   ],
   "metadata": {
    "collapsed": false
   },
   "id": "b1b8dada7546effd"
  },
  {
   "cell_type": "markdown",
   "source": [
    "- 假设我们有一个输入张量，其中包含2个训练示例（行）的token ID\n",
    "- 与输入相对应，目标包含我们希望模型生成的所需token ID\n",
    "- 请注意，目标是偏移1个位置的输入，如实现数据加载器时所述"
   ],
   "metadata": {
    "collapsed": false
   },
   "id": "b9713fd6fbb050bc"
  },
  {
   "cell_type": "code",
   "execution_count": 76,
   "outputs": [],
   "source": [
    "inputs = torch.tensor([[16833, 3626, 6100],   # [\"every effort moves\",\n",
    "                       [40,    1107, 588]])   #  \"I really like\"]\n",
    "\n",
    "targets = torch.tensor([[3626, 6100, 345  ],  # [\" effort moves you\",\n",
    "                        [1107,  588, 11311]]) #  \" really like chocolate\"]"
   ],
   "metadata": {
    "collapsed": false,
    "ExecuteTime": {
     "end_time": "2024-07-23T11:32:09.393769900Z",
     "start_time": "2024-07-23T11:32:09.165051300Z"
    }
   },
   "id": "d03d2497c1c92fdf"
  },
  {
   "cell_type": "markdown",
   "source": [
    "- 将输入提供给模型，我们获得2个输入示例的logits向量，每个示例由3个标记组成\n",
    "- 每个标记是对应于词汇表大小的50257维向量\n",
    "- 应用softmax函数，我们可以将logits张量转化为包含概率得分的同维张量"
   ],
   "metadata": {
    "collapsed": false
   },
   "id": "9f63106a87d7e6cb"
  },
  {
   "cell_type": "code",
   "execution_count": 77,
   "outputs": [
    {
     "name": "stdout",
     "output_type": "stream",
     "text": [
      "torch.Size([2, 3, 50257])\n"
     ]
    }
   ],
   "source": [
    "with torch.no_grad():\n",
    "    logits = model(inputs)\n",
    "\n",
    "probas = torch.softmax(logits, dim=-1)\n",
    "print(probas.shape)"
   ],
   "metadata": {
    "collapsed": false,
    "ExecuteTime": {
     "end_time": "2024-07-23T11:32:09.678041600Z",
     "start_time": "2024-07-23T11:32:09.200955500Z"
    }
   },
   "id": "ba98be20d7c53f51"
  },
  {
   "cell_type": "markdown",
   "source": [
    "- 下图使用了一个非常小的词汇进行说明，概述了我们如何将概率分数转换回文本\n",
    "\n",
    "![Alt text](../../img/LLM/ch04/loss_example.png)\n",
    "\n",
    "- 我们可以应用argmax函数将概率得分转换为预测的token ID\n",
    "- 上面的softmax函数为每个token产生了50257维向量；argmax函数返回该向量中最高概率得分的位置，该位置是给定token的预测token ID\n",
    "- 由于我们有两个输入批次，每个批次有3个token，因此我们获得了2乘3的预测token ID："
   ],
   "metadata": {
    "collapsed": false
   },
   "id": "d3829fe3dc2e3f70"
  },
  {
   "cell_type": "code",
   "execution_count": 78,
   "outputs": [
    {
     "name": "stdout",
     "output_type": "stream",
     "text": [
      "Token IDs:\n",
      " tensor([[[16657],\n",
      "         [  339],\n",
      "         [42826]],\n",
      "\n",
      "        [[49906],\n",
      "         [29669],\n",
      "         [41751]]])\n"
     ]
    }
   ],
   "source": [
    "token_ids = torch.argmax(probas, dim=-1, keepdim=True)\n",
    "print(\"Token IDs:\\n\", token_ids)"
   ],
   "metadata": {
    "collapsed": false,
    "ExecuteTime": {
     "end_time": "2024-07-23T11:32:11.218238700Z",
     "start_time": "2024-07-23T11:32:11.037692900Z"
    }
   },
   "id": "b87d1d7a69e4d3ce"
  },
  {
   "cell_type": "markdown",
   "source": [
    "- 如果我们解码这些token，我们会发现这些token与我们希望模型预测的token（即目标token）截然不同"
   ],
   "metadata": {
    "collapsed": false
   },
   "id": "d8f81c9d4f90e6af"
  },
  {
   "cell_type": "code",
   "execution_count": 79,
   "outputs": [
    {
     "name": "stdout",
     "output_type": "stream",
     "text": [
      "Targets batch 1:  effort moves you\n",
      "Outputs batch 1:  Armed heNetflix\n"
     ]
    }
   ],
   "source": [
    "print(f\"Targets batch 1: {token_ids_to_text(targets[0], tokenizer)}\")\n",
    "print(f\"Outputs batch 1: {token_ids_to_text(token_ids[0].flatten(), tokenizer)}\")"
   ],
   "metadata": {
    "collapsed": false,
    "ExecuteTime": {
     "end_time": "2024-07-23T11:32:13.974122200Z",
     "start_time": "2024-07-23T11:32:13.499763100Z"
    }
   },
   "id": "8f8e1972e533d4cc"
  },
  {
   "cell_type": "markdown",
   "source": [
    "- 那是因为模型还没有经过训练\n",
    "- 为了训练模型，我们需要知道它离正确的预测（目标）有多远\n",
    "\n",
    "![Alt text](../../img/LLM/ch04/decode_tokenid.png)\n",
    "\n",
    "- 与目标索引相对应的token概率如下："
   ],
   "metadata": {
    "collapsed": false
   },
   "id": "cba03077e2e2dac1"
  },
  {
   "cell_type": "code",
   "execution_count": 80,
   "outputs": [
    {
     "name": "stdout",
     "output_type": "stream",
     "text": [
      "Text 1: tensor([7.4541e-05, 3.1061e-05, 1.1563e-05])\n",
      "Text 2: tensor([1.0337e-05, 5.6776e-05, 4.7559e-06])\n"
     ]
    }
   ],
   "source": [
    "text_idx = 0\n",
    "target_probas_1 = probas[text_idx, [0, 1, 2], targets[text_idx]]\n",
    "print(f\"Text 1: {target_probas_1}\")\n",
    "\n",
    "text_idx = 1\n",
    "target_probas_2 = probas[text_idx, [0, 1, 2], targets[text_idx]]\n",
    "print(f\"Text 2: {target_probas_2}\")"
   ],
   "metadata": {
    "collapsed": false,
    "ExecuteTime": {
     "end_time": "2024-07-23T11:32:15.806900200Z",
     "start_time": "2024-07-23T11:32:15.382285500Z"
    }
   },
   "id": "96243bcf7183c9d6"
  },
  {
   "cell_type": "markdown",
   "source": [
    "- 我们希望最大化所有这些值，使其接近1的概率\n",
    "- 在数学优化中，使概率得分的对数最大化比使概率得分本身最大化更容易"
   ],
   "metadata": {
    "collapsed": false
   },
   "id": "5aff2e96941ef77c"
  },
  {
   "cell_type": "code",
   "execution_count": 81,
   "outputs": [
    {
     "name": "stdout",
     "output_type": "stream",
     "text": [
      "tensor([ -9.5042, -10.3796, -11.3677, -11.4798,  -9.7764, -12.2561])\n"
     ]
    }
   ],
   "source": [
    "log_probas = torch.log(torch.cat((target_probas_1, target_probas_2)))\n",
    "print(log_probas)"
   ],
   "metadata": {
    "collapsed": false,
    "ExecuteTime": {
     "end_time": "2024-07-23T11:32:18.412978100Z",
     "start_time": "2024-07-23T11:32:18.225351200Z"
    }
   },
   "id": "e1e957bd8bcc4ead"
  },
  {
   "cell_type": "markdown",
   "source": [
    "- 接下来计算平均对数概率"
   ],
   "metadata": {
    "collapsed": false
   },
   "id": "8e8dc0f04ad32a69"
  },
  {
   "cell_type": "code",
   "execution_count": 82,
   "outputs": [
    {
     "name": "stdout",
     "output_type": "stream",
     "text": [
      "tensor(-10.7940)\n"
     ]
    }
   ],
   "source": [
    "avg_log_probas = torch.mean(log_probas)\n",
    "print(avg_log_probas)"
   ],
   "metadata": {
    "collapsed": false,
    "ExecuteTime": {
     "end_time": "2024-07-23T11:32:19.918753900Z",
     "start_time": "2024-07-23T11:32:19.736206300Z"
    }
   },
   "id": "cf08ab3210e2b2bc"
  },
  {
   "cell_type": "markdown",
   "source": [
    "- 目标是通过优化模型权重，使该平均对数概率尽可能大\n",
    "- 由于日志的原因，最大可能的值是0，而我们目前距离0很远\n",
    "- 在深度学习中，最小化负平均对数概率值是一种标准惯例，而不是最大化平均对数概率；在我们的例子中，在深度学习中，我们将最小化10.7722，使其接近0，而不是最大化-10.7722\n",
    "- -10.7722的负值，即10.7722，在深度学习中也称为交叉熵损失"
   ],
   "metadata": {
    "collapsed": false
   },
   "id": "c220080eb5d88e0f"
  },
  {
   "cell_type": "code",
   "execution_count": 83,
   "outputs": [
    {
     "name": "stdout",
     "output_type": "stream",
     "text": [
      "tensor(10.7940)\n"
     ]
    }
   ],
   "source": [
    "neg_avg_log_probas = avg_log_probas * -1\n",
    "print(neg_avg_log_probas)"
   ],
   "metadata": {
    "collapsed": false,
    "ExecuteTime": {
     "end_time": "2024-07-23T11:32:22.487190900Z",
     "start_time": "2024-07-23T11:32:22.275779600Z"
    }
   },
   "id": "cad6fcc3511703d8"
  },
  {
   "cell_type": "markdown",
   "source": [
    "- PyTorch已经实现了一个执行前面步骤的cross_entropy函数\n",
    "\n",
    "![Alt text](../../img/LLM/ch04/cross_entropy.png)\n",
    "\n",
    "- 在我们应用交叉熵函数之前，让我们检查logits和目标的形状"
   ],
   "metadata": {
    "collapsed": false
   },
   "id": "2e09567edc6f9947"
  },
  {
   "cell_type": "code",
   "execution_count": 84,
   "outputs": [
    {
     "name": "stdout",
     "output_type": "stream",
     "text": [
      "Logits shape: torch.Size([2, 3, 50257])\n",
      "Targets shape: torch.Size([2, 3])\n"
     ]
    }
   ],
   "source": [
    "print(\"Logits shape:\", logits.shape)\n",
    "\n",
    "print(\"Targets shape:\", targets.shape)"
   ],
   "metadata": {
    "collapsed": false,
    "ExecuteTime": {
     "end_time": "2024-07-23T11:32:24.204365600Z",
     "start_time": "2024-07-23T11:32:23.955032800Z"
    }
   },
   "id": "b3bc17bddab08627"
  },
  {
   "cell_type": "markdown",
   "source": [
    "- 对于PyTorch中的cross_entropy损失函数，我们希望通过在批次维度上组合这些张量来压平这些张量"
   ],
   "metadata": {
    "collapsed": false
   },
   "id": "3536b1e93967b63c"
  },
  {
   "cell_type": "code",
   "execution_count": 85,
   "outputs": [
    {
     "name": "stdout",
     "output_type": "stream",
     "text": [
      "Flatten logits: torch.Size([6, 50257])\n",
      "Flatten targets: torch.Size([6])\n"
     ]
    }
   ],
   "source": [
    "logits_flat = logits.flatten(0, 1)\n",
    "targets_flat = targets.flatten()\n",
    "\n",
    "print(f\"Flatten logits: {logits_flat.shape}\")\n",
    "print(f\"Flatten targets: {targets_flat.shape}\")"
   ],
   "metadata": {
    "collapsed": false,
    "ExecuteTime": {
     "end_time": "2024-07-23T11:32:25.665731800Z",
     "start_time": "2024-07-23T11:32:25.484191200Z"
    }
   },
   "id": "36df6a1149cfa8a2"
  },
  {
   "cell_type": "markdown",
   "source": [
    "- 注意，目标是token ID，它也表示我们想要最大化的logits张量中的索引位置\n",
    "- PyTorch中的cross_entry函数将自动负责在内部将softmax和log概率计算应用于要最大化的logits中的那些token 索引"
   ],
   "metadata": {
    "collapsed": false
   },
   "id": "dda08a3b5ee6ba37"
  },
  {
   "cell_type": "code",
   "execution_count": 86,
   "outputs": [
    {
     "name": "stdout",
     "output_type": "stream",
     "text": [
      "tensor(10.7940)\n"
     ]
    }
   ],
   "source": [
    "import torch.nn as nn\n",
    "import torch.nn.functional as F\n",
    "\n",
    "loss = F.cross_entropy(logits_flat, targets_flat)\n",
    "print(loss)"
   ],
   "metadata": {
    "collapsed": false,
    "ExecuteTime": {
     "end_time": "2024-07-23T11:32:27.314249700Z",
     "start_time": "2024-07-23T11:32:27.078361600Z"
    }
   },
   "id": "f76edc1e8b3f5abf"
  },
  {
   "cell_type": "markdown",
   "source": [
    "- 一个与交叉熵损失有关的概念是LLM的困惑度\n",
    "- 困惑度只是交叉熵损失的指数"
   ],
   "metadata": {
    "collapsed": false
   },
   "id": "9a4e6300875d27f7"
  },
  {
   "cell_type": "code",
   "execution_count": 87,
   "outputs": [
    {
     "name": "stdout",
     "output_type": "stream",
     "text": [
      "tensor(48725.8203)\n"
     ]
    }
   ],
   "source": [
    "perplexity = torch.exp(loss)\n",
    "print(perplexity)"
   ],
   "metadata": {
    "collapsed": false,
    "ExecuteTime": {
     "end_time": "2024-07-23T11:32:29.809835800Z",
     "start_time": "2024-07-23T11:32:29.651715800Z"
    }
   },
   "id": "86e06ebcd478a9c"
  },
  {
   "cell_type": "markdown",
   "source": [
    "- 这种困惑度通常被认为更容易解释，因为它可以被理解为模型在每一步都不确定的有效词汇大小（在上面的例子中，是47678个单词或标记）\n",
    "- 换句话说，困惑度提供了一种衡量模型预测的概率分布与数据集中单词的实际分布匹配程度的指标\n",
    "- 与损失类似，较低的困惑度表明模型预测更接近实际分布"
   ],
   "metadata": {
    "collapsed": false
   },
   "id": "e17b24c35e53f6c8"
  },
  {
   "cell_type": "markdown",
   "source": [
    "### 4.1.2 计算训练和验证集Loss"
   ],
   "metadata": {
    "collapsed": false
   },
   "id": "5815c27ace30c2dc"
  },
  {
   "cell_type": "markdown",
   "source": [
    "- 我们使用相对较小的数据集来训练LLM（事实上，只有一个小故事）\n",
    "- 原因是：\n",
    "    - 你可以在几分钟内在没有合适GPU的笔记本电脑上运行代码示例\n",
    "    - 培训完成得相对较快（几分钟而不是几周），这有利于教育目的\n",
    "    - 我们使用来自公共域的文本，该文本可以包含在此GitHub存储库中，而不会侵犯任何使用权限或扩大存储库大小\n",
    "- 例如，Llama 2 7B在A100 GPU上需要184320 GPU小时才能在2万亿token上进行训练"
   ],
   "metadata": {
    "collapsed": false
   },
   "id": "a9e0572946fc1bae"
  },
  {
   "cell_type": "code",
   "execution_count": 88,
   "outputs": [],
   "source": [
    "import os\n",
    "import urllib.request\n",
    "\n",
    "file_path = \"the-verdict.txt\"\n",
    "url = \"https://raw.githubusercontent.com/rasbt/LLMs-from-scratch/main/ch02/01_main-chapter-code/the-verdict.txt\"\n",
    "\n",
    "if not os.path.exists(file_path):\n",
    "    with urllib.request.urlopen(url) as response:\n",
    "        text_data = response.read().decode(\"utf-8\")\n",
    "    with open(file_path, \"w\", encoding=\"utf-8\") as file:\n",
    "        file.write(text_data)\n",
    "else:\n",
    "    with open(file_path, \"r\", encoding=\"utf-8\") as file:\n",
    "        text_data = file.read()"
   ],
   "metadata": {
    "collapsed": false,
    "ExecuteTime": {
     "end_time": "2024-07-23T11:32:31.859252600Z",
     "start_time": "2024-07-23T11:32:31.717963700Z"
    }
   },
   "id": "5957afaf2bf6bff"
  },
  {
   "cell_type": "code",
   "execution_count": 89,
   "outputs": [
    {
     "name": "stdout",
     "output_type": "stream",
     "text": [
      "I HAD always thought Jack Gisburn rather a cheap genius--though a good fellow enough--so it was no \n"
     ]
    }
   ],
   "source": [
    "print(text_data[:99])"
   ],
   "metadata": {
    "collapsed": false,
    "ExecuteTime": {
     "end_time": "2024-07-23T11:32:33.205304100Z",
     "start_time": "2024-07-23T11:32:33.024787800Z"
    }
   },
   "id": "9b0ec1cb4e10a9d6"
  },
  {
   "cell_type": "code",
   "execution_count": 90,
   "outputs": [
    {
     "name": "stdout",
     "output_type": "stream",
     "text": [
      "Characters:20479\n",
      "Tokens:5145\n"
     ]
    }
   ],
   "source": [
    "total_characters = len(text_data)\n",
    "total_tokens = len(tokenizer.encode(text_data))\n",
    "\n",
    "print(f\"Characters:{total_characters}\")\n",
    "print(f\"Tokens:{total_tokens}\")"
   ],
   "metadata": {
    "collapsed": false,
    "ExecuteTime": {
     "end_time": "2024-07-23T11:32:34.501839500Z",
     "start_time": "2024-07-23T11:32:34.318330300Z"
    }
   },
   "id": "d5868fd53808738e"
  },
  {
   "cell_type": "markdown",
   "source": [
    "- 对于5145个token，文本对于训练LLM来说非常短，但同样，它是出于教育目的（我们稍后也将加载预训练的权重）\n",
    "- 接下来，我们将数据集划分为训练集和验证集\n",
    "- 出于可视化目的，下图假设max_length=6，但对于训练加载程序，我们将max_lengh设置为LLM支持的上下文长度\n",
    "- 为了简单起见，下图仅显示了输入token\n",
    "- 由于我们训练LLM来预测文本中的下一个单词，因此目标看起来与这些输入相同，只是目标移动了一个位置\n",
    "\n",
    "![Alt text](../../img/LLM/ch04/text_train_and_predict.png)"
   ],
   "metadata": {
    "collapsed": false
   },
   "id": "19d32e55290ef222"
  },
  {
   "cell_type": "code",
   "execution_count": 91,
   "outputs": [],
   "source": [
    "from funcs import create_dataloader_v1\n",
    "\n",
    "train_ratio = 0.9\n",
    "split_idx = int(train_ratio * len(text_data))\n",
    "train_data = text_data[:split_idx]\n",
    "val_data = text_data[split_idx:]\n",
    "\n",
    "torch.manual_seed(123)\n",
    "\n",
    "train_loader = create_dataloader_v1(\n",
    "    train_data,\n",
    "    batch_size=2,\n",
    "    max_length=GPT_CONFIG_124M['context_length'],\n",
    "    stride=GPT_CONFIG_124M['context_length'],\n",
    "    drop_last=True,\n",
    "    shuffle=True,\n",
    "    num_workers=0\n",
    ")\n",
    "\n",
    "val_loader = create_dataloader_v1(\n",
    "    val_data,\n",
    "    batch_size=2,\n",
    "    max_length=GPT_CONFIG_124M['context_length'],\n",
    "    stride=GPT_CONFIG_124M['context_length'],\n",
    "    drop_last=False,\n",
    "    shuffle=False,\n",
    "    num_workers=0\n",
    ")"
   ],
   "metadata": {
    "collapsed": false,
    "ExecuteTime": {
     "end_time": "2024-07-23T11:32:36.352441500Z",
     "start_time": "2024-07-23T11:32:36.114808Z"
    }
   },
   "id": "6f0198831779ac1a"
  },
  {
   "cell_type": "code",
   "execution_count": 92,
   "outputs": [],
   "source": [
    "if total_tokens * (train_ratio) < GPT_CONFIG_124M['context_length']:\n",
    "    print(\"Not enough tokens for the training loader. \"\n",
    "          \"Try to lower the `GPT_CONFIG_124M['context_length']` or \"\n",
    "          \"increase the `training_ratio`\")\n",
    "\n",
    "if total_tokens * (1-train_ratio) < GPT_CONFIG_124M[\"context_length\"]:\n",
    "    print(\"Not enough tokens for the validation loader. \"\n",
    "          \"Try to lower the `GPT_CONFIG_124M['context_length']` or \"\n",
    "          \"decrease the `training_ratio`\")"
   ],
   "metadata": {
    "collapsed": false,
    "ExecuteTime": {
     "end_time": "2024-07-23T11:32:37.909772700Z",
     "start_time": "2024-07-23T11:32:37.827962600Z"
    }
   },
   "id": "9d5b930e0f0cf48"
  },
  {
   "cell_type": "code",
   "execution_count": 93,
   "outputs": [
    {
     "name": "stdout",
     "output_type": "stream",
     "text": [
      "Train loader:\n",
      "torch.Size([2, 256]) torch.Size([2, 256])\n",
      "torch.Size([2, 256]) torch.Size([2, 256])\n",
      "torch.Size([2, 256]) torch.Size([2, 256])\n",
      "torch.Size([2, 256]) torch.Size([2, 256])\n",
      "torch.Size([2, 256]) torch.Size([2, 256])\n",
      "torch.Size([2, 256]) torch.Size([2, 256])\n",
      "torch.Size([2, 256]) torch.Size([2, 256])\n",
      "torch.Size([2, 256]) torch.Size([2, 256])\n",
      "torch.Size([2, 256]) torch.Size([2, 256])\n",
      "\n",
      "Validation loader\n",
      "torch.Size([2, 256]) torch.Size([2, 256])\n"
     ]
    }
   ],
   "source": [
    "print(\"Train loader:\")\n",
    "for x, y in train_loader:\n",
    "    print(x.shape, y.shape)\n",
    "    \n",
    "print(\"\\nValidation loader\")\n",
    "for x, y in val_loader:\n",
    "    print(x.shape, y.shape)"
   ],
   "metadata": {
    "collapsed": false,
    "ExecuteTime": {
     "end_time": "2024-07-23T11:32:39.115666Z",
     "start_time": "2024-07-23T11:32:38.694760600Z"
    }
   },
   "id": "1542d4bbd00cb8c9"
  },
  {
   "cell_type": "markdown",
   "source": [
    "- 另一项可选检查，以确保token大小在预期的大致范围内："
   ],
   "metadata": {
    "collapsed": false
   },
   "id": "4c154174b64b168b"
  },
  {
   "cell_type": "code",
   "execution_count": 94,
   "outputs": [
    {
     "name": "stdout",
     "output_type": "stream",
     "text": [
      "Training tokens: 4608\n",
      "Validation tokens: 512\n",
      "All tokens: 5120\n"
     ]
    }
   ],
   "source": [
    "train_tokens = 0\n",
    "for input_batch, target_batch in train_loader:\n",
    "    train_tokens += input_batch.numel()\n",
    "    \n",
    "val_tokens = 0\n",
    "for input_batch, target_batch in val_loader:\n",
    "    val_tokens += input_batch.numel()\n",
    "    \n",
    "print(f\"Training tokens: {train_tokens}\")\n",
    "print(f\"Validation tokens: {val_tokens}\")\n",
    "print(f\"All tokens: {train_tokens + val_tokens}\")"
   ],
   "metadata": {
    "collapsed": false,
    "ExecuteTime": {
     "end_time": "2024-07-23T11:32:40.515774500Z",
     "start_time": "2024-07-23T11:32:40.379110100Z"
    }
   },
   "id": "468299e35a2b3be7"
  },
  {
   "cell_type": "markdown",
   "source": [
    "- 接下来，我们实现一个函数来计算给定批次的交叉熵损失\n",
    "- 此外，我们实现了第二个实用程序函数来计算数据加载程序中用户指定数量的批次的损失"
   ],
   "metadata": {
    "collapsed": false
   },
   "id": "57bf01e4eef5df5e"
  },
  {
   "cell_type": "code",
   "execution_count": 96,
   "outputs": [],
   "source": [
    "def calc_loss_batch(input_batch, target_batch, model, device):\n",
    "    input_batch, target_batch = input_batch.to(device), target_batch.to(device)\n",
    "    logits = model(input_batch)\n",
    "    loss = F.cross_entropy(logits.flatten(0, 1), target_batch.flatten())\n",
    "    return loss\n",
    "\n",
    "def calc_loss_loader(data_loader, model, device, num_batches=None):\n",
    "    total_loss = 0.\n",
    "    if len(data_loader) == 0:\n",
    "        return float('nan')\n",
    "    elif num_batches is None:\n",
    "        num_batches = len(data_loader)\n",
    "    else:\n",
    "        num_batches = min(num_batches, len(data_loader))\n",
    "    for i, (input_batch, target_batch) in enumerate(data_loader):\n",
    "        if i < num_batches:\n",
    "            loss = calc_loss_batch(input_batch, target_batch, model, device)\n",
    "            total_loss += loss.item()\n",
    "        else:\n",
    "            break\n",
    "    return total_loss / num_batches"
   ],
   "metadata": {
    "collapsed": false,
    "ExecuteTime": {
     "end_time": "2024-07-23T11:40:10.454751600Z",
     "start_time": "2024-07-23T11:40:10.216772400Z"
    }
   },
   "id": "9dc029eb1be663dd"
  },
  {
   "cell_type": "code",
   "execution_count": 97,
   "outputs": [
    {
     "name": "stdout",
     "output_type": "stream",
     "text": [
      "Training loss: 10.98758347829183\n",
      "Validation loss: 10.98110580444336\n"
     ]
    }
   ],
   "source": [
    "device = torch.device('cuda' if torch.cuda.is_available() else 'cpu')\n",
    "model.to(device)\n",
    "\n",
    "torch.manual_seed(123)\n",
    "\n",
    "with torch.no_grad():\n",
    "    train_loss = calc_loss_loader(train_loader, model, device)\n",
    "    val_loss = calc_loss_loader(val_loader, model, device)\n",
    "    \n",
    "print(f\"Training loss: {train_loss}\")\n",
    "print(f\"Validation loss: {val_loss}\")"
   ],
   "metadata": {
    "collapsed": false,
    "ExecuteTime": {
     "end_time": "2024-07-23T11:53:31.277650600Z",
     "start_time": "2024-07-23T11:53:20.507163400Z"
    }
   },
   "id": "c390c39cdc40fc54"
  },
  {
   "cell_type": "markdown",
   "source": [
    "![Alt text](../../img/LLM/ch04/3steps_of_LLM_training.png)"
   ],
   "metadata": {
    "collapsed": false
   },
   "id": "a783d00b6708f413"
  },
  {
   "cell_type": "markdown",
   "source": [
    "## 4.2 LLM训练"
   ],
   "metadata": {
    "collapsed": false
   },
   "id": "6dac5e8890e0720a"
  },
  {
   "cell_type": "markdown",
   "source": [
    "- 在本节中，我们最终实现了用于训练LLM的代码\n",
    "- 我们专注于一个简单的训练函数\n",
    "\n",
    "![Alt text](../../img/LLM/ch04/train_process.png)"
   ],
   "metadata": {
    "collapsed": false
   },
   "id": "91bd25ed5c09cb60"
  },
  {
   "cell_type": "code",
   "execution_count": 98,
   "outputs": [],
   "source": [
    "from tqdm import tqdm\n",
    "\n",
    "def train_model_simple(model, train_loader, val_loader, optimizer, device, num_epochs, eval_freq, eval_iter, start_context, tokenizer):\n",
    "    train_losses, val_losses, track_tokens_seen = [], [], []\n",
    "    tokens_seen, global_step = 0, -1\n",
    "    \n",
    "    for epoch in tqdm(range(num_epochs)):\n",
    "        model.train()\n",
    "        \n",
    "        for input_batch, target_batch in train_loader:\n",
    "            optimizer.zero_grad()\n",
    "            loss = calc_loss_batch(input_batch, target_batch, model, device)\n",
    "            loss.backward()\n",
    "            optimizer.step()\n",
    "            tokens_seen += input_batch.numel()\n",
    "            global_step += 1\n",
    "            \n",
    "            if global_step % eval_freq == 0:\n",
    "                train_loss, val_loss = evaluate_model(model, train_loader, val_loader, device, eval_iter)\n",
    "                train_losses.append(train_loss)\n",
    "                val_losses.append(val_loss)\n",
    "                track_tokens_seen.append(tokens_seen)\n",
    "                print(f\"Epoch:{epoch+1} (Step {global_step:06d}):\"\n",
    "                      f\"Train Loss {train_loss:.3f}, Val Loss {val_loss:.3f}\")\n",
    "        generate_and_print_sample(\n",
    "            model, tokenizer, device, start_context\n",
    "        )\n",
    "    return train_losses, val_losses, track_tokens_seen\n",
    "                \n",
    "                \n",
    "def evaluate_model(model, train_loader, val_loader, device, eval_iter):\n",
    "    model.eval()\n",
    "    with torch.no_grad():\n",
    "        train_loss = calc_loss_loader(train_loader, model, device, num_batches=eval_iter)\n",
    "        val_loss = calc_loss_loader(val_loader, model, device, num_batches=eval_iter)\n",
    "    model.train()\n",
    "    return train_loss, val_loss\n",
    "\n",
    "\n",
    "def generate_and_print_sample(model, tokenizer, device, start_context):\n",
    "    model.eval()\n",
    "    context_size = model.pos_emb.weight.shape[0]\n",
    "    encoded = text_to_token_ids(start_context, tokenizer).to(device)\n",
    "    with torch.no_grad():\n",
    "        token_ids = generate_text_simple(\n",
    "            model=model, idx=encoded,\n",
    "            max_new_tokens=50, context_size=context_size\n",
    "        )\n",
    "        decoded_text = token_ids_to_text(token_ids, tokenizer)\n",
    "        print(decoded_text.replace(\"\\n\", \" \"))\n",
    "    model.train()"
   ],
   "metadata": {
    "collapsed": false,
    "ExecuteTime": {
     "end_time": "2024-07-23T12:10:10.273772100Z",
     "start_time": "2024-07-23T12:10:10.023209600Z"
    }
   },
   "id": "34e5374f544d4dea"
  },
  {
   "cell_type": "code",
   "execution_count": 99,
   "outputs": [
    {
     "name": "stdout",
     "output_type": "stream",
     "text": [
      "cpu\n"
     ]
    },
    {
     "name": "stderr",
     "output_type": "stream",
     "text": [
      "  0%|                                                                                                                                                                                                       | 0/10 [00:00<?, ?it/s]"
     ]
    },
    {
     "name": "stdout",
     "output_type": "stream",
     "text": [
      "Epoch:1 (Step 000000):Train Loss 9.783, Val Loss 9.927\n",
      "Epoch:1 (Step 000005):Train Loss 7.985, Val Loss 8.335\n",
      "Every effort moves you,,,,,,,,,,,,.                                     \n"
     ]
    },
    {
     "name": "stderr",
     "output_type": "stream",
     "text": [
      " 10%|███████████████████                                                                                                                                                                            | 1/10 [01:37<14:32, 96.99s/it]"
     ]
    },
    {
     "name": "stdout",
     "output_type": "stream",
     "text": [
      "Epoch:2 (Step 000010):Train Loss 6.753, Val Loss 7.048\n",
      "Epoch:2 (Step 000015):Train Loss 6.114, Val Loss 6.573\n"
     ]
    },
    {
     "name": "stderr",
     "output_type": "stream",
     "text": [
      " 20%|██████████████████████████████████████▏                                                                                                                                                        | 2/10 [02:27<09:19, 69.91s/it]"
     ]
    },
    {
     "name": "stdout",
     "output_type": "stream",
     "text": [
      "Every effort moves you, and,, and, and,,,,, and, and,,,,,,,,,,,,,, and,,,, and,, and,,,,, and,,,,,,\n",
      "Epoch:3 (Step 000020):Train Loss 5.525, Val Loss 6.490\n",
      "Epoch:3 (Step 000025):Train Loss 5.324, Val Loss 6.387\n"
     ]
    },
    {
     "name": "stderr",
     "output_type": "stream",
     "text": [
      " 30%|█████████████████████████████████████████████████████████▎                                                                                                                                     | 3/10 [03:18<07:07, 61.03s/it]"
     ]
    },
    {
     "name": "stdout",
     "output_type": "stream",
     "text": [
      "Every effort moves you, and to the picture.                      \"I, and the of the of the's the honour, and, and I had been, and I\n",
      "Epoch:4 (Step 000030):Train Loss 4.761, Val Loss 6.360\n",
      "Epoch:4 (Step 000035):Train Loss 4.461, Val Loss 6.258\n"
     ]
    },
    {
     "name": "stderr",
     "output_type": "stream",
     "text": [
      " 40%|████████████████████████████████████████████████████████████████████████████▍                                                                                                                  | 4/10 [04:08<05:40, 56.81s/it]"
     ]
    },
    {
     "name": "stdout",
     "output_type": "stream",
     "text": [
      "Every effort moves you of the to the picture--as of the picture--as I had been \" it was his \" I was the     \"I was his I had been the his pictures--and it the picture and I had been the picture of\n",
      "Epoch:5 (Step 000040):Train Loss 3.833, Val Loss 6.196\n"
     ]
    },
    {
     "name": "stderr",
     "output_type": "stream",
     "text": [
      " 50%|███████████████████████████████████████████████████████████████████████████████████████████████▌                                                                                               | 5/10 [04:54<04:23, 52.74s/it]"
     ]
    },
    {
     "name": "stdout",
     "output_type": "stream",
     "text": [
      "Every effort moves you know the \"Oh, and he was not the fact by his last word.         \"I was.      \"Oh, I felt a little a little the    \n",
      "Epoch:6 (Step 000045):Train Loss 3.352, Val Loss 6.139\n",
      "Epoch:6 (Step 000050):Train Loss 2.861, Val Loss 6.112\n"
     ]
    },
    {
     "name": "stderr",
     "output_type": "stream",
     "text": [
      " 60%|██████████████████████████████████████████████████████████████████████████████████████████████████████████████████▌                                                                            | 6/10 [05:45<03:29, 52.28s/it]"
     ]
    },
    {
     "name": "stdout",
     "output_type": "stream",
     "text": [
      "Every effort moves you know; and my dear, and he was not the fact with a little of the house of the fact of the fact, and.                       \n",
      "Epoch:7 (Step 000055):Train Loss 2.347, Val Loss 6.138\n",
      "Epoch:7 (Step 000060):Train Loss 2.084, Val Loss 6.179\n"
     ]
    },
    {
     "name": "stderr",
     "output_type": "stream",
     "text": [
      " 70%|█████████████████████████████████████████████████████████████████████████████████████████████████████████████████████████████████████▋                                                         | 7/10 [06:35<02:34, 51.49s/it]"
     ]
    },
    {
     "name": "stdout",
     "output_type": "stream",
     "text": [
      "Every effort moves you know,\" was one of the picture for nothing--I told Mrs.  \"I looked--as of the fact, and I felt him--his back his head to the donkey. \"Oh, and_--because he had always _\n",
      "Epoch:8 (Step 000065):Train Loss 1.521, Val Loss 6.176\n",
      "Epoch:8 (Step 000070):Train Loss 1.272, Val Loss 6.178\n"
     ]
    },
    {
     "name": "stderr",
     "output_type": "stream",
     "text": [
      " 80%|████████████████████████████████████████████████████████████████████████████████████████████████████████████████████████████████████████████████████████▊                                      | 8/10 [07:25<01:42, 51.11s/it]"
     ]
    },
    {
     "name": "stdout",
     "output_type": "stream",
     "text": [
      "Every effort moves you?\" \"I didn't bear the picture--I told me.  \"I looked up, and went on groping and Mrs. I was back the head to look up at the honour being _mine_--because he was when I\n",
      "Epoch:9 (Step 000075):Train Loss 1.000, Val Loss 6.277\n",
      "Epoch:9 (Step 000080):Train Loss 0.718, Val Loss 6.281\n"
     ]
    },
    {
     "name": "stderr",
     "output_type": "stream",
     "text": [
      " 90%|███████████████████████████████████████████████████████████████████████████████████████████████████████████████████████████████████████████████████████████████████████████▉                   | 9/10 [08:17<00:51, 51.34s/it]"
     ]
    },
    {
     "name": "stdout",
     "output_type": "stream",
     "text": [
      "Every effort moves you?\"  \"Yes--quite insensible to the irony. She wanted him vindicated--and by me!\"  He laughed again, and threw back his head to look up at the sketch of the donkey. \"There were days when I\n",
      "Epoch:10 (Step 000085):Train Loss 0.506, Val Loss 6.325\n"
     ]
    },
    {
     "name": "stderr",
     "output_type": "stream",
     "text": [
      "100%|██████████████████████████████████████████████████████████████████████████████████████████████████████████████████████████████████████████████████████████████████████████████████████████████| 10/10 [09:02<00:00, 54.22s/it]"
     ]
    },
    {
     "name": "stdout",
     "output_type": "stream",
     "text": [
      "Every effort moves you?\"  \"Yes--quite insensible to the irony. She wanted him vindicated--and by me!\"  He laughed again, and threw back his head to the donkey again. I saw that, and down the room, when I\n"
     ]
    },
    {
     "name": "stderr",
     "output_type": "stream",
     "text": [
      "\n"
     ]
    }
   ],
   "source": [
    "device = 'cuda' if torch.cuda.is_available() else 'cpu'\n",
    "print(device)\n",
    "\n",
    "torch.manual_seed(123)\n",
    "model = GPTModel(GPT_CONFIG_124M)\n",
    "model.to(device)\n",
    "optimizer = torch.optim.AdamW(model.parameters(), lr=4e-4, weight_decay=0.1)\n",
    "\n",
    "num_epochs = 10\n",
    "train_losses, val_losses, tokens_seen = train_model_simple(\n",
    "    model, train_loader, val_loader, optimizer, device,\n",
    "    num_epochs=num_epochs, eval_freq=5, eval_iter=5,\n",
    "    start_context=\"Every effort moves you\", tokenizer=tokenizer\n",
    ")"
   ],
   "metadata": {
    "collapsed": false,
    "ExecuteTime": {
     "end_time": "2024-07-23T12:19:53.437463100Z",
     "start_time": "2024-07-23T12:10:22.649817600Z"
    }
   },
   "id": "fc79c37ef73096b7"
  },
  {
   "cell_type": "code",
   "execution_count": 100,
   "outputs": [
    {
     "data": {
      "text/plain": "<Figure size 500x300 with 2 Axes>",
      "image/png": "[encoded data removed]"
     },
     "metadata": {},
     "output_type": "display_data"
    }
   ],
   "source": [
    "import matplotlib.pyplot as plt\n",
    "\n",
    "def plot_losses(epochs_seen, tokens_seen, train_losses, val_losses):\n",
    "    fig, ax1 = plt.subplots(figsize=(5, 3))\n",
    "    \n",
    "    ax1.plot(epochs_seen, train_losses, label='Training Loss')\n",
    "    ax1.plot(epochs_seen, val_losses, linestyle='-.', label='Validation Loss')\n",
    "    ax1.set_xlabel('Epochs')\n",
    "    ax1.set_ylabel('Loss')\n",
    "    ax1.legend(loc='upper right')\n",
    "    \n",
    "    ax2 = ax1.twiny()\n",
    "    ax2.plot(tokens_seen, train_losses, alpha=0)\n",
    "    ax2.set_xlabel('Tokens seen')\n",
    "    \n",
    "    fig.tight_layout()\n",
    "    plt.show()\n",
    "    \n",
    "epochs_tensor = torch.linspace(0, num_epochs, len(train_losses))\n",
    "plot_losses(epochs_tensor, tokens_seen, train_losses, val_losses)"
   ],
   "metadata": {
    "collapsed": false,
    "ExecuteTime": {
     "end_time": "2024-07-23T12:21:05.489482400Z",
     "start_time": "2024-07-23T12:20:53.575288700Z"
    }
   },
   "id": "f0b38af532c9a8b6"
  },
  {
   "cell_type": "markdown",
   "source": [
    "- 看看上面的结果，我们可以看到，该模型一开始会生成不可理解的字符串，而到最后，它能够生成语法上或多或少正确的句子\n",
    "- 然而，基于训练和验证集的损失，我们可以看到模型开始过拟合\n",
    "- 如果我们检查它最后写的几段话，我们会发现它们逐字逐句地包含在训练集中——它只是记住了训练数据\n",
    "- 稍后，我们将介绍可以在一定程度上减轻这种记忆的解码策略\n",
    "- 注意，这里出现过拟合是因为我们有一个非常非常小的训练集，并且我们对它迭代了很多次\n",
    "    - 这里的LLM培训主要用于教育目的；我们主要希望看到模型能够学习生成连贯的文本\n",
    "    - 我们没有花费数周或数月的时间在大量昂贵的硬件上训练这个模型，而是稍后加载预训练的权重\n",
    "\n",
    "![Alt text](../../img/LLM/ch04/train_function_of_LLM.png)"
   ],
   "metadata": {
    "collapsed": false
   },
   "id": "5621154a49f2c152"
  },
  {
   "cell_type": "markdown",
   "source": [
    "## 4.3 控制随机性的解码策略"
   ],
   "metadata": {
    "collapsed": false
   },
   "id": "10a74d53ba0ca231"
  },
  {
   "cell_type": "markdown",
   "source": [
    "- 推理相对便宜，LLM相对较小，作为我们上面训练的GPT模型，因此没有必要使用GPU来进行推理，以防您使用GPU来训练它\n",
    "- 使用我们前面在简单训练函数中使用的generate_text_simple函数（来自上一章），我们可以一次生成一个单词（或标记）的新文本\n",
    "- 下一个生成的token对应于词汇表中所有token中最大概率得分的token"
   ],
   "metadata": {
    "collapsed": false
   },
   "id": "58bbf6960526ad50"
  },
  {
   "cell_type": "code",
   "execution_count": 101,
   "outputs": [
    {
     "name": "stdout",
     "output_type": "stream",
     "text": [
      "Output text:\n",
      " Every effort moves you?\"\n",
      "\n",
      "\"Yes--quite insensible to the irony. She wanted him vindicated--and by me!\"\n"
     ]
    }
   ],
   "source": [
    "model.to('cpu')\n",
    "model.eval()\n",
    "\n",
    "tokenizer = tiktoken.get_encoding('gpt2')\n",
    "\n",
    "token_ids = generate_text_simple(\n",
    "    model=model,\n",
    "    idx=text_to_token_ids(\"Every effort moves you\", tokenizer),\n",
    "    max_new_tokens=25,\n",
    "    context_size=GPT_CONFIG_124M['context_length']\n",
    ")\n",
    "\n",
    "print(\"Output text:\\n\", token_ids_to_text(token_ids, tokenizer))"
   ],
   "metadata": {
    "collapsed": false,
    "ExecuteTime": {
     "end_time": "2024-07-23T12:26:47.576237200Z",
     "start_time": "2024-07-23T12:26:45.490214300Z"
    }
   },
   "id": "e24635139fb40b85"
  },
  {
   "cell_type": "markdown",
   "source": [
    "- 即使我们多次执行上面的generate_text_simple函数，LLM也将始终生成相同的输出\n",
    "- 现在，我们引入两个概念，即所谓的decode策略，来修改generate_text_simple：temperature缩放和top-k采样\n",
    "- 这些将允许模型控制生成文本的随机性和多样性"
   ],
   "metadata": {
    "collapsed": false
   },
   "id": "a9a2060515c907d3"
  },
  {
   "cell_type": "markdown",
   "source": [
    "## 4.3.1 temperature缩放"
   ],
   "metadata": {
    "collapsed": false
   },
   "id": "d37703ffeee0803a"
  },
  {
   "cell_type": "markdown",
   "source": [
    "- 以前，我们总是使用torch.argmax对具有最高概率的token进行采样，作为下一个token\n",
    "- 为了增加多样性，我们可以使用torch.multinomial(probs，num_samples=1)对下一个token进行采样，从概率分布中采样\n",
    "- 这里，每个索引被选中的几率对应于其在输入张量中的概率\n",
    "- 以下是生成下一个token的简要回顾，假设用于说明的词汇非常少："
   ],
   "metadata": {
    "collapsed": false
   },
   "id": "aabec751f69e66d7"
  },
  {
   "cell_type": "code",
   "execution_count": 102,
   "outputs": [
    {
     "name": "stdout",
     "output_type": "stream",
     "text": [
      "forward\n"
     ]
    }
   ],
   "source": [
    "vocab = { \n",
    "    \"closer\": 0,\n",
    "    \"every\": 1, \n",
    "    \"effort\": 2, \n",
    "    \"forward\": 3,\n",
    "    \"inches\": 4,\n",
    "    \"moves\": 5, \n",
    "    \"pizza\": 6,\n",
    "    \"toward\": 7,\n",
    "    \"you\": 8,\n",
    "} \n",
    "\n",
    "inverse_vocab = {v: k for k, v in vocab.items()}\n",
    "\n",
    "# Suppose input is \"every effort moves you\", and the LLM\n",
    "# returns the following logits for the next token:\n",
    "next_token_logits = torch.tensor(\n",
    "    [4.51, 0.89, -1.90, 6.75, 1.63, -1.62, -1.89, 6.28, 1.79]\n",
    ")\n",
    "\n",
    "probas = torch.softmax(next_token_logits, dim=0)\n",
    "next_token_id = torch.argmax(probas).item()\n",
    "\n",
    "print(inverse_vocab[next_token_id])"
   ],
   "metadata": {
    "collapsed": false,
    "ExecuteTime": {
     "end_time": "2024-07-23T12:27:49.172548500Z",
     "start_time": "2024-07-23T12:27:48.975053300Z"
    }
   },
   "id": "b5a94a6d5341ca07"
  },
  {
   "cell_type": "code",
   "execution_count": 103,
   "outputs": [
    {
     "name": "stdout",
     "output_type": "stream",
     "text": [
      "toward\n"
     ]
    }
   ],
   "source": [
    "torch.manual_seed(123)\n",
    "next_token_id = torch.multinomial(probas, num_samples=1).item()\n",
    "\n",
    "print(inverse_vocab[next_token_id])"
   ],
   "metadata": {
    "collapsed": false,
    "ExecuteTime": {
     "end_time": "2024-07-23T12:28:57.176434200Z",
     "start_time": "2024-07-23T12:28:56.246168Z"
    }
   },
   "id": "618cff6016c9c1ae"
  },
  {
   "cell_type": "code",
   "execution_count": 104,
   "outputs": [
    {
     "name": "stdout",
     "output_type": "stream",
     "text": [
      "71 x closer\n",
      "2 x every\n",
      "0 x effort\n",
      "544 x forward\n",
      "2 x inches\n",
      "1 x moves\n",
      "0 x pizza\n",
      "376 x toward\n",
      "4 x you\n"
     ]
    }
   ],
   "source": [
    "def print_sampled_tokens(probas):\n",
    "    torch.manual_seed(123)\n",
    "    sample = [torch.multinomial(probas, num_samples=1).item() for _ in range(1000)]\n",
    "    sampled_ids = torch.bincount(torch.tensor(sample))\n",
    "    for i, freq in enumerate(sampled_ids):\n",
    "        print(f\"{freq} x {inverse_vocab[i]}\")\n",
    "\n",
    "print_sampled_tokens(probas)"
   ],
   "metadata": {
    "collapsed": false,
    "ExecuteTime": {
     "end_time": "2024-07-24T02:53:02.480462400Z",
     "start_time": "2024-07-24T02:53:01.553254300Z"
    }
   },
   "id": "1ac2fea154af780"
  },
  {
   "cell_type": "markdown",
   "source": [
    "- 我们不是通过torch.argmax来确定最可能的token，而是使用torch.multinomial(probas，num_samples=1)通过从softmax分布中采样来确定最有可能的token\n",
    "- 为了便于说明，让我们看看当我们使用原始softmax概率对下一个token采样1000次时会发生什么：\n",
    "- 我们可以通过一个称为 temperature缩放 的概念来控制分布和选择过程\n",
    "- temperature缩放 只是一个花哨的词，用来将logits除以大于0的数字\n",
    "- 在应用softmax后，温度大于1将导致更均匀分布的token概率\n",
    "- 应用softmax后，小于1的温度将导致更可靠（更尖锐或更峰值）的分布"
   ],
   "metadata": {
    "collapsed": false
   },
   "id": "c1003dfba9545e42"
  },
  {
   "cell_type": "code",
   "execution_count": 105,
   "outputs": [],
   "source": [
    "def softmax_with_temperature(logits, temperature):\n",
    "    scaled_logits = logits / temperature\n",
    "    return torch.softmax(scaled_logits, dim=0)\n",
    "\n",
    "temperatures = [1, 0.1, 5]\n",
    "scaled_probas = [softmax_with_temperature(next_token_logits, T) for T in temperatures]"
   ],
   "metadata": {
    "collapsed": false,
    "ExecuteTime": {
     "end_time": "2024-07-24T02:54:30.621987900Z",
     "start_time": "2024-07-24T02:54:30.322788900Z"
    }
   },
   "id": "f528b563e63bd870"
  },
  {
   "cell_type": "code",
   "execution_count": 106,
   "outputs": [
    {
     "data": {
      "text/plain": "<Figure size 500x300 with 1 Axes>",
      "image/png": "[encoded data removed]"
     },
     "metadata": {},
     "output_type": "display_data"
    }
   ],
   "source": [
    "# Plotting\n",
    "x = torch.arange(len(vocab))\n",
    "bar_width = 0.15\n",
    "\n",
    "fig, ax = plt.subplots(figsize=(5, 3))\n",
    "for i, T in enumerate(temperatures):\n",
    "    rects = ax.bar(x + i * bar_width, scaled_probas[i], bar_width, label=f'Temperature = {T}')\n",
    "\n",
    "ax.set_ylabel('Probability')\n",
    "ax.set_xticks(x)\n",
    "ax.set_xticklabels(vocab.keys(), rotation=90)\n",
    "ax.legend()\n",
    "\n",
    "plt.tight_layout()\n",
    "plt.savefig(\"temperature-plot.pdf\")\n",
    "plt.show()"
   ],
   "metadata": {
    "collapsed": false,
    "ExecuteTime": {
     "end_time": "2024-07-24T02:55:15.719532400Z",
     "start_time": "2024-07-24T02:54:38.772442300Z"
    }
   },
   "id": "5440d1d146c4d94f"
  },
  {
   "cell_type": "markdown",
   "source": [
    "- 我们可以看到，通过温度0.1的重新缩放导致更尖锐的分布，接近torch.argmax，因此几乎总是选择最有可能的单词"
   ],
   "metadata": {
    "collapsed": false
   },
   "id": "9ecbe16b056a3b77"
  },
  {
   "cell_type": "code",
   "execution_count": 107,
   "outputs": [
    {
     "name": "stdout",
     "output_type": "stream",
     "text": [
      "0 x closer\n",
      "0 x every\n",
      "0 x effort\n",
      "992 x forward\n",
      "0 x inches\n",
      "0 x moves\n",
      "0 x pizza\n",
      "8 x toward\n"
     ]
    }
   ],
   "source": [
    "print_sampled_tokens(scaled_probas[1])"
   ],
   "metadata": {
    "collapsed": false,
    "ExecuteTime": {
     "end_time": "2024-07-24T02:55:56.338971100Z",
     "start_time": "2024-07-24T02:55:55.950443500Z"
    }
   },
   "id": "d7e48b916a2b6a04"
  },
  {
   "cell_type": "code",
   "execution_count": 108,
   "outputs": [
    {
     "name": "stdout",
     "output_type": "stream",
     "text": [
      "153 x closer\n",
      "68 x every\n",
      "55 x effort\n",
      "223 x forward\n",
      "102 x inches\n",
      "50 x moves\n",
      "43 x pizza\n",
      "218 x toward\n",
      "88 x you\n"
     ]
    }
   ],
   "source": [
    "print_sampled_tokens(scaled_probas[2])"
   ],
   "metadata": {
    "collapsed": false,
    "ExecuteTime": {
     "end_time": "2024-07-24T02:56:00.574275500Z",
     "start_time": "2024-07-24T02:56:00.315937700Z"
    }
   },
   "id": "cded60ad0f282137"
  },
  {
   "cell_type": "markdown",
   "source": [
    "- 假设LLM输入“every effort moves you”，使用上述方法有时会导致无意义的文本，例如“every effort moves you pizza”，4.3%的时间（1000次中有43次）"
   ],
   "metadata": {
    "collapsed": false
   },
   "id": "fdbcf2b8c2ce61d8"
  },
  {
   "cell_type": "markdown",
   "source": [
    "### 4.3.2 Top-K 采样"
   ],
   "metadata": {
    "collapsed": false
   },
   "id": "a7f26a0480125e6f"
  },
  {
   "cell_type": "markdown",
   "source": [
    "- 为了能够使用更高的temperature来增加输出多样性并降低无意义句子的概率，我们可以将采样的标记限制为前k个最可能的标记：\n",
    "\n",
    "![Alt text](../../img/LLM/ch04/topk_sampling.png)\n",
    "\n",
    "- (请注意，此图中的数字被截断为小数点后的两位数，以减少视觉混乱。Softmax行中的值加起来应为1.0)\n",
    "- 在代码中，我们可以实现如下："
   ],
   "metadata": {
    "collapsed": false
   },
   "id": "23c160e2c07eb6cf"
  },
  {
   "cell_type": "code",
   "execution_count": 109,
   "outputs": [
    {
     "name": "stdout",
     "output_type": "stream",
     "text": [
      "Top logits: tensor([6.7500, 6.2800, 4.5100])\n",
      "Top positions: tensor([3, 7, 0])\n"
     ]
    }
   ],
   "source": [
    "top_k = 3\n",
    "top_logits, top_pos = torch.topk(next_token_logits, top_k)\n",
    "\n",
    "print(f\"Top logits: {top_logits}\")\n",
    "print(f\"Top positions: {top_pos}\")"
   ],
   "metadata": {
    "collapsed": false,
    "ExecuteTime": {
     "end_time": "2024-07-25T02:33:46.464754700Z",
     "start_time": "2024-07-25T02:33:43.239749900Z"
    }
   },
   "id": "4557e231a8bb7ff"
  },
  {
   "cell_type": "code",
   "execution_count": 110,
   "outputs": [
    {
     "name": "stdout",
     "output_type": "stream",
     "text": [
      "tensor([4.5100,   -inf,   -inf, 6.7500,   -inf,   -inf,   -inf, 6.2800,   -inf])\n"
     ]
    }
   ],
   "source": [
    "new_logits = torch.where(\n",
    "    condition=next_token_logits < top_logits[-1],\n",
    "    input=torch.tensor(float('-inf')),\n",
    "    other=next_token_logits\n",
    ")\n",
    "\n",
    "print(new_logits)"
   ],
   "metadata": {
    "collapsed": false,
    "ExecuteTime": {
     "end_time": "2024-07-25T02:34:47.139818300Z",
     "start_time": "2024-07-25T02:34:46.767192700Z"
    }
   },
   "id": "78f378b393f01cc7"
  },
  {
   "cell_type": "code",
   "execution_count": 111,
   "outputs": [
    {
     "name": "stdout",
     "output_type": "stream",
     "text": [
      "tensor([0.0615, 0.0000, 0.0000, 0.5775, 0.0000, 0.0000, 0.0000, 0.3610, 0.0000])\n"
     ]
    }
   ],
   "source": [
    "topk_probas = torch.softmax(new_logits, dim=0)\n",
    "print(topk_probas)"
   ],
   "metadata": {
    "collapsed": false,
    "ExecuteTime": {
     "end_time": "2024-07-25T02:35:26.056119300Z",
     "start_time": "2024-07-25T02:35:25.782849900Z"
    }
   },
   "id": "902724fdd172eb33"
  },
  {
   "cell_type": "markdown",
   "source": [
    "### 4.3.3 文本生成功能"
   ],
   "metadata": {
    "collapsed": false
   },
   "id": "f2684f614cd6b448"
  },
  {
   "cell_type": "code",
   "execution_count": 112,
   "outputs": [],
   "source": [
    "def generate(model, idx, max_new_tokens, context_size, temperature=0.0, top_k=None, eos_id=None):\n",
    "    \n",
    "    for _ in range(max_new_tokens):\n",
    "        idx_cond = idx[:, -context_size:]\n",
    "        with torch.no_grad():\n",
    "            logits = model(idx_cond)\n",
    "        logits = logits[:, -1, :]\n",
    "        \n",
    "        if top_k is not None:\n",
    "            top_logits, _ = torch.topk(logits, top_k)\n",
    "            min_val = top_logits[:, -1]\n",
    "            logits = torch.where(logits < min_val, torch.tensor(float('-inf')).to(logits.device), logits)\n",
    "        \n",
    "        if temperature > 0.0:\n",
    "            logits = logits / temperature\n",
    "            \n",
    "            probs = torch.softmax(logits, dim=-1)\n",
    "            \n",
    "            idx_next = torch.multinomial(probs, num_samples=1)\n",
    "        else:\n",
    "            idx_next = torch.argmax(logits, dim=-1, keepdim=True)\n",
    "        \n",
    "        if idx_next == eos_id:\n",
    "            break\n",
    "        idx = torch.cat((idx, idx_next), dim=1)\n",
    "    return idx"
   ],
   "metadata": {
    "collapsed": false,
    "ExecuteTime": {
     "end_time": "2024-07-25T02:41:06.608884400Z",
     "start_time": "2024-07-25T02:41:06.081716600Z"
    }
   },
   "id": "247dfebc2852a5d0"
  },
  {
   "cell_type": "code",
   "execution_count": 113,
   "outputs": [
    {
     "name": "stdout",
     "output_type": "stream",
     "text": [
      "Output text:\n",
      " Every effort moves you know began to my surprise, a little it was the\n",
      "\"Ah enough\n"
     ]
    }
   ],
   "source": [
    "torch.manual_seed(123)\n",
    "\n",
    "token_ids = generate(\n",
    "    model=model,\n",
    "    idx=text_to_token_ids(\"Every effort moves you\", tokenizer),\n",
    "    max_new_tokens=15,\n",
    "    context_size=GPT_CONFIG_124M[\"context_length\"],\n",
    "    top_k=25,\n",
    "    temperature=1.4\n",
    ")\n",
    "\n",
    "print(\"Output text:\\n\", token_ids_to_text(token_ids, tokenizer))"
   ],
   "metadata": {
    "collapsed": false,
    "ExecuteTime": {
     "end_time": "2024-07-25T02:46:01.393896700Z",
     "start_time": "2024-07-25T02:45:40.369437Z"
    }
   },
   "id": "10695cbc98a4ce7b"
  },
  {
   "cell_type": "markdown",
   "source": [
    "## 4.4 从PyTorch中加载和保存模型权重"
   ],
   "metadata": {
    "collapsed": false
   },
   "id": "8bedc375d13c3e9f"
  },
  {
   "cell_type": "markdown",
   "source": [
    "- 训练LLM的计算成本很高，因此能够保存和加载LLM权重至关重要\n",
    "\n",
    "![Alt text](../../img/LLM/ch04/weight_saving.png)\n",
    "\n",
    "- PyTorch中建议的方法是通过将torch.save函数应用于.state_dict()方法来保存"
   ],
   "metadata": {
    "collapsed": false
   },
   "id": "fdb3b4455b523f0b"
  },
  {
   "cell_type": "code",
   "execution_count": 115,
   "outputs": [],
   "source": [
    "torch.save(model.state_dict(), 'model.pth')"
   ],
   "metadata": {
    "collapsed": false,
    "ExecuteTime": {
     "end_time": "2024-07-25T02:49:18.741342Z",
     "start_time": "2024-07-25T02:49:05.578206300Z"
    }
   },
   "id": "5fa9f7ad4746c025"
  },
  {
   "cell_type": "code",
   "execution_count": 116,
   "outputs": [
    {
     "data": {
      "text/plain": "GPTModel(\n  (tok_emb): Embedding(50257, 768)\n  (pos_emb): Embedding(256, 768)\n  (drop_emb): Dropout(p=0.1, inplace=False)\n  (transformer_block): Sequential(\n    (0): TransformerBlock(\n      (attention): MultiHeadAttention(\n        (W_q): Linear(in_features=768, out_features=768, bias=False)\n        (W_k): Linear(in_features=768, out_features=768, bias=False)\n        (W_v): Linear(in_features=768, out_features=768, bias=False)\n        (dropout): Dropout(p=0.1, inplace=False)\n        (out_proj): Linear(in_features=768, out_features=768, bias=True)\n      )\n      (ffn): FeedForward(\n        (layers): Sequential(\n          (0): Linear(in_features=768, out_features=3072, bias=True)\n          (1): GELU()\n          (2): Linear(in_features=3072, out_features=768, bias=True)\n        )\n      )\n      (norm1): LayerNorm()\n      (norm2): LayerNorm()\n      (drop_shortcut): Dropout(p=0.1, inplace=False)\n    )\n    (1): TransformerBlock(\n      (attention): MultiHeadAttention(\n        (W_q): Linear(in_features=768, out_features=768, bias=False)\n        (W_k): Linear(in_features=768, out_features=768, bias=False)\n        (W_v): Linear(in_features=768, out_features=768, bias=False)\n        (dropout): Dropout(p=0.1, inplace=False)\n        (out_proj): Linear(in_features=768, out_features=768, bias=True)\n      )\n      (ffn): FeedForward(\n        (layers): Sequential(\n          (0): Linear(in_features=768, out_features=3072, bias=True)\n          (1): GELU()\n          (2): Linear(in_features=3072, out_features=768, bias=True)\n        )\n      )\n      (norm1): LayerNorm()\n      (norm2): LayerNorm()\n      (drop_shortcut): Dropout(p=0.1, inplace=False)\n    )\n    (2): TransformerBlock(\n      (attention): MultiHeadAttention(\n        (W_q): Linear(in_features=768, out_features=768, bias=False)\n        (W_k): Linear(in_features=768, out_features=768, bias=False)\n        (W_v): Linear(in_features=768, out_features=768, bias=False)\n        (dropout): Dropout(p=0.1, inplace=False)\n        (out_proj): Linear(in_features=768, out_features=768, bias=True)\n      )\n      (ffn): FeedForward(\n        (layers): Sequential(\n          (0): Linear(in_features=768, out_features=3072, bias=True)\n          (1): GELU()\n          (2): Linear(in_features=3072, out_features=768, bias=True)\n        )\n      )\n      (norm1): LayerNorm()\n      (norm2): LayerNorm()\n      (drop_shortcut): Dropout(p=0.1, inplace=False)\n    )\n    (3): TransformerBlock(\n      (attention): MultiHeadAttention(\n        (W_q): Linear(in_features=768, out_features=768, bias=False)\n        (W_k): Linear(in_features=768, out_features=768, bias=False)\n        (W_v): Linear(in_features=768, out_features=768, bias=False)\n        (dropout): Dropout(p=0.1, inplace=False)\n        (out_proj): Linear(in_features=768, out_features=768, bias=True)\n      )\n      (ffn): FeedForward(\n        (layers): Sequential(\n          (0): Linear(in_features=768, out_features=3072, bias=True)\n          (1): GELU()\n          (2): Linear(in_features=3072, out_features=768, bias=True)\n        )\n      )\n      (norm1): LayerNorm()\n      (norm2): LayerNorm()\n      (drop_shortcut): Dropout(p=0.1, inplace=False)\n    )\n    (4): TransformerBlock(\n      (attention): MultiHeadAttention(\n        (W_q): Linear(in_features=768, out_features=768, bias=False)\n        (W_k): Linear(in_features=768, out_features=768, bias=False)\n        (W_v): Linear(in_features=768, out_features=768, bias=False)\n        (dropout): Dropout(p=0.1, inplace=False)\n        (out_proj): Linear(in_features=768, out_features=768, bias=True)\n      )\n      (ffn): FeedForward(\n        (layers): Sequential(\n          (0): Linear(in_features=768, out_features=3072, bias=True)\n          (1): GELU()\n          (2): Linear(in_features=3072, out_features=768, bias=True)\n        )\n      )\n      (norm1): LayerNorm()\n      (norm2): LayerNorm()\n      (drop_shortcut): Dropout(p=0.1, inplace=False)\n    )\n    (5): TransformerBlock(\n      (attention): MultiHeadAttention(\n        (W_q): Linear(in_features=768, out_features=768, bias=False)\n        (W_k): Linear(in_features=768, out_features=768, bias=False)\n        (W_v): Linear(in_features=768, out_features=768, bias=False)\n        (dropout): Dropout(p=0.1, inplace=False)\n        (out_proj): Linear(in_features=768, out_features=768, bias=True)\n      )\n      (ffn): FeedForward(\n        (layers): Sequential(\n          (0): Linear(in_features=768, out_features=3072, bias=True)\n          (1): GELU()\n          (2): Linear(in_features=3072, out_features=768, bias=True)\n        )\n      )\n      (norm1): LayerNorm()\n      (norm2): LayerNorm()\n      (drop_shortcut): Dropout(p=0.1, inplace=False)\n    )\n    (6): TransformerBlock(\n      (attention): MultiHeadAttention(\n        (W_q): Linear(in_features=768, out_features=768, bias=False)\n        (W_k): Linear(in_features=768, out_features=768, bias=False)\n        (W_v): Linear(in_features=768, out_features=768, bias=False)\n        (dropout): Dropout(p=0.1, inplace=False)\n        (out_proj): Linear(in_features=768, out_features=768, bias=True)\n      )\n      (ffn): FeedForward(\n        (layers): Sequential(\n          (0): Linear(in_features=768, out_features=3072, bias=True)\n          (1): GELU()\n          (2): Linear(in_features=3072, out_features=768, bias=True)\n        )\n      )\n      (norm1): LayerNorm()\n      (norm2): LayerNorm()\n      (drop_shortcut): Dropout(p=0.1, inplace=False)\n    )\n    (7): TransformerBlock(\n      (attention): MultiHeadAttention(\n        (W_q): Linear(in_features=768, out_features=768, bias=False)\n        (W_k): Linear(in_features=768, out_features=768, bias=False)\n        (W_v): Linear(in_features=768, out_features=768, bias=False)\n        (dropout): Dropout(p=0.1, inplace=False)\n        (out_proj): Linear(in_features=768, out_features=768, bias=True)\n      )\n      (ffn): FeedForward(\n        (layers): Sequential(\n          (0): Linear(in_features=768, out_features=3072, bias=True)\n          (1): GELU()\n          (2): Linear(in_features=3072, out_features=768, bias=True)\n        )\n      )\n      (norm1): LayerNorm()\n      (norm2): LayerNorm()\n      (drop_shortcut): Dropout(p=0.1, inplace=False)\n    )\n    (8): TransformerBlock(\n      (attention): MultiHeadAttention(\n        (W_q): Linear(in_features=768, out_features=768, bias=False)\n        (W_k): Linear(in_features=768, out_features=768, bias=False)\n        (W_v): Linear(in_features=768, out_features=768, bias=False)\n        (dropout): Dropout(p=0.1, inplace=False)\n        (out_proj): Linear(in_features=768, out_features=768, bias=True)\n      )\n      (ffn): FeedForward(\n        (layers): Sequential(\n          (0): Linear(in_features=768, out_features=3072, bias=True)\n          (1): GELU()\n          (2): Linear(in_features=3072, out_features=768, bias=True)\n        )\n      )\n      (norm1): LayerNorm()\n      (norm2): LayerNorm()\n      (drop_shortcut): Dropout(p=0.1, inplace=False)\n    )\n    (9): TransformerBlock(\n      (attention): MultiHeadAttention(\n        (W_q): Linear(in_features=768, out_features=768, bias=False)\n        (W_k): Linear(in_features=768, out_features=768, bias=False)\n        (W_v): Linear(in_features=768, out_features=768, bias=False)\n        (dropout): Dropout(p=0.1, inplace=False)\n        (out_proj): Linear(in_features=768, out_features=768, bias=True)\n      )\n      (ffn): FeedForward(\n        (layers): Sequential(\n          (0): Linear(in_features=768, out_features=3072, bias=True)\n          (1): GELU()\n          (2): Linear(in_features=3072, out_features=768, bias=True)\n        )\n      )\n      (norm1): LayerNorm()\n      (norm2): LayerNorm()\n      (drop_shortcut): Dropout(p=0.1, inplace=False)\n    )\n    (10): TransformerBlock(\n      (attention): MultiHeadAttention(\n        (W_q): Linear(in_features=768, out_features=768, bias=False)\n        (W_k): Linear(in_features=768, out_features=768, bias=False)\n        (W_v): Linear(in_features=768, out_features=768, bias=False)\n        (dropout): Dropout(p=0.1, inplace=False)\n        (out_proj): Linear(in_features=768, out_features=768, bias=True)\n      )\n      (ffn): FeedForward(\n        (layers): Sequential(\n          (0): Linear(in_features=768, out_features=3072, bias=True)\n          (1): GELU()\n          (2): Linear(in_features=3072, out_features=768, bias=True)\n        )\n      )\n      (norm1): LayerNorm()\n      (norm2): LayerNorm()\n      (drop_shortcut): Dropout(p=0.1, inplace=False)\n    )\n    (11): TransformerBlock(\n      (attention): MultiHeadAttention(\n        (W_q): Linear(in_features=768, out_features=768, bias=False)\n        (W_k): Linear(in_features=768, out_features=768, bias=False)\n        (W_v): Linear(in_features=768, out_features=768, bias=False)\n        (dropout): Dropout(p=0.1, inplace=False)\n        (out_proj): Linear(in_features=768, out_features=768, bias=True)\n      )\n      (ffn): FeedForward(\n        (layers): Sequential(\n          (0): Linear(in_features=768, out_features=3072, bias=True)\n          (1): GELU()\n          (2): Linear(in_features=3072, out_features=768, bias=True)\n        )\n      )\n      (norm1): LayerNorm()\n      (norm2): LayerNorm()\n      (drop_shortcut): Dropout(p=0.1, inplace=False)\n    )\n  )\n  (final_norm): LayerNorm()\n  (out_head): Linear(in_features=768, out_features=50257, bias=False)\n)"
     },
     "execution_count": 116,
     "metadata": {},
     "output_type": "execute_result"
    }
   ],
   "source": [
    "model = GPTModel(GPT_CONFIG_124M)\n",
    "model.load_state_dict(torch.load(\"model.pth\"))\n",
    "model.eval()"
   ],
   "metadata": {
    "collapsed": false,
    "ExecuteTime": {
     "end_time": "2024-07-25T02:49:55.865061800Z",
     "start_time": "2024-07-25T02:49:18.878978800Z"
    }
   },
   "id": "f8d5250ba5d0f9a9"
  },
  {
   "cell_type": "markdown",
   "source": [
    "- 使用Adam或AdamW等自适应优化器而不是常规SGD来训练LLM是很常见的\n",
    "- 这些自适应优化器为每个模型权重存储额外的参数，因此，如果我们计划稍后继续预训练，也可以保存这些参数："
   ],
   "metadata": {
    "collapsed": false
   },
   "id": "b611a0542bc4bb1c"
  },
  {
   "cell_type": "code",
   "execution_count": 117,
   "outputs": [],
   "source": [
    "torch.save({\n",
    "    \"model_state_dict\": model.state_dict(),\n",
    "    \"optimizer_state_dict\": optimizer.state_dict(),\n",
    "    }, \n",
    "    \"model_and_optimizer.pth\"\n",
    ")"
   ],
   "metadata": {
    "collapsed": false,
    "ExecuteTime": {
     "end_time": "2024-07-25T02:51:20.520773900Z",
     "start_time": "2024-07-25T02:50:10.558200900Z"
    }
   },
   "id": "c2cb52837721294f"
  },
  {
   "cell_type": "code",
   "execution_count": null,
   "outputs": [],
   "source": [
    "checkpoint = torch.load(\"model_and_optimizer.pth\")\n",
    "\n",
    "model = GPTModel(GPT_CONFIG_124M)\n",
    "model.load_state_dict(checkpoint[\"model_state_dict\"])\n",
    "\n",
    "optimizer = torch.optim.AdamW(model.parameters(), lr=0.0005, weight_decay=0.1)\n",
    "optimizer.load_state_dict(checkpoint[\"optimizer_state_dict\"])\n",
    "model.train()"
   ],
   "metadata": {
    "collapsed": false,
    "is_executing": true,
    "ExecuteTime": {
     "start_time": "2024-07-25T02:51:20.577592Z"
    }
   },
   "id": "9f9b586dd75591f2"
  },
  {
   "cell_type": "markdown",
   "source": [
    "## 4.5 从OpenAI加载预训练权重"
   ],
   "metadata": {
    "collapsed": false
   },
   "id": "d77898196e7a8e05"
  },
  {
   "cell_type": "markdown",
   "source": [
    "- 以前，我们只使用一本非常小的短篇小说来训练一个小的GPT-2模型，用于教育目的\n",
    "- 感兴趣的读者还可以在中找到完整的古腾堡项目图书语料库的更长时间的预训练/03_bonus_preataining_on_gutenberg\n",
    "- 幸运的是，我们不必花费数万至数十万美元在大型预训练语料库上对模型进行预训练，而是可以加载OpenAI提供的预训练权重\n",
    "- 有关从Hugging Face加载权重的替代方法\n",
    "- 首先，一些样板代码从OpenAI下载文件并将权重加载到Python中\n",
    "- 由于OpenAI使用了TensorFlow，我们将不得不安装并使用TensorFlow来加载权重；tqdm是进度条库取消注释并运行下一个单元以安装所需的库"
   ],
   "metadata": {
    "collapsed": false
   },
   "id": "40ee5615c633c141"
  },
  {
   "cell_type": "code",
   "execution_count": null,
   "outputs": [],
   "source": [
    "print(\"TensorFlow version:\", version(\"tensorflow\"))\n",
    "print(\"tqdm version:\", version(\"tqdm\"))"
   ],
   "metadata": {
    "collapsed": false,
    "is_executing": true
   },
   "id": "3275d1f05ce77b0d"
  },
  {
   "cell_type": "code",
   "execution_count": null,
   "outputs": [],
   "source": [
    "from gpt_download import download_and_load_gpt2"
   ],
   "metadata": {
    "collapsed": false,
    "is_executing": true
   },
   "id": "94ffff66515bdb7c"
  },
  {
   "cell_type": "code",
   "execution_count": null,
   "outputs": [],
   "source": [],
   "metadata": {
    "collapsed": false
   },
   "id": "c054491b9724ddfd"
  }
 ],
 "metadata": {
  "kernelspec": {
   "name": "llm",
   "language": "python",
   "display_name": "LLM"
  },
  "language_info": {
   "codemirror_mode": {
    "name": "ipython",
    "version": 2
   },
   "file_extension": ".py",
   "mimetype": "text/x-python",
   "name": "python",
   "nbconvert_exporter": "python",
   "pygments_lexer": "ipython2",
   "version": "2.7.6"
  }
 },
 "nbformat": 4,
 "nbformat_minor": 5
}
