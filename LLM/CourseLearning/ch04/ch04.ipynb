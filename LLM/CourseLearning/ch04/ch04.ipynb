{
 "cells": [
  {
   "cell_type": "markdown",
   "source": [
    "# 对未标记数据进行预训练"
   ],
   "metadata": {
    "collapsed": false
   },
   "id": "b89098e5a2b5d050"
  },
  {
   "cell_type": "code",
   "execution_count": 1,
   "outputs": [
    {
     "name": "stdout",
     "output_type": "stream",
     "text": [
      "matplotlib version: 3.9.0\n",
      "numpy version: 1.26.4\n",
      "tiktoken version: 0.7.0\n",
      "torch version: 2.3.1\n",
      "tensorflow version: 2.16.1\n"
     ]
    }
   ],
   "source": [
    "from importlib.metadata import version\n",
    "\n",
    "pkgs = [\"matplotlib\",\n",
    "        \"numpy\",\n",
    "        \"tiktoken\",\n",
    "        \"torch\",\n",
    "        \"tensorflow\"]\n",
    "\n",
    "for p in pkgs:\n",
    "    print(f\"{p} version: {version(p)}\")"
   ],
   "metadata": {
    "collapsed": false,
    "ExecuteTime": {
     "end_time": "2024-06-26T11:28:11.078447900Z",
     "start_time": "2024-06-26T11:28:11.040524500Z"
    }
   },
   "id": "641a0f040be9452a"
  },
  {
   "cell_type": "markdown",
   "source": [
    "- 在本章中，我们实现了基本模型评估的训练循环和代码，以预训练LLM\n",
    "- 在本章的最后，我们还将OpenAI中公开可用的预训练权重加载到我们的模型中\n",
    "\n",
    "![Alt text](../../../img/LLM/ch04/pretrain.png)\n",
    "\n",
    "- 本章涵盖的主题如下所示\n",
    "\n",
    "![Alt text](../../../img/LLM/ch04/ch04_topic.png)"
   ],
   "metadata": {
    "collapsed": false
   },
   "id": "9d9c5ca27462b2b0"
  },
  {
   "cell_type": "markdown",
   "source": [
    "# 1、评估生成文本模型"
   ],
   "metadata": {
    "collapsed": false
   },
   "id": "aa4e0610fb0213cc"
  },
  {
   "cell_type": "markdown",
   "source": [
    "- 我们在本节开始时简要回顾一下使用上一章中的代码初始化GPT模型\n",
    "- 然后，我们讨论LLM的基本评估指标\n",
    "- 最后，在本节中，我们将这些评估指标应用于训练和验证数据集"
   ],
   "metadata": {
    "collapsed": false
   },
   "id": "5b075635eb2a32ba"
  },
  {
   "cell_type": "markdown",
   "source": [
    "## 1.1、使用GPT生成文本"
   ],
   "metadata": {
    "collapsed": false
   },
   "id": "bd4d0bbb974a1601"
  },
  {
   "cell_type": "markdown",
   "source": [
    "- 我们使用上一章中的代码初始化GPT模型"
   ],
   "metadata": {
    "collapsed": false
   },
   "id": "fb528414076e69b8"
  },
  {
   "cell_type": "code",
   "execution_count": 3,
   "outputs": [
    {
     "data": {
      "text/plain": "GPTModel(\n  (token_emb): Embedding(50257, 768)\n  (pos_emb): Embedding(256, 768)\n  (drop_emb): Dropout(p=0.1, inplace=False)\n  (transformer_blocks): Sequential(\n    (0): TransformerBlock(\n      (attention): MultiHeadAttention(\n        (W_q): Linear(in_features=768, out_features=768, bias=False)\n        (W_k): Linear(in_features=768, out_features=768, bias=False)\n        (W_v): Linear(in_features=768, out_features=768, bias=False)\n        (out_proj): Linear(in_features=768, out_features=768, bias=True)\n        (dropout): Dropout(p=0.1, inplace=False)\n      )\n      (ffn): FeedForward(\n        (layers): Sequential(\n          (0): Linear(in_features=768, out_features=3072, bias=True)\n          (1): GELU()\n          (2): Linear(in_features=3072, out_features=768, bias=True)\n        )\n      )\n      (norm1): LayerNorm()\n      (norm2): LayerNorm()\n      (drop_shortcut): Dropout(p=0.1, inplace=False)\n    )\n    (1): TransformerBlock(\n      (attention): MultiHeadAttention(\n        (W_q): Linear(in_features=768, out_features=768, bias=False)\n        (W_k): Linear(in_features=768, out_features=768, bias=False)\n        (W_v): Linear(in_features=768, out_features=768, bias=False)\n        (out_proj): Linear(in_features=768, out_features=768, bias=True)\n        (dropout): Dropout(p=0.1, inplace=False)\n      )\n      (ffn): FeedForward(\n        (layers): Sequential(\n          (0): Linear(in_features=768, out_features=3072, bias=True)\n          (1): GELU()\n          (2): Linear(in_features=3072, out_features=768, bias=True)\n        )\n      )\n      (norm1): LayerNorm()\n      (norm2): LayerNorm()\n      (drop_shortcut): Dropout(p=0.1, inplace=False)\n    )\n    (2): TransformerBlock(\n      (attention): MultiHeadAttention(\n        (W_q): Linear(in_features=768, out_features=768, bias=False)\n        (W_k): Linear(in_features=768, out_features=768, bias=False)\n        (W_v): Linear(in_features=768, out_features=768, bias=False)\n        (out_proj): Linear(in_features=768, out_features=768, bias=True)\n        (dropout): Dropout(p=0.1, inplace=False)\n      )\n      (ffn): FeedForward(\n        (layers): Sequential(\n          (0): Linear(in_features=768, out_features=3072, bias=True)\n          (1): GELU()\n          (2): Linear(in_features=3072, out_features=768, bias=True)\n        )\n      )\n      (norm1): LayerNorm()\n      (norm2): LayerNorm()\n      (drop_shortcut): Dropout(p=0.1, inplace=False)\n    )\n    (3): TransformerBlock(\n      (attention): MultiHeadAttention(\n        (W_q): Linear(in_features=768, out_features=768, bias=False)\n        (W_k): Linear(in_features=768, out_features=768, bias=False)\n        (W_v): Linear(in_features=768, out_features=768, bias=False)\n        (out_proj): Linear(in_features=768, out_features=768, bias=True)\n        (dropout): Dropout(p=0.1, inplace=False)\n      )\n      (ffn): FeedForward(\n        (layers): Sequential(\n          (0): Linear(in_features=768, out_features=3072, bias=True)\n          (1): GELU()\n          (2): Linear(in_features=3072, out_features=768, bias=True)\n        )\n      )\n      (norm1): LayerNorm()\n      (norm2): LayerNorm()\n      (drop_shortcut): Dropout(p=0.1, inplace=False)\n    )\n    (4): TransformerBlock(\n      (attention): MultiHeadAttention(\n        (W_q): Linear(in_features=768, out_features=768, bias=False)\n        (W_k): Linear(in_features=768, out_features=768, bias=False)\n        (W_v): Linear(in_features=768, out_features=768, bias=False)\n        (out_proj): Linear(in_features=768, out_features=768, bias=True)\n        (dropout): Dropout(p=0.1, inplace=False)\n      )\n      (ffn): FeedForward(\n        (layers): Sequential(\n          (0): Linear(in_features=768, out_features=3072, bias=True)\n          (1): GELU()\n          (2): Linear(in_features=3072, out_features=768, bias=True)\n        )\n      )\n      (norm1): LayerNorm()\n      (norm2): LayerNorm()\n      (drop_shortcut): Dropout(p=0.1, inplace=False)\n    )\n    (5): TransformerBlock(\n      (attention): MultiHeadAttention(\n        (W_q): Linear(in_features=768, out_features=768, bias=False)\n        (W_k): Linear(in_features=768, out_features=768, bias=False)\n        (W_v): Linear(in_features=768, out_features=768, bias=False)\n        (out_proj): Linear(in_features=768, out_features=768, bias=True)\n        (dropout): Dropout(p=0.1, inplace=False)\n      )\n      (ffn): FeedForward(\n        (layers): Sequential(\n          (0): Linear(in_features=768, out_features=3072, bias=True)\n          (1): GELU()\n          (2): Linear(in_features=3072, out_features=768, bias=True)\n        )\n      )\n      (norm1): LayerNorm()\n      (norm2): LayerNorm()\n      (drop_shortcut): Dropout(p=0.1, inplace=False)\n    )\n    (6): TransformerBlock(\n      (attention): MultiHeadAttention(\n        (W_q): Linear(in_features=768, out_features=768, bias=False)\n        (W_k): Linear(in_features=768, out_features=768, bias=False)\n        (W_v): Linear(in_features=768, out_features=768, bias=False)\n        (out_proj): Linear(in_features=768, out_features=768, bias=True)\n        (dropout): Dropout(p=0.1, inplace=False)\n      )\n      (ffn): FeedForward(\n        (layers): Sequential(\n          (0): Linear(in_features=768, out_features=3072, bias=True)\n          (1): GELU()\n          (2): Linear(in_features=3072, out_features=768, bias=True)\n        )\n      )\n      (norm1): LayerNorm()\n      (norm2): LayerNorm()\n      (drop_shortcut): Dropout(p=0.1, inplace=False)\n    )\n    (7): TransformerBlock(\n      (attention): MultiHeadAttention(\n        (W_q): Linear(in_features=768, out_features=768, bias=False)\n        (W_k): Linear(in_features=768, out_features=768, bias=False)\n        (W_v): Linear(in_features=768, out_features=768, bias=False)\n        (out_proj): Linear(in_features=768, out_features=768, bias=True)\n        (dropout): Dropout(p=0.1, inplace=False)\n      )\n      (ffn): FeedForward(\n        (layers): Sequential(\n          (0): Linear(in_features=768, out_features=3072, bias=True)\n          (1): GELU()\n          (2): Linear(in_features=3072, out_features=768, bias=True)\n        )\n      )\n      (norm1): LayerNorm()\n      (norm2): LayerNorm()\n      (drop_shortcut): Dropout(p=0.1, inplace=False)\n    )\n    (8): TransformerBlock(\n      (attention): MultiHeadAttention(\n        (W_q): Linear(in_features=768, out_features=768, bias=False)\n        (W_k): Linear(in_features=768, out_features=768, bias=False)\n        (W_v): Linear(in_features=768, out_features=768, bias=False)\n        (out_proj): Linear(in_features=768, out_features=768, bias=True)\n        (dropout): Dropout(p=0.1, inplace=False)\n      )\n      (ffn): FeedForward(\n        (layers): Sequential(\n          (0): Linear(in_features=768, out_features=3072, bias=True)\n          (1): GELU()\n          (2): Linear(in_features=3072, out_features=768, bias=True)\n        )\n      )\n      (norm1): LayerNorm()\n      (norm2): LayerNorm()\n      (drop_shortcut): Dropout(p=0.1, inplace=False)\n    )\n    (9): TransformerBlock(\n      (attention): MultiHeadAttention(\n        (W_q): Linear(in_features=768, out_features=768, bias=False)\n        (W_k): Linear(in_features=768, out_features=768, bias=False)\n        (W_v): Linear(in_features=768, out_features=768, bias=False)\n        (out_proj): Linear(in_features=768, out_features=768, bias=True)\n        (dropout): Dropout(p=0.1, inplace=False)\n      )\n      (ffn): FeedForward(\n        (layers): Sequential(\n          (0): Linear(in_features=768, out_features=3072, bias=True)\n          (1): GELU()\n          (2): Linear(in_features=3072, out_features=768, bias=True)\n        )\n      )\n      (norm1): LayerNorm()\n      (norm2): LayerNorm()\n      (drop_shortcut): Dropout(p=0.1, inplace=False)\n    )\n    (10): TransformerBlock(\n      (attention): MultiHeadAttention(\n        (W_q): Linear(in_features=768, out_features=768, bias=False)\n        (W_k): Linear(in_features=768, out_features=768, bias=False)\n        (W_v): Linear(in_features=768, out_features=768, bias=False)\n        (out_proj): Linear(in_features=768, out_features=768, bias=True)\n        (dropout): Dropout(p=0.1, inplace=False)\n      )\n      (ffn): FeedForward(\n        (layers): Sequential(\n          (0): Linear(in_features=768, out_features=3072, bias=True)\n          (1): GELU()\n          (2): Linear(in_features=3072, out_features=768, bias=True)\n        )\n      )\n      (norm1): LayerNorm()\n      (norm2): LayerNorm()\n      (drop_shortcut): Dropout(p=0.1, inplace=False)\n    )\n    (11): TransformerBlock(\n      (attention): MultiHeadAttention(\n        (W_q): Linear(in_features=768, out_features=768, bias=False)\n        (W_k): Linear(in_features=768, out_features=768, bias=False)\n        (W_v): Linear(in_features=768, out_features=768, bias=False)\n        (out_proj): Linear(in_features=768, out_features=768, bias=True)\n        (dropout): Dropout(p=0.1, inplace=False)\n      )\n      (ffn): FeedForward(\n        (layers): Sequential(\n          (0): Linear(in_features=768, out_features=3072, bias=True)\n          (1): GELU()\n          (2): Linear(in_features=3072, out_features=768, bias=True)\n        )\n      )\n      (norm1): LayerNorm()\n      (norm2): LayerNorm()\n      (drop_shortcut): Dropout(p=0.1, inplace=False)\n    )\n  )\n  (final_norm): LayerNorm()\n  (out_head): Linear(in_features=768, out_features=50257, bias=False)\n)"
     },
     "execution_count": 3,
     "metadata": {},
     "output_type": "execute_result"
    }
   ],
   "source": [
    "import torch\n",
    "from ch04 import GPTModel\n",
    "\n",
    "GPT_CONFIG_124M = {\n",
    "    \"vocab_size\": 50257,   # Vocabulary size\n",
    "    \"context_length\": 256, # Shortened context length (orig: 1024)\n",
    "    \"embedding_dim\": 768,  # Embedding dimension\n",
    "    \"n_heads\": 12,         # Number of attention heads\n",
    "    \"n_layers\": 12,        # Number of layers\n",
    "    \"drop_rate\": 0.1,      # Dropout rate\n",
    "    \"qkv_bias\": False      # Query-key-value bias\n",
    "}\n",
    "\n",
    "torch.manual_seed(123)\n",
    "model = GPTModel(GPT_CONFIG_124M)\n",
    "model.eval()"
   ],
   "metadata": {
    "collapsed": false,
    "ExecuteTime": {
     "end_time": "2024-06-26T11:29:23.607654900Z",
     "start_time": "2024-06-26T11:29:21.283160500Z"
    }
   },
   "id": "bdbe33be1929f3f7"
  },
  {
   "cell_type": "markdown",
   "source": [
    "- 我们使用0.1以上的dropout, 但现在训练LLM而不dropout是相对常见的\n",
    "- 现代LLM在nn中也不使用偏置向量. query、key和value矩阵的线性层（与早期的GPT模型不同）,这是通过设置qkv_bias：False来实现的\n",
    "- 我们只减少了256个token的上下文长度（context_length），以减少训练模型的计算资源需求，而原始的1.24亿参数GPT-2模型使用了1024个token\n",
    "    - 这是为了让更多的读者能够在他们的笔记本电脑上遵循和执行代码示例\n",
    "    - 但是，请随时将context_length增加到1024个token（这不需要任何代码更改）\n",
    "    - 稍后，我们还将从预训练的权重中加载一个上下文长度为1024的模型\n",
    "- 接下来，我们使用上一章中的generate_text_simple函数来生成文本\n",
    "- 此外，我们定义了两个函数，text_to_token_ids和token_ids_to_text，用于在本章中使用的token和文本表示之间进行转换\n",
    "\n",
    "![Alt text](../../../img/LLM/ch04/GPT_process.png)"
   ],
   "metadata": {
    "collapsed": false
   },
   "id": "952550c810b51cb4"
  },
  {
   "cell_type": "code",
   "execution_count": 5,
   "outputs": [
    {
     "name": "stdout",
     "output_type": "stream",
     "text": [
      "Output text:\n",
      " Every effort moves you rentingetic wasnم refres RexMeCHicular stren\n"
     ]
    }
   ],
   "source": [
    "import tiktoken\n",
    "from ch04 import generate_text_simple\n",
    "\n",
    "def text_to_token_ids(text, tokenizer):\n",
    "    encoded = tokenizer.encode(text, allowed_special={'<|endoftext|>'})\n",
    "    encoded_tensor = torch.tensor(encoded).unsqueeze(0)\n",
    "    return encoded_tensor\n",
    "\n",
    "def token_ids_to_text(token_ids, tokenizer):\n",
    "    flat = token_ids.squeeze(0)\n",
    "    return tokenizer.decode(flat.tolist())\n",
    "\n",
    "start_context = \"Every effort moves you\"\n",
    "tokenizer = tiktoken.get_encoding(\"gpt2\")\n",
    "\n",
    "token_ids = generate_text_simple(\n",
    "    model=model,\n",
    "    idx=text_to_token_ids(start_context, tokenizer),\n",
    "    max_new_tokens=10,\n",
    "    context_size=GPT_CONFIG_124M[\"context_length\"]\n",
    ")\n",
    "\n",
    "print(\"Output text:\\n\", token_ids_to_text(token_ids, tokenizer))"
   ],
   "metadata": {
    "collapsed": false,
    "ExecuteTime": {
     "end_time": "2024-06-26T11:31:52.088187800Z",
     "start_time": "2024-06-26T11:31:49.238357900Z"
    }
   },
   "id": "47f424deae235090"
  },
  {
   "cell_type": "markdown",
   "source": [
    "- 正如我们在上面看到的，该模型不能生成好的文本，因为它还没有经过训练\n",
    "- 我们如何测量或捕捉数字形式的“好文本”，以在训练中跟踪它？\n",
    "- 下一小节介绍了用于计算生成输出的损失度量的度量，我们可以使用该度量来衡量训练进度\n",
    "- 关于微调LLM的下一章还将介绍测量模型质量的其他方法"
   ],
   "metadata": {
    "collapsed": false
   },
   "id": "9911553a36e173ae"
  },
  {
   "cell_type": "markdown",
   "source": [
    "## 1.2、计算文本生成损失：交叉熵与幻觉"
   ],
   "metadata": {
    "collapsed": false
   },
   "id": "b1521d7a1e04f299"
  },
  {
   "cell_type": "markdown",
   "source": [
    "- 假设我们有一个输入张量，其中包含2个训练示例（行）的token ID\n",
    "- 与输入相对应，目标包含我们希望模型生成的所需token ID\n",
    "- 请注意，目标是偏移1个位置的输入，如实现数据加载器时所述"
   ],
   "metadata": {
    "collapsed": false
   },
   "id": "613d2f1f6e94dc62"
  },
  {
   "cell_type": "code",
   "execution_count": 6,
   "outputs": [],
   "source": [
    "inputs = torch.tensor([[16833, 3626, 6100],   # [\"every effort moves\",\n",
    "                       [40,    1107, 588]])   #  \"I really like\"]\n",
    "\n",
    "targets = torch.tensor([[3626, 6100, 345  ],  # [\" effort moves you\",\n",
    "                        [1107,  588, 11311]]) #  \" really like chocolate\"]"
   ],
   "metadata": {
    "collapsed": false,
    "ExecuteTime": {
     "end_time": "2024-06-26T11:32:11.818437200Z",
     "start_time": "2024-06-26T11:32:11.746601Z"
    }
   },
   "id": "b597f6d4ed691bac"
  },
  {
   "cell_type": "markdown",
   "source": [
    "- 将输入提供给模型，我们获得2个输入示例的logits向量，每个示例由3个标记组成\n",
    "- 每个标记是对应于词汇表大小的50257维向量\n",
    "- 应用softmax函数，我们可以将logits张量转化为包含概率得分的同维张量"
   ],
   "metadata": {
    "collapsed": false
   },
   "id": "b4a4cc4e17da4081"
  },
  {
   "cell_type": "code",
   "execution_count": 7,
   "outputs": [
    {
     "name": "stdout",
     "output_type": "stream",
     "text": [
      "torch.Size([2, 3, 50257])\n"
     ]
    }
   ],
   "source": [
    "with torch.no_grad():\n",
    "    logits = model(inputs)\n",
    "    \n",
    "probas = torch.softmax(logits, dim=-1)\n",
    "print(probas.shape)"
   ],
   "metadata": {
    "collapsed": false,
    "ExecuteTime": {
     "end_time": "2024-06-26T11:32:26.992981Z",
     "start_time": "2024-06-26T11:32:26.876296600Z"
    }
   },
   "id": "bf25c5984eec03a"
  },
  {
   "cell_type": "markdown",
   "source": [
    "- 下图使用了一个非常小的词汇进行说明，概述了我们如何将概率分数转换回文本，我们在上一章结束时对此进行了讨论\n",
    "\n",
    "![Alt text](../../../img/LLM/ch04/loss_example.png)\n",
    "\n",
    "- 如前一章所述，我们可以应用argmax函数将概率得分转换为预测的token ID\n",
    "- 上面的softmax函数为每个token产生了50257维向量；argmax函数返回该向量中最高概率得分的位置，该位置是给定token的预测token ID\n",
    "- 由于我们有两个输入批次，每个批次有3个token，因此我们获得了2乘3的预测token ID："
   ],
   "metadata": {
    "collapsed": false
   },
   "id": "2d293532fde46933"
  },
  {
   "cell_type": "code",
   "execution_count": 8,
   "outputs": [
    {
     "name": "stdout",
     "output_type": "stream",
     "text": [
      "Token IDs:\n",
      " tensor([[[16657],\n",
      "         [  339],\n",
      "         [42826]],\n",
      "\n",
      "        [[49906],\n",
      "         [29669],\n",
      "         [41751]]])\n"
     ]
    }
   ],
   "source": [
    "token_ids = torch.argmax(probas, dim=-1, keepdim=True)\n",
    "print(\"Token IDs:\\n\", token_ids)"
   ],
   "metadata": {
    "collapsed": false,
    "ExecuteTime": {
     "end_time": "2024-06-26T11:33:04.996934900Z",
     "start_time": "2024-06-26T11:33:04.940087900Z"
    }
   },
   "id": "1c1e221ef773ea3d"
  },
  {
   "cell_type": "markdown",
   "source": [
    "- 如果我们解码这些token，我们会发现这些token与我们希望模型预测的token（即目标token）截然不同："
   ],
   "metadata": {
    "collapsed": false
   },
   "id": "ff015ac244a303cd"
  },
  {
   "cell_type": "code",
   "execution_count": 9,
   "outputs": [
    {
     "name": "stdout",
     "output_type": "stream",
     "text": [
      "Targets batch 1:  effort moves you\n",
      "Outputs batch 1:  Armed heNetflix\n"
     ]
    }
   ],
   "source": [
    "print(f\"Targets batch 1: {token_ids_to_text(targets[0], tokenizer)}\")\n",
    "print(f\"Outputs batch 1: {token_ids_to_text(token_ids[0].flatten(), tokenizer)}\")"
   ],
   "metadata": {
    "collapsed": false,
    "ExecuteTime": {
     "end_time": "2024-06-26T11:33:45.204400500Z",
     "start_time": "2024-06-26T11:33:45.143535Z"
    }
   },
   "id": "39004e8aca0db565"
  },
  {
   "cell_type": "markdown",
   "source": [
    "- 那是因为模型还没有经过训练\n",
    "- 为了训练模型，我们需要知道它离正确的预测（目标）有多远\n",
    "\n",
    "![Alt text](../../../img/LLM/ch04/decode_tokenid.png)\n",
    "\n",
    "- 与目标索引相对应的token概率如下："
   ],
   "metadata": {
    "collapsed": false
   },
   "id": "9867ca20adae63eb"
  },
  {
   "cell_type": "code",
   "execution_count": 13,
   "outputs": [
    {
     "name": "stdout",
     "output_type": "stream",
     "text": [
      "Text 1:tensor([7.4541e-05, 3.1061e-05, 1.1563e-05])\n",
      "Text 2:tensor([1.0337e-05, 5.6776e-05, 4.7559e-06])\n"
     ]
    }
   ],
   "source": [
    "text_idx = 0\n",
    "target_probas_1 = probas[text_idx, [0, 1, 2], targets[text_idx]]\n",
    "print(f\"Text 1:{target_probas_1}\")\n",
    "\n",
    "text_idx = 1\n",
    "target_probas_2 = probas[text_idx, [0, 1, 2], targets[text_idx]]\n",
    "print(f\"Text 2:{target_probas_2}\")"
   ],
   "metadata": {
    "collapsed": false,
    "ExecuteTime": {
     "end_time": "2024-06-26T11:35:20.602744700Z",
     "start_time": "2024-06-26T11:35:20.566841900Z"
    }
   },
   "id": "7b2ba435ed6d29c8"
  },
  {
   "cell_type": "markdown",
   "source": [
    "- 我们希望最大化所有这些值，使其接近1的概率\n",
    "- 在数学优化中，使概率得分的对数最大化比使概率得分本身最大化更容易"
   ],
   "metadata": {
    "collapsed": false
   },
   "id": "327f87eb6737ceb3"
  },
  {
   "cell_type": "code",
   "execution_count": 14,
   "outputs": [
    {
     "name": "stdout",
     "output_type": "stream",
     "text": [
      "tensor([ -9.5042, -10.3796, -11.3677, -11.4798,  -9.7764, -12.2561])\n"
     ]
    }
   ],
   "source": [
    "log_probas = torch.log(torch.cat((target_probas_1, target_probas_2)))\n",
    "print(log_probas)"
   ],
   "metadata": {
    "collapsed": false,
    "ExecuteTime": {
     "end_time": "2024-06-26T11:35:22.206540700Z",
     "start_time": "2024-06-26T11:35:22.182604600Z"
    }
   },
   "id": "27b80274a49a3387"
  },
  {
   "cell_type": "markdown",
   "source": [
    "- 接下来，我们计算平均对数概率"
   ],
   "metadata": {
    "collapsed": false
   },
   "id": "2846689b75255223"
  },
  {
   "cell_type": "code",
   "execution_count": 15,
   "outputs": [
    {
     "name": "stdout",
     "output_type": "stream",
     "text": [
      "tensor(-10.7940)\n"
     ]
    }
   ],
   "source": [
    "avg_log_probas = torch.mean(log_probas)\n",
    "print(avg_log_probas)"
   ],
   "metadata": {
    "collapsed": false,
    "ExecuteTime": {
     "end_time": "2024-06-26T11:35:23.525783600Z",
     "start_time": "2024-06-26T11:35:23.502818100Z"
    }
   },
   "id": "85c9e067d4622a89"
  },
  {
   "cell_type": "markdown",
   "source": [
    "- 目标是通过优化模型权重，使该平均对数概率尽可能大\n",
    "- 由于日志的原因，最大可能的值是0，而我们目前距离0很远\n",
    "- 在深度学习中，最小化负平均对数概率值是一种标准惯例，而不是最大化平均对数概率；在我们的例子中，在深度学习中，我们将最小化10.7722，使其接近0，而不是最大化-10.7722\n",
    "- -10.7722的负值，即10.7722，在深度学习中也称为交叉熵损失"
   ],
   "metadata": {
    "collapsed": false
   },
   "id": "df88a4389eccaf38"
  },
  {
   "cell_type": "code",
   "execution_count": 16,
   "outputs": [
    {
     "name": "stdout",
     "output_type": "stream",
     "text": [
      "tensor(10.7940)\n"
     ]
    }
   ],
   "source": [
    "neg_avg_log_probas = avg_log_probas * -1\n",
    "print(neg_avg_log_probas)"
   ],
   "metadata": {
    "collapsed": false,
    "ExecuteTime": {
     "end_time": "2024-06-26T11:35:25.428337500Z",
     "start_time": "2024-06-26T11:35:25.375478800Z"
    }
   },
   "id": "a7fa0adfc952141d"
  },
  {
   "cell_type": "markdown",
   "source": [
    "- PyTorch已经实现了一个执行前面步骤的cross_entropy函数\n",
    "\n",
    "![Alt text](../../../img/LLM/ch04/cross_entropy.png)\n",
    "\n",
    "- 在我们应用交叉熵函数之前，让我们检查logits和目标的形状"
   ],
   "metadata": {
    "collapsed": false
   },
   "id": "c73707f94d7d3cef"
  },
  {
   "cell_type": "code",
   "execution_count": 17,
   "outputs": [
    {
     "name": "stdout",
     "output_type": "stream",
     "text": [
      "Logits shape: torch.Size([2, 3, 50257])\n",
      "Targets shape: torch.Size([2, 3])\n"
     ]
    }
   ],
   "source": [
    "# Logits have shape (batch_size, num_tokens, vocab_size)\n",
    "print(\"Logits shape:\", logits.shape)\n",
    "\n",
    "# Targets have shape (batch_size, num_tokens)\n",
    "print(\"Targets shape:\", targets.shape)"
   ],
   "metadata": {
    "collapsed": false,
    "ExecuteTime": {
     "end_time": "2024-06-26T11:36:36.289556300Z",
     "start_time": "2024-06-26T11:36:36.211761600Z"
    }
   },
   "id": "183b86a64f7469f1"
  },
  {
   "cell_type": "markdown",
   "source": [
    "- 对于PyTorch中的cross-entropy_loss函数，我们希望通过在批次维度上组合这些张量来压平这些张量："
   ],
   "metadata": {
    "collapsed": false
   },
   "id": "18dda0f50f28f650"
  },
  {
   "cell_type": "code",
   "execution_count": 18,
   "outputs": [
    {
     "name": "stdout",
     "output_type": "stream",
     "text": [
      "Flatten logits:torch.Size([6, 50257])\n",
      "Flatten targets:torch.Size([6])\n"
     ]
    }
   ],
   "source": [
    "logits_flat = logits.flatten(0, 1)\n",
    "targets_flat = targets.flatten()\n",
    "\n",
    "print(f\"Flatten logits:{logits_flat.shape}\")\n",
    "print(f\"Flatten targets:{targets_flat.shape}\")"
   ],
   "metadata": {
    "collapsed": false,
    "ExecuteTime": {
     "end_time": "2024-06-26T11:36:44.000086400Z",
     "start_time": "2024-06-26T11:36:43.978117400Z"
    }
   },
   "id": "463b9e5233e15571"
  },
  {
   "cell_type": "markdown",
   "source": [
    "- 注意，目标是token ID，它也表示我们想要最大化的logits张量中的索引位置\n",
    "- PyTorch中的cross_entry函数将自动负责在内部将softmax和log概率计算应用于要最大化的logits中的那些token 索引"
   ],
   "metadata": {
    "collapsed": false
   },
   "id": "23f68caecd2bf3a5"
  },
  {
   "cell_type": "code",
   "execution_count": 19,
   "outputs": [
    {
     "name": "stdout",
     "output_type": "stream",
     "text": [
      "tensor(10.7940)\n"
     ]
    }
   ],
   "source": [
    "import torch.nn as nn\n",
    "import torch.nn.functional as F\n",
    "\n",
    "loss = F.cross_entropy(logits_flat, targets_flat)\n",
    "print(loss)"
   ],
   "metadata": {
    "collapsed": false,
    "ExecuteTime": {
     "end_time": "2024-06-26T11:36:56.937709900Z",
     "start_time": "2024-06-26T11:36:56.842265400Z"
    }
   },
   "id": "368e65884d4cfd31"
  },
  {
   "cell_type": "markdown",
   "source": [
    "- 一个与交叉熵损失有关的概念是LLM的困惑度\n",
    "- 困惑度只是交叉熵损失的指数"
   ],
   "metadata": {
    "collapsed": false
   },
   "id": "66c0021b28ccf234"
  },
  {
   "cell_type": "code",
   "execution_count": 20,
   "outputs": [
    {
     "name": "stdout",
     "output_type": "stream",
     "text": [
      "tensor(48725.8203)\n"
     ]
    }
   ],
   "source": [
    "perplexity = torch.exp(loss)\n",
    "print(perplexity)"
   ],
   "metadata": {
    "collapsed": false,
    "ExecuteTime": {
     "end_time": "2024-06-26T11:37:04.580565200Z",
     "start_time": "2024-06-26T11:37:04.525682300Z"
    }
   },
   "id": "8a1a71916eb4f317"
  },
  {
   "cell_type": "markdown",
   "source": [
    "- 这种困惑度通常被认为更容易解释，因为它可以被理解为模型在每一步都不确定的有效词汇大小（在上面的例子中，是47678个单词或标记）\n",
    "- 换句话说，困惑度提供了一种衡量模型预测的概率分布与数据集中单词的实际分布匹配程度的指标\n",
    "- 与损失类似，较低的困惑度表明模型预测更接近实际分布"
   ],
   "metadata": {
    "collapsed": false
   },
   "id": "d2c3fb10aad0c3d3"
  },
  {
   "cell_type": "markdown",
   "source": [
    "## 1.3、计算训练和验证集loss"
   ],
   "metadata": {
    "collapsed": false
   },
   "id": "89920c49ce6437b3"
  },
  {
   "cell_type": "markdown",
   "source": [
    "- 我们使用相对较小的数据集来训练LLM（事实上，只有一个小故事）\n",
    "- 原因是：\n",
    "    - 你可以在几分钟内在没有合适GPU的笔记本电脑上运行代码示例\n",
    "    - 培训完成得相对较快（几分钟而不是几周），这有利于教育目的\n",
    "    - 我们使用来自公共域的文本，该文本可以包含在此GitHub存储库中，而不会侵犯任何使用权限或扩大存储库大小\n",
    "- 例如，Llama 2 7B在A100 GPU上需要184320 GPU小时才能在2万亿token上进行训练\n",
    "\n",
    "- 在撰写本文时，AWS的8xA100云服务器的小时成本约为30美元\n",
    "- 因此，通过非常规计算，培训该LLM将花费184320/8*$30=690000美元\n",
    "- 下面，我们使用与第2章中使用的数据集相同的数据集"
   ],
   "metadata": {
    "collapsed": false
   },
   "id": "74b6dfae4c69ee80"
  },
  {
   "cell_type": "code",
   "execution_count": 29,
   "outputs": [],
   "source": [
    "import os\n",
    "import urllib.request\n",
    "\n",
    "file_path = \"the-verdict.txt\"\n",
    "url = \"https://raw.githubusercontent.com/rasbt/LLMs-from-scratch/main/ch02/01_main-chapter-code/the-verdict.txt\"\n",
    "\n",
    "if not os.path.exists(file_path):\n",
    "    with urllib.request.urlopen(url) as response:\n",
    "        text_data = response.read().decode('utf-8')\n",
    "    with open(file_path, \"w\", encoding=\"utf-8\") as file:\n",
    "        file.write(text_data)\n",
    "else:\n",
    "    with open(file_path, \"r\", encoding=\"utf-8\") as file:\n",
    "        text_data = file.read()"
   ],
   "metadata": {
    "collapsed": false,
    "ExecuteTime": {
     "end_time": "2024-06-26T11:44:14.148345500Z",
     "start_time": "2024-06-26T11:44:14.102439100Z"
    }
   },
   "id": "3a1db8a5855cc122"
  },
  {
   "cell_type": "markdown",
   "source": [
    "- 通过打印前100个单词和后100个单词快速检查加载的文本是否正常"
   ],
   "metadata": {
    "collapsed": false
   },
   "id": "e11dc59629eb5754"
  },
  {
   "cell_type": "code",
   "execution_count": 22,
   "outputs": [
    {
     "name": "stdout",
     "output_type": "stream",
     "text": [
      "I HAD always thought Jack Gisburn rather a cheap genius--though a good fellow enough--so it was no \n"
     ]
    }
   ],
   "source": [
    "print(text_data[:99])"
   ],
   "metadata": {
    "collapsed": false,
    "ExecuteTime": {
     "end_time": "2024-06-26T11:37:39.672513400Z",
     "start_time": "2024-06-26T11:37:39.647580600Z"
    }
   },
   "id": "ad535893f5b237ea"
  },
  {
   "cell_type": "code",
   "execution_count": 23,
   "outputs": [
    {
     "name": "stdout",
     "output_type": "stream",
     "text": [
      "it for me! The Strouds stand alone, and happen once--but there's no exterminating our kind of art.\"\n"
     ]
    }
   ],
   "source": [
    "print(text_data[-99:])"
   ],
   "metadata": {
    "collapsed": false,
    "ExecuteTime": {
     "end_time": "2024-06-26T11:37:40.782755200Z",
     "start_time": "2024-06-26T11:37:40.744857700Z"
    }
   },
   "id": "8ecde412b3c60de4"
  },
  {
   "cell_type": "code",
   "execution_count": 30,
   "outputs": [
    {
     "name": "stdout",
     "output_type": "stream",
     "text": [
      "Characters:20479\n",
      "Tokens:5145\n"
     ]
    }
   ],
   "source": [
    "total_characters = len(text_data)\n",
    "total_tokens = len(tokenizer.encode(text_data))\n",
    "\n",
    "print(f\"Characters:{total_characters}\")\n",
    "print(f\"Tokens:{total_tokens}\")"
   ],
   "metadata": {
    "collapsed": false,
    "ExecuteTime": {
     "end_time": "2024-06-26T11:44:16.935014700Z",
     "start_time": "2024-06-26T11:44:16.907089800Z"
    }
   },
   "id": "4a83625f6a77d953"
  },
  {
   "cell_type": "markdown",
   "source": [
    "- 对于5145个token，文本对于训练LLM来说非常短，但同样，它是出于教育目的（我们稍后也将加载预训练的权重）\n",
    "- 接下来，我们将数据集划分为训练集和验证集，并使用第2章中的数据加载器为LLM训练准备批次\n",
    "- 出于可视化目的，下图假设max_length=6，但对于训练加载程序，我们将max_lengh设置为LLM支持的上下文长度\n",
    "- 为了简单起见，下图仅显示了输入token\n",
    "- 由于我们训练LLM来预测文本中的下一个单词，因此目标看起来与这些输入相同，只是目标移动了一个位置\n",
    "\n",
    "![Alt text](../../../img/LLM/ch04/text_train_and_predict.png)"
   ],
   "metadata": {
    "collapsed": false
   },
   "id": "cd3662dcb112e53a"
  },
  {
   "cell_type": "code",
   "execution_count": 31,
   "outputs": [],
   "source": [
    "from ch04 import create_dataloader_v1\n",
    "\n",
    "train_ratio = 0.9\n",
    "split_idx = int(train_ratio * len(text_data))\n",
    "train_data = text_data[:split_idx]\n",
    "val_data = text_data[split_idx:]\n",
    "\n",
    "torch.manual_seed(123)\n",
    "\n",
    "train_loader = create_dataloader_v1(\n",
    "    train_data,\n",
    "    batch_size=2,\n",
    "    max_length=GPT_CONFIG_124M['context_length'],\n",
    "    stride=GPT_CONFIG_124M['context_length'],\n",
    "    drop_last=True,\n",
    "    shuffle=True,\n",
    "    num_workers=0\n",
    ")\n",
    "\n",
    "val_loader = create_dataloader_v1(\n",
    "    val_data,\n",
    "    batch_size=2,\n",
    "    max_length=GPT_CONFIG_124M['context_length'],\n",
    "    stride=GPT_CONFIG_124M['context_length'],\n",
    "    drop_last=False,\n",
    "    shuffle=False,\n",
    "    num_workers=0\n",
    ")"
   ],
   "metadata": {
    "collapsed": false,
    "ExecuteTime": {
     "end_time": "2024-06-26T11:44:21.662838Z",
     "start_time": "2024-06-26T11:44:21.602968100Z"
    }
   },
   "id": "5dd8b9656f55249b"
  },
  {
   "cell_type": "code",
   "execution_count": 32,
   "outputs": [],
   "source": [
    "if total_tokens * (train_ratio) < GPT_CONFIG_124M['context_length']:\n",
    "    print(\"Not enough tokens for the training loader. \"\n",
    "          \"Try to lower the `GPT_CONFIG_124M['context_length']` or \"\n",
    "          \"increase the `training_ratio`\")\n",
    "\n",
    "if total_tokens * (1-train_ratio) < GPT_CONFIG_124M[\"context_length\"]:\n",
    "    print(\"Not enough tokens for the validation loader. \"\n",
    "          \"Try to lower the `GPT_CONFIG_124M['context_length']` or \"\n",
    "          \"decrease the `training_ratio`\")"
   ],
   "metadata": {
    "collapsed": false,
    "ExecuteTime": {
     "end_time": "2024-06-26T11:44:22.618226Z",
     "start_time": "2024-06-26T11:44:22.593260800Z"
    }
   },
   "id": "2dc0ec63aa66d329"
  },
  {
   "cell_type": "markdown",
   "source": [
    "- 我们使用相对较小的批量来减少计算资源需求，而且因为数据集一开始就很小\n",
    "- 例如，用1024的批量大小训练Llama 2 7B"
   ],
   "metadata": {
    "collapsed": false
   },
   "id": "7acd887020d42215"
  },
  {
   "cell_type": "code",
   "execution_count": 33,
   "outputs": [
    {
     "name": "stdout",
     "output_type": "stream",
     "text": [
      "Train loader:\n",
      "torch.Size([2, 256]) torch.Size([2, 256])\n",
      "torch.Size([2, 256]) torch.Size([2, 256])\n",
      "torch.Size([2, 256]) torch.Size([2, 256])\n",
      "torch.Size([2, 256]) torch.Size([2, 256])\n",
      "torch.Size([2, 256]) torch.Size([2, 256])\n",
      "torch.Size([2, 256]) torch.Size([2, 256])\n",
      "torch.Size([2, 256]) torch.Size([2, 256])\n",
      "torch.Size([2, 256]) torch.Size([2, 256])\n",
      "torch.Size([2, 256]) torch.Size([2, 256])\n",
      "\n",
      "Validation loader\n",
      "torch.Size([2, 256]) torch.Size([2, 256])\n"
     ]
    }
   ],
   "source": [
    "print(\"Train loader:\")\n",
    "for x, y in train_loader:\n",
    "    print(x.shape, y.shape)\n",
    "    \n",
    "print(\"\\nValidation loader\")\n",
    "for x, y in val_loader:\n",
    "    print(x.shape, y.shape)"
   ],
   "metadata": {
    "collapsed": false,
    "ExecuteTime": {
     "end_time": "2024-06-26T11:44:24.194333900Z",
     "start_time": "2024-06-26T11:44:24.165413600Z"
    }
   },
   "id": "9d5ceb1561afe0d"
  },
  {
   "cell_type": "markdown",
   "source": [
    "- 另一项可选检查，以确保token大小在预期的大致范围内："
   ],
   "metadata": {
    "collapsed": false
   },
   "id": "f5d8f2fdf74da56a"
  },
  {
   "cell_type": "code",
   "execution_count": 34,
   "outputs": [
    {
     "name": "stdout",
     "output_type": "stream",
     "text": [
      "Training tokens:4608\n",
      "Validation tokens:512\n",
      "All tokens:5120\n"
     ]
    }
   ],
   "source": [
    "train_tokens = 0\n",
    "for input_batch, target_batch in train_loader:\n",
    "    train_tokens += input_batch.numel()\n",
    "    \n",
    "val_tokens = 0\n",
    "for input_batch, target_batch in val_loader:\n",
    "    val_tokens += input_batch.numel()\n",
    "    \n",
    "print(f\"Training tokens:{train_tokens}\")\n",
    "print(f\"Validation tokens:{val_tokens}\")\n",
    "print(f\"All tokens:{train_tokens + val_tokens}\")"
   ],
   "metadata": {
    "collapsed": false,
    "ExecuteTime": {
     "end_time": "2024-06-26T11:44:27.132127800Z",
     "start_time": "2024-06-26T11:44:27.107195200Z"
    }
   },
   "id": "80abebc9e6c87157"
  },
  {
   "cell_type": "markdown",
   "source": [
    "- 接下来，我们实现一个函数来计算给定批次的交叉熵损失\n",
    "- 此外，我们实现了第二个实用程序函数来计算数据加载程序中用户指定数量的批次的损失"
   ],
   "metadata": {
    "collapsed": false
   },
   "id": "1f57ef5e6b83ac63"
  },
  {
   "cell_type": "code",
   "execution_count": 35,
   "outputs": [],
   "source": [
    "def calc_loss_batch(input_batch, target_batch, model, device):\n",
    "    input_batch, target_batch = input_batch.to(device), target_batch.to(device)\n",
    "    logits = model(input_batch)\n",
    "    loss = F.cross_entropy(logits.flatten(0, 1), target_batch.flatten())\n",
    "    return loss\n",
    "\n",
    "def calc_loss_loader(data_loader, model, device, num_batches=None):\n",
    "    total_loss = 0.\n",
    "    if len(data_loader) == 0:\n",
    "        return float('nan')\n",
    "    elif num_batches is None:\n",
    "        num_batches = len(data_loader)\n",
    "    else:\n",
    "        num_batches = min(num_batches, len(data_loader))\n",
    "    for i, (input_batch, target_batch) in enumerate(data_loader):\n",
    "        if i < num_batches:\n",
    "            loss = calc_loss_batch(input_batch, target_batch, model, device)\n",
    "            total_loss += loss.item()\n",
    "        else:\n",
    "            break\n",
    "    return total_loss / num_batches"
   ],
   "metadata": {
    "collapsed": false,
    "ExecuteTime": {
     "end_time": "2024-06-26T11:45:12.917654500Z",
     "start_time": "2024-06-26T11:45:12.862801400Z"
    }
   },
   "id": "e16645dbde757f2b"
  },
  {
   "cell_type": "markdown",
   "source": [
    "- 如果您的机器具有支持CUDA的GPU，LLM将在GPU上进行训练，而不会对代码进行任何更改\n",
    "- 通过设备设置，我们确保数据加载到与LLM模型相同的设备上"
   ],
   "metadata": {
    "collapsed": false
   },
   "id": "602a4178c64c6686"
  },
  {
   "cell_type": "code",
   "execution_count": 36,
   "outputs": [
    {
     "name": "stdout",
     "output_type": "stream",
     "text": [
      "Training loss: 10.98758347829183\n",
      "Validation loss: 10.98110580444336\n"
     ]
    }
   ],
   "source": [
    "device = torch.device('cuda' if torch.cuda.is_available() else 'cpu')\n",
    "model.to(device)\n",
    "\n",
    "torch.manual_seed(123)\n",
    "\n",
    "with torch.no_grad():\n",
    "    train_loss = calc_loss_loader(train_loader, model, device)\n",
    "    val_loss = calc_loss_loader(val_loader, model, device)\n",
    "    \n",
    "print(\"Training loss:\", train_loss)\n",
    "print(\"Validation loss:\", val_loss)"
   ],
   "metadata": {
    "collapsed": false,
    "ExecuteTime": {
     "end_time": "2024-06-26T11:45:45.398970900Z",
     "start_time": "2024-06-26T11:45:31.826063100Z"
    }
   },
   "id": "546c447846e17594"
  },
  {
   "cell_type": "markdown",
   "source": [
    "![Alt text](../../../img/LLM/ch04/3steps_of_LLM_training.png)"
   ],
   "metadata": {
    "collapsed": false
   },
   "id": "b5e9122a3755189"
  },
  {
   "cell_type": "markdown",
   "source": [
    "# 2 LLM训练"
   ],
   "metadata": {
    "collapsed": false
   },
   "id": "3220c12009884fed"
  },
  {
   "cell_type": "markdown",
   "source": [
    "- 在本节中，我们最终实现了用于训练LLM的代码\n",
    "- 我们专注于一个简单的训练函数（如果您有兴趣用更先进的技术来增强这个训练函数，如学习率预热、余弦退火和梯度裁剪，请参阅附录D）\n",
    "\n",
    "![Alt text](../../../img/LLM/ch04/train_process.png)"
   ],
   "metadata": {
    "collapsed": false
   },
   "id": "fe7d959cd63a858c"
  },
  {
   "cell_type": "code",
   "execution_count": 37,
   "outputs": [],
   "source": [
    "from tqdm import tqdm\n",
    "\n",
    "def train_model_simple(model, train_loader, val_loader, optimizer, device, num_epochs,\n",
    "                       eval_freq, eval_iter, start_context, tokenizer):\n",
    "    train_losses, val_losses, track_tokens_seen = [], [], []\n",
    "    tokens_seen, global_step = 0, -1\n",
    "    \n",
    "    for epoch in tqdm(range(num_epochs)):\n",
    "        model.train()\n",
    "        \n",
    "        for input_batch, target_batch in train_loader:\n",
    "            optimizer.zero_grad()\n",
    "            loss = calc_loss_batch(input_batch, target_batch, model, device)\n",
    "            loss.backward()\n",
    "            optimizer.step()\n",
    "            tokens_seen += input_batch.numel()\n",
    "            global_step += 1\n",
    "            \n",
    "            if global_step % eval_freq == 0:\n",
    "                train_loss, val_loss = evaluate_model(\n",
    "                    model, train_loader, val_loader, device, eval_iter\n",
    "                )\n",
    "                train_losses.append(train_loss)\n",
    "                val_losses.append(val_loss)\n",
    "                track_tokens_seen.append(tokens_seen)\n",
    "                print(f\"Epoch:{epoch+1} (Step {global_step:06d}):\"\n",
    "                      f\"Train Loss {train_loss:.3f}, Val Loss {val_loss:.3f}\")\n",
    "                \n",
    "        generate_and_print_sample(\n",
    "            model, tokenizer, device, start_context\n",
    "        )\n",
    "    return train_losses, val_losses, track_tokens_seen\n",
    "\n",
    "\n",
    "def evaluate_model(model, train_loader, val_loader, device, eval_iter):\n",
    "    model.eval()\n",
    "    with torch.no_grad():\n",
    "        train_loss = calc_loss_loader(train_loader, model, device, num_batches=eval_iter)\n",
    "        val_loss = calc_loss_loader(val_loader, model, device, num_batches=eval_iter)\n",
    "    model.train()\n",
    "    return train_loss, val_loss\n",
    "\n",
    "\n",
    "def generate_and_print_sample(model, tokenizer, device, start_context):\n",
    "    model.eval()\n",
    "    context_size = model.pos_emb.weight.shape[0]\n",
    "    encoded = text_to_token_ids(start_context, tokenizer).to(device)\n",
    "    with torch.no_grad():\n",
    "        token_ids = generate_text_simple(\n",
    "            model=model, idx=encoded,\n",
    "            max_new_tokens=50, context_size=context_size\n",
    "        )\n",
    "        decoded_text = token_ids_to_text(token_ids, tokenizer)\n",
    "        print(decoded_text.replace(\"\\n\", \" \"))\n",
    "    model.train"
   ],
   "metadata": {
    "collapsed": false,
    "ExecuteTime": {
     "end_time": "2024-06-26T11:47:16.635401800Z",
     "start_time": "2024-06-26T11:47:16.552594900Z"
    }
   },
   "id": "6a652c53e1baecca"
  },
  {
   "cell_type": "markdown",
   "source": [
    "- 现在，让我们使用上面定义的训练函数来训练LLM："
   ],
   "metadata": {
    "collapsed": false
   },
   "id": "da3d2925d5cf0ad4"
  },
  {
   "cell_type": "code",
   "execution_count": 38,
   "outputs": [
    {
     "name": "stdout",
     "output_type": "stream",
     "text": [
      "cpu\n"
     ]
    }
   ],
   "source": [
    "device = 'cuda' if torch.cuda.is_available() else 'cpu'\n",
    "print(device)"
   ],
   "metadata": {
    "collapsed": false,
    "ExecuteTime": {
     "end_time": "2024-06-26T11:47:19.520062700Z",
     "start_time": "2024-06-26T11:47:19.484130600Z"
    }
   },
   "id": "6448064e16568a4f"
  },
  {
   "cell_type": "code",
   "execution_count": 39,
   "outputs": [
    {
     "name": "stderr",
     "output_type": "stream",
     "text": [
      "  0%|                                                                                | 0/10 [00:00<?, ?it/s]"
     ]
    },
    {
     "name": "stdout",
     "output_type": "stream",
     "text": [
      "Epoch:1 (Step 000000):Train Loss 9.783, Val Loss 9.927\n",
      "Epoch:1 (Step 000005):Train Loss 7.985, Val Loss 8.335\n"
     ]
    },
    {
     "name": "stderr",
     "output_type": "stream",
     "text": [
      " 10%|███████▏                                                                | 1/10 [01:26<12:54, 86.04s/it]"
     ]
    },
    {
     "name": "stdout",
     "output_type": "stream",
     "text": [
      "Every effort moves you,,,,,,,,,,,,.                                     \n",
      "Epoch:2 (Step 000010):Train Loss 6.753, Val Loss 7.048\n",
      "Epoch:2 (Step 000015):Train Loss 6.114, Val Loss 6.573\n"
     ]
    },
    {
     "name": "stderr",
     "output_type": "stream",
     "text": [
      " 20%|██████████████▍                                                         | 2/10 [02:27<09:32, 71.54s/it]"
     ]
    },
    {
     "name": "stdout",
     "output_type": "stream",
     "text": [
      "Every effort moves you, and,, and, and,,,,, and, and,,,,,,,,,,,,,, and,,,, and,, and,,,,, and,,,,,,\n",
      "Epoch:3 (Step 000020):Train Loss 5.525, Val Loss 6.490\n",
      "Epoch:3 (Step 000025):Train Loss 5.324, Val Loss 6.387\n"
     ]
    },
    {
     "name": "stderr",
     "output_type": "stream",
     "text": [
      " 30%|█████████████████████▌                                                  | 3/10 [03:28<07:46, 66.62s/it]"
     ]
    },
    {
     "name": "stdout",
     "output_type": "stream",
     "text": [
      "Every effort moves you, and to the picture.                      \"I, and the of the of the's the honour, and, and I had been, and I\n",
      "Epoch:4 (Step 000030):Train Loss 4.761, Val Loss 6.360\n",
      "Epoch:4 (Step 000035):Train Loss 4.461, Val Loss 6.258\n"
     ]
    },
    {
     "name": "stderr",
     "output_type": "stream",
     "text": [
      " 40%|████████████████████████████▊                                           | 4/10 [04:30<06:29, 64.88s/it]"
     ]
    },
    {
     "name": "stdout",
     "output_type": "stream",
     "text": [
      "Every effort moves you of the to the picture--as of the picture--as I had been \" it was his \" I was the     \"I was his I had been the his pictures--and it the picture and I had been the picture of\n",
      "Epoch:5 (Step 000040):Train Loss 3.833, Val Loss 6.196\n"
     ]
    },
    {
     "name": "stderr",
     "output_type": "stream",
     "text": [
      " 50%|████████████████████████████████████                                    | 5/10 [05:22<05:01, 60.26s/it]"
     ]
    },
    {
     "name": "stdout",
     "output_type": "stream",
     "text": [
      "Every effort moves you know the \"Oh, and he was not the fact by his last word.         \"I was.      \"Oh, I felt a little a little the    \n",
      "Epoch:6 (Step 000045):Train Loss 3.352, Val Loss 6.139\n",
      "Epoch:6 (Step 000050):Train Loss 2.861, Val Loss 6.112\n"
     ]
    },
    {
     "name": "stderr",
     "output_type": "stream",
     "text": [
      " 60%|███████████████████████████████████████████▏                            | 6/10 [06:21<03:59, 59.94s/it]"
     ]
    },
    {
     "name": "stdout",
     "output_type": "stream",
     "text": [
      "Every effort moves you know; and my dear, and he was not the fact with a little of the house of the fact of the fact, and.                       \n",
      "Epoch:7 (Step 000055):Train Loss 2.347, Val Loss 6.138\n",
      "Epoch:7 (Step 000060):Train Loss 2.084, Val Loss 6.179\n"
     ]
    },
    {
     "name": "stderr",
     "output_type": "stream",
     "text": [
      " 70%|██████████████████████████████████████████████████▍                     | 7/10 [07:26<03:04, 61.53s/it]"
     ]
    },
    {
     "name": "stdout",
     "output_type": "stream",
     "text": [
      "Every effort moves you know,\" was one of the picture for nothing--I told Mrs.  \"I looked--as of the fact, and I felt him--his back his head to the donkey. \"Oh, and_--because he had always _\n",
      "Epoch:8 (Step 000065):Train Loss 1.521, Val Loss 6.176\n",
      "Epoch:8 (Step 000070):Train Loss 1.272, Val Loss 6.178\n"
     ]
    },
    {
     "name": "stderr",
     "output_type": "stream",
     "text": [
      " 80%|█████████████████████████████████████████████████████████▌              | 8/10 [08:29<02:04, 62.10s/it]"
     ]
    },
    {
     "name": "stdout",
     "output_type": "stream",
     "text": [
      "Every effort moves you?\" \"I didn't bear the picture--I told me.  \"I looked up, and went on groping and Mrs. I was back the head to look up at the honour being _mine_--because he was when I\n",
      "Epoch:9 (Step 000075):Train Loss 1.000, Val Loss 6.277\n",
      "Epoch:9 (Step 000080):Train Loss 0.718, Val Loss 6.281\n"
     ]
    },
    {
     "name": "stderr",
     "output_type": "stream",
     "text": [
      " 90%|████████████████████████████████████████████████████████████████▊       | 9/10 [09:27<01:00, 60.72s/it]"
     ]
    },
    {
     "name": "stdout",
     "output_type": "stream",
     "text": [
      "Every effort moves you?\"  \"Yes--quite insensible to the irony. She wanted him vindicated--and by me!\"  He laughed again, and threw back his head to look up at the sketch of the donkey. \"There were days when I\n",
      "Epoch:10 (Step 000085):Train Loss 0.506, Val Loss 6.325\n"
     ]
    },
    {
     "name": "stderr",
     "output_type": "stream",
     "text": [
      "100%|███████████████████████████████████████████████████████████████████████| 10/10 [10:25<00:00, 62.55s/it]"
     ]
    },
    {
     "name": "stdout",
     "output_type": "stream",
     "text": [
      "Every effort moves you?\"  \"Yes--quite insensible to the irony. She wanted him vindicated--and by me!\"  He laughed again, and threw back his head to the donkey again. I saw that, and down the room, when I\n"
     ]
    },
    {
     "name": "stderr",
     "output_type": "stream",
     "text": [
      "\n"
     ]
    }
   ],
   "source": [
    "torch.manual_seed(123)\n",
    "model = GPTModel(GPT_CONFIG_124M)\n",
    "model.to(device)\n",
    "optimizer = torch.optim.AdamW(model.parameters(), lr=4e-4, weight_decay=0.1)\n",
    "\n",
    "num_epochs = 10\n",
    "train_losses, val_losses, tokens_seen = train_model_simple(\n",
    "    model, train_loader, val_loader, optimizer, device,\n",
    "    num_epochs=num_epochs, eval_freq=5, eval_iter=5,\n",
    "    start_context=\"Every effort moves you\", tokenizer=tokenizer\n",
    ")"
   ],
   "metadata": {
    "collapsed": false,
    "ExecuteTime": {
     "end_time": "2024-06-26T11:57:54.879465900Z",
     "start_time": "2024-06-26T11:47:21.652214300Z"
    }
   },
   "id": "c3ae2a46444b33b6"
  },
  {
   "cell_type": "code",
   "execution_count": 40,
   "outputs": [
    {
     "data": {
      "text/plain": "<Figure size 500x300 with 2 Axes>",
      "image/png": "[encoded data removed]"
     },
     "metadata": {},
     "output_type": "display_data"
    }
   ],
   "source": [
    "import matplotlib.pyplot as plt\n",
    "\n",
    "def plot_losses(epochs_seen, tokens_seen, train_losses, val_losses):\n",
    "    fig, ax1 = plt.subplots(figsize=(5, 3))\n",
    "    \n",
    "    ax1.plot(epochs_seen, train_losses, label='Training Loss')\n",
    "    ax1.plot(epochs_seen, val_losses, linestyle='-.', label='Validation Loss')\n",
    "    ax1.set_xlabel('Epochs')\n",
    "    ax1.set_ylabel('Loss')\n",
    "    ax1.legend(loc='upper right')\n",
    "    \n",
    "    ax2 = ax1.twiny()\n",
    "    ax2.plot(tokens_seen, train_losses, alpha=0)\n",
    "    ax2.set_xlabel('Tokens seen')\n",
    "    \n",
    "    fig.tight_layout()\n",
    "    plt.show()\n",
    "    \n",
    "epochs_tensor = torch.linspace(0, num_epochs, len(train_losses))\n",
    "plot_losses(epochs_tensor, tokens_seen, train_losses, val_losses)"
   ],
   "metadata": {
    "collapsed": false,
    "ExecuteTime": {
     "end_time": "2024-06-26T12:00:16.332521Z",
     "start_time": "2024-06-26T12:00:15.238299Z"
    }
   },
   "id": "ae198b7042df242b"
  },
  {
   "cell_type": "markdown",
   "source": [
    "- 看看上面的结果，我们可以看到，该模型一开始会生成不可理解的字符串，而到最后，它能够生成语法上或多或少正确的句子\n",
    "- 然而，基于训练和验证集的损失，我们可以看到模型开始过拟合\n",
    "- 如果我们检查它最后写的几段话，我们会发现它们逐字逐句地包含在训练集中——它只是记住了训练数据\n",
    "- 稍后，我们将介绍可以在一定程度上减轻这种记忆的解码策略\n",
    "- 注意，这里出现过拟合是因为我们有一个非常非常小的训练集，并且我们对它迭代了很多次\n",
    "    - 这里的LLM培训主要用于教育目的；我们主要希望看到模型能够学习生成连贯的文本\n",
    "    - 我们没有花费数周或数月的时间在大量昂贵的硬件上训练这个模型，而是稍后加载预训练的权重\n",
    "\n",
    "![Alt text](../../../img/LLM/ch04/train_function_of_LLM.png)\n",
    "\n",
    "- 如果您有兴趣使用更先进的技术来增强此训练函数，如学习率预热、余弦退火和梯度裁剪，请参阅附录D\n",
    "\n",
    "- 如果您对更大的训练数据集和更长的训练跑感兴趣，请参阅/03_bonus_preataining_on_gutenberg"
   ],
   "metadata": {
    "collapsed": false
   },
   "id": "8443d8ca5e456f72"
  },
  {
   "cell_type": "markdown",
   "source": [
    "# 3 控制随机性的解码策略"
   ],
   "metadata": {
    "collapsed": false
   },
   "id": "55cfb4a930bf9761"
  },
  {
   "cell_type": "markdown",
   "source": [
    "- 推理相对便宜，LLM相对较小，作为我们上面训练的GPT模型，因此没有必要使用GPU来进行推理，以防您使用GPU来训练它\n",
    "- 使用我们前面在简单训练函数中使用的generate_text_simple函数（来自上一章），我们可以一次生成一个单词（或标记）的新文本\n",
    "- 下一个生成的token对应于词汇表中所有token中最大概率得分的token"
   ],
   "metadata": {
    "collapsed": false
   },
   "id": "310b7e32eb3f5f13"
  },
  {
   "cell_type": "code",
   "execution_count": 41,
   "outputs": [
    {
     "name": "stdout",
     "output_type": "stream",
     "text": [
      "Output text:\n",
      " Every effort moves you?\"\n",
      "\n",
      "\"Yes--quite insensible to the irony. She wanted him vindicated--and by me!\"\n"
     ]
    }
   ],
   "source": [
    "model.to('cpu')\n",
    "model.eval()\n",
    "\n",
    "tokenizer = tiktoken.get_encoding('gpt2')\n",
    "\n",
    "token_ids = generate_text_simple(\n",
    "    model=model,\n",
    "    idx=text_to_token_ids(\"Every effort moves you\", tokenizer),\n",
    "    max_new_tokens=25,\n",
    "    context_size=GPT_CONFIG_124M['context_length']\n",
    ")\n",
    "\n",
    "print(\"Output text:\\n\", token_ids_to_text(token_ids, tokenizer))"
   ],
   "metadata": {
    "collapsed": false,
    "ExecuteTime": {
     "end_time": "2024-06-26T12:00:26.120680300Z",
     "start_time": "2024-06-26T12:00:23.291508300Z"
    }
   },
   "id": "82efcc617d48a972"
  },
  {
   "cell_type": "markdown",
   "source": [
    "- 即使我们多次执行上面的generate_text_simple函数，LLM也将始终生成相同的输出\n",
    "- 现在，我们引入两个概念，即所谓的decode策略，来修改generate_text_simple：temperature缩放和top-k采样\n",
    "- 这些将允许模型控制生成文本的随机性和多样性"
   ],
   "metadata": {
    "collapsed": false
   },
   "id": "d0e599648246397a"
  },
  {
   "cell_type": "markdown",
   "source": [
    "## 3.1 temperature缩放"
   ],
   "metadata": {
    "collapsed": false
   },
   "id": "913ab08cf2d16cde"
  },
  {
   "cell_type": "markdown",
   "source": [
    "- 以前，我们总是使用torch.argmax对具有最高概率的token进行采样，作为下一个token\n",
    "- 为了增加多样性，我们可以使用torch.multinomial(probs，num_samples=1)对下一个token进行采样，从概率分布中采样\n",
    "- 这里，每个索引被选中的几率对应于其在输入张量中的概率\n",
    "- 以下是生成下一个token的简要回顾，假设用于说明的词汇非常少："
   ],
   "metadata": {
    "collapsed": false
   },
   "id": "8e0cd0e062761895"
  },
  {
   "cell_type": "code",
   "execution_count": 42,
   "outputs": [
    {
     "name": "stdout",
     "output_type": "stream",
     "text": [
      "forward\n"
     ]
    }
   ],
   "source": [
    "vocab = { \n",
    "    \"closer\": 0,\n",
    "    \"every\": 1, \n",
    "    \"effort\": 2, \n",
    "    \"forward\": 3,\n",
    "    \"inches\": 4,\n",
    "    \"moves\": 5, \n",
    "    \"pizza\": 6,\n",
    "    \"toward\": 7,\n",
    "    \"you\": 8,\n",
    "} \n",
    "\n",
    "inverse_vocab = {v: k for k, v in vocab.items()}\n",
    "\n",
    "# Suppose input is \"every effort moves you\", and the LLM\n",
    "# returns the following logits for the next token:\n",
    "next_token_logits = torch.tensor(\n",
    "    [4.51, 0.89, -1.90, 6.75, 1.63, -1.62, -1.89, 6.28, 1.79]\n",
    ")\n",
    "\n",
    "probas = torch.softmax(next_token_logits, dim=0)\n",
    "next_token_id = torch.argmax(probas).item()\n",
    "\n",
    "print(inverse_vocab[next_token_id])"
   ],
   "metadata": {
    "collapsed": false,
    "ExecuteTime": {
     "end_time": "2024-06-26T12:00:32.882556600Z",
     "start_time": "2024-06-26T12:00:32.856945100Z"
    }
   },
   "id": "92409f5aad9605bf"
  },
  {
   "cell_type": "code",
   "execution_count": 43,
   "outputs": [
    {
     "name": "stdout",
     "output_type": "stream",
     "text": [
      "toward\n"
     ]
    }
   ],
   "source": [
    "torch.manual_seed(123)\n",
    "next_token_id = torch.multinomial(probas, num_samples=1).item()\n",
    "\n",
    "print(inverse_vocab[next_token_id])"
   ],
   "metadata": {
    "collapsed": false,
    "ExecuteTime": {
     "end_time": "2024-06-26T12:00:34.627813400Z",
     "start_time": "2024-06-26T12:00:34.536028300Z"
    }
   },
   "id": "5abd24696d258d20"
  },
  {
   "cell_type": "code",
   "execution_count": 44,
   "outputs": [
    {
     "name": "stdout",
     "output_type": "stream",
     "text": [
      "71 x closer\n",
      "2 x every\n",
      "0 x effort\n",
      "544 x forward\n",
      "2 x inches\n",
      "1 x moves\n",
      "0 x pizza\n",
      "376 x toward\n",
      "4 x you\n"
     ]
    }
   ],
   "source": [
    "def print_sampled_tokens(probas):\n",
    "    torch.manual_seed(123)\n",
    "    sample = [torch.multinomial(probas, num_samples=1).item() for i in range(1000)]\n",
    "    sampled_ids = torch.bincount(torch.tensor(sample))\n",
    "    for i, freq in enumerate(sampled_ids):\n",
    "        print(f\"{freq} x {inverse_vocab[i]}\")\n",
    "\n",
    "print_sampled_tokens(probas)"
   ],
   "metadata": {
    "collapsed": false,
    "ExecuteTime": {
     "end_time": "2024-06-26T12:00:38.782292400Z",
     "start_time": "2024-06-26T12:00:38.690975800Z"
    }
   },
   "id": "8f6a5b492a62110a"
  },
  {
   "cell_type": "markdown",
   "source": [
    "- 我们不是通过torch.argmax来确定最可能的token，而是使用torch.multinomial(probas，num_samples=1)通过从softmax分布中采样来确定最有可能的token\n",
    "- 为了便于说明，让我们看看当我们使用原始softmax概率对下一个token采样1000次时会发生什么：\n",
    "- 我们可以通过一个称为 temperature缩放 的概念来控制分布和选择过程\n",
    "- temperature缩放 只是一个花哨的词，用来将logits除以大于0的数字\n",
    "- 在应用softmax后，温度大于1将导致更均匀分布的token概率\n",
    "- 应用softmax后，小于1的温度将导致更可靠（更尖锐或更峰值）的分布"
   ],
   "metadata": {
    "collapsed": false
   },
   "id": "f986cfcbee39acdb"
  },
  {
   "cell_type": "code",
   "execution_count": 45,
   "outputs": [],
   "source": [
    "def softmax_with_temperature(logits, temperature):\n",
    "    scaled_logits = logits / temperature\n",
    "    return torch.softmax(scaled_logits, dim=0)\n",
    "\n",
    "temperatures = [1, 0.1, 5]\n",
    "\n",
    "scaled_probas = [softmax_with_temperature(next_token_logits, T) for T in temperatures]"
   ],
   "metadata": {
    "collapsed": false,
    "ExecuteTime": {
     "end_time": "2024-06-26T12:00:56.570700400Z",
     "start_time": "2024-06-26T12:00:56.509831300Z"
    }
   },
   "id": "b61bd1678f5bbf4e"
  },
  {
   "cell_type": "code",
   "execution_count": 46,
   "outputs": [
    {
     "data": {
      "text/plain": "<Figure size 500x300 with 1 Axes>",
      "image/png": "[encoded data removed]"
     },
     "metadata": {},
     "output_type": "display_data"
    }
   ],
   "source": [
    "# Plotting\n",
    "x = torch.arange(len(vocab))\n",
    "bar_width = 0.15\n",
    "\n",
    "fig, ax = plt.subplots(figsize=(5, 3))\n",
    "for i, T in enumerate(temperatures):\n",
    "    rects = ax.bar(x + i * bar_width, scaled_probas[i], bar_width, label=f'Temperature = {T}')\n",
    "\n",
    "ax.set_ylabel('Probability')\n",
    "ax.set_xticks(x)\n",
    "ax.set_xticklabels(vocab.keys(), rotation=90)\n",
    "ax.legend()\n",
    "\n",
    "plt.tight_layout()\n",
    "plt.savefig(\"temperature-plot.pdf\")\n",
    "plt.show()"
   ],
   "metadata": {
    "collapsed": false,
    "ExecuteTime": {
     "end_time": "2024-06-26T12:00:59.214923900Z",
     "start_time": "2024-06-26T12:00:57.193640300Z"
    }
   },
   "id": "dcbbc9ee9671aee9"
  },
  {
   "cell_type": "markdown",
   "source": [
    "- 我们可以看到，通过温度0.1的重新缩放导致更尖锐的分布，接近torch.argmax，因此几乎总是选择最有可能的单词"
   ],
   "metadata": {
    "collapsed": false
   },
   "id": "5061af12a1f5512"
  },
  {
   "cell_type": "code",
   "execution_count": 47,
   "outputs": [
    {
     "name": "stdout",
     "output_type": "stream",
     "text": [
      "0 x closer\n",
      "0 x every\n",
      "0 x effort\n",
      "992 x forward\n",
      "0 x inches\n",
      "0 x moves\n",
      "0 x pizza\n",
      "8 x toward\n"
     ]
    }
   ],
   "source": [
    "print_sampled_tokens(scaled_probas[1])"
   ],
   "metadata": {
    "collapsed": false,
    "ExecuteTime": {
     "end_time": "2024-06-26T12:01:03.149865400Z",
     "start_time": "2024-06-26T12:01:03.076062700Z"
    }
   },
   "id": "7dcb8e49ac5e897"
  },
  {
   "cell_type": "code",
   "execution_count": 48,
   "outputs": [
    {
     "name": "stdout",
     "output_type": "stream",
     "text": [
      "153 x closer\n",
      "68 x every\n",
      "55 x effort\n",
      "223 x forward\n",
      "102 x inches\n",
      "50 x moves\n",
      "43 x pizza\n",
      "218 x toward\n",
      "88 x you\n"
     ]
    }
   ],
   "source": [
    "print_sampled_tokens(scaled_probas[2])"
   ],
   "metadata": {
    "collapsed": false,
    "ExecuteTime": {
     "end_time": "2024-06-26T12:01:04.034682800Z",
     "start_time": "2024-06-26T12:01:03.945920200Z"
    }
   },
   "id": "fe76b8fbe943f551"
  },
  {
   "cell_type": "markdown",
   "source": [
    "- 假设LLM输入“every effort moves you”，使用上述方法有时会导致无意义的文本，例如“every effort moves you pizza”，4.3%的时间（1000次中有43次）"
   ],
   "metadata": {
    "collapsed": false
   },
   "id": "70eba446b2d76f03"
  },
  {
   "cell_type": "markdown",
   "source": [
    "## 3.2 Top-k 采样"
   ],
   "metadata": {
    "collapsed": false
   },
   "id": "cf61b693643fb05d"
  },
  {
   "cell_type": "markdown",
   "source": [
    "- 为了能够使用更高的temperature来增加输出多样性并降低无意义句子的概率，我们可以将采样的标记限制为前k个最可能的标记：\n",
    "\n",
    "![Alt text](../../../img/LLM/ch04/topk_sampling.png)\n",
    "\n",
    "- (请注意，此图中的数字被截断为小数点后的两位数，以减少视觉混乱。Softmax行中的值加起来应为1.0)\n",
    "- 在代码中，我们可以实现如下："
   ],
   "metadata": {
    "collapsed": false
   },
   "id": "3cdfe8e8994d7327"
  },
  {
   "cell_type": "code",
   "execution_count": 49,
   "outputs": [
    {
     "name": "stdout",
     "output_type": "stream",
     "text": [
      "Top logits:tensor([6.7500, 6.2800, 4.5100])\n",
      "Top positions:tensor([3, 7, 0])\n"
     ]
    }
   ],
   "source": [
    "top_k = 3\n",
    "top_logits, top_pos = torch.topk(next_token_logits, top_k)\n",
    "\n",
    "print(f\"Top logits:{top_logits}\")\n",
    "print(f\"Top positions:{top_pos}\")"
   ],
   "metadata": {
    "collapsed": false,
    "ExecuteTime": {
     "end_time": "2024-06-26T12:01:12.392303800Z",
     "start_time": "2024-06-26T12:01:12.354380500Z"
    }
   },
   "id": "b3772b1c153e73b7"
  },
  {
   "cell_type": "code",
   "execution_count": 50,
   "outputs": [
    {
     "name": "stdout",
     "output_type": "stream",
     "text": [
      "tensor([4.5100,   -inf,   -inf, 6.7500,   -inf,   -inf,   -inf, 6.2800,   -inf])\n"
     ]
    }
   ],
   "source": [
    "new_logits = torch.where(\n",
    "    condition=next_token_logits < top_logits[-1],\n",
    "    input=torch.tensor(float('-inf')), \n",
    "    other=next_token_logits\n",
    ")\n",
    "\n",
    "print(new_logits)"
   ],
   "metadata": {
    "collapsed": false,
    "ExecuteTime": {
     "end_time": "2024-06-26T12:01:15.928272500Z",
     "start_time": "2024-06-26T12:01:15.906332Z"
    }
   },
   "id": "15580e5eb5083dab"
  },
  {
   "cell_type": "code",
   "execution_count": 51,
   "outputs": [
    {
     "name": "stdout",
     "output_type": "stream",
     "text": [
      "tensor([0.0615, 0.0000, 0.0000, 0.5775, 0.0000, 0.0000, 0.0000, 0.3610, 0.0000])\n"
     ]
    }
   ],
   "source": [
    "topk_probas = torch.softmax(new_logits, dim=0)\n",
    "print(topk_probas)"
   ],
   "metadata": {
    "collapsed": false,
    "ExecuteTime": {
     "end_time": "2024-06-26T12:01:22.979976300Z",
     "start_time": "2024-06-26T12:01:22.715067500Z"
    }
   },
   "id": "fd60d682bea68ff3"
  },
  {
   "cell_type": "markdown",
   "source": [
    "## 3.3 修改文本生成功能"
   ],
   "metadata": {
    "collapsed": false
   },
   "id": "41a1cff113a76db5"
  },
  {
   "cell_type": "markdown",
   "source": [
    "- 前两小节介绍了温度采样和top-k采样\n",
    "- 让我们使用这两个概念来修改我们之前用于通过LLM生成文本的generate_simple函数，创建一个新的generate函数："
   ],
   "metadata": {
    "collapsed": false
   },
   "id": "bf3408cd6ccabcc2"
  },
  {
   "cell_type": "code",
   "execution_count": 52,
   "outputs": [],
   "source": [
    "def generate(model, idx, max_new_tokens, context_size, temperature=0.0, top_k=None, eos_id=None):\n",
    "    for _ in range(max_new_tokens):\n",
    "        idx_cond = idx[:, -context_size:]\n",
    "        with torch.no_grad():\n",
    "            logits = model(idx_cond)\n",
    "        logits = logits[:, -1, :]\n",
    "        \n",
    "        if top_k is not None:\n",
    "            top_logits, _ = torch.topk(logits, top_k)\n",
    "            min_val = top_logits[:, -1]\n",
    "            logits = torch.where(logits < min_val, torch.tensor(float('-inf')).to(logits.device), logits)\n",
    "            \n",
    "        if temperature > 0.0:\n",
    "            logits = logits / temperature\n",
    "            \n",
    "            probs = torch.softmax(logits, dim=-1)\n",
    "            \n",
    "            idx_next = torch.multinomial(probs, num_samples=1)\n",
    "        else:\n",
    "            idx_next = torch.argmax(logits, dim=-1, keepdim=True)\n",
    "            \n",
    "        if idx_next == eos_id:\n",
    "            break\n",
    "        idx = torch.cat((idx, idx_next), dim=1)\n",
    "    \n",
    "    return idx"
   ],
   "metadata": {
    "collapsed": false,
    "ExecuteTime": {
     "end_time": "2024-06-26T12:01:36.168170200Z",
     "start_time": "2024-06-26T12:01:36.128277500Z"
    }
   },
   "id": "ba9420eadb87a1c9"
  },
  {
   "cell_type": "code",
   "execution_count": 53,
   "outputs": [
    {
     "name": "stdout",
     "output_type": "stream",
     "text": [
      "Output text:\n",
      " Every effort moves you know began to my surprise, a little it was the\n",
      "\"Ah enough\n"
     ]
    }
   ],
   "source": [
    "torch.manual_seed(123)\n",
    "\n",
    "token_ids = generate(\n",
    "    model=model,\n",
    "    idx=text_to_token_ids(\"Every effort moves you\", tokenizer),\n",
    "    max_new_tokens=15,\n",
    "    context_size=GPT_CONFIG_124M[\"context_length\"],\n",
    "    top_k=25,\n",
    "    temperature=1.4\n",
    ")\n",
    "\n",
    "print(\"Output text:\\n\", token_ids_to_text(token_ids, tokenizer))"
   ],
   "metadata": {
    "collapsed": false,
    "ExecuteTime": {
     "end_time": "2024-06-26T12:01:37.945129600Z",
     "start_time": "2024-06-26T12:01:36.578075Z"
    }
   },
   "id": "9ea07d49a1e04d48"
  },
  {
   "cell_type": "markdown",
   "source": [
    "# 4 PyTorch中加载和保存模型重量"
   ],
   "metadata": {
    "collapsed": false
   },
   "id": "3653af8bc9264033"
  },
  {
   "cell_type": "markdown",
   "source": [
    "- 训练LLM的计算成本很高，因此能够保存和加载LLM权重至关重要\n",
    "\n",
    "![Alt text](../../../img/LLM/ch04/weight_saving.png)\n",
    "\n",
    "- PyTorch中建议的方法是通过将torch.save函数应用于.state_dict()方法来保存"
   ],
   "metadata": {
    "collapsed": false
   },
   "id": "d9aad0a453970505"
  },
  {
   "cell_type": "code",
   "execution_count": 99,
   "outputs": [],
   "source": [
    "torch.save(model.state_dict(), 'model.pth')"
   ],
   "metadata": {
    "collapsed": false,
    "ExecuteTime": {
     "end_time": "2024-06-20T08:50:20.201914700Z",
     "start_time": "2024-06-20T08:50:15.275008Z"
    }
   },
   "id": "3bc4b9b494cfc0f6"
  },
  {
   "cell_type": "code",
   "execution_count": 100,
   "outputs": [
    {
     "data": {
      "text/plain": "GPTModel(\n  (token_emb): Embedding(50257, 768)\n  (pos_emb): Embedding(256, 768)\n  (drop_emb): Dropout(p=0.1, inplace=False)\n  (transformer_blocks): Sequential(\n    (0): TransformerBlock(\n      (attention): MultiHeadAttention(\n        (W_q): Linear(in_features=768, out_features=768, bias=False)\n        (W_k): Linear(in_features=768, out_features=768, bias=False)\n        (W_v): Linear(in_features=768, out_features=768, bias=False)\n        (out_proj): Linear(in_features=768, out_features=768, bias=True)\n        (dropout): Dropout(p=0.1, inplace=False)\n      )\n      (ffn): FeedForward(\n        (layers): Sequential(\n          (0): Linear(in_features=768, out_features=3072, bias=True)\n          (1): GELU()\n          (2): Linear(in_features=3072, out_features=768, bias=True)\n        )\n      )\n      (norm1): LayerNorm()\n      (norm2): LayerNorm()\n      (drop_shortcut): Dropout(p=0.1, inplace=False)\n    )\n    (1): TransformerBlock(\n      (attention): MultiHeadAttention(\n        (W_q): Linear(in_features=768, out_features=768, bias=False)\n        (W_k): Linear(in_features=768, out_features=768, bias=False)\n        (W_v): Linear(in_features=768, out_features=768, bias=False)\n        (out_proj): Linear(in_features=768, out_features=768, bias=True)\n        (dropout): Dropout(p=0.1, inplace=False)\n      )\n      (ffn): FeedForward(\n        (layers): Sequential(\n          (0): Linear(in_features=768, out_features=3072, bias=True)\n          (1): GELU()\n          (2): Linear(in_features=3072, out_features=768, bias=True)\n        )\n      )\n      (norm1): LayerNorm()\n      (norm2): LayerNorm()\n      (drop_shortcut): Dropout(p=0.1, inplace=False)\n    )\n    (2): TransformerBlock(\n      (attention): MultiHeadAttention(\n        (W_q): Linear(in_features=768, out_features=768, bias=False)\n        (W_k): Linear(in_features=768, out_features=768, bias=False)\n        (W_v): Linear(in_features=768, out_features=768, bias=False)\n        (out_proj): Linear(in_features=768, out_features=768, bias=True)\n        (dropout): Dropout(p=0.1, inplace=False)\n      )\n      (ffn): FeedForward(\n        (layers): Sequential(\n          (0): Linear(in_features=768, out_features=3072, bias=True)\n          (1): GELU()\n          (2): Linear(in_features=3072, out_features=768, bias=True)\n        )\n      )\n      (norm1): LayerNorm()\n      (norm2): LayerNorm()\n      (drop_shortcut): Dropout(p=0.1, inplace=False)\n    )\n    (3): TransformerBlock(\n      (attention): MultiHeadAttention(\n        (W_q): Linear(in_features=768, out_features=768, bias=False)\n        (W_k): Linear(in_features=768, out_features=768, bias=False)\n        (W_v): Linear(in_features=768, out_features=768, bias=False)\n        (out_proj): Linear(in_features=768, out_features=768, bias=True)\n        (dropout): Dropout(p=0.1, inplace=False)\n      )\n      (ffn): FeedForward(\n        (layers): Sequential(\n          (0): Linear(in_features=768, out_features=3072, bias=True)\n          (1): GELU()\n          (2): Linear(in_features=3072, out_features=768, bias=True)\n        )\n      )\n      (norm1): LayerNorm()\n      (norm2): LayerNorm()\n      (drop_shortcut): Dropout(p=0.1, inplace=False)\n    )\n    (4): TransformerBlock(\n      (attention): MultiHeadAttention(\n        (W_q): Linear(in_features=768, out_features=768, bias=False)\n        (W_k): Linear(in_features=768, out_features=768, bias=False)\n        (W_v): Linear(in_features=768, out_features=768, bias=False)\n        (out_proj): Linear(in_features=768, out_features=768, bias=True)\n        (dropout): Dropout(p=0.1, inplace=False)\n      )\n      (ffn): FeedForward(\n        (layers): Sequential(\n          (0): Linear(in_features=768, out_features=3072, bias=True)\n          (1): GELU()\n          (2): Linear(in_features=3072, out_features=768, bias=True)\n        )\n      )\n      (norm1): LayerNorm()\n      (norm2): LayerNorm()\n      (drop_shortcut): Dropout(p=0.1, inplace=False)\n    )\n    (5): TransformerBlock(\n      (attention): MultiHeadAttention(\n        (W_q): Linear(in_features=768, out_features=768, bias=False)\n        (W_k): Linear(in_features=768, out_features=768, bias=False)\n        (W_v): Linear(in_features=768, out_features=768, bias=False)\n        (out_proj): Linear(in_features=768, out_features=768, bias=True)\n        (dropout): Dropout(p=0.1, inplace=False)\n      )\n      (ffn): FeedForward(\n        (layers): Sequential(\n          (0): Linear(in_features=768, out_features=3072, bias=True)\n          (1): GELU()\n          (2): Linear(in_features=3072, out_features=768, bias=True)\n        )\n      )\n      (norm1): LayerNorm()\n      (norm2): LayerNorm()\n      (drop_shortcut): Dropout(p=0.1, inplace=False)\n    )\n    (6): TransformerBlock(\n      (attention): MultiHeadAttention(\n        (W_q): Linear(in_features=768, out_features=768, bias=False)\n        (W_k): Linear(in_features=768, out_features=768, bias=False)\n        (W_v): Linear(in_features=768, out_features=768, bias=False)\n        (out_proj): Linear(in_features=768, out_features=768, bias=True)\n        (dropout): Dropout(p=0.1, inplace=False)\n      )\n      (ffn): FeedForward(\n        (layers): Sequential(\n          (0): Linear(in_features=768, out_features=3072, bias=True)\n          (1): GELU()\n          (2): Linear(in_features=3072, out_features=768, bias=True)\n        )\n      )\n      (norm1): LayerNorm()\n      (norm2): LayerNorm()\n      (drop_shortcut): Dropout(p=0.1, inplace=False)\n    )\n    (7): TransformerBlock(\n      (attention): MultiHeadAttention(\n        (W_q): Linear(in_features=768, out_features=768, bias=False)\n        (W_k): Linear(in_features=768, out_features=768, bias=False)\n        (W_v): Linear(in_features=768, out_features=768, bias=False)\n        (out_proj): Linear(in_features=768, out_features=768, bias=True)\n        (dropout): Dropout(p=0.1, inplace=False)\n      )\n      (ffn): FeedForward(\n        (layers): Sequential(\n          (0): Linear(in_features=768, out_features=3072, bias=True)\n          (1): GELU()\n          (2): Linear(in_features=3072, out_features=768, bias=True)\n        )\n      )\n      (norm1): LayerNorm()\n      (norm2): LayerNorm()\n      (drop_shortcut): Dropout(p=0.1, inplace=False)\n    )\n    (8): TransformerBlock(\n      (attention): MultiHeadAttention(\n        (W_q): Linear(in_features=768, out_features=768, bias=False)\n        (W_k): Linear(in_features=768, out_features=768, bias=False)\n        (W_v): Linear(in_features=768, out_features=768, bias=False)\n        (out_proj): Linear(in_features=768, out_features=768, bias=True)\n        (dropout): Dropout(p=0.1, inplace=False)\n      )\n      (ffn): FeedForward(\n        (layers): Sequential(\n          (0): Linear(in_features=768, out_features=3072, bias=True)\n          (1): GELU()\n          (2): Linear(in_features=3072, out_features=768, bias=True)\n        )\n      )\n      (norm1): LayerNorm()\n      (norm2): LayerNorm()\n      (drop_shortcut): Dropout(p=0.1, inplace=False)\n    )\n    (9): TransformerBlock(\n      (attention): MultiHeadAttention(\n        (W_q): Linear(in_features=768, out_features=768, bias=False)\n        (W_k): Linear(in_features=768, out_features=768, bias=False)\n        (W_v): Linear(in_features=768, out_features=768, bias=False)\n        (out_proj): Linear(in_features=768, out_features=768, bias=True)\n        (dropout): Dropout(p=0.1, inplace=False)\n      )\n      (ffn): FeedForward(\n        (layers): Sequential(\n          (0): Linear(in_features=768, out_features=3072, bias=True)\n          (1): GELU()\n          (2): Linear(in_features=3072, out_features=768, bias=True)\n        )\n      )\n      (norm1): LayerNorm()\n      (norm2): LayerNorm()\n      (drop_shortcut): Dropout(p=0.1, inplace=False)\n    )\n    (10): TransformerBlock(\n      (attention): MultiHeadAttention(\n        (W_q): Linear(in_features=768, out_features=768, bias=False)\n        (W_k): Linear(in_features=768, out_features=768, bias=False)\n        (W_v): Linear(in_features=768, out_features=768, bias=False)\n        (out_proj): Linear(in_features=768, out_features=768, bias=True)\n        (dropout): Dropout(p=0.1, inplace=False)\n      )\n      (ffn): FeedForward(\n        (layers): Sequential(\n          (0): Linear(in_features=768, out_features=3072, bias=True)\n          (1): GELU()\n          (2): Linear(in_features=3072, out_features=768, bias=True)\n        )\n      )\n      (norm1): LayerNorm()\n      (norm2): LayerNorm()\n      (drop_shortcut): Dropout(p=0.1, inplace=False)\n    )\n    (11): TransformerBlock(\n      (attention): MultiHeadAttention(\n        (W_q): Linear(in_features=768, out_features=768, bias=False)\n        (W_k): Linear(in_features=768, out_features=768, bias=False)\n        (W_v): Linear(in_features=768, out_features=768, bias=False)\n        (out_proj): Linear(in_features=768, out_features=768, bias=True)\n        (dropout): Dropout(p=0.1, inplace=False)\n      )\n      (ffn): FeedForward(\n        (layers): Sequential(\n          (0): Linear(in_features=768, out_features=3072, bias=True)\n          (1): GELU()\n          (2): Linear(in_features=3072, out_features=768, bias=True)\n        )\n      )\n      (norm1): LayerNorm()\n      (norm2): LayerNorm()\n      (drop_shortcut): Dropout(p=0.1, inplace=False)\n    )\n  )\n  (final_norm): LayerNorm()\n  (out_head): Linear(in_features=768, out_features=50257, bias=False)\n)"
     },
     "execution_count": 100,
     "metadata": {},
     "output_type": "execute_result"
    }
   ],
   "source": [
    "model = GPTModel(GPT_CONFIG_124M)\n",
    "model.load_state_dict(torch.load(\"model.pth\"))\n",
    "model.eval()"
   ],
   "metadata": {
    "collapsed": false,
    "ExecuteTime": {
     "end_time": "2024-06-20T08:50:50.171131500Z",
     "start_time": "2024-06-20T08:50:43.964842300Z"
    }
   },
   "id": "37c8c22b94f82a"
  },
  {
   "cell_type": "markdown",
   "source": [
    "- 使用Adam或AdamW等自适应优化器而不是常规SGD来训练LLM是很常见的\n",
    "- 这些自适应优化器为每个模型权重存储额外的参数，因此，如果我们计划稍后继续预训练，也可以保存这些参数："
   ],
   "metadata": {
    "collapsed": false
   },
   "id": "fb8f3c3ff5600b3d"
  },
  {
   "cell_type": "code",
   "execution_count": 101,
   "outputs": [],
   "source": [
    "torch.save({\n",
    "    \"model_state_dict\": model.state_dict(),\n",
    "    \"optimizer_state_dict\": optimizer.state_dict(),\n",
    "    }, \n",
    "    \"model_and_optimizer.pth\"\n",
    ")"
   ],
   "metadata": {
    "collapsed": false,
    "ExecuteTime": {
     "end_time": "2024-06-20T08:51:09.721916300Z",
     "start_time": "2024-06-20T08:50:53.851586700Z"
    }
   },
   "id": "2728313db94a4c96"
  },
  {
   "cell_type": "code",
   "execution_count": 102,
   "outputs": [],
   "source": [
    "checkpoint = torch.load(\"model_and_optimizer.pth\")\n",
    "\n",
    "model = GPTModel(GPT_CONFIG_124M)\n",
    "model.load_state_dict(checkpoint[\"model_state_dict\"])\n",
    "\n",
    "optimizer = torch.optim.AdamW(model.parameters(), lr=0.0005, weight_decay=0.1)\n",
    "optimizer.load_state_dict(checkpoint[\"optimizer_state_dict\"])\n",
    "model.train();"
   ],
   "metadata": {
    "collapsed": false,
    "ExecuteTime": {
     "end_time": "2024-06-20T08:51:29.228969100Z",
     "start_time": "2024-06-20T08:51:09.742860400Z"
    }
   },
   "id": "c204647d2a19861e"
  },
  {
   "cell_type": "markdown",
   "source": [
    "# 5 从OpenAI加载预训练权重"
   ],
   "metadata": {
    "collapsed": false
   },
   "id": "1cd314c61a4279c7"
  },
  {
   "cell_type": "markdown",
   "source": [
    "- 以前，我们只使用一本非常小的短篇小说来训练一个小的GPT-2模型，用于教育目的\n",
    "- 感兴趣的读者还可以在中找到完整的古腾堡项目图书语料库的更长时间的预训练/03_bonus_preataining_on_gutenberg\n",
    "- 幸运的是，我们不必花费数万至数十万美元在大型预训练语料库上对模型进行预训练，而是可以加载OpenAI提供的预训练权重\n",
    "- 有关从Hugging Face加载权重的替代方法\n",
    "- 首先，一些样板代码从OpenAI下载文件并将权重加载到Python中\n",
    "- 由于OpenAI使用了TensorFlow，我们将不得不安装并使用TensorFlow来加载权重；tqdm是进度条库\n",
    "- 取消注释并运行下一个单元以安装所需的库"
   ],
   "metadata": {
    "collapsed": false
   },
   "id": "ffcb845fe7a59b0f"
  },
  {
   "cell_type": "code",
   "execution_count": 54,
   "outputs": [
    {
     "name": "stdout",
     "output_type": "stream",
     "text": [
      "TensorFlow version: 2.16.1\n",
      "tqdm version: 4.66.4\n"
     ]
    }
   ],
   "source": [
    "print(\"TensorFlow version:\", version(\"tensorflow\"))\n",
    "print(\"tqdm version:\", version(\"tqdm\"))"
   ],
   "metadata": {
    "collapsed": false,
    "ExecuteTime": {
     "end_time": "2024-06-26T12:01:47.595358400Z",
     "start_time": "2024-06-26T12:01:47.547457600Z"
    }
   },
   "id": "2b7e45817026bcf5"
  },
  {
   "cell_type": "code",
   "execution_count": 55,
   "outputs": [],
   "source": [
    "from gpt_download import download_and_load_gpt2"
   ],
   "metadata": {
    "collapsed": false,
    "ExecuteTime": {
     "end_time": "2024-06-26T12:02:00.874613100Z",
     "start_time": "2024-06-26T12:01:48.598648300Z"
    }
   },
   "id": "568ff0882c854be3"
  },
  {
   "cell_type": "markdown",
   "source": [
    "- 然后，我们可以下载1.24亿参数模型的模型权重，如下所示："
   ],
   "metadata": {
    "collapsed": false
   },
   "id": "5fe122a8e1dac43f"
  },
  {
   "cell_type": "code",
   "execution_count": 56,
   "outputs": [
    {
     "name": "stdout",
     "output_type": "stream",
     "text": [
      "File already exists and is up-to-date: gpt2\\124M\\checkpoint\n",
      "File already exists and is up-to-date: gpt2\\124M\\encoder.json\n",
      "File already exists and is up-to-date: gpt2\\124M\\hparams.json\n",
      "File already exists and is up-to-date: gpt2\\124M\\model.ckpt.data-00000-of-00001\n",
      "File already exists and is up-to-date: gpt2\\124M\\model.ckpt.index\n",
      "File already exists and is up-to-date: gpt2\\124M\\model.ckpt.meta\n",
      "File already exists and is up-to-date: gpt2\\124M\\vocab.bpe\n"
     ]
    }
   ],
   "source": [
    "settings, params = download_and_load_gpt2(model_size=\"124M\", models_dir=\"gpt2\")"
   ],
   "metadata": {
    "collapsed": false,
    "ExecuteTime": {
     "end_time": "2024-06-26T12:02:13.250534600Z",
     "start_time": "2024-06-26T12:02:00.877588300Z"
    }
   },
   "id": "253cc7674d347336"
  },
  {
   "cell_type": "code",
   "execution_count": 57,
   "outputs": [
    {
     "name": "stdout",
     "output_type": "stream",
     "text": [
      "Settings: {'n_vocab': 50257, 'n_ctx': 1024, 'n_embd': 768, 'n_head': 12, 'n_layer': 12}\n"
     ]
    }
   ],
   "source": [
    "print(\"Settings:\", settings)"
   ],
   "metadata": {
    "collapsed": false,
    "ExecuteTime": {
     "end_time": "2024-06-26T12:02:21.885332500Z",
     "start_time": "2024-06-26T12:02:21.850299Z"
    }
   },
   "id": "401c42e2dcc8fc4d"
  },
  {
   "cell_type": "code",
   "execution_count": 58,
   "outputs": [
    {
     "name": "stdout",
     "output_type": "stream",
     "text": [
      "Parameter dictionary keys:dict_keys(['blocks', 'b', 'g', 'wpe', 'wte'])\n"
     ]
    }
   ],
   "source": [
    "print(f\"Parameter dictionary keys:{params.keys()}\")"
   ],
   "metadata": {
    "collapsed": false,
    "ExecuteTime": {
     "end_time": "2024-06-26T12:02:37.701823500Z",
     "start_time": "2024-06-26T12:02:37.661930900Z"
    }
   },
   "id": "b71927d60411debe"
  },
  {
   "cell_type": "code",
   "execution_count": 59,
   "outputs": [
    {
     "name": "stdout",
     "output_type": "stream",
     "text": [
      "[[-0.11010301 -0.03926672  0.03310751 ... -0.1363697   0.01506208\n",
      "   0.04531523]\n",
      " [ 0.04034033 -0.04861503  0.04624869 ...  0.08605453  0.00253983\n",
      "   0.04318958]\n",
      " [-0.12746179  0.04793796  0.18410145 ...  0.08991534 -0.12972379\n",
      "  -0.08785918]\n",
      " ...\n",
      " [-0.04453601 -0.05483596  0.01225674 ...  0.10435229  0.09783269\n",
      "  -0.06952604]\n",
      " [ 0.1860082   0.01665728  0.04611587 ... -0.09625227  0.07847701\n",
      "  -0.02245961]\n",
      " [ 0.05135201 -0.02768905  0.0499369  ...  0.00704835  0.15519823\n",
      "   0.12067825]]\n",
      "Token embedding weight tensor dimensions:(50257, 768)\n"
     ]
    }
   ],
   "source": [
    "print(params['wte'])\n",
    "print(f\"Token embedding weight tensor dimensions:{params['wte'].shape}\")"
   ],
   "metadata": {
    "collapsed": false,
    "ExecuteTime": {
     "end_time": "2024-06-26T12:04:35.346810100Z",
     "start_time": "2024-06-26T12:04:35.284975300Z"
    }
   },
   "id": "2a3801c5407734f1"
  },
  {
   "cell_type": "markdown",
   "source": [
    "- 除此之外，“355M”、“774M”和“1558M”也支持model_size参数\n",
    "- 下图总结了这些不同尺寸模型之间的差异：\n",
    "\n",
    "![Alt text](../../../img/LLM/ch04/model_size.png)\n",
    "\n",
    "- 综上，我们将124M GPT-2模型权重加载到Python中，但是我们仍然需要将它们转移到我们的GPTModel实例中\n",
    "- 首先，我们初始化一个新的GPTModel实例\n",
    "- 请注意，原始GPT模型使用偏差向量初始化了多头注意力模块中查询、键和值矩阵的线性层，这不是必需的或推荐的；然而，为了能够正确地加载权重，我们也必须通过在实现中将qkv_bias设置为True来启用这些权重\n",
    "- 我们还使用了原始GPT-2模型使用的1024令牌上下文长度"
   ],
   "metadata": {
    "collapsed": false
   },
   "id": "ef1ce795bafd73da"
  },
  {
   "cell_type": "code",
   "execution_count": null,
   "outputs": [],
   "source": [
    "# Define model configurations in a dictionary for compactness\n",
    "model_configs = {\n",
    "    \"gpt2-small (124M)\": {\"emb_dim\": 768, \"n_layers\": 12, \"n_heads\": 12},\n",
    "    \"gpt2-medium (355M)\": {\"emb_dim\": 1024, \"n_layers\": 24, \"n_heads\": 16},\n",
    "    \"gpt2-large (774M)\": {\"emb_dim\": 1280, \"n_layers\": 36, \"n_heads\": 20},\n",
    "    \"gpt2-xl (1558M)\": {\"emb_dim\": 1600, \"n_layers\": 48, \"n_heads\": 25},\n",
    "}\n",
    "\n",
    "# Copy the base configuration and update with specific model settings\n",
    "model_name = \"gpt2-small (124M)\"  # Example model name\n",
    "NEW_CONFIG = GPT_CONFIG_124M.copy()\n",
    "NEW_CONFIG.update(model_configs[model_name])\n",
    "NEW_CONFIG.update({\"context_length\": 1024, \"qkv_bias\": True})\n",
    "\n",
    "gpt = GPTModel(NEW_CONFIG)\n",
    "gpt.eval()"
   ],
   "metadata": {
    "collapsed": false,
    "is_executing": true,
    "ExecuteTime": {
     "start_time": "2024-06-26T12:07:13.819687200Z"
    }
   },
   "id": "cb74ceed6b822553"
  },
  {
   "cell_type": "markdown",
   "source": [
    "- 下一个任务是将OpenAI权重分配给GPTModel实例中相应的权重张量"
   ],
   "metadata": {
    "collapsed": false
   },
   "id": "c512ae9dac4f0c31"
  },
  {
   "cell_type": "code",
   "execution_count": null,
   "outputs": [],
   "source": [
    "def assign(left, right):\n",
    "    if left.shape != right.shape:\n",
    "        raise ValueError(f\"Shape mismatch. Left: {left.shape}, Right: {right.shape}\")\n",
    "    return nn.Parameter(torch.tensor(right))"
   ],
   "metadata": {
    "collapsed": false
   },
   "id": "f79b81840cff2ddd"
  },
  {
   "cell_type": "code",
   "execution_count": null,
   "outputs": [],
   "source": [
    "import numpy as np\n",
    "\n",
    "def load_weights_into_gpt(gpt, params):\n",
    "    gpt.pos_emb.weight = assign(gpt.pos_emb.weight, params['wpe'])\n",
    "    gpt.token_emb.weight = assign(gpt.token_emb.weight, params['wte'])\n",
    "    \n",
    "    for b in range(len(params[\"blocks\"])):\n",
    "        q_w, k_w, v_w = np.split(\n",
    "            (params[\"blocks\"][b][\"attn\"][\"c_attn\"])[\"w\"], 3, axis=-1)\n",
    "        gpt.transformer_blocks[b].attention.W_q.weight = assign(\n",
    "            gpt.transformer_blocks[b].attention.W_q.weight, q_w.T)\n",
    "        gpt.transformer_blocks[b].attention.W_k.weight = assign(\n",
    "            gpt.transformer_blocks[b].attention.W_k.weight, k_w.T)\n",
    "        gpt.transformer_blocks[b].attention.W_v.weight = assign(\n",
    "            gpt.transformer_blocks[b].attention.W_v.weight, v_w.T)\n",
    "\n",
    "        q_b, k_b, v_b = np.split(\n",
    "            (params[\"blocks\"][b][\"attn\"][\"c_attn\"])[\"b\"], 3, axis=-1)\n",
    "        gpt.transformer_blocks[b].attention.W_q.bias = assign(\n",
    "            gpt.transformer_blocks[b].attention.W_q.bias, q_b)\n",
    "        gpt.transformer_blocks[b].attention.W_k.bias = assign(\n",
    "            gpt.transformer_blocks[b].attention.W_k.bias, k_b)\n",
    "        gpt.transformer_blocks[b].attention.W_v.bias = assign(\n",
    "            gpt.transformer_blocks[b].attention.W_v.bias, v_b)\n",
    "\n",
    "        gpt.transformer_blocks[b].attention.out_proj.weight = assign(\n",
    "            gpt.transformer_blocks[b].attention.out_proj.weight, \n",
    "            params[\"blocks\"][b][\"attn\"][\"c_proj\"][\"w\"].T)\n",
    "        gpt.transformer_blocks[b].attention.out_proj.bias = assign(\n",
    "            gpt.transformer_blocks[b].attention.out_proj.bias, \n",
    "            params[\"blocks\"][b][\"attn\"][\"c_proj\"][\"b\"])\n",
    "\n",
    "        gpt.transformer_blocks[b].ffn.layers[0].weight = assign(\n",
    "            gpt.transformer_blocks[b].ffn.layers[0].weight, \n",
    "            params[\"blocks\"][b][\"mlp\"][\"c_fc\"][\"w\"].T)\n",
    "        gpt.transformer_blocks[b].ffn.layers[0].bias = assign(\n",
    "            gpt.transformer_blocks[b].ffn.layers[0].bias, \n",
    "            params[\"blocks\"][b][\"mlp\"][\"c_fc\"][\"b\"])\n",
    "        gpt.transformer_blocks[b].ffn.layers[2].weight = assign(\n",
    "            gpt.transformer_blocks[b].ffn.layers[2].weight, \n",
    "            params[\"blocks\"][b][\"mlp\"][\"c_proj\"][\"w\"].T)\n",
    "        gpt.transformer_blocks[b].ffn.layers[2].bias = assign(\n",
    "            gpt.trf_blocks[b].ffn.layers[2].bias, \n",
    "            params[\"blocks\"][b][\"mlp\"][\"c_proj\"][\"b\"])\n",
    "\n",
    "        gpt.transformer_blocks[b].norm1.scale = assign(\n",
    "            gpt.transformer_blocks[b].norm1.scale, \n",
    "            params[\"blocks\"][b][\"ln_1\"][\"g\"])\n",
    "        gpt.transformer_blocks[b].norm1.shift = assign(\n",
    "            gpt.transformer_blocks[b].norm1.shift, \n",
    "            params[\"blocks\"][b][\"ln_1\"][\"b\"])\n",
    "        gpt.transformer_blocks[b].norm2.scale = assign(\n",
    "            gpt.transformer_blocks[b].norm2.scale, \n",
    "            params[\"blocks\"][b][\"ln_2\"][\"g\"])\n",
    "        gpt.transformer_blocks[b].norm2.shift = assign(\n",
    "            gpt.transformer_blocks[b].norm2.shift, \n",
    "            params[\"blocks\"][b][\"ln_2\"][\"b\"])\n",
    "\n",
    "    gpt.final_norm.scale = assign(gpt.final_norm.scale, params[\"g\"])\n",
    "    gpt.final_norm.shift = assign(gpt.final_norm.shift, params[\"b\"])\n",
    "    gpt.out_head.weight = assign(gpt.out_head.weight, params[\"wte\"])\n",
    "    \n",
    "    \n",
    "load_weights_into_gpt(gpt, params)\n",
    "gpt.to(device);"
   ],
   "metadata": {
    "collapsed": false
   },
   "id": "45f9075245fa9a4f"
  },
  {
   "cell_type": "markdown",
   "source": [
    "- 如果模型加载正确，我们可以使用之前的生成函数来生成新文本："
   ],
   "metadata": {
    "collapsed": false
   },
   "id": "7262be81918a4410"
  },
  {
   "cell_type": "code",
   "execution_count": null,
   "outputs": [],
   "source": [
    "torch.manual_seed(123)\n",
    "\n",
    "token_ids = generate(\n",
    "    model=gpt,\n",
    "    idx=text_to_token_ids(\"Every effort moves you\", tokenizer).to(device),\n",
    "    max_new_tokens=25,\n",
    "    context_size=NEW_CONFIG[\"context_length\"],\n",
    "    top_k=50,\n",
    "    temperature=1.5\n",
    ")\n",
    "\n",
    "print(\"Output text:\\n\", token_ids_to_text(token_ids, tokenizer))"
   ],
   "metadata": {
    "collapsed": false
   },
   "id": "ddb79cc593b44077"
  },
  {
   "cell_type": "markdown",
   "source": [
    "- 我们知道我们正确地加载了模型权重，因为模型可以生成连贯的文本；即使我们犯了一个小错误，该模式也无法做到这一点\n",
    "- 有关从Hugging Face加载权重的替代方法"
   ],
   "metadata": {
    "collapsed": false
   },
   "id": "6059f05d762dcd6d"
  }
 ],
 "metadata": {
  "kernelspec": {
   "name": "llm",
   "language": "python",
   "display_name": "LLM"
  },
  "language_info": {
   "codemirror_mode": {
    "name": "ipython",
    "version": 2
   },
   "file_extension": ".py",
   "mimetype": "text/x-python",
   "name": "python",
   "nbconvert_exporter": "python",
   "pygments_lexer": "ipython2",
   "version": "2.7.6"
  }
 },
 "nbformat": 4,
 "nbformat_minor": 5
}
